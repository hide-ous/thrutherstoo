{
 "cells": [
  {
   "cell_type": "code",
   "execution_count": 48,
   "metadata": {
    "collapsed": true,
    "ExecuteTime": {
     "start_time": "2023-06-12T16:45:54.955790Z",
     "end_time": "2023-06-12T16:45:55.033751Z"
    }
   },
   "outputs": [],
   "source": [
    "import pandas as pd\n",
    "import json\n",
    "\n",
    "from sklearn.ensemble import RandomForestClassifier\n",
    "from sklearn.tree import DecisionTreeClassifier\n",
    "import seaborn as sns\n",
    "\n",
    "from src.features.perspective import parse_summary_scores"
   ]
  },
  {
   "cell_type": "code",
   "execution_count": 2,
   "outputs": [],
   "source": [
    "df = pd.read_excel('../data/interim/labeling_sample_VZ.xlsx')"
   ],
   "metadata": {
    "collapsed": false,
    "ExecuteTime": {
     "start_time": "2023-06-12T16:35:52.572568Z",
     "end_time": "2023-06-12T16:35:55.321723Z"
    }
   }
  },
  {
   "cell_type": "code",
   "execution_count": 3,
   "outputs": [],
   "source": [
    "line_nos = df['index'].unique()"
   ],
   "metadata": {
    "collapsed": false,
    "ExecuteTime": {
     "start_time": "2023-06-12T16:35:55.357272Z",
     "end_time": "2023-06-12T16:35:55.445132Z"
    }
   }
  },
  {
   "cell_type": "code",
   "execution_count": 4,
   "outputs": [],
   "source": [
    "line_nos = set(line_nos)"
   ],
   "metadata": {
    "collapsed": false,
    "ExecuteTime": {
     "start_time": "2023-06-12T16:35:55.382268Z",
     "end_time": "2023-06-12T16:35:55.555889Z"
    }
   }
  },
  {
   "cell_type": "code",
   "execution_count": 5,
   "outputs": [],
   "source": [
    "with open('../data/interim/perspective/labeling_contributions_preprocessed_no_bot_perspective.jsonl', encoding='utf8') as f:\n",
    "    perspectives = filter(lambda x: x[0] in line_nos, enumerate(f))\n",
    "    perspectives = {k: parse_summary_scores(list(json.loads(v).values())[0]) for k, v in perspectives}\n"
   ],
   "metadata": {
    "collapsed": false,
    "ExecuteTime": {
     "start_time": "2023-06-12T16:35:55.401302Z",
     "end_time": "2023-06-12T16:36:35.616808Z"
    }
   }
  },
  {
   "cell_type": "code",
   "execution_count": 6,
   "outputs": [],
   "source": [
    "with open('../data/interim/liwc/labeling_contributions_preprocessed_no_bot_liwc.jsonl', encoding='utf8') as f:\n",
    "    liwcs = dict(filter(lambda x: x[0] in line_nos, enumerate(f)))"
   ],
   "metadata": {
    "collapsed": false,
    "ExecuteTime": {
     "start_time": "2023-06-12T16:36:35.622110Z",
     "end_time": "2023-06-12T16:36:52.912023Z"
    }
   }
  },
  {
   "cell_type": "code",
   "execution_count": 7,
   "outputs": [],
   "source": [
    "liwcs = {k: list(json.loads(v).values())[0] for k, v in liwcs.items()}"
   ],
   "metadata": {
    "collapsed": false,
    "ExecuteTime": {
     "start_time": "2023-06-12T16:36:52.898771Z",
     "end_time": "2023-06-12T16:36:53.211280Z"
    }
   }
  },
  {
   "cell_type": "code",
   "execution_count": 8,
   "outputs": [],
   "source": [
    "liwc_df = pd.DataFrame(liwcs).T"
   ],
   "metadata": {
    "collapsed": false,
    "ExecuteTime": {
     "start_time": "2023-06-12T16:36:52.947019Z",
     "end_time": "2023-06-12T16:36:53.274274Z"
    }
   }
  },
  {
   "cell_type": "code",
   "execution_count": 9,
   "outputs": [],
   "source": [
    "perspective_df = pd.DataFrame(perspectives).T"
   ],
   "metadata": {
    "collapsed": false,
    "ExecuteTime": {
     "start_time": "2023-06-12T16:36:52.990031Z",
     "end_time": "2023-06-12T16:36:53.283343Z"
    }
   }
  },
  {
   "cell_type": "code",
   "execution_count": 10,
   "outputs": [
    {
     "data": {
      "text/plain": "         ATTACK_ON_AUTHOR  ATTACK_ON_COMMENTER  FLIRTATION  IDENTITY_ATTACK  \\\n4537             0.033244             0.164309    0.324882         0.051581   \n5998             0.006519             0.003598    0.427117         0.049989   \n32060            0.120657             0.363787    0.343560         0.020078   \n42383            0.579355             0.757294    0.289680         0.035590   \n50715            0.019641             0.358086    0.316229         0.091628   \n...                   ...                  ...         ...              ...   \n1091426          0.227906             0.496786    0.203884         0.027615   \n1105101          0.065911             0.029127    0.205350         0.005513   \n1145117          0.018198             0.063997    0.357936         0.076738   \n1162332          0.002685             0.050065    0.442408         0.010211   \n1167569          0.033124             0.040313    0.338713         0.116282   \n\n         INCOHERENT  INFLAMMATORY    INSULT  LIKELY_TO_REJECT   OBSCENE  \\\n4537       0.937500      0.166487  0.137888          0.653939  0.021940   \n5998       0.937500      0.178781  0.024382          0.839521  0.340902   \n32060      0.930357      0.653728  0.062501          0.810577  0.925466   \n42383      0.634617      0.571555  0.331540          0.585404  0.436140   \n50715      0.040539      0.587730  0.342379          0.992864  0.989232   \n...             ...           ...       ...               ...       ...   \n1091426    0.771212      0.462320  0.161248          0.717092  0.052786   \n1105101    0.111661      0.129804  0.019870          0.206468  0.009897   \n1145117    0.051909      0.452432  0.513094          0.993759  0.993055   \n1162332    0.906757      0.222810  0.063724          0.933335  0.411473   \n1167569    0.680531      0.536766  0.402434          0.994871  0.988132   \n\n         PROFANITY  SEVERE_TOXICITY  SEXUALLY_EXPLICIT      SPAM    THREAT  \\\n4537      0.386646         0.023077           0.116516  0.936072  0.013217   \n5998      0.043917         0.007362           0.033263  0.936072  0.011327   \n32060     0.291680         0.009995           0.063414  0.618317  0.008790   \n42383     0.068466         0.006142           0.018519  0.122934  0.007224   \n50715     0.466201         0.023552           0.122228  0.003721  0.033732   \n...            ...              ...                ...       ...       ...   \n1091426   0.019076         0.004234           0.008552  0.074147  0.007431   \n1105101   0.012620         0.000916           0.005426  0.036094  0.006926   \n1145117   0.788897         0.169603           0.062707  0.008042  0.013062   \n1162332   0.024609         0.005188           0.011677  0.820242  0.044602   \n1167569   0.553563         0.231253           0.216938  0.131712  0.037876   \n\n         TOXICITY  UNSUBSTANTIAL  \n4537     0.285470       0.384665  \n5998     0.085582       0.184150  \n32060    0.159326       0.341230  \n42383    0.319637       0.366539  \n50715    0.384341       0.007606  \n...           ...            ...  \n1091426  0.211073       0.755245  \n1105101  0.039463       0.188578  \n1145117  0.761980       0.031562  \n1162332  0.154903       0.213574  \n1167569  0.588517       0.021113  \n\n[101 rows x 16 columns]",
      "text/html": "<div>\n<style scoped>\n    .dataframe tbody tr th:only-of-type {\n        vertical-align: middle;\n    }\n\n    .dataframe tbody tr th {\n        vertical-align: top;\n    }\n\n    .dataframe thead th {\n        text-align: right;\n    }\n</style>\n<table border=\"1\" class=\"dataframe\">\n  <thead>\n    <tr style=\"text-align: right;\">\n      <th></th>\n      <th>ATTACK_ON_AUTHOR</th>\n      <th>ATTACK_ON_COMMENTER</th>\n      <th>FLIRTATION</th>\n      <th>IDENTITY_ATTACK</th>\n      <th>INCOHERENT</th>\n      <th>INFLAMMATORY</th>\n      <th>INSULT</th>\n      <th>LIKELY_TO_REJECT</th>\n      <th>OBSCENE</th>\n      <th>PROFANITY</th>\n      <th>SEVERE_TOXICITY</th>\n      <th>SEXUALLY_EXPLICIT</th>\n      <th>SPAM</th>\n      <th>THREAT</th>\n      <th>TOXICITY</th>\n      <th>UNSUBSTANTIAL</th>\n    </tr>\n  </thead>\n  <tbody>\n    <tr>\n      <th>4537</th>\n      <td>0.033244</td>\n      <td>0.164309</td>\n      <td>0.324882</td>\n      <td>0.051581</td>\n      <td>0.937500</td>\n      <td>0.166487</td>\n      <td>0.137888</td>\n      <td>0.653939</td>\n      <td>0.021940</td>\n      <td>0.386646</td>\n      <td>0.023077</td>\n      <td>0.116516</td>\n      <td>0.936072</td>\n      <td>0.013217</td>\n      <td>0.285470</td>\n      <td>0.384665</td>\n    </tr>\n    <tr>\n      <th>5998</th>\n      <td>0.006519</td>\n      <td>0.003598</td>\n      <td>0.427117</td>\n      <td>0.049989</td>\n      <td>0.937500</td>\n      <td>0.178781</td>\n      <td>0.024382</td>\n      <td>0.839521</td>\n      <td>0.340902</td>\n      <td>0.043917</td>\n      <td>0.007362</td>\n      <td>0.033263</td>\n      <td>0.936072</td>\n      <td>0.011327</td>\n      <td>0.085582</td>\n      <td>0.184150</td>\n    </tr>\n    <tr>\n      <th>32060</th>\n      <td>0.120657</td>\n      <td>0.363787</td>\n      <td>0.343560</td>\n      <td>0.020078</td>\n      <td>0.930357</td>\n      <td>0.653728</td>\n      <td>0.062501</td>\n      <td>0.810577</td>\n      <td>0.925466</td>\n      <td>0.291680</td>\n      <td>0.009995</td>\n      <td>0.063414</td>\n      <td>0.618317</td>\n      <td>0.008790</td>\n      <td>0.159326</td>\n      <td>0.341230</td>\n    </tr>\n    <tr>\n      <th>42383</th>\n      <td>0.579355</td>\n      <td>0.757294</td>\n      <td>0.289680</td>\n      <td>0.035590</td>\n      <td>0.634617</td>\n      <td>0.571555</td>\n      <td>0.331540</td>\n      <td>0.585404</td>\n      <td>0.436140</td>\n      <td>0.068466</td>\n      <td>0.006142</td>\n      <td>0.018519</td>\n      <td>0.122934</td>\n      <td>0.007224</td>\n      <td>0.319637</td>\n      <td>0.366539</td>\n    </tr>\n    <tr>\n      <th>50715</th>\n      <td>0.019641</td>\n      <td>0.358086</td>\n      <td>0.316229</td>\n      <td>0.091628</td>\n      <td>0.040539</td>\n      <td>0.587730</td>\n      <td>0.342379</td>\n      <td>0.992864</td>\n      <td>0.989232</td>\n      <td>0.466201</td>\n      <td>0.023552</td>\n      <td>0.122228</td>\n      <td>0.003721</td>\n      <td>0.033732</td>\n      <td>0.384341</td>\n      <td>0.007606</td>\n    </tr>\n    <tr>\n      <th>...</th>\n      <td>...</td>\n      <td>...</td>\n      <td>...</td>\n      <td>...</td>\n      <td>...</td>\n      <td>...</td>\n      <td>...</td>\n      <td>...</td>\n      <td>...</td>\n      <td>...</td>\n      <td>...</td>\n      <td>...</td>\n      <td>...</td>\n      <td>...</td>\n      <td>...</td>\n      <td>...</td>\n    </tr>\n    <tr>\n      <th>1091426</th>\n      <td>0.227906</td>\n      <td>0.496786</td>\n      <td>0.203884</td>\n      <td>0.027615</td>\n      <td>0.771212</td>\n      <td>0.462320</td>\n      <td>0.161248</td>\n      <td>0.717092</td>\n      <td>0.052786</td>\n      <td>0.019076</td>\n      <td>0.004234</td>\n      <td>0.008552</td>\n      <td>0.074147</td>\n      <td>0.007431</td>\n      <td>0.211073</td>\n      <td>0.755245</td>\n    </tr>\n    <tr>\n      <th>1105101</th>\n      <td>0.065911</td>\n      <td>0.029127</td>\n      <td>0.205350</td>\n      <td>0.005513</td>\n      <td>0.111661</td>\n      <td>0.129804</td>\n      <td>0.019870</td>\n      <td>0.206468</td>\n      <td>0.009897</td>\n      <td>0.012620</td>\n      <td>0.000916</td>\n      <td>0.005426</td>\n      <td>0.036094</td>\n      <td>0.006926</td>\n      <td>0.039463</td>\n      <td>0.188578</td>\n    </tr>\n    <tr>\n      <th>1145117</th>\n      <td>0.018198</td>\n      <td>0.063997</td>\n      <td>0.357936</td>\n      <td>0.076738</td>\n      <td>0.051909</td>\n      <td>0.452432</td>\n      <td>0.513094</td>\n      <td>0.993759</td>\n      <td>0.993055</td>\n      <td>0.788897</td>\n      <td>0.169603</td>\n      <td>0.062707</td>\n      <td>0.008042</td>\n      <td>0.013062</td>\n      <td>0.761980</td>\n      <td>0.031562</td>\n    </tr>\n    <tr>\n      <th>1162332</th>\n      <td>0.002685</td>\n      <td>0.050065</td>\n      <td>0.442408</td>\n      <td>0.010211</td>\n      <td>0.906757</td>\n      <td>0.222810</td>\n      <td>0.063724</td>\n      <td>0.933335</td>\n      <td>0.411473</td>\n      <td>0.024609</td>\n      <td>0.005188</td>\n      <td>0.011677</td>\n      <td>0.820242</td>\n      <td>0.044602</td>\n      <td>0.154903</td>\n      <td>0.213574</td>\n    </tr>\n    <tr>\n      <th>1167569</th>\n      <td>0.033124</td>\n      <td>0.040313</td>\n      <td>0.338713</td>\n      <td>0.116282</td>\n      <td>0.680531</td>\n      <td>0.536766</td>\n      <td>0.402434</td>\n      <td>0.994871</td>\n      <td>0.988132</td>\n      <td>0.553563</td>\n      <td>0.231253</td>\n      <td>0.216938</td>\n      <td>0.131712</td>\n      <td>0.037876</td>\n      <td>0.588517</td>\n      <td>0.021113</td>\n    </tr>\n  </tbody>\n</table>\n<p>101 rows × 16 columns</p>\n</div>"
     },
     "execution_count": 10,
     "metadata": {},
     "output_type": "execute_result"
    }
   ],
   "source": [
    "perspective_df"
   ],
   "metadata": {
    "collapsed": false,
    "ExecuteTime": {
     "start_time": "2023-06-12T16:36:53.020777Z",
     "end_time": "2023-06-12T16:36:53.388068Z"
    }
   }
  },
  {
   "cell_type": "code",
   "execution_count": 11,
   "outputs": [],
   "source": [
    "df = pd.merge(df, perspective_df, left_on='index', right_index=True)"
   ],
   "metadata": {
    "collapsed": false,
    "ExecuteTime": {
     "start_time": "2023-06-12T16:36:53.149705Z",
     "end_time": "2023-06-12T16:36:53.492673Z"
    }
   }
  },
  {
   "cell_type": "code",
   "execution_count": 12,
   "outputs": [],
   "source": [
    "df = pd.merge(df, liwc_df, left_on='index', right_index=True)"
   ],
   "metadata": {
    "collapsed": false,
    "ExecuteTime": {
     "start_time": "2023-06-12T16:36:53.205279Z",
     "end_time": "2023-06-12T16:36:53.716262Z"
    }
   }
  },
  {
   "cell_type": "code",
   "execution_count": 13,
   "outputs": [
    {
     "data": {
      "text/plain": "       index contribution_type         subreddit  \\\n0     374401           comment         copypasta   \n1    1082750           comment     MurderedByAOC   \n2     358659           comment        conspiracy   \n3     671885           comment  conspiracyundone   \n4     167543           comment         TitanicHG   \n..       ...               ...               ...   \n96    322552           comment          politics   \n97    117426           comment        conspiracy   \n98    344726           comment     insaneparents   \n99    399084           comment   Tennesseetitans   \n100   494825           comment         newcastle   \n\n                                                   url  \\\n0    https://reddit.com/r/copypasta/comments/ixtik1...   \n1    https://reddit.com/r/MurderedByAOC/comments/oz...   \n2    https://new.reddit.com/r/conspiracy/comments/5...   \n3    https://reddit.com/r/conspiracyundone/comments...   \n4    https://new.reddit.com/r/TitanicHG/comments/6g...   \n..                                                 ...   \n96   https://reddit.com/r/politics/comments/efz14o/...   \n97   https://new.reddit.com/r/conspiracy/comments/p...   \n98   https://reddit.com/r/insaneparents/comments/h7...   \n99   https://reddit.com/r/Tennesseetitans/comments/...   \n100  https://reddit.com/r/newcastle/comments/plv6tv...   \n\n                                                  text  \\\n0    ######You pathetic little shits.  \\n  \\nYou st...   \n1    In Denmark everything medical related except t...   \n2    I followed this one closely from the beginning...   \n3    Free speech is absolutely being attacked on th...   \n4    Matt keeps asking me for my inside source, whe...   \n..                                                 ...   \n96   Washington Post trying to court the Fox News v...   \n97   I never considered myself much of a \"conspirac...   \n98   They must be lacing her weed with something. Y...   \n99   I’m not a conspiracy theorist, but things like...   \n100  It's like the start of a apocalyptic movie whe...   \n\n                                         relevant text  \\\n0    Look a bit like the kind of shit some conspira...   \n1    still you get science deniers luddites and con...   \n2                   the bulk of \"conspiracy theorists\"   \n3              discrediting the 'conspiracy theorists'   \n4                   he called me a conspiracy theorist   \n..                                                 ...   \n96    the Fox News viewer conspiracy theorist demog...   \n97   I never considered myself much of a \"conspirac...   \n98   a conspiracy theorist isn’t gonna take anythin...   \n99                  I’m not a conspiracy theorist, but   \n100  I don't like the ever increasing conspiracy th...   \n\n            type of reference connotation of the term in the comment  \\\n0             absent specific                               negative   \n1                     generic                               negative   \n2                     generic                                neutral   \n3                     generic                               negative   \n4         author (attributed)                               negative   \n..                        ...                                    ...   \n96                    generic                               negative   \n97   author (self-attributed)                               negative   \n98                    generic                               negative   \n99   author (self-attributed)                               negative   \n100                   generic                               negative   \n\n    attitude towards conspiracy theorising       label function1  ...  \\\n0                                 negative             reference  ...   \n1                                 negative             reference  ...   \n2                                 positive             reference  ...   \n3                                  postive  reaction to labeling  ...   \n4                                 positive  reaction to labeling  ...   \n..                                     ...                   ...  ...   \n96                                negative             reference  ...   \n97                                 neutral        identification  ...   \n98                                negative             reference  ...   \n99                                negative        identification  ...   \n100                               negative            evaluation  ...   \n\n    Affiliation Leisure Sexual  family  Ingest  Work  hear   We  home  Filler  \n0           1.0     1.0    0.0     1.0     0.0   1.0   1.0  1.0   1.0     0.0  \n1           1.0     0.0    1.0     1.0     0.0   1.0   0.0  0.0   0.0     0.0  \n2           1.0     0.0    0.0     0.0     0.0   1.0   0.0  1.0   0.0     0.0  \n3           0.0     0.0    0.0     0.0     0.0   0.0   0.0  0.0   0.0     0.0  \n4           0.0     0.0    0.0     0.0     0.0   0.0   0.0  0.0   0.0     0.0  \n..          ...     ...    ...     ...     ...   ...   ...  ...   ...     ...  \n96          4.0     2.0    0.0     0.0     0.0   1.0   1.0  2.0   0.0     0.0  \n97          1.0     0.0    0.0     1.0     0.0   1.0   1.0  0.0   0.0     0.0  \n98          0.0     0.0    0.0     0.0     0.0   0.0   0.0  0.0   0.0     0.0  \n99          0.0     0.0    0.0     0.0     0.0   1.0   1.0  0.0   0.0     0.0  \n100         0.0     1.0    1.0     0.0     1.0   0.0   1.0  0.0   0.0     0.0  \n\n[101 rows x 102 columns]",
      "text/html": "<div>\n<style scoped>\n    .dataframe tbody tr th:only-of-type {\n        vertical-align: middle;\n    }\n\n    .dataframe tbody tr th {\n        vertical-align: top;\n    }\n\n    .dataframe thead th {\n        text-align: right;\n    }\n</style>\n<table border=\"1\" class=\"dataframe\">\n  <thead>\n    <tr style=\"text-align: right;\">\n      <th></th>\n      <th>index</th>\n      <th>contribution_type</th>\n      <th>subreddit</th>\n      <th>url</th>\n      <th>text</th>\n      <th>relevant text</th>\n      <th>type of reference</th>\n      <th>connotation of the term in the comment</th>\n      <th>attitude towards conspiracy theorising</th>\n      <th>label function1</th>\n      <th>...</th>\n      <th>Affiliation</th>\n      <th>Leisure</th>\n      <th>Sexual</th>\n      <th>family</th>\n      <th>Ingest</th>\n      <th>Work</th>\n      <th>hear</th>\n      <th>We</th>\n      <th>home</th>\n      <th>Filler</th>\n    </tr>\n  </thead>\n  <tbody>\n    <tr>\n      <th>0</th>\n      <td>374401</td>\n      <td>comment</td>\n      <td>copypasta</td>\n      <td>https://reddit.com/r/copypasta/comments/ixtik1...</td>\n      <td>######You pathetic little shits.  \\n  \\nYou st...</td>\n      <td>Look a bit like the kind of shit some conspira...</td>\n      <td>absent specific</td>\n      <td>negative</td>\n      <td>negative</td>\n      <td>reference</td>\n      <td>...</td>\n      <td>1.0</td>\n      <td>1.0</td>\n      <td>0.0</td>\n      <td>1.0</td>\n      <td>0.0</td>\n      <td>1.0</td>\n      <td>1.0</td>\n      <td>1.0</td>\n      <td>1.0</td>\n      <td>0.0</td>\n    </tr>\n    <tr>\n      <th>1</th>\n      <td>1082750</td>\n      <td>comment</td>\n      <td>MurderedByAOC</td>\n      <td>https://reddit.com/r/MurderedByAOC/comments/oz...</td>\n      <td>In Denmark everything medical related except t...</td>\n      <td>still you get science deniers luddites and con...</td>\n      <td>generic</td>\n      <td>negative</td>\n      <td>negative</td>\n      <td>reference</td>\n      <td>...</td>\n      <td>1.0</td>\n      <td>0.0</td>\n      <td>1.0</td>\n      <td>1.0</td>\n      <td>0.0</td>\n      <td>1.0</td>\n      <td>0.0</td>\n      <td>0.0</td>\n      <td>0.0</td>\n      <td>0.0</td>\n    </tr>\n    <tr>\n      <th>2</th>\n      <td>358659</td>\n      <td>comment</td>\n      <td>conspiracy</td>\n      <td>https://new.reddit.com/r/conspiracy/comments/5...</td>\n      <td>I followed this one closely from the beginning...</td>\n      <td>the bulk of \"conspiracy theorists\"</td>\n      <td>generic</td>\n      <td>neutral</td>\n      <td>positive</td>\n      <td>reference</td>\n      <td>...</td>\n      <td>1.0</td>\n      <td>0.0</td>\n      <td>0.0</td>\n      <td>0.0</td>\n      <td>0.0</td>\n      <td>1.0</td>\n      <td>0.0</td>\n      <td>1.0</td>\n      <td>0.0</td>\n      <td>0.0</td>\n    </tr>\n    <tr>\n      <th>3</th>\n      <td>671885</td>\n      <td>comment</td>\n      <td>conspiracyundone</td>\n      <td>https://reddit.com/r/conspiracyundone/comments...</td>\n      <td>Free speech is absolutely being attacked on th...</td>\n      <td>discrediting the 'conspiracy theorists'</td>\n      <td>generic</td>\n      <td>negative</td>\n      <td>postive</td>\n      <td>reaction to labeling</td>\n      <td>...</td>\n      <td>0.0</td>\n      <td>0.0</td>\n      <td>0.0</td>\n      <td>0.0</td>\n      <td>0.0</td>\n      <td>0.0</td>\n      <td>0.0</td>\n      <td>0.0</td>\n      <td>0.0</td>\n      <td>0.0</td>\n    </tr>\n    <tr>\n      <th>4</th>\n      <td>167543</td>\n      <td>comment</td>\n      <td>TitanicHG</td>\n      <td>https://new.reddit.com/r/TitanicHG/comments/6g...</td>\n      <td>Matt keeps asking me for my inside source, whe...</td>\n      <td>he called me a conspiracy theorist</td>\n      <td>author (attributed)</td>\n      <td>negative</td>\n      <td>positive</td>\n      <td>reaction to labeling</td>\n      <td>...</td>\n      <td>0.0</td>\n      <td>0.0</td>\n      <td>0.0</td>\n      <td>0.0</td>\n      <td>0.0</td>\n      <td>0.0</td>\n      <td>0.0</td>\n      <td>0.0</td>\n      <td>0.0</td>\n      <td>0.0</td>\n    </tr>\n    <tr>\n      <th>...</th>\n      <td>...</td>\n      <td>...</td>\n      <td>...</td>\n      <td>...</td>\n      <td>...</td>\n      <td>...</td>\n      <td>...</td>\n      <td>...</td>\n      <td>...</td>\n      <td>...</td>\n      <td>...</td>\n      <td>...</td>\n      <td>...</td>\n      <td>...</td>\n      <td>...</td>\n      <td>...</td>\n      <td>...</td>\n      <td>...</td>\n      <td>...</td>\n      <td>...</td>\n      <td>...</td>\n    </tr>\n    <tr>\n      <th>96</th>\n      <td>322552</td>\n      <td>comment</td>\n      <td>politics</td>\n      <td>https://reddit.com/r/politics/comments/efz14o/...</td>\n      <td>Washington Post trying to court the Fox News v...</td>\n      <td>the Fox News viewer conspiracy theorist demog...</td>\n      <td>generic</td>\n      <td>negative</td>\n      <td>negative</td>\n      <td>reference</td>\n      <td>...</td>\n      <td>4.0</td>\n      <td>2.0</td>\n      <td>0.0</td>\n      <td>0.0</td>\n      <td>0.0</td>\n      <td>1.0</td>\n      <td>1.0</td>\n      <td>2.0</td>\n      <td>0.0</td>\n      <td>0.0</td>\n    </tr>\n    <tr>\n      <th>97</th>\n      <td>117426</td>\n      <td>comment</td>\n      <td>conspiracy</td>\n      <td>https://new.reddit.com/r/conspiracy/comments/p...</td>\n      <td>I never considered myself much of a \"conspirac...</td>\n      <td>I never considered myself much of a \"conspirac...</td>\n      <td>author (self-attributed)</td>\n      <td>negative</td>\n      <td>neutral</td>\n      <td>identification</td>\n      <td>...</td>\n      <td>1.0</td>\n      <td>0.0</td>\n      <td>0.0</td>\n      <td>1.0</td>\n      <td>0.0</td>\n      <td>1.0</td>\n      <td>1.0</td>\n      <td>0.0</td>\n      <td>0.0</td>\n      <td>0.0</td>\n    </tr>\n    <tr>\n      <th>98</th>\n      <td>344726</td>\n      <td>comment</td>\n      <td>insaneparents</td>\n      <td>https://reddit.com/r/insaneparents/comments/h7...</td>\n      <td>They must be lacing her weed with something. Y...</td>\n      <td>a conspiracy theorist isn’t gonna take anythin...</td>\n      <td>generic</td>\n      <td>negative</td>\n      <td>negative</td>\n      <td>reference</td>\n      <td>...</td>\n      <td>0.0</td>\n      <td>0.0</td>\n      <td>0.0</td>\n      <td>0.0</td>\n      <td>0.0</td>\n      <td>0.0</td>\n      <td>0.0</td>\n      <td>0.0</td>\n      <td>0.0</td>\n      <td>0.0</td>\n    </tr>\n    <tr>\n      <th>99</th>\n      <td>399084</td>\n      <td>comment</td>\n      <td>Tennesseetitans</td>\n      <td>https://reddit.com/r/Tennesseetitans/comments/...</td>\n      <td>I’m not a conspiracy theorist, but things like...</td>\n      <td>I’m not a conspiracy theorist, but</td>\n      <td>author (self-attributed)</td>\n      <td>negative</td>\n      <td>negative</td>\n      <td>identification</td>\n      <td>...</td>\n      <td>0.0</td>\n      <td>0.0</td>\n      <td>0.0</td>\n      <td>0.0</td>\n      <td>0.0</td>\n      <td>1.0</td>\n      <td>1.0</td>\n      <td>0.0</td>\n      <td>0.0</td>\n      <td>0.0</td>\n    </tr>\n    <tr>\n      <th>100</th>\n      <td>494825</td>\n      <td>comment</td>\n      <td>newcastle</td>\n      <td>https://reddit.com/r/newcastle/comments/plv6tv...</td>\n      <td>It's like the start of a apocalyptic movie whe...</td>\n      <td>I don't like the ever increasing conspiracy th...</td>\n      <td>generic</td>\n      <td>negative</td>\n      <td>negative</td>\n      <td>evaluation</td>\n      <td>...</td>\n      <td>0.0</td>\n      <td>1.0</td>\n      <td>1.0</td>\n      <td>0.0</td>\n      <td>1.0</td>\n      <td>0.0</td>\n      <td>1.0</td>\n      <td>0.0</td>\n      <td>0.0</td>\n      <td>0.0</td>\n    </tr>\n  </tbody>\n</table>\n<p>101 rows × 102 columns</p>\n</div>"
     },
     "execution_count": 13,
     "metadata": {},
     "output_type": "execute_result"
    }
   ],
   "source": [
    "df"
   ],
   "metadata": {
    "collapsed": false,
    "ExecuteTime": {
     "start_time": "2023-06-12T16:36:53.278324Z",
     "end_time": "2023-06-12T16:36:53.932903Z"
    }
   }
  },
  {
   "cell_type": "code",
   "execution_count": 14,
   "outputs": [
    {
     "data": {
      "text/plain": "Index(['index', 'contribution_type', 'subreddit', 'url', 'text',\n       'relevant text', 'type of reference',\n       'connotation of the term in the comment',\n       'attitude towards conspiracy theorising', 'label function1',\n       ...\n       'Affiliation', 'Leisure', 'Sexual', 'family', 'Ingest', 'Work', 'hear',\n       'We', 'home', 'Filler'],\n      dtype='object', length=102)"
     },
     "execution_count": 14,
     "metadata": {},
     "output_type": "execute_result"
    }
   ],
   "source": [
    "df.columns"
   ],
   "metadata": {
    "collapsed": false,
    "ExecuteTime": {
     "start_time": "2023-06-12T16:36:53.362048Z",
     "end_time": "2023-06-12T16:36:54.000185Z"
    }
   }
  },
  {
   "cell_type": "code",
   "execution_count": 15,
   "outputs": [
    {
     "data": {
      "text/plain": "array(['absent specific', 'generic', 'author (attributed)',\n       'interlocutor', 'author (self-attributed)', 'previous poster',\n       'absent interlocutor'], dtype=object)"
     },
     "execution_count": 15,
     "metadata": {},
     "output_type": "execute_result"
    }
   ],
   "source": [
    "target = 'type of reference'\n",
    "df[target].unique()"
   ],
   "metadata": {
    "collapsed": false,
    "ExecuteTime": {
     "start_time": "2023-06-12T16:36:53.470046Z",
     "end_time": "2023-06-12T16:36:54.010731Z"
    }
   }
  },
  {
   "cell_type": "code",
   "execution_count": 16,
   "outputs": [],
   "source": [
    "feats = liwc_df.columns.tolist()+perspective_df.columns.tolist()"
   ],
   "metadata": {
    "collapsed": false,
    "ExecuteTime": {
     "start_time": "2023-06-12T16:36:53.540221Z",
     "end_time": "2023-06-12T16:36:54.024721Z"
    }
   }
  },
  {
   "cell_type": "code",
   "execution_count": 51,
   "outputs": [],
   "source": [
    "y = df[target]=='interlocutor'\n",
    "# y = df[target]=='previous poster'"
   ],
   "metadata": {
    "collapsed": false,
    "ExecuteTime": {
     "start_time": "2023-06-12T16:46:05.489929Z",
     "end_time": "2023-06-12T16:46:05.518455Z"
    }
   }
  },
  {
   "cell_type": "code",
   "execution_count": 52,
   "outputs": [],
   "source": [
    "X = df[feats]"
   ],
   "metadata": {
    "collapsed": false,
    "ExecuteTime": {
     "start_time": "2023-06-12T16:46:05.634981Z",
     "end_time": "2023-06-12T16:46:05.702310Z"
    }
   }
  },
  {
   "cell_type": "code",
   "execution_count": 53,
   "outputs": [],
   "source": [
    "clf = RandomForestClassifier()"
   ],
   "metadata": {
    "collapsed": false,
    "ExecuteTime": {
     "start_time": "2023-06-12T16:46:05.813663Z",
     "end_time": "2023-06-12T16:46:05.890665Z"
    }
   }
  },
  {
   "cell_type": "code",
   "execution_count": 54,
   "outputs": [
    {
     "data": {
      "text/plain": "RandomForestClassifier()",
      "text/html": "<style>#sk-container-id-6 {color: black;background-color: white;}#sk-container-id-6 pre{padding: 0;}#sk-container-id-6 div.sk-toggleable {background-color: white;}#sk-container-id-6 label.sk-toggleable__label {cursor: pointer;display: block;width: 100%;margin-bottom: 0;padding: 0.3em;box-sizing: border-box;text-align: center;}#sk-container-id-6 label.sk-toggleable__label-arrow:before {content: \"▸\";float: left;margin-right: 0.25em;color: #696969;}#sk-container-id-6 label.sk-toggleable__label-arrow:hover:before {color: black;}#sk-container-id-6 div.sk-estimator:hover label.sk-toggleable__label-arrow:before {color: black;}#sk-container-id-6 div.sk-toggleable__content {max-height: 0;max-width: 0;overflow: hidden;text-align: left;background-color: #f0f8ff;}#sk-container-id-6 div.sk-toggleable__content pre {margin: 0.2em;color: black;border-radius: 0.25em;background-color: #f0f8ff;}#sk-container-id-6 input.sk-toggleable__control:checked~div.sk-toggleable__content {max-height: 200px;max-width: 100%;overflow: auto;}#sk-container-id-6 input.sk-toggleable__control:checked~label.sk-toggleable__label-arrow:before {content: \"▾\";}#sk-container-id-6 div.sk-estimator input.sk-toggleable__control:checked~label.sk-toggleable__label {background-color: #d4ebff;}#sk-container-id-6 div.sk-label input.sk-toggleable__control:checked~label.sk-toggleable__label {background-color: #d4ebff;}#sk-container-id-6 input.sk-hidden--visually {border: 0;clip: rect(1px 1px 1px 1px);clip: rect(1px, 1px, 1px, 1px);height: 1px;margin: -1px;overflow: hidden;padding: 0;position: absolute;width: 1px;}#sk-container-id-6 div.sk-estimator {font-family: monospace;background-color: #f0f8ff;border: 1px dotted black;border-radius: 0.25em;box-sizing: border-box;margin-bottom: 0.5em;}#sk-container-id-6 div.sk-estimator:hover {background-color: #d4ebff;}#sk-container-id-6 div.sk-parallel-item::after {content: \"\";width: 100%;border-bottom: 1px solid gray;flex-grow: 1;}#sk-container-id-6 div.sk-label:hover label.sk-toggleable__label {background-color: #d4ebff;}#sk-container-id-6 div.sk-serial::before {content: \"\";position: absolute;border-left: 1px solid gray;box-sizing: border-box;top: 0;bottom: 0;left: 50%;z-index: 0;}#sk-container-id-6 div.sk-serial {display: flex;flex-direction: column;align-items: center;background-color: white;padding-right: 0.2em;padding-left: 0.2em;position: relative;}#sk-container-id-6 div.sk-item {position: relative;z-index: 1;}#sk-container-id-6 div.sk-parallel {display: flex;align-items: stretch;justify-content: center;background-color: white;position: relative;}#sk-container-id-6 div.sk-item::before, #sk-container-id-6 div.sk-parallel-item::before {content: \"\";position: absolute;border-left: 1px solid gray;box-sizing: border-box;top: 0;bottom: 0;left: 50%;z-index: -1;}#sk-container-id-6 div.sk-parallel-item {display: flex;flex-direction: column;z-index: 1;position: relative;background-color: white;}#sk-container-id-6 div.sk-parallel-item:first-child::after {align-self: flex-end;width: 50%;}#sk-container-id-6 div.sk-parallel-item:last-child::after {align-self: flex-start;width: 50%;}#sk-container-id-6 div.sk-parallel-item:only-child::after {width: 0;}#sk-container-id-6 div.sk-dashed-wrapped {border: 1px dashed gray;margin: 0 0.4em 0.5em 0.4em;box-sizing: border-box;padding-bottom: 0.4em;background-color: white;}#sk-container-id-6 div.sk-label label {font-family: monospace;font-weight: bold;display: inline-block;line-height: 1.2em;}#sk-container-id-6 div.sk-label-container {text-align: center;}#sk-container-id-6 div.sk-container {/* jupyter's `normalize.less` sets `[hidden] { display: none; }` but bootstrap.min.css set `[hidden] { display: none !important; }` so we also need the `!important` here to be able to override the default hidden behavior on the sphinx rendered scikit-learn.org. See: https://github.com/scikit-learn/scikit-learn/issues/21755 */display: inline-block !important;position: relative;}#sk-container-id-6 div.sk-text-repr-fallback {display: none;}</style><div id=\"sk-container-id-6\" class=\"sk-top-container\"><div class=\"sk-text-repr-fallback\"><pre>RandomForestClassifier()</pre><b>In a Jupyter environment, please rerun this cell to show the HTML representation or trust the notebook. <br />On GitHub, the HTML representation is unable to render, please try loading this page with nbviewer.org.</b></div><div class=\"sk-container\" hidden><div class=\"sk-item\"><div class=\"sk-estimator sk-toggleable\"><input class=\"sk-toggleable__control sk-hidden--visually\" id=\"sk-estimator-id-6\" type=\"checkbox\" checked><label for=\"sk-estimator-id-6\" class=\"sk-toggleable__label sk-toggleable__label-arrow\">RandomForestClassifier</label><div class=\"sk-toggleable__content\"><pre>RandomForestClassifier()</pre></div></div></div></div></div>"
     },
     "execution_count": 54,
     "metadata": {},
     "output_type": "execute_result"
    }
   ],
   "source": [
    "clf.fit(X, y)"
   ],
   "metadata": {
    "collapsed": false,
    "ExecuteTime": {
     "start_time": "2023-06-12T16:46:06.110255Z",
     "end_time": "2023-06-12T16:46:06.354950Z"
    }
   }
  },
  {
   "cell_type": "code",
   "execution_count": 55,
   "outputs": [],
   "source": [
    "feat_importances = sorted(zip(clf.feature_importances_, clf.feature_names_in_))"
   ],
   "metadata": {
    "collapsed": false,
    "ExecuteTime": {
     "start_time": "2023-06-12T16:46:06.906262Z",
     "end_time": "2023-06-12T16:46:06.975260Z"
    }
   }
  },
  {
   "cell_type": "code",
   "execution_count": 56,
   "outputs": [
    {
     "data": {
      "text/plain": "[(0.0, 'family'),\n (0.0, 'female'),\n (0.0, 'home'),\n (0.00041461412151067316, 'Money'),\n (0.00110989010989011, 'feel'),\n (0.0012159550688962452, 'Anx'),\n (0.0013462798079418334, 'Netspeak'),\n (0.001418539325842696, 'SheHe'),\n (0.0017174981252027828, 'Filler'),\n (0.0018652523590750342, 'Body'),\n (0.001997816284601463, 'Sexual'),\n (0.00199782750309426, 'Achieve'),\n (0.002219956967251892, 'Swear'),\n (0.0024390769543300842, 'FocusFuture'),\n (0.002484019928872871, 'male'),\n (0.002652520904452825, 'Negemo'),\n (0.003052442057445254, 'See'),\n (0.0030734589233767425, 'Assent'),\n (0.0032508713981702583, 'they'),\n (0.003391365493131113, 'Leisure'),\n (0.003642062904006258, 'Ingest'),\n (0.0039475843212485725, 'friend'),\n (0.003995443391521825, 'Sad'),\n (0.003996931730463988, 'Cause'),\n (0.0040385182457657745, 'Risk'),\n (0.004087040489596508, 'Nonflu'),\n (0.004525422760408287, 'Interrog'),\n (0.004762441200819006, 'Relig'),\n (0.004792717559397999, 'Reward'),\n (0.004878014897128754, 'Negate'),\n (0.004989028362037012, 'Health'),\n (0.005056172029637501, 'Discrep'),\n (0.005316952324352324, 'PROFANITY'),\n (0.0054314728472507935, 'hear'),\n (0.005450095397968023, 'Tentat'),\n (0.005930970475727995, 'Affect'),\n (0.006250985977282986, 'Compare'),\n (0.006428969105164304, 'differ'),\n (0.006654524020038068, 'Article'),\n (0.006744499428418227, 'Work'),\n (0.00690472705780444, 'Insight'),\n (0.0077907510661801675, 'TOXICITY'),\n (0.008012809940435966, 'We'),\n (0.008825209533166784, 'Adverb'),\n (0.00891357725393395, 'Posemo'),\n (0.009288816796270829, 'Space'),\n (0.009370046319612952, 'Motion'),\n (0.009520588597016216, 'Anger'),\n (0.009666788745181914, 'Drives'),\n (0.009845232391686004, 'Ppron'),\n (0.009860820346673765, 'Certain'),\n (0.01067297694628707, 'Informal'),\n (0.010736974881510089, 'Affiliation'),\n (0.011599827426579343, 'Ipron'),\n (0.012432699985908697, 'Bio'),\n (0.012722446673540194, 'Percept'),\n (0.013017069165467271, 'Auxverb'),\n (0.013402383304151829, 'OBSCENE'),\n (0.014020580925620687, 'SEVERE_TOXICITY'),\n (0.01429863623604854, 'Adj'),\n (0.014330782280254379, 'You'),\n (0.015221582488950645, 'Social'),\n (0.015237951378480238, 'FocusPast'),\n (0.015269783685563879, 'FocusPresent'),\n (0.015308458667003196, 'Power'),\n (0.016024178781776994, 'Time'),\n (0.016416879322173193, 'UNSUBSTANTIAL'),\n (0.017232726910482322, 'Death'),\n (0.017496799221451302, 'IDENTITY_ATTACK'),\n (0.0175543242814848, 'I'),\n (0.01758648511843207, 'THREAT'),\n (0.01826040409689183, 'LIKELY_TO_REJECT'),\n (0.018301473264615318, 'INCOHERENT'),\n (0.018337280950597973, 'INSULT'),\n (0.01875098565280395, 'Verb'),\n (0.019357025631464252, 'FLIRTATION'),\n (0.020667217753902616, 'SPAM'),\n (0.021905693986469917, 'Prep'),\n (0.023093154603286252, 'SEXUALLY_EXPLICIT'),\n (0.02528338047166282, 'INFLAMMATORY'),\n (0.02582156107126393, 'Conj'),\n (0.026963818006267376, 'ATTACK_ON_AUTHOR'),\n (0.027806159450150143, 'Quant'),\n (0.02804386053337266, 'Relativ'),\n (0.029032419941808017, 'ATTACK_ON_COMMENTER'),\n (0.03296991566218814, 'Pronoun'),\n (0.03864598050022225, 'CogProc'),\n (0.03938392755108363, 'Function'),\n (0.042225592341498655, 'Tokens')]"
     },
     "execution_count": 56,
     "metadata": {},
     "output_type": "execute_result"
    }
   ],
   "source": [
    "feat_importances"
   ],
   "metadata": {
    "collapsed": false,
    "ExecuteTime": {
     "start_time": "2023-06-12T16:46:07.160912Z",
     "end_time": "2023-06-12T16:46:07.313772Z"
    }
   }
  },
  {
   "cell_type": "code",
   "execution_count": 32,
   "outputs": [],
   "source": [
    "fnames = [i[1] for i in feat_importances if i[0]]"
   ],
   "metadata": {
    "collapsed": false,
    "ExecuteTime": {
     "start_time": "2023-06-12T16:41:04.262797Z",
     "end_time": "2023-06-12T16:41:04.292382Z"
    }
   }
  },
  {
   "cell_type": "code",
   "execution_count": 36,
   "outputs": [
    {
     "ename": "ValueError",
     "evalue": "The truth value of an array with more than one element is ambiguous. Use a.any() or a.all()",
     "output_type": "error",
     "traceback": [
      "\u001B[1;31m---------------------------------------------------------------------------\u001B[0m",
      "\u001B[1;31mValueError\u001B[0m                                Traceback (most recent call last)",
      "Cell \u001B[1;32mIn[36], line 1\u001B[0m\n\u001B[1;32m----> 1\u001B[0m g \u001B[38;5;241m=\u001B[39m \u001B[43msns\u001B[49m\u001B[38;5;241;43m.\u001B[39;49m\u001B[43mpairplot\u001B[49m\u001B[43m(\u001B[49m\u001B[43mdf\u001B[49m\u001B[43m[\u001B[49m\u001B[38;5;28;43mlist\u001B[39;49m\u001B[43m(\u001B[49m\u001B[43mfnames\u001B[49m\u001B[43m)\u001B[49m\u001B[38;5;241;43m+\u001B[39;49m\u001B[43m[\u001B[49m\u001B[43mtarget\u001B[49m\u001B[43m]\u001B[49m\u001B[43m]\u001B[49m\u001B[43m,\u001B[49m\u001B[43m \u001B[49m\u001B[43mhue\u001B[49m\u001B[38;5;241;43m=\u001B[39;49m\u001B[43mpd\u001B[49m\u001B[38;5;241;43m.\u001B[39;49m\u001B[43mCategorical\u001B[49m\u001B[43m(\u001B[49m\u001B[43my\u001B[49m\u001B[43m)\u001B[49m\u001B[43m)\u001B[49m\n\u001B[0;32m      2\u001B[0m g\u001B[38;5;241m.\u001B[39madd_legend()\n",
      "File \u001B[1;32m~\\PycharmProjects\\trutherstoo\\venv\\lib\\site-packages\\seaborn\\axisgrid.py:2114\u001B[0m, in \u001B[0;36mpairplot\u001B[1;34m(data, hue, hue_order, palette, vars, x_vars, y_vars, kind, diag_kind, markers, height, aspect, corner, dropna, plot_kws, diag_kws, grid_kws, size)\u001B[0m\n\u001B[0;32m   2112\u001B[0m \u001B[38;5;66;03m# Set up the PairGrid\u001B[39;00m\n\u001B[0;32m   2113\u001B[0m grid_kws\u001B[38;5;241m.\u001B[39msetdefault(\u001B[38;5;124m\"\u001B[39m\u001B[38;5;124mdiag_sharey\u001B[39m\u001B[38;5;124m\"\u001B[39m, diag_kind \u001B[38;5;241m==\u001B[39m \u001B[38;5;124m\"\u001B[39m\u001B[38;5;124mhist\u001B[39m\u001B[38;5;124m\"\u001B[39m)\n\u001B[1;32m-> 2114\u001B[0m grid \u001B[38;5;241m=\u001B[39m PairGrid(data, \u001B[38;5;28mvars\u001B[39m\u001B[38;5;241m=\u001B[39m\u001B[38;5;28mvars\u001B[39m, x_vars\u001B[38;5;241m=\u001B[39mx_vars, y_vars\u001B[38;5;241m=\u001B[39my_vars, hue\u001B[38;5;241m=\u001B[39mhue,\n\u001B[0;32m   2115\u001B[0m                 hue_order\u001B[38;5;241m=\u001B[39mhue_order, palette\u001B[38;5;241m=\u001B[39mpalette, corner\u001B[38;5;241m=\u001B[39mcorner,\n\u001B[0;32m   2116\u001B[0m                 height\u001B[38;5;241m=\u001B[39mheight, aspect\u001B[38;5;241m=\u001B[39maspect, dropna\u001B[38;5;241m=\u001B[39mdropna, \u001B[38;5;241m*\u001B[39m\u001B[38;5;241m*\u001B[39mgrid_kws)\n\u001B[0;32m   2118\u001B[0m \u001B[38;5;66;03m# Add the markers here as PairGrid has figured out how many levels of the\u001B[39;00m\n\u001B[0;32m   2119\u001B[0m \u001B[38;5;66;03m# hue variable are needed and we don't want to duplicate that process\u001B[39;00m\n\u001B[0;32m   2120\u001B[0m \u001B[38;5;28;01mif\u001B[39;00m markers \u001B[38;5;129;01mis\u001B[39;00m \u001B[38;5;129;01mnot\u001B[39;00m \u001B[38;5;28;01mNone\u001B[39;00m:\n",
      "File \u001B[1;32m~\\PycharmProjects\\trutherstoo\\venv\\lib\\site-packages\\seaborn\\axisgrid.py:1246\u001B[0m, in \u001B[0;36mPairGrid.__init__\u001B[1;34m(self, data, hue, vars, x_vars, y_vars, hue_order, palette, hue_kws, corner, diag_sharey, height, aspect, layout_pad, despine, dropna)\u001B[0m\n\u001B[0;32m   1244\u001B[0m \u001B[38;5;66;03m# Sort out the variables that define the grid\u001B[39;00m\n\u001B[0;32m   1245\u001B[0m numeric_cols \u001B[38;5;241m=\u001B[39m \u001B[38;5;28mself\u001B[39m\u001B[38;5;241m.\u001B[39m_find_numeric_cols(data)\n\u001B[1;32m-> 1246\u001B[0m \u001B[38;5;28;01mif\u001B[39;00m \u001B[43mhue\u001B[49m\u001B[43m \u001B[49m\u001B[38;5;129;43;01min\u001B[39;49;00m\u001B[43m \u001B[49m\u001B[43mnumeric_cols\u001B[49m:\n\u001B[0;32m   1247\u001B[0m     numeric_cols\u001B[38;5;241m.\u001B[39mremove(hue)\n\u001B[0;32m   1248\u001B[0m \u001B[38;5;28;01mif\u001B[39;00m \u001B[38;5;28mvars\u001B[39m \u001B[38;5;129;01mis\u001B[39;00m \u001B[38;5;129;01mnot\u001B[39;00m \u001B[38;5;28;01mNone\u001B[39;00m:\n",
      "\u001B[1;31mValueError\u001B[0m: The truth value of an array with more than one element is ambiguous. Use a.any() or a.all()"
     ]
    }
   ],
   "source": [
    "g = sns.pairplot(df[list(fnames)+[target]], hue=target)\n",
    "g.add_legend()"
   ],
   "metadata": {
    "collapsed": false,
    "ExecuteTime": {
     "start_time": "2023-06-12T16:41:04.941841Z",
     "end_time": "2023-06-12T16:43:25.978727Z"
    }
   }
  },
  {
   "cell_type": "code",
   "execution_count": 35,
   "outputs": [
    {
     "data": {
      "text/plain": "0      False\n1      False\n2      False\n3      False\n4      False\n       ...  \n96     False\n97     False\n98     False\n99     False\n100    False\nName: type of reference, Length: 101, dtype: bool"
     },
     "execution_count": 35,
     "metadata": {},
     "output_type": "execute_result"
    }
   ],
   "source": [],
   "metadata": {
    "collapsed": false,
    "ExecuteTime": {
     "start_time": "2023-06-12T16:44:08.388756Z",
     "end_time": "2023-06-12T16:44:08.452269Z"
    }
   }
  }
 ],
 "metadata": {
  "kernelspec": {
   "display_name": "Python 3",
   "language": "python",
   "name": "python3"
  },
  "language_info": {
   "codemirror_mode": {
    "name": "ipython",
    "version": 2
   },
   "file_extension": ".py",
   "mimetype": "text/x-python",
   "name": "python",
   "nbconvert_exporter": "python",
   "pygments_lexer": "ipython2",
   "version": "2.7.6"
  }
 },
 "nbformat": 4,
 "nbformat_minor": 0
}
