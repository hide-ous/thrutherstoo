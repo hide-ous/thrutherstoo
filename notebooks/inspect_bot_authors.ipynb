{
 "cells": [
  {
   "cell_type": "code",
   "execution_count": 2,
   "metadata": {
    "collapsed": true,
    "ExecuteTime": {
     "start_time": "2023-05-20T15:28:59.221872Z",
     "end_time": "2023-05-20T15:29:00.473011Z"
    }
   },
   "outputs": [],
   "source": [
    "import pandas as pd\n",
    "import os\n",
    "import re\n",
    "import json\n"
   ]
  },
  {
   "cell_type": "code",
   "execution_count": 3,
   "outputs": [],
   "source": [
    "df = pd.read_csv('../data/interim/author_counts.csv', header=None)"
   ],
   "metadata": {
    "collapsed": false,
    "ExecuteTime": {
     "start_time": "2023-05-20T15:29:00.468014Z",
     "end_time": "2023-05-20T15:29:00.794803Z"
    }
   }
  },
  {
   "cell_type": "code",
   "execution_count": 4,
   "outputs": [],
   "source": [
    "df.columns = ['author', 'n_contributions']"
   ],
   "metadata": {
    "collapsed": false,
    "ExecuteTime": {
     "start_time": "2023-05-20T15:29:00.797814Z",
     "end_time": "2023-05-20T15:29:00.811413Z"
    }
   }
  },
  {
   "cell_type": "code",
   "execution_count": 5,
   "outputs": [
    {
     "data": {
      "text/plain": "             author  n_contributions\n0         [deleted]       1976316341\n1   ImagesOfNetwork          3488598\n2       transcribot          3450789\n3    MTGCardFetcher          2955741\n4        thefeedbot          1750146\n..              ...              ...\n95        TrollaBot           165477\n96       mindbleach           165438\n97           yaosio           164903\n98             wjbc           164368\n99     jobautomator           162733\n\n[100 rows x 2 columns]",
      "text/html": "<div>\n<style scoped>\n    .dataframe tbody tr th:only-of-type {\n        vertical-align: middle;\n    }\n\n    .dataframe tbody tr th {\n        vertical-align: top;\n    }\n\n    .dataframe thead th {\n        text-align: right;\n    }\n</style>\n<table border=\"1\" class=\"dataframe\">\n  <thead>\n    <tr style=\"text-align: right;\">\n      <th></th>\n      <th>author</th>\n      <th>n_contributions</th>\n    </tr>\n  </thead>\n  <tbody>\n    <tr>\n      <th>0</th>\n      <td>[deleted]</td>\n      <td>1976316341</td>\n    </tr>\n    <tr>\n      <th>1</th>\n      <td>ImagesOfNetwork</td>\n      <td>3488598</td>\n    </tr>\n    <tr>\n      <th>2</th>\n      <td>transcribot</td>\n      <td>3450789</td>\n    </tr>\n    <tr>\n      <th>3</th>\n      <td>MTGCardFetcher</td>\n      <td>2955741</td>\n    </tr>\n    <tr>\n      <th>4</th>\n      <td>thefeedbot</td>\n      <td>1750146</td>\n    </tr>\n    <tr>\n      <th>...</th>\n      <td>...</td>\n      <td>...</td>\n    </tr>\n    <tr>\n      <th>95</th>\n      <td>TrollaBot</td>\n      <td>165477</td>\n    </tr>\n    <tr>\n      <th>96</th>\n      <td>mindbleach</td>\n      <td>165438</td>\n    </tr>\n    <tr>\n      <th>97</th>\n      <td>yaosio</td>\n      <td>164903</td>\n    </tr>\n    <tr>\n      <th>98</th>\n      <td>wjbc</td>\n      <td>164368</td>\n    </tr>\n    <tr>\n      <th>99</th>\n      <td>jobautomator</td>\n      <td>162733</td>\n    </tr>\n  </tbody>\n</table>\n<p>100 rows × 2 columns</p>\n</div>"
     },
     "execution_count": 5,
     "metadata": {},
     "output_type": "execute_result"
    }
   ],
   "source": [
    "df.head(100)"
   ],
   "metadata": {
    "collapsed": false,
    "ExecuteTime": {
     "start_time": "2023-05-20T15:29:00.824413Z",
     "end_time": "2023-05-20T15:29:00.871185Z"
    }
   }
  },
  {
   "cell_type": "code",
   "execution_count": 6,
   "outputs": [
    {
     "data": {
      "text/plain": "565485"
     },
     "execution_count": 6,
     "metadata": {},
     "output_type": "execute_result"
    }
   ],
   "source": [
    "len(df)"
   ],
   "metadata": {
    "collapsed": false,
    "ExecuteTime": {
     "start_time": "2023-05-20T15:29:00.846181Z",
     "end_time": "2023-05-20T15:29:00.873548Z"
    }
   }
  },
  {
   "cell_type": "code",
   "execution_count": 7,
   "outputs": [
    {
     "data": {
      "text/plain": "1111"
     },
     "execution_count": 7,
     "metadata": {},
     "output_type": "execute_result"
    }
   ],
   "source": [
    "len(df[df.author.apply(lambda x: len(re.findall(r'bot([^a-zA-Z]|$)', x, flags=re.I|re.U))> 0)].author.tolist())"
   ],
   "metadata": {
    "collapsed": false,
    "ExecuteTime": {
     "start_time": "2023-05-20T15:29:00.875547Z",
     "end_time": "2023-05-20T15:29:02.967747Z"
    }
   }
  },
  {
   "cell_type": "code",
   "execution_count": 8,
   "outputs": [
    {
     "data": {
      "text/plain": "                      author  n_contributions\n2                transcribot          3450789\n4                 thefeedbot          1750146\n5       ModeratelyHelpfulBot          1707447\n7               sneakpeekbot          1356545\n10                removalbot          1272605\n...                      ...              ...\n563107   PreparingForRobot1x                3\n563273         Breitbart_bot                3\n563318              betobot_                3\n563347               YrelBot                3\n564578       SentinelBot3000                1\n\n[1111 rows x 2 columns]",
      "text/html": "<div>\n<style scoped>\n    .dataframe tbody tr th:only-of-type {\n        vertical-align: middle;\n    }\n\n    .dataframe tbody tr th {\n        vertical-align: top;\n    }\n\n    .dataframe thead th {\n        text-align: right;\n    }\n</style>\n<table border=\"1\" class=\"dataframe\">\n  <thead>\n    <tr style=\"text-align: right;\">\n      <th></th>\n      <th>author</th>\n      <th>n_contributions</th>\n    </tr>\n  </thead>\n  <tbody>\n    <tr>\n      <th>2</th>\n      <td>transcribot</td>\n      <td>3450789</td>\n    </tr>\n    <tr>\n      <th>4</th>\n      <td>thefeedbot</td>\n      <td>1750146</td>\n    </tr>\n    <tr>\n      <th>5</th>\n      <td>ModeratelyHelpfulBot</td>\n      <td>1707447</td>\n    </tr>\n    <tr>\n      <th>7</th>\n      <td>sneakpeekbot</td>\n      <td>1356545</td>\n    </tr>\n    <tr>\n      <th>10</th>\n      <td>removalbot</td>\n      <td>1272605</td>\n    </tr>\n    <tr>\n      <th>...</th>\n      <td>...</td>\n      <td>...</td>\n    </tr>\n    <tr>\n      <th>563107</th>\n      <td>PreparingForRobot1x</td>\n      <td>3</td>\n    </tr>\n    <tr>\n      <th>563273</th>\n      <td>Breitbart_bot</td>\n      <td>3</td>\n    </tr>\n    <tr>\n      <th>563318</th>\n      <td>betobot_</td>\n      <td>3</td>\n    </tr>\n    <tr>\n      <th>563347</th>\n      <td>YrelBot</td>\n      <td>3</td>\n    </tr>\n    <tr>\n      <th>564578</th>\n      <td>SentinelBot3000</td>\n      <td>1</td>\n    </tr>\n  </tbody>\n</table>\n<p>1111 rows × 2 columns</p>\n</div>"
     },
     "execution_count": 8,
     "metadata": {},
     "output_type": "execute_result"
    }
   ],
   "source": [
    "df[df.author.apply(lambda x: len(re.findall(r'bot([^a-zA-Z]|$)', x, flags=re.I|re.U))> 0)]"
   ],
   "metadata": {
    "collapsed": false,
    "ExecuteTime": {
     "start_time": "2023-05-20T15:29:02.975272Z",
     "end_time": "2023-05-20T15:29:05.089192Z"
    }
   }
  },
  {
   "cell_type": "code",
   "execution_count": 9,
   "outputs": [
    {
     "data": {
      "text/plain": "                      author  n_contributions\n22772             Slayer_Tip            19461\n36761           Mushroom_Tip            14800\n37416   spit-evil-olive-tips            14647\n42255           Only_the_Tip            13555\n51729             Neil_O_Tip            11843\n58655                RpgTips            10873\n75621    Random_Useless_Tips             8975\n94497        FatLarrysHotTip             7453\n101858  1017GildedFingerTips             6975\n114741  Sociopathic_Pro_Tips             6248\n115987  SendMeSupercoachTips             6186\n118691            DrunkDMTip             6049\n134577       LifeProPenisTip             5337\n147634          eightinchtip             4840\n167489         StockTipsTips             4191\n175784      CliplessWingtips             3949\n176985    PM_ME_YOUR_FI_TIPS             3917\n210448            TipTapTips             3104\n214274       Satans_pro_tips             3024\n220936      PsychologicalTip             2892\n221396       nashfrostedtips             2883\n231789             WhyDidTip             2687\n241840               ethtips             2510\n243732             londontip             2478\n245677            Jimmy_Tips             2446\n253506       timscookingtips             2321\n255837              logantip             2285\n268914               Aptotip             2094\n302411               DJ_Tips             1662\n312206              BMFeltip             1550\n337182    PM_Me_Python3_Tips             1293\n360905                 INTIP             1075\n363370            OneMoreTip             1054\n413096       Fluorescent_Tip              681\n429610      Butterfingertips              577\n437696   linesinthesandQtips              529\n439899           Mistah_Tips              516\n448332                akatip              468\n472564             DannyTips              341\n487872         FilipTechTips              267\n493382       Linus_Tech_Tips              243",
      "text/html": "<div>\n<style scoped>\n    .dataframe tbody tr th:only-of-type {\n        vertical-align: middle;\n    }\n\n    .dataframe tbody tr th {\n        vertical-align: top;\n    }\n\n    .dataframe thead th {\n        text-align: right;\n    }\n</style>\n<table border=\"1\" class=\"dataframe\">\n  <thead>\n    <tr style=\"text-align: right;\">\n      <th></th>\n      <th>author</th>\n      <th>n_contributions</th>\n    </tr>\n  </thead>\n  <tbody>\n    <tr>\n      <th>22772</th>\n      <td>Slayer_Tip</td>\n      <td>19461</td>\n    </tr>\n    <tr>\n      <th>36761</th>\n      <td>Mushroom_Tip</td>\n      <td>14800</td>\n    </tr>\n    <tr>\n      <th>37416</th>\n      <td>spit-evil-olive-tips</td>\n      <td>14647</td>\n    </tr>\n    <tr>\n      <th>42255</th>\n      <td>Only_the_Tip</td>\n      <td>13555</td>\n    </tr>\n    <tr>\n      <th>51729</th>\n      <td>Neil_O_Tip</td>\n      <td>11843</td>\n    </tr>\n    <tr>\n      <th>58655</th>\n      <td>RpgTips</td>\n      <td>10873</td>\n    </tr>\n    <tr>\n      <th>75621</th>\n      <td>Random_Useless_Tips</td>\n      <td>8975</td>\n    </tr>\n    <tr>\n      <th>94497</th>\n      <td>FatLarrysHotTip</td>\n      <td>7453</td>\n    </tr>\n    <tr>\n      <th>101858</th>\n      <td>1017GildedFingerTips</td>\n      <td>6975</td>\n    </tr>\n    <tr>\n      <th>114741</th>\n      <td>Sociopathic_Pro_Tips</td>\n      <td>6248</td>\n    </tr>\n    <tr>\n      <th>115987</th>\n      <td>SendMeSupercoachTips</td>\n      <td>6186</td>\n    </tr>\n    <tr>\n      <th>118691</th>\n      <td>DrunkDMTip</td>\n      <td>6049</td>\n    </tr>\n    <tr>\n      <th>134577</th>\n      <td>LifeProPenisTip</td>\n      <td>5337</td>\n    </tr>\n    <tr>\n      <th>147634</th>\n      <td>eightinchtip</td>\n      <td>4840</td>\n    </tr>\n    <tr>\n      <th>167489</th>\n      <td>StockTipsTips</td>\n      <td>4191</td>\n    </tr>\n    <tr>\n      <th>175784</th>\n      <td>CliplessWingtips</td>\n      <td>3949</td>\n    </tr>\n    <tr>\n      <th>176985</th>\n      <td>PM_ME_YOUR_FI_TIPS</td>\n      <td>3917</td>\n    </tr>\n    <tr>\n      <th>210448</th>\n      <td>TipTapTips</td>\n      <td>3104</td>\n    </tr>\n    <tr>\n      <th>214274</th>\n      <td>Satans_pro_tips</td>\n      <td>3024</td>\n    </tr>\n    <tr>\n      <th>220936</th>\n      <td>PsychologicalTip</td>\n      <td>2892</td>\n    </tr>\n    <tr>\n      <th>221396</th>\n      <td>nashfrostedtips</td>\n      <td>2883</td>\n    </tr>\n    <tr>\n      <th>231789</th>\n      <td>WhyDidTip</td>\n      <td>2687</td>\n    </tr>\n    <tr>\n      <th>241840</th>\n      <td>ethtips</td>\n      <td>2510</td>\n    </tr>\n    <tr>\n      <th>243732</th>\n      <td>londontip</td>\n      <td>2478</td>\n    </tr>\n    <tr>\n      <th>245677</th>\n      <td>Jimmy_Tips</td>\n      <td>2446</td>\n    </tr>\n    <tr>\n      <th>253506</th>\n      <td>timscookingtips</td>\n      <td>2321</td>\n    </tr>\n    <tr>\n      <th>255837</th>\n      <td>logantip</td>\n      <td>2285</td>\n    </tr>\n    <tr>\n      <th>268914</th>\n      <td>Aptotip</td>\n      <td>2094</td>\n    </tr>\n    <tr>\n      <th>302411</th>\n      <td>DJ_Tips</td>\n      <td>1662</td>\n    </tr>\n    <tr>\n      <th>312206</th>\n      <td>BMFeltip</td>\n      <td>1550</td>\n    </tr>\n    <tr>\n      <th>337182</th>\n      <td>PM_Me_Python3_Tips</td>\n      <td>1293</td>\n    </tr>\n    <tr>\n      <th>360905</th>\n      <td>INTIP</td>\n      <td>1075</td>\n    </tr>\n    <tr>\n      <th>363370</th>\n      <td>OneMoreTip</td>\n      <td>1054</td>\n    </tr>\n    <tr>\n      <th>413096</th>\n      <td>Fluorescent_Tip</td>\n      <td>681</td>\n    </tr>\n    <tr>\n      <th>429610</th>\n      <td>Butterfingertips</td>\n      <td>577</td>\n    </tr>\n    <tr>\n      <th>437696</th>\n      <td>linesinthesandQtips</td>\n      <td>529</td>\n    </tr>\n    <tr>\n      <th>439899</th>\n      <td>Mistah_Tips</td>\n      <td>516</td>\n    </tr>\n    <tr>\n      <th>448332</th>\n      <td>akatip</td>\n      <td>468</td>\n    </tr>\n    <tr>\n      <th>472564</th>\n      <td>DannyTips</td>\n      <td>341</td>\n    </tr>\n    <tr>\n      <th>487872</th>\n      <td>FilipTechTips</td>\n      <td>267</td>\n    </tr>\n    <tr>\n      <th>493382</th>\n      <td>Linus_Tech_Tips</td>\n      <td>243</td>\n    </tr>\n  </tbody>\n</table>\n</div>"
     },
     "execution_count": 9,
     "metadata": {},
     "output_type": "execute_result"
    }
   ],
   "source": [
    "df[df.author.apply(lambda x: len(re.findall(r'tips?$', x, flags=re.I|re.U))> 0)]"
   ],
   "metadata": {
    "collapsed": false,
    "ExecuteTime": {
     "start_time": "2023-05-20T15:29:05.102591Z",
     "end_time": "2023-05-20T15:29:07.322663Z"
    }
   }
  },
  {
   "cell_type": "code",
   "execution_count": 10,
   "outputs": [
    {
     "data": {
      "text/plain": "                      author  n_contributions\n45             PabloBot-GPT2           321948\n58              CoopBot-GPT2           242959\n62             Mistread_GPT3           234175\n274            sysadmin_GPT2           108080\n386     HungryScientist-GPT2            95629\n...                      ...              ...\n234573  glitch_matrixGPT2Bot             2639\n261703                 gptop             2198\n389882              gngptyee              842\n486091            mahgpt1997              275\n508210               ogpt123              180\n\n[104 rows x 2 columns]",
      "text/html": "<div>\n<style scoped>\n    .dataframe tbody tr th:only-of-type {\n        vertical-align: middle;\n    }\n\n    .dataframe tbody tr th {\n        vertical-align: top;\n    }\n\n    .dataframe thead th {\n        text-align: right;\n    }\n</style>\n<table border=\"1\" class=\"dataframe\">\n  <thead>\n    <tr style=\"text-align: right;\">\n      <th></th>\n      <th>author</th>\n      <th>n_contributions</th>\n    </tr>\n  </thead>\n  <tbody>\n    <tr>\n      <th>45</th>\n      <td>PabloBot-GPT2</td>\n      <td>321948</td>\n    </tr>\n    <tr>\n      <th>58</th>\n      <td>CoopBot-GPT2</td>\n      <td>242959</td>\n    </tr>\n    <tr>\n      <th>62</th>\n      <td>Mistread_GPT3</td>\n      <td>234175</td>\n    </tr>\n    <tr>\n      <th>274</th>\n      <td>sysadmin_GPT2</td>\n      <td>108080</td>\n    </tr>\n    <tr>\n      <th>386</th>\n      <td>HungryScientist-GPT2</td>\n      <td>95629</td>\n    </tr>\n    <tr>\n      <th>...</th>\n      <td>...</td>\n      <td>...</td>\n    </tr>\n    <tr>\n      <th>234573</th>\n      <td>glitch_matrixGPT2Bot</td>\n      <td>2639</td>\n    </tr>\n    <tr>\n      <th>261703</th>\n      <td>gptop</td>\n      <td>2198</td>\n    </tr>\n    <tr>\n      <th>389882</th>\n      <td>gngptyee</td>\n      <td>842</td>\n    </tr>\n    <tr>\n      <th>486091</th>\n      <td>mahgpt1997</td>\n      <td>275</td>\n    </tr>\n    <tr>\n      <th>508210</th>\n      <td>ogpt123</td>\n      <td>180</td>\n    </tr>\n  </tbody>\n</table>\n<p>104 rows × 2 columns</p>\n</div>"
     },
     "execution_count": 10,
     "metadata": {},
     "output_type": "execute_result"
    }
   ],
   "source": [
    "df[df.author.apply(lambda x: len(re.findall(r'gpt', x, flags=re.I|re.U))> 0)]"
   ],
   "metadata": {
    "collapsed": false,
    "ExecuteTime": {
     "start_time": "2023-05-20T15:29:07.303361Z",
     "end_time": "2023-05-20T15:29:09.172013Z"
    }
   }
  },
  {
   "cell_type": "code",
   "execution_count": 11,
   "outputs": [
    {
     "data": {
      "text/plain": "                      author  n_contributions\n45             PabloBot-GPT2           321948\n58              CoopBot-GPT2           242959\n62             Mistread_GPT3           234175\n274            sysadmin_GPT2           108080\n386     HungryScientist-GPT2            95629\n...                      ...              ...\n215696  subredd_dramaGPT2Bot             2996\n227057  todayilearnedGPT2Bot             2775\n234573  glitch_matrixGPT2Bot             2639\n486091            mahgpt1997              275\n508210               ogpt123              180\n\n[101 rows x 2 columns]",
      "text/html": "<div>\n<style scoped>\n    .dataframe tbody tr th:only-of-type {\n        vertical-align: middle;\n    }\n\n    .dataframe tbody tr th {\n        vertical-align: top;\n    }\n\n    .dataframe thead th {\n        text-align: right;\n    }\n</style>\n<table border=\"1\" class=\"dataframe\">\n  <thead>\n    <tr style=\"text-align: right;\">\n      <th></th>\n      <th>author</th>\n      <th>n_contributions</th>\n    </tr>\n  </thead>\n  <tbody>\n    <tr>\n      <th>45</th>\n      <td>PabloBot-GPT2</td>\n      <td>321948</td>\n    </tr>\n    <tr>\n      <th>58</th>\n      <td>CoopBot-GPT2</td>\n      <td>242959</td>\n    </tr>\n    <tr>\n      <th>62</th>\n      <td>Mistread_GPT3</td>\n      <td>234175</td>\n    </tr>\n    <tr>\n      <th>274</th>\n      <td>sysadmin_GPT2</td>\n      <td>108080</td>\n    </tr>\n    <tr>\n      <th>386</th>\n      <td>HungryScientist-GPT2</td>\n      <td>95629</td>\n    </tr>\n    <tr>\n      <th>...</th>\n      <td>...</td>\n      <td>...</td>\n    </tr>\n    <tr>\n      <th>215696</th>\n      <td>subredd_dramaGPT2Bot</td>\n      <td>2996</td>\n    </tr>\n    <tr>\n      <th>227057</th>\n      <td>todayilearnedGPT2Bot</td>\n      <td>2775</td>\n    </tr>\n    <tr>\n      <th>234573</th>\n      <td>glitch_matrixGPT2Bot</td>\n      <td>2639</td>\n    </tr>\n    <tr>\n      <th>486091</th>\n      <td>mahgpt1997</td>\n      <td>275</td>\n    </tr>\n    <tr>\n      <th>508210</th>\n      <td>ogpt123</td>\n      <td>180</td>\n    </tr>\n  </tbody>\n</table>\n<p>101 rows × 2 columns</p>\n</div>"
     },
     "execution_count": 11,
     "metadata": {},
     "output_type": "execute_result"
    }
   ],
   "source": [
    "df[df.author.apply(lambda x: len(re.findall(r'gptj?([^a-zA-Z]|$)', x, flags=re.I|re.U))> 0)]\n"
   ],
   "metadata": {
    "collapsed": false,
    "ExecuteTime": {
     "start_time": "2023-05-20T15:29:09.177464Z",
     "end_time": "2023-05-20T15:29:10.806944Z"
    }
   }
  },
  {
   "cell_type": "code",
   "execution_count": 12,
   "outputs": [],
   "source": [
    "processed = set()\n",
    "cntr = 0\n",
    "with open('../data/interim/labeling_contributions_preprocessed.jsonl', encoding='utf8') as f:\n",
    "    with open('../data/interim/labeling_bots.jsonl','w+', encoding='utf8') as outf:\n",
    "        for l in map(json.loads, f):\n",
    "            name = l['author']\n",
    "            if (len(re.findall(r'bot([^a-zA-Z]|$)', name, flags=re.I|re.U))>0):\n",
    "                cntr+=1\n",
    "                if name in processed:\n",
    "                    continue\n",
    "                outf.write(json.dumps(l)+'\\n')\n",
    "                processed.add(name)"
   ],
   "metadata": {
    "collapsed": false,
    "ExecuteTime": {
     "start_time": "2023-05-20T15:29:10.812437Z",
     "end_time": "2023-05-20T15:29:47.564725Z"
    }
   }
  },
  {
   "cell_type": "code",
   "execution_count": 13,
   "outputs": [
    {
     "data": {
      "text/plain": "10886"
     },
     "execution_count": 13,
     "metadata": {},
     "output_type": "execute_result"
    }
   ],
   "source": [
    "cntr"
   ],
   "metadata": {
    "collapsed": false,
    "ExecuteTime": {
     "start_time": "2023-05-20T15:29:47.566727Z",
     "end_time": "2023-05-20T15:29:47.579277Z"
    }
   }
  },
  {
   "cell_type": "code",
   "execution_count": 14,
   "outputs": [
    {
     "name": "stdout",
     "output_type": "stream",
     "text": [
      "1200279\n"
     ]
    }
   ],
   "source": [
    "cntr =0\n",
    "with open('../data/interim/labeling_contributions_preprocessed.jsonl', encoding='utf8') as f:\n",
    "    for _ in f:\n",
    "        cntr+=1\n",
    "print(cntr)"
   ],
   "metadata": {
    "collapsed": false,
    "ExecuteTime": {
     "start_time": "2023-05-20T15:29:47.582278Z",
     "end_time": "2023-05-20T15:29:55.132557Z"
    }
   }
  },
  {
   "cell_type": "code",
   "execution_count": 15,
   "outputs": [],
   "source": [
    "# around 1% labeling is by bots"
   ],
   "metadata": {
    "collapsed": false,
    "ExecuteTime": {
     "start_time": "2023-05-20T15:29:55.142557Z",
     "end_time": "2023-05-20T15:29:55.149599Z"
    }
   }
  },
  {
   "cell_type": "code",
   "execution_count": 16,
   "outputs": [
    {
     "data": {
      "text/plain": "                     author  n_contributions\n30              robot301_03           500819\n49              robot301_02           316572\n3961      sexrobot_sexrobot            42381\n6993            arcticrobot            33696\n7617     NotObviouslyARobot            32518\n...                     ...              ...\n549927    im_not_a_robot_69               33\n550924         Itsarobot123               30\n555829        robot_admiral               18\n561241   irradiatedBioRobot                6\n563107  PreparingForRobot1x                3\n\n[261 rows x 2 columns]",
      "text/html": "<div>\n<style scoped>\n    .dataframe tbody tr th:only-of-type {\n        vertical-align: middle;\n    }\n\n    .dataframe tbody tr th {\n        vertical-align: top;\n    }\n\n    .dataframe thead th {\n        text-align: right;\n    }\n</style>\n<table border=\"1\" class=\"dataframe\">\n  <thead>\n    <tr style=\"text-align: right;\">\n      <th></th>\n      <th>author</th>\n      <th>n_contributions</th>\n    </tr>\n  </thead>\n  <tbody>\n    <tr>\n      <th>30</th>\n      <td>robot301_03</td>\n      <td>500819</td>\n    </tr>\n    <tr>\n      <th>49</th>\n      <td>robot301_02</td>\n      <td>316572</td>\n    </tr>\n    <tr>\n      <th>3961</th>\n      <td>sexrobot_sexrobot</td>\n      <td>42381</td>\n    </tr>\n    <tr>\n      <th>6993</th>\n      <td>arcticrobot</td>\n      <td>33696</td>\n    </tr>\n    <tr>\n      <th>7617</th>\n      <td>NotObviouslyARobot</td>\n      <td>32518</td>\n    </tr>\n    <tr>\n      <th>...</th>\n      <td>...</td>\n      <td>...</td>\n    </tr>\n    <tr>\n      <th>549927</th>\n      <td>im_not_a_robot_69</td>\n      <td>33</td>\n    </tr>\n    <tr>\n      <th>550924</th>\n      <td>Itsarobot123</td>\n      <td>30</td>\n    </tr>\n    <tr>\n      <th>555829</th>\n      <td>robot_admiral</td>\n      <td>18</td>\n    </tr>\n    <tr>\n      <th>561241</th>\n      <td>irradiatedBioRobot</td>\n      <td>6</td>\n    </tr>\n    <tr>\n      <th>563107</th>\n      <td>PreparingForRobot1x</td>\n      <td>3</td>\n    </tr>\n  </tbody>\n</table>\n<p>261 rows × 2 columns</p>\n</div>"
     },
     "execution_count": 16,
     "metadata": {},
     "output_type": "execute_result"
    }
   ],
   "source": [
    "df[df.author.apply(lambda x: len(re.findall(r'robot([^a-zA-Z]|$)', x, flags=re.I|re.U))> 0)]"
   ],
   "metadata": {
    "collapsed": false,
    "ExecuteTime": {
     "start_time": "2023-05-20T15:29:55.192001Z",
     "end_time": "2023-05-20T15:29:57.569862Z"
    }
   }
  },
  {
   "cell_type": "code",
   "execution_count": 17,
   "outputs": [
    {
     "data": {
      "text/plain": "                      author  n_contributions\n2                transcribot          3450789\n4                 thefeedbot          1750146\n5       ModeratelyHelpfulBot          1707447\n7               sneakpeekbot          1356545\n10                removalbot          1272605\n...                      ...              ...\n563046              frontbot                3\n563273         Breitbart_bot                3\n563318              betobot_                3\n563347               YrelBot                3\n564578       SentinelBot3000                1\n\n[850 rows x 2 columns]",
      "text/html": "<div>\n<style scoped>\n    .dataframe tbody tr th:only-of-type {\n        vertical-align: middle;\n    }\n\n    .dataframe tbody tr th {\n        vertical-align: top;\n    }\n\n    .dataframe thead th {\n        text-align: right;\n    }\n</style>\n<table border=\"1\" class=\"dataframe\">\n  <thead>\n    <tr style=\"text-align: right;\">\n      <th></th>\n      <th>author</th>\n      <th>n_contributions</th>\n    </tr>\n  </thead>\n  <tbody>\n    <tr>\n      <th>2</th>\n      <td>transcribot</td>\n      <td>3450789</td>\n    </tr>\n    <tr>\n      <th>4</th>\n      <td>thefeedbot</td>\n      <td>1750146</td>\n    </tr>\n    <tr>\n      <th>5</th>\n      <td>ModeratelyHelpfulBot</td>\n      <td>1707447</td>\n    </tr>\n    <tr>\n      <th>7</th>\n      <td>sneakpeekbot</td>\n      <td>1356545</td>\n    </tr>\n    <tr>\n      <th>10</th>\n      <td>removalbot</td>\n      <td>1272605</td>\n    </tr>\n    <tr>\n      <th>...</th>\n      <td>...</td>\n      <td>...</td>\n    </tr>\n    <tr>\n      <th>563046</th>\n      <td>frontbot</td>\n      <td>3</td>\n    </tr>\n    <tr>\n      <th>563273</th>\n      <td>Breitbart_bot</td>\n      <td>3</td>\n    </tr>\n    <tr>\n      <th>563318</th>\n      <td>betobot_</td>\n      <td>3</td>\n    </tr>\n    <tr>\n      <th>563347</th>\n      <td>YrelBot</td>\n      <td>3</td>\n    </tr>\n    <tr>\n      <th>564578</th>\n      <td>SentinelBot3000</td>\n      <td>1</td>\n    </tr>\n  </tbody>\n</table>\n<p>850 rows × 2 columns</p>\n</div>"
     },
     "execution_count": 17,
     "metadata": {},
     "output_type": "execute_result"
    }
   ],
   "source": [
    "df[df.author.apply(lambda x: len(re.findall(r'(?<!ro)bot([^a-zA-Z]|$)', x, flags=re.I|re.U))> 0)]"
   ],
   "metadata": {
    "collapsed": false,
    "ExecuteTime": {
     "start_time": "2023-05-20T15:29:57.616182Z",
     "end_time": "2023-05-20T15:30:00.485083Z"
    }
   }
  },
  {
   "cell_type": "code",
   "execution_count": 18,
   "outputs": [
    {
     "data": {
      "text/plain": "                      author  n_contributions\n2                transcribot          3450789\n4                 thefeedbot          1750146\n5       ModeratelyHelpfulBot          1707447\n7               sneakpeekbot          1356545\n10                removalbot          1272605\n...                      ...              ...\n563046              frontbot                3\n563273         Breitbart_bot                3\n563318              betobot_                3\n563347               YrelBot                3\n564578       SentinelBot3000                1\n\n[890 rows x 2 columns]",
      "text/html": "<div>\n<style scoped>\n    .dataframe tbody tr th:only-of-type {\n        vertical-align: middle;\n    }\n\n    .dataframe tbody tr th {\n        vertical-align: top;\n    }\n\n    .dataframe thead th {\n        text-align: right;\n    }\n</style>\n<table border=\"1\" class=\"dataframe\">\n  <thead>\n    <tr style=\"text-align: right;\">\n      <th></th>\n      <th>author</th>\n      <th>n_contributions</th>\n    </tr>\n  </thead>\n  <tbody>\n    <tr>\n      <th>2</th>\n      <td>transcribot</td>\n      <td>3450789</td>\n    </tr>\n    <tr>\n      <th>4</th>\n      <td>thefeedbot</td>\n      <td>1750146</td>\n    </tr>\n    <tr>\n      <th>5</th>\n      <td>ModeratelyHelpfulBot</td>\n      <td>1707447</td>\n    </tr>\n    <tr>\n      <th>7</th>\n      <td>sneakpeekbot</td>\n      <td>1356545</td>\n    </tr>\n    <tr>\n      <th>10</th>\n      <td>removalbot</td>\n      <td>1272605</td>\n    </tr>\n    <tr>\n      <th>...</th>\n      <td>...</td>\n      <td>...</td>\n    </tr>\n    <tr>\n      <th>563046</th>\n      <td>frontbot</td>\n      <td>3</td>\n    </tr>\n    <tr>\n      <th>563273</th>\n      <td>Breitbart_bot</td>\n      <td>3</td>\n    </tr>\n    <tr>\n      <th>563318</th>\n      <td>betobot_</td>\n      <td>3</td>\n    </tr>\n    <tr>\n      <th>563347</th>\n      <td>YrelBot</td>\n      <td>3</td>\n    </tr>\n    <tr>\n      <th>564578</th>\n      <td>SentinelBot3000</td>\n      <td>1</td>\n    </tr>\n  </tbody>\n</table>\n<p>890 rows × 2 columns</p>\n</div>"
     },
     "execution_count": 18,
     "metadata": {},
     "output_type": "execute_result"
    }
   ],
   "source": [
    "df[df.author.apply(lambda x: len(re.findall(r'(((?<!ro)bot)|(gpt))([^a-zA-Z]|$)', x, flags=re.I|re.U))> 0)]"
   ],
   "metadata": {
    "collapsed": false,
    "ExecuteTime": {
     "start_time": "2023-05-20T15:30:00.490527Z",
     "end_time": "2023-05-20T15:30:03.881383Z"
    }
   }
  },
  {
   "cell_type": "code",
   "execution_count": 19,
   "outputs": [
    {
     "data": {
      "text/plain": "                      author  n_contributions\n2                transcribot          3450789\n4                 thefeedbot          1750146\n5       ModeratelyHelpfulBot          1707447\n7               sneakpeekbot          1356545\n10                removalbot          1272605\n...                      ...              ...\n563046              frontbot                3\n563273         Breitbart_bot                3\n563318              betobot_                3\n563347               YrelBot                3\n564578       SentinelBot3000                1\n\n[890 rows x 2 columns]",
      "text/html": "<div>\n<style scoped>\n    .dataframe tbody tr th:only-of-type {\n        vertical-align: middle;\n    }\n\n    .dataframe tbody tr th {\n        vertical-align: top;\n    }\n\n    .dataframe thead th {\n        text-align: right;\n    }\n</style>\n<table border=\"1\" class=\"dataframe\">\n  <thead>\n    <tr style=\"text-align: right;\">\n      <th></th>\n      <th>author</th>\n      <th>n_contributions</th>\n    </tr>\n  </thead>\n  <tbody>\n    <tr>\n      <th>2</th>\n      <td>transcribot</td>\n      <td>3450789</td>\n    </tr>\n    <tr>\n      <th>4</th>\n      <td>thefeedbot</td>\n      <td>1750146</td>\n    </tr>\n    <tr>\n      <th>5</th>\n      <td>ModeratelyHelpfulBot</td>\n      <td>1707447</td>\n    </tr>\n    <tr>\n      <th>7</th>\n      <td>sneakpeekbot</td>\n      <td>1356545</td>\n    </tr>\n    <tr>\n      <th>10</th>\n      <td>removalbot</td>\n      <td>1272605</td>\n    </tr>\n    <tr>\n      <th>...</th>\n      <td>...</td>\n      <td>...</td>\n    </tr>\n    <tr>\n      <th>563046</th>\n      <td>frontbot</td>\n      <td>3</td>\n    </tr>\n    <tr>\n      <th>563273</th>\n      <td>Breitbart_bot</td>\n      <td>3</td>\n    </tr>\n    <tr>\n      <th>563318</th>\n      <td>betobot_</td>\n      <td>3</td>\n    </tr>\n    <tr>\n      <th>563347</th>\n      <td>YrelBot</td>\n      <td>3</td>\n    </tr>\n    <tr>\n      <th>564578</th>\n      <td>SentinelBot3000</td>\n      <td>1</td>\n    </tr>\n  </tbody>\n</table>\n<p>890 rows × 2 columns</p>\n</div>"
     },
     "execution_count": 19,
     "metadata": {},
     "output_type": "execute_result"
    }
   ],
   "source": [
    "df[df.author.apply(lambda x: len(re.findall(r'(((((?!not).*)(?<!ro)bot)([^a-zA-Z]|$))|(gpt([^a-zA-Z]|$)))', x, flags=re.I|re.U))> 0)]"
   ],
   "metadata": {
    "collapsed": false,
    "ExecuteTime": {
     "start_time": "2023-05-20T15:30:03.886061Z",
     "end_time": "2023-05-20T15:30:10.347076Z"
    }
   }
  },
  {
   "cell_type": "code",
   "execution_count": 20,
   "outputs": [
    {
     "data": {
      "text/plain": "437"
     },
     "execution_count": 20,
     "metadata": {},
     "output_type": "execute_result"
    }
   ],
   "source": [
    "with open('../data/raw/botnames.txt', encoding='utf8') as f:\n",
    "    botnames=set(i.strip() for i in f.read().split())\n",
    "len(botnames)"
   ],
   "metadata": {
    "collapsed": false,
    "ExecuteTime": {
     "start_time": "2023-05-20T15:30:10.349081Z",
     "end_time": "2023-05-20T15:30:10.449643Z"
    }
   }
  },
  {
   "cell_type": "code",
   "execution_count": 21,
   "outputs": [
    {
     "data": {
      "text/plain": "1286"
     },
     "execution_count": 21,
     "metadata": {},
     "output_type": "execute_result"
    }
   ],
   "source": [
    "new_bot_names = df[df.author.apply(lambda x: len(re.findall(r'(((?<!ro)bot)|(gpt))([^a-zA-Z]|$)', x, flags=re.I|re.U))> 0)].author.tolist()\n",
    "discarding = [i for i in new_bot_names if (('not' in i.lower()) and ('bot' in i.lower()))]\n",
    "new_bot_names = [i for i in new_bot_names if not (('not' in i.lower()) and ('bot' in i.lower()))]\n",
    "botnames.update(new_bot_names)\n",
    "len(botnames)"
   ],
   "metadata": {
    "collapsed": false,
    "ExecuteTime": {
     "start_time": "2023-05-20T15:30:10.397083Z",
     "end_time": "2023-05-20T15:30:14.654554Z"
    }
   }
  },
  {
   "cell_type": "code",
   "execution_count": 22,
   "outputs": [
    {
     "name": "stdout",
     "output_type": "stream",
     "text": [
      "1286\n"
     ]
    }
   ],
   "source": [
    "print(len(botnames))"
   ],
   "metadata": {
    "collapsed": false,
    "ExecuteTime": {
     "start_time": "2023-05-20T15:30:14.623689Z",
     "end_time": "2023-05-20T15:30:14.655561Z"
    }
   }
  },
  {
   "cell_type": "code",
   "execution_count": 23,
   "outputs": [
    {
     "name": "stdout",
     "output_type": "stream",
     "text": [
      "arealhumannotabot\n",
      "notjustanotherbot\n",
      "not---a---bot\n",
      "not_a_bot__\n",
      "Certainly-Not-A-Bot\n",
      "im-not-a-bot-im-real\n",
      "totesnotashinnerbot\n",
      "not_a_bot_494\n",
      "Not_a_spambot\n",
      "IsNotARussianBot\n",
      "not-gandalf-bot\n",
      "NotABot101101\n",
      "TotesNotaBot0010101\n",
      "notarussianbot41\n",
      "NOT_A_BOT_BOT_BOT\n",
      "IAmNot_ARussianBot\n",
      "notbot011011\n",
      "imnotabot303\n",
      "Thoughtnotbot\n",
      "ttlynotarussian_bot\n",
      "notyourusualbot\n",
      "iswearimnotabot1\n",
      "Not-A-Meme-Bot\n",
      "TotesNottaBot\n",
      "ShowNoteBot\n",
      "surely_not_a_bot\n",
      "soooooonotabot\n",
      "HurDurIamNotBot\n",
      "Real_human_not_a_bot\n",
      "NotNowTrainBot\n",
      "BlipBlop_not_a_bot\n",
      "notbot7789\n",
      "not_a_bot_12345\n",
      "climatenotbot\n",
      "totallynot-abot\n",
      "wasp_not_a_bot\n",
      "WhoMeNotABot\n",
      "totally-not-abot\n",
      "NOT_A_RUSSIANBOT\n",
      "Notabot9\n",
      "Not_A_Biased_Bot\n"
     ]
    }
   ],
   "source": [
    "print('\\n'.join(discarding))"
   ],
   "metadata": {
    "collapsed": false,
    "ExecuteTime": {
     "start_time": "2023-05-20T15:30:14.636303Z",
     "end_time": "2023-05-20T15:30:14.775584Z"
    }
   }
  },
  {
   "cell_type": "code",
   "execution_count": 24,
   "outputs": [],
   "source": [
    "with open('../data/raw/botnames_expanded.txt', 'w+', encoding='utf8') as f:\n",
    "    f.write('\\n'.join(sorted(botnames)))"
   ],
   "metadata": {
    "collapsed": false,
    "ExecuteTime": {
     "start_time": "2023-05-20T15:30:14.670554Z",
     "end_time": "2023-05-20T15:30:14.775584Z"
    }
   }
  }
 ],
 "metadata": {
  "kernelspec": {
   "display_name": "Python 3",
   "language": "python",
   "name": "python3"
  },
  "language_info": {
   "codemirror_mode": {
    "name": "ipython",
    "version": 2
   },
   "file_extension": ".py",
   "mimetype": "text/x-python",
   "name": "python",
   "nbconvert_exporter": "python",
   "pygments_lexer": "ipython2",
   "version": "2.7.6"
  }
 },
 "nbformat": 4,
 "nbformat_minor": 0
}
