{
 "cells": [
  {
   "cell_type": "code",
   "execution_count": 1,
   "outputs": [],
   "source": [
    "import json\n",
    "import os\n",
    "\n",
    "import pandas as pd\n",
    "from scipy.stats import spearmanr\n",
    "from sklearn.decomposition import PCA\n",
    "\n",
    "from src.features.perspective import parse_summary_scores\n"
   ],
   "metadata": {
    "collapsed": false,
    "ExecuteTime": {
     "start_time": "2023-11-25T23:31:44.200103Z",
     "end_time": "2023-11-25T23:31:45.625272Z"
    }
   }
  },
  {
   "cell_type": "code",
   "execution_count": null,
   "metadata": {
    "collapsed": true,
    "ExecuteTime": {
     "end_time": "2023-10-02T10:18:57.617936100Z",
     "start_time": "2023-10-02T10:16:18.376441700Z"
    },
    "pycharm": {
     "is_executing": true
    }
   },
   "outputs": [],
   "source": [
    "\n",
    "with pd.read_json('../data/interim/labeling_contributions_preprocessed_no_bot.jsonl', orient='records', lines=True, chunksize=500) as reader:\n",
    "    df = pd.concat(chunk[chunk.contribution_type=='comment'][[ 'author', 'created_utc',\n",
    "           'subreddit','text', 'fullname', 'parent_fullname',\n",
    "           'link_fullname',]] for chunk in reader)\n",
    "\n",
    "with open('../data/interim/perspective/labeling_contributions_preprocessed_no_bot_perspective.jsonl', encoding='utf8') as f:\n",
    "    perspectives = dict()\n",
    "    for obj in map(json.loads, f):\n",
    "        k, v = list(obj.items())[0]\n",
    "        perspectives[k] = parse_summary_scores(v)\n",
    "perspective_df = pd.DataFrame(perspectives).T\n",
    "\n",
    "\n",
    "with open('../data/interim/liwc/labeling_contributions_preprocessed_no_bot_liwc.jsonl', encoding='utf8') as f:\n",
    "    liwcs = dict()\n",
    "    for obj in map(json.loads, f):\n",
    "        liwcs.update(obj)\n",
    "liwc_df = pd.DataFrame(liwcs).T\n",
    "with open('../data/interim/social_dimensions/labeling_contributions_preprocessed_no_bot_social_dimensions.jsonl', encoding='utf8') as f:\n",
    "    social_dimensions = dict()\n",
    "    for obj in map(json.loads, f):\n",
    "        social_dimensions.update(obj)\n",
    "social_dimensions_df = pd.DataFrame(social_dimensions).T\n",
    "\n",
    "\n",
    "df = pd.merge(df, perspective_df, how='left', left_on='fullname', right_index=True)\n",
    "df = pd.merge(df, social_dimensions_df, how='left', left_on='fullname', right_index=True)\n",
    "df = pd.merge(df, liwc_df, how='left', left_on='fullname', right_index=True)\n",
    "\n",
    "del perspective_df, social_dimensions_df, liwc_df,"
   ]
  },
  {
   "cell_type": "code",
   "execution_count": 2,
   "outputs": [
    {
     "data": {
      "text/plain": "Index(['author', 'created_utc', 'subreddit', 'text', 'fullname',\n       'parent_fullname', 'link_fullname', 'ATTACK_ON_AUTHOR',\n       'ATTACK_ON_COMMENTER', 'FLIRTATION',\n       ...\n       'Assent', 'family', 'FocusFuture', 'Ingest', 'female', 'feel', 'Death',\n       'Money', 'home', 'Filler'],\n      dtype='object', length=106)"
     },
     "execution_count": 2,
     "metadata": {},
     "output_type": "execute_result"
    }
   ],
   "source": [
    "df.columns"
   ],
   "metadata": {
    "collapsed": false,
    "ExecuteTime": {
     "end_time": "2023-10-02T10:20:13.038025100Z",
     "start_time": "2023-10-02T10:20:13.011515600Z"
    }
   }
  },
  {
   "cell_type": "code",
   "execution_count": 6,
   "outputs": [],
   "source": [
    "# feature_groups = [[\"toxicity\",\"threat\",\"likely_to_reject\",\"insult\",\"attack_on_commenter\",\"attack_on_author\",],\n",
    "# [\"social\",\"you\",\"social_support\",\"respect\",\"sexually_explicit\",\"death\",\"flirtation\",],\n",
    "# [\"unsubstantial\",\"incoherent\",\"cogproc\",\"knowledge\",],\n",
    "# [\"i\",\"negemo\",\"power\"],\n",
    "# [\"conflict\",\"differ\",\"relativ\",\"compare\",],]\n",
    "# feature_groups = [[k for k in df.columns if k.lower() in kk] for kk in feature_groups]\n",
    "# feature_groups"
   ],
   "metadata": {
    "collapsed": false,
    "ExecuteTime": {
     "end_time": "2023-10-02T10:33:11.295147400Z",
     "start_time": "2023-10-02T10:33:11.273633700Z"
    }
   }
  },
  {
   "cell_type": "code",
   "execution_count": 34,
   "outputs": [],
   "source": [
    "feature_groups = [['ATTACK_ON_AUTHOR',\n",
    "  'ATTACK_ON_COMMENTER',],\n",
    "[ 'INSULT',\n",
    "  'LIKELY_TO_REJECT',\n",
    "  'THREAT',\n",
    "  'TOXICITY'],\n",
    " ['FLIRTATION',\n",
    "  'SEXUALLY_EXPLICIT',\n",
    "  'respect',\n",
    "  'social_support',\n",
    "  'Social',\n",
    "  'You',\n",
    "  'Death'],\n",
    " ['INCOHERENT', 'UNSUBSTANTIAL', 'knowledge', 'CogProc'],\n",
    " ['power', 'I', 'Negemo', ],\n",
    " ['conflict', 'Relativ', 'differ', 'Compare']]"
   ],
   "metadata": {
    "collapsed": false,
    "ExecuteTime": {
     "end_time": "2023-10-02T10:55:14.285792600Z",
     "start_time": "2023-10-02T10:55:14.267787500Z"
    }
   }
  },
  {
   "cell_type": "code",
   "execution_count": 41,
   "outputs": [
    {
     "name": "stdout",
     "output_type": "stream",
     "text": [
      "[0.80979289 0.19020711]\n",
      "[0.76108988 0.2108897  0.01892985]\n",
      "[0.71799547 0.27003238 0.01048289]\n",
      "[0.97412193 0.01441718 0.00821468]\n",
      "[0.94821381 0.04788143 0.00390477]\n"
     ]
    }
   ],
   "source": [
    "column_names = ['attack', 'toxic', 'bonding', 'rational', 'status']\n",
    "for fg_name, fg in zip(column_names, feature_groups):\n",
    "    X = df[fg]\n",
    "    pca = PCA()\n",
    "    pca.fit(X)\n",
    "    print(pca.explained_variance_ratio_[:3])\n",
    "    pca = PCA(1)\n",
    "    df[fg_name] = pca.fit_transform(X)\n"
   ],
   "metadata": {
    "collapsed": false,
    "ExecuteTime": {
     "end_time": "2023-10-02T11:10:41.799980800Z",
     "start_time": "2023-10-02T11:10:34.360330700Z"
    }
   }
  },
  {
   "cell_type": "code",
   "execution_count": 42,
   "outputs": [],
   "source": [
    "# fg = feature_groups[0]\n",
    "# X = df[fg]\n",
    "# pca = PCA(2)\n",
    "# Xt = pca.fit_transform(X)\n",
    "# for col in fg:\n",
    "#     print(col, spearmanr(X[col].values, Xt[:, 0]))\n",
    "#     print(col, spearmanr(X[col].values, Xt[:, 1]))\n",
    "#\n",
    "# pca.components_"
   ],
   "metadata": {
    "collapsed": false,
    "ExecuteTime": {
     "end_time": "2023-10-02T11:10:41.816345100Z",
     "start_time": "2023-10-02T11:10:41.800981500Z"
    }
   }
  },
  {
   "cell_type": "code",
   "execution_count": 48,
   "outputs": [],
   "source": [
    "os.makedirs('../data/sampling_features', exist_ok=True)\n",
    "df.set_index('fullname')[column_names].to_csv('../data/interim/sampling_features/sampling_features.csv')"
   ],
   "metadata": {
    "collapsed": false,
    "ExecuteTime": {
     "end_time": "2023-10-02T11:13:36.581546900Z",
     "start_time": "2023-10-02T11:13:31.404335800Z"
    }
   }
  },
  {
   "cell_type": "code",
   "execution_count": 50,
   "outputs": [],
   "source": [
    "all_feats = [i for ii in feature_groups for i in ii]"
   ],
   "metadata": {
    "collapsed": false,
    "ExecuteTime": {
     "end_time": "2023-10-04T13:35:01.403659700Z",
     "start_time": "2023-10-04T13:35:01.398660200Z"
    }
   }
  },
  {
   "cell_type": "code",
   "execution_count": 55,
   "outputs": [
    {
     "data": {
      "text/plain": "          ATTACK_ON_AUTHOR  ATTACK_ON_COMMENTER    INSULT  LIKELY_TO_REJECT  \\\nattack            0.759356             0.964423  0.022013          0.094273   \ntoxic            -0.036776             0.077574  0.856558          0.885659   \nbonding           0.160219             0.126288  0.059234          0.159719   \nrational         -0.024013            -0.107833  0.000711         -0.029412   \nstatus           -0.041763            -0.181574 -0.051172          0.028478   \n\n            THREAT  TOXICITY  FLIRTATION  SEXUALLY_EXPLICIT   respect  \\\nattack   -0.066928 -0.034992   -0.177251          -0.163309  0.095079   \ntoxic     0.224487  0.892439    0.224501           0.534365  0.004652   \nbonding   0.036918  0.055417    0.181332           0.102931 -0.112094   \nrational  0.017186  0.000285    0.131161           0.058749 -0.127713   \nstatus    0.012770 -0.039219    0.201272           0.070449 -0.047638   \n\n          social_support  ...  UNSUBSTANTIAL  knowledge   CogProc     power  \\\nattack          0.128455  ...       0.390445  -0.146526 -0.091091 -0.052911   \ntoxic           0.030460  ...      -0.172566  -0.198730 -0.016542 -0.042875   \nbonding        -0.171629  ...      -0.346594   0.226923  0.204115  0.084673   \nrational       -0.194583  ...      -0.289762   0.179425  0.999992  0.045021   \nstatus         -0.144366  ...      -0.300781   0.172134  0.219727  0.055205   \n\n                 I    Negemo  conflict   Relativ    differ   Compare  \nattack   -0.154517 -0.144970  0.066954 -0.166129 -0.174329 -0.196055  \ntoxic    -0.011668  0.155366  0.180895 -0.023665 -0.027739 -0.020619  \nbonding   0.447732  0.253113 -0.006781  0.276935  0.563794  0.459215  \nrational  0.218746  0.190036  0.030394  0.206309  0.311327  0.237791  \nstatus    0.999914  0.250943 -0.118007  0.266859  0.585312  0.506034  \n\n[5 rows x 24 columns]",
      "text/html": "<div>\n<style scoped>\n    .dataframe tbody tr th:only-of-type {\n        vertical-align: middle;\n    }\n\n    .dataframe tbody tr th {\n        vertical-align: top;\n    }\n\n    .dataframe thead th {\n        text-align: right;\n    }\n</style>\n<table border=\"1\" class=\"dataframe\">\n  <thead>\n    <tr style=\"text-align: right;\">\n      <th></th>\n      <th>ATTACK_ON_AUTHOR</th>\n      <th>ATTACK_ON_COMMENTER</th>\n      <th>INSULT</th>\n      <th>LIKELY_TO_REJECT</th>\n      <th>THREAT</th>\n      <th>TOXICITY</th>\n      <th>FLIRTATION</th>\n      <th>SEXUALLY_EXPLICIT</th>\n      <th>respect</th>\n      <th>social_support</th>\n      <th>...</th>\n      <th>UNSUBSTANTIAL</th>\n      <th>knowledge</th>\n      <th>CogProc</th>\n      <th>power</th>\n      <th>I</th>\n      <th>Negemo</th>\n      <th>conflict</th>\n      <th>Relativ</th>\n      <th>differ</th>\n      <th>Compare</th>\n    </tr>\n  </thead>\n  <tbody>\n    <tr>\n      <th>attack</th>\n      <td>0.759356</td>\n      <td>0.964423</td>\n      <td>0.022013</td>\n      <td>0.094273</td>\n      <td>-0.066928</td>\n      <td>-0.034992</td>\n      <td>-0.177251</td>\n      <td>-0.163309</td>\n      <td>0.095079</td>\n      <td>0.128455</td>\n      <td>...</td>\n      <td>0.390445</td>\n      <td>-0.146526</td>\n      <td>-0.091091</td>\n      <td>-0.052911</td>\n      <td>-0.154517</td>\n      <td>-0.144970</td>\n      <td>0.066954</td>\n      <td>-0.166129</td>\n      <td>-0.174329</td>\n      <td>-0.196055</td>\n    </tr>\n    <tr>\n      <th>toxic</th>\n      <td>-0.036776</td>\n      <td>0.077574</td>\n      <td>0.856558</td>\n      <td>0.885659</td>\n      <td>0.224487</td>\n      <td>0.892439</td>\n      <td>0.224501</td>\n      <td>0.534365</td>\n      <td>0.004652</td>\n      <td>0.030460</td>\n      <td>...</td>\n      <td>-0.172566</td>\n      <td>-0.198730</td>\n      <td>-0.016542</td>\n      <td>-0.042875</td>\n      <td>-0.011668</td>\n      <td>0.155366</td>\n      <td>0.180895</td>\n      <td>-0.023665</td>\n      <td>-0.027739</td>\n      <td>-0.020619</td>\n    </tr>\n    <tr>\n      <th>bonding</th>\n      <td>0.160219</td>\n      <td>0.126288</td>\n      <td>0.059234</td>\n      <td>0.159719</td>\n      <td>0.036918</td>\n      <td>0.055417</td>\n      <td>0.181332</td>\n      <td>0.102931</td>\n      <td>-0.112094</td>\n      <td>-0.171629</td>\n      <td>...</td>\n      <td>-0.346594</td>\n      <td>0.226923</td>\n      <td>0.204115</td>\n      <td>0.084673</td>\n      <td>0.447732</td>\n      <td>0.253113</td>\n      <td>-0.006781</td>\n      <td>0.276935</td>\n      <td>0.563794</td>\n      <td>0.459215</td>\n    </tr>\n    <tr>\n      <th>rational</th>\n      <td>-0.024013</td>\n      <td>-0.107833</td>\n      <td>0.000711</td>\n      <td>-0.029412</td>\n      <td>0.017186</td>\n      <td>0.000285</td>\n      <td>0.131161</td>\n      <td>0.058749</td>\n      <td>-0.127713</td>\n      <td>-0.194583</td>\n      <td>...</td>\n      <td>-0.289762</td>\n      <td>0.179425</td>\n      <td>0.999992</td>\n      <td>0.045021</td>\n      <td>0.218746</td>\n      <td>0.190036</td>\n      <td>0.030394</td>\n      <td>0.206309</td>\n      <td>0.311327</td>\n      <td>0.237791</td>\n    </tr>\n    <tr>\n      <th>status</th>\n      <td>-0.041763</td>\n      <td>-0.181574</td>\n      <td>-0.051172</td>\n      <td>0.028478</td>\n      <td>0.012770</td>\n      <td>-0.039219</td>\n      <td>0.201272</td>\n      <td>0.070449</td>\n      <td>-0.047638</td>\n      <td>-0.144366</td>\n      <td>...</td>\n      <td>-0.300781</td>\n      <td>0.172134</td>\n      <td>0.219727</td>\n      <td>0.055205</td>\n      <td>0.999914</td>\n      <td>0.250943</td>\n      <td>-0.118007</td>\n      <td>0.266859</td>\n      <td>0.585312</td>\n      <td>0.506034</td>\n    </tr>\n  </tbody>\n</table>\n<p>5 rows × 24 columns</p>\n</div>"
     },
     "execution_count": 55,
     "metadata": {},
     "output_type": "execute_result"
    }
   ],
   "source": [
    "df[all_feats+column_names].corr().loc[column_names, all_feats]"
   ],
   "metadata": {
    "collapsed": false,
    "ExecuteTime": {
     "end_time": "2023-10-04T13:35:49.944383100Z",
     "start_time": "2023-10-04T13:35:48.423472300Z"
    }
   }
  }
 ],
 "metadata": {
  "kernelspec": {
   "display_name": "Python 3",
   "language": "python",
   "name": "python3"
  },
  "language_info": {
   "codemirror_mode": {
    "name": "ipython",
    "version": 2
   },
   "file_extension": ".py",
   "mimetype": "text/x-python",
   "name": "python",
   "nbconvert_exporter": "python",
   "pygments_lexer": "ipython2",
   "version": "2.7.6"
  }
 },
 "nbformat": 4,
 "nbformat_minor": 0
}
