{
 "cells": [
  {
   "cell_type": "code",
   "execution_count": 47,
   "outputs": [],
   "source": [
    "import json\n",
    "import os\n",
    "\n",
    "import pandas as pd\n",
    "from scipy.stats import spearmanr\n",
    "from sklearn.decomposition import PCA\n",
    "\n",
    "from src.features.perspective import parse_summary_scores\n"
   ],
   "metadata": {
    "collapsed": false,
    "ExecuteTime": {
     "end_time": "2023-10-02T11:13:28.603131Z",
     "start_time": "2023-10-02T11:13:28.597132500Z"
    }
   }
  },
  {
   "cell_type": "code",
   "execution_count": 1,
   "metadata": {
    "collapsed": true,
    "ExecuteTime": {
     "end_time": "2023-10-02T10:18:57.617936100Z",
     "start_time": "2023-10-02T10:16:18.376441700Z"
    }
   },
   "outputs": [],
   "source": [
    "\n",
    "with pd.read_json('../data/interim/labeling_contributions_preprocessed_no_bot.jsonl', orient='records', lines=True, chunksize=500) as reader:\n",
    "    df = pd.concat(chunk[chunk.contribution_type=='comment'][[ 'author', 'created_utc',\n",
    "           'subreddit','text', 'fullname', 'parent_fullname',\n",
    "           'link_fullname',]] for chunk in reader)\n",
    "\n",
    "with open('../data/interim/perspective/labeling_contributions_preprocessed_no_bot_perspective.jsonl', encoding='utf8') as f:\n",
    "    perspectives = dict()\n",
    "    for obj in map(json.loads, f):\n",
    "        k, v = list(obj.items())[0]\n",
    "        perspectives[k] = parse_summary_scores(v)\n",
    "perspective_df = pd.DataFrame(perspectives).T\n",
    "\n",
    "\n",
    "with open('../data/interim/liwc/labeling_contributions_preprocessed_no_bot_liwc.jsonl', encoding='utf8') as f:\n",
    "    liwcs = dict()\n",
    "    for obj in map(json.loads, f):\n",
    "        liwcs.update(obj)\n",
    "liwc_df = pd.DataFrame(liwcs).T\n",
    "with open('../data/interim/social_dimensions/labeling_contributions_preprocessed_no_bot_social_dimensions.jsonl', encoding='utf8') as f:\n",
    "    social_dimensions = dict()\n",
    "    for obj in map(json.loads, f):\n",
    "        social_dimensions.update(obj)\n",
    "social_dimensions_df = pd.DataFrame(social_dimensions).T\n",
    "\n",
    "\n",
    "df = pd.merge(df, perspective_df, how='left', left_on='fullname', right_index=True)\n",
    "df = pd.merge(df, social_dimensions_df, how='left', left_on='fullname', right_index=True)\n",
    "df = pd.merge(df, liwc_df, how='left', left_on='fullname', right_index=True)\n",
    "\n",
    "del perspective_df, social_dimensions_df, liwc_df,"
   ]
  },
  {
   "cell_type": "code",
   "execution_count": 2,
   "outputs": [
    {
     "data": {
      "text/plain": "Index(['author', 'created_utc', 'subreddit', 'text', 'fullname',\n       'parent_fullname', 'link_fullname', 'ATTACK_ON_AUTHOR',\n       'ATTACK_ON_COMMENTER', 'FLIRTATION',\n       ...\n       'Assent', 'family', 'FocusFuture', 'Ingest', 'female', 'feel', 'Death',\n       'Money', 'home', 'Filler'],\n      dtype='object', length=106)"
     },
     "execution_count": 2,
     "metadata": {},
     "output_type": "execute_result"
    }
   ],
   "source": [
    "df.columns"
   ],
   "metadata": {
    "collapsed": false,
    "ExecuteTime": {
     "end_time": "2023-10-02T10:20:13.038025100Z",
     "start_time": "2023-10-02T10:20:13.011515600Z"
    }
   }
  },
  {
   "cell_type": "code",
   "execution_count": 6,
   "outputs": [],
   "source": [
    "# feature_groups = [[\"toxicity\",\"threat\",\"likely_to_reject\",\"insult\",\"attack_on_commenter\",\"attack_on_author\",],\n",
    "# [\"social\",\"you\",\"social_support\",\"respect\",\"sexually_explicit\",\"death\",\"flirtation\",],\n",
    "# [\"unsubstantial\",\"incoherent\",\"cogproc\",\"knowledge\",],\n",
    "# [\"i\",\"negemo\",\"power\"],\n",
    "# [\"conflict\",\"differ\",\"relativ\",\"compare\",],]\n",
    "# feature_groups = [[k for k in df.columns if k.lower() in kk] for kk in feature_groups]\n",
    "# feature_groups"
   ],
   "metadata": {
    "collapsed": false,
    "ExecuteTime": {
     "end_time": "2023-10-02T10:33:11.295147400Z",
     "start_time": "2023-10-02T10:33:11.273633700Z"
    }
   }
  },
  {
   "cell_type": "code",
   "execution_count": 34,
   "outputs": [],
   "source": [
    "feature_groups = [['ATTACK_ON_AUTHOR',\n",
    "  'ATTACK_ON_COMMENTER',],\n",
    "[ 'INSULT',\n",
    "  'LIKELY_TO_REJECT',\n",
    "  'THREAT',\n",
    "  'TOXICITY'],\n",
    " ['FLIRTATION',\n",
    "  'SEXUALLY_EXPLICIT',\n",
    "  'respect',\n",
    "  'social_support',\n",
    "  'Social',\n",
    "  'You',\n",
    "  'Death'],\n",
    " ['INCOHERENT', 'UNSUBSTANTIAL', 'knowledge', 'CogProc'],\n",
    " ['power', 'I', 'Negemo', ],\n",
    " ['conflict', 'Relativ', 'differ', 'Compare']]"
   ],
   "metadata": {
    "collapsed": false,
    "ExecuteTime": {
     "end_time": "2023-10-02T10:55:14.285792600Z",
     "start_time": "2023-10-02T10:55:14.267787500Z"
    }
   }
  },
  {
   "cell_type": "code",
   "execution_count": 41,
   "outputs": [
    {
     "name": "stdout",
     "output_type": "stream",
     "text": [
      "[0.80979289 0.19020711]\n",
      "[0.76108988 0.2108897  0.01892985]\n",
      "[0.71799547 0.27003238 0.01048289]\n",
      "[0.97412193 0.01441718 0.00821468]\n",
      "[0.94821381 0.04788143 0.00390477]\n"
     ]
    }
   ],
   "source": [
    "column_names = ['attack', 'toxic', 'bonding', 'rational', 'status']\n",
    "for fg_name, fg in zip(column_names, feature_groups):\n",
    "    X = df[fg]\n",
    "    pca = PCA()\n",
    "    pca.fit(X)\n",
    "    print(pca.explained_variance_ratio_[:3])\n",
    "    pca = PCA(1)\n",
    "    df[fg_name] = pca.fit_transform(X)\n"
   ],
   "metadata": {
    "collapsed": false,
    "ExecuteTime": {
     "end_time": "2023-10-02T11:10:41.799980800Z",
     "start_time": "2023-10-02T11:10:34.360330700Z"
    }
   }
  },
  {
   "cell_type": "code",
   "execution_count": 42,
   "outputs": [],
   "source": [
    "# fg = feature_groups[0]\n",
    "# X = df[fg]\n",
    "# pca = PCA(2)\n",
    "# Xt = pca.fit_transform(X)\n",
    "# for col in fg:\n",
    "#     print(col, spearmanr(X[col].values, Xt[:, 0]))\n",
    "#     print(col, spearmanr(X[col].values, Xt[:, 1]))\n",
    "#\n",
    "# pca.components_"
   ],
   "metadata": {
    "collapsed": false,
    "ExecuteTime": {
     "end_time": "2023-10-02T11:10:41.816345100Z",
     "start_time": "2023-10-02T11:10:41.800981500Z"
    }
   }
  },
  {
   "cell_type": "code",
   "execution_count": 48,
   "outputs": [],
   "source": [
    "os.makedirs('../data/sampling_features', exist_ok=True)\n",
    "df.set_index('fullname')[column_names].to_csv('../data/sampling_features/sampling_features.csv')"
   ],
   "metadata": {
    "collapsed": false,
    "ExecuteTime": {
     "end_time": "2023-10-02T11:13:36.581546900Z",
     "start_time": "2023-10-02T11:13:31.404335800Z"
    }
   }
  },
  {
   "cell_type": "code",
   "execution_count": null,
   "outputs": [],
   "source": [],
   "metadata": {
    "collapsed": false
   }
  }
 ],
 "metadata": {
  "kernelspec": {
   "display_name": "Python 3",
   "language": "python",
   "name": "python3"
  },
  "language_info": {
   "codemirror_mode": {
    "name": "ipython",
    "version": 2
   },
   "file_extension": ".py",
   "mimetype": "text/x-python",
   "name": "python",
   "nbconvert_exporter": "python",
   "pygments_lexer": "ipython2",
   "version": "2.7.6"
  }
 },
 "nbformat": 4,
 "nbformat_minor": 0
}
