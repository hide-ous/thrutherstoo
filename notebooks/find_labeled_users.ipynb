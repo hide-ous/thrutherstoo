{
 "cells": [
  {
   "cell_type": "code",
   "execution_count": 1,
   "metadata": {
    "collapsed": true,
    "ExecuteTime": {
     "start_time": "2023-11-25T15:47:47.636310Z",
     "end_time": "2023-11-25T15:47:51.019035Z"
    }
   },
   "outputs": [],
   "source": [
    "import pandas as pd"
   ]
  },
  {
   "cell_type": "code",
   "execution_count": 4,
   "outputs": [],
   "source": [
    "direct_labeling_fullnames = set(pd.read_csv('../data/interim/direct_labeling_strategy_4s.csv', index_col=0).fullname)"
   ],
   "metadata": {
    "collapsed": false,
    "ExecuteTime": {
     "start_time": "2023-11-25T15:51:10.267592Z",
     "end_time": "2023-11-25T15:51:10.502115Z"
    }
   }
  },
  {
   "cell_type": "code",
   "execution_count": 5,
   "outputs": [
    {
     "data": {
      "text/plain": "4587"
     },
     "execution_count": 5,
     "metadata": {},
     "output_type": "execute_result"
    }
   ],
   "source": [
    "len(direct_labeling_fullnames)"
   ],
   "metadata": {
    "collapsed": false,
    "ExecuteTime": {
     "start_time": "2023-11-25T15:51:23.198073Z",
     "end_time": "2023-11-25T15:51:23.418896Z"
    }
   }
  },
  {
   "cell_type": "code",
   "execution_count": 6,
   "outputs": [],
   "source": [
    "with pd.read_json('../data/interim/labeling_contributions_preprocessed_no_bot.jsonl', orient='records', lines=True, chunksize=500) as reader:\n",
    "    df = pd.concat(chunk[chunk.fullname.isin(direct_labeling_fullnames)][[ 'author', 'created_utc',\n",
    "           'subreddit','text', 'fullname', 'parent_fullname',\n",
    "           'link_fullname',]] for chunk in reader)"
   ],
   "metadata": {
    "collapsed": false,
    "ExecuteTime": {
     "start_time": "2023-11-25T15:51:47.755990Z",
     "end_time": "2023-11-25T15:55:10.126030Z"
    }
   }
  },
  {
   "cell_type": "code",
   "execution_count": 8,
   "outputs": [
    {
     "data": {
      "text/plain": "4573"
     },
     "execution_count": 8,
     "metadata": {},
     "output_type": "execute_result"
    }
   ],
   "source": [
    "parent_fullnames = set(df.parent_fullname)\n",
    "parents = list()\n",
    "for chunk in pd.read_json('../data/interim/labeling_subthread_all_filtered_preprocessed_no_bot.jsonl.zip', compression='zip', chunksize=1000, lines=True):\n",
    "    parents.append(chunk[chunk.fullname.isin(parent_fullnames)])\n",
    "parent_df = pd.concat(parents)\n",
    "len(parent_df)"
   ],
   "metadata": {
    "collapsed": false,
    "ExecuteTime": {
     "start_time": "2023-11-25T16:01:03.192561Z",
     "end_time": "2023-11-25T16:21:27.150092Z"
    }
   }
  },
  {
   "cell_type": "code",
   "execution_count": 9,
   "outputs": [
    {
     "data": {
      "text/plain": "3874"
     },
     "execution_count": 9,
     "metadata": {},
     "output_type": "execute_result"
    }
   ],
   "source": [
    "parent_df.author.nunique()"
   ],
   "metadata": {
    "collapsed": false,
    "ExecuteTime": {
     "start_time": "2023-11-25T16:21:27.156186Z",
     "end_time": "2023-11-25T16:21:27.173201Z"
    }
   }
  },
  {
   "cell_type": "markdown",
   "source": [
    "Tunderbar1\n",
    "moderator of skullduggery_theorems: Examining conspiracy theories in an free and open society.\n",
    "moderator of canada_unfiltered: Open discussion of politics in Canada\n",
    "\n",
    "ee4m's most recent posts are in JordanPeterson, on threads like\n",
    "ee4m commented on The WEF is HIDING bugs in these foods and you don't even know it | Redacted with Clayton Morris\n",
    "\n",
    "aceofbase_in_ur_mind has been suspended"
   ],
   "metadata": {
    "collapsed": false
   }
  },
  {
   "cell_type": "code",
   "execution_count": 12,
   "outputs": [
    {
     "data": {
      "text/plain": "author\n[deleted]               612\nTunderbar1                5\nee4m                      4\naceofbase_in_ur_mind      4\nmakingacanadian           3\n                       ... \nNeeentendo64              1\nNeiliusAntitribu          1\nNeoFury84                 1\nNeoShweaty                1\nzsreport                  1\nLength: 3874, dtype: int64"
     },
     "execution_count": 12,
     "metadata": {},
     "output_type": "execute_result"
    }
   ],
   "source": [
    "parent_df.groupby('author').size().sort_values(ascending=False)"
   ],
   "metadata": {
    "collapsed": false,
    "ExecuteTime": {
     "start_time": "2023-11-25T16:22:58.117266Z",
     "end_time": "2023-11-25T16:22:58.192582Z"
    }
   }
  },
  {
   "cell_type": "code",
   "execution_count": 13,
   "outputs": [],
   "source": [
    "parent_authors = set(parent_df.author.unique())"
   ],
   "metadata": {
    "collapsed": false,
    "ExecuteTime": {
     "start_time": "2023-11-25T16:25:30.359516Z",
     "end_time": "2023-11-25T16:25:30.403650Z"
    }
   }
  },
  {
   "cell_type": "code",
   "execution_count": 15,
   "outputs": [],
   "source": [
    "parent_authors.discard('[deleted]')"
   ],
   "metadata": {
    "collapsed": false,
    "ExecuteTime": {
     "start_time": "2023-11-25T16:26:17.995510Z",
     "end_time": "2023-11-25T16:26:18.060019Z"
    }
   }
  },
  {
   "cell_type": "code",
   "execution_count": 16,
   "outputs": [],
   "source": [
    "parent_authors.discard('[removed]')"
   ],
   "metadata": {
    "collapsed": false,
    "ExecuteTime": {
     "start_time": "2023-11-25T16:26:25.931294Z",
     "end_time": "2023-11-25T16:26:26.070354Z"
    }
   }
  },
  {
   "cell_type": "code",
   "execution_count": 19,
   "outputs": [],
   "source": [
    "with open('../data/raw/botnames_expanded.txt') as f:\n",
    "    botnames =  set(i.strip() for i in f)"
   ],
   "metadata": {
    "collapsed": false,
    "ExecuteTime": {
     "start_time": "2023-11-25T16:31:33.126911Z",
     "end_time": "2023-11-25T16:31:33.230380Z"
    }
   }
  },
  {
   "cell_type": "code",
   "execution_count": 20,
   "outputs": [],
   "source": [
    "parent_authors = list(sorted(i for i in parent_authors if i not in botnames))"
   ],
   "metadata": {
    "collapsed": false,
    "ExecuteTime": {
     "start_time": "2023-11-25T16:31:57.203203Z",
     "end_time": "2023-11-25T16:31:57.299093Z"
    }
   }
  },
  {
   "cell_type": "code",
   "execution_count": 21,
   "outputs": [
    {
     "data": {
      "text/plain": "3869"
     },
     "execution_count": 21,
     "metadata": {},
     "output_type": "execute_result"
    }
   ],
   "source": [
    "len(parent_authors)"
   ],
   "metadata": {
    "collapsed": false,
    "ExecuteTime": {
     "start_time": "2023-11-25T16:32:03.882832Z",
     "end_time": "2023-11-25T16:32:03.987774Z"
    }
   }
  },
  {
   "cell_type": "code",
   "execution_count": 22,
   "outputs": [],
   "source": [
    "with open('../data/interim/labeled_authors.csv', 'w+') as f:\n",
    "    f.write('/n'.join(parent_authors))"
   ],
   "metadata": {
    "collapsed": false,
    "ExecuteTime": {
     "start_time": "2023-11-25T16:32:14.219992Z",
     "end_time": "2023-11-25T16:32:14.355777Z"
    }
   }
  },
  {
   "cell_type": "code",
   "execution_count": 23,
   "outputs": [
    {
     "data": {
      "text/plain": "        archived          author author_flair_background_color  \\\n629         True       [deleted]                                 \n2542        True     unpatriotic                          None   \n4381         NaN          kidt82                           NaN   \n5877         NaN      Dizzy_Slip                           NaN   \n6455         1.0        Slipgrid                          None   \n...          ...             ...                           ...   \n9056314    False       [deleted]                                 \n9056999    False    Limonov-nyan                          None   \n9057154    False  stockyardtrash                          None   \n9057325    False       [deleted]                                 \n9059132    False     ImWithEllis                          None   \n\n        author_flair_css_class author_flair_richtext author_flair_text  \\\n629                       None                   NaN              None   \n2542                      None                    []              None   \n4381                      None                   NaN              None   \n5877                      None                   NaN              None   \n6455                      None                    []              None   \n...                        ...                   ...               ...   \n9056314                   None                   NaN              None   \n9056999                   None                    []              None   \n9057154                   None                    []              None   \n9057325                   None                   NaN              None   \n9059132                   None                    []              None   \n\n        author_flair_text_color author_flair_type brand_safe can_gild  ...  \\\n629                        dark               NaN      False    False  ...   \n2542                       None              text       True     True  ...   \n4381                        NaN               NaN        NaN      NaN  ...   \n5877                        NaN               NaN        NaN      NaN  ...   \n6455                       None              text        1.0      1.0  ...   \n...                         ...               ...        ...      ...  ...   \n9056314                    dark               NaN        NaN     True  ...   \n9056999                    None              text        NaN     True  ...   \n9057154                    None              text        NaN     True  ...   \n9057325                    dark               NaN        NaN     True  ...   \n9059132                    None              text        NaN     True  ...   \n\n        subcaption quarantined  associated_award  \\\n629            NaN         NaN               NaN   \n2542           NaN         NaN               NaN   \n4381           NaN         NaN               NaN   \n5877           NaN         NaN               NaN   \n6455           NaN         NaN               NaN   \n...            ...         ...               ...   \n9056314        NaN         NaN               NaN   \n9056999        NaN         NaN               NaN   \n9057154        NaN         NaN               NaN   \n9057325        NaN         NaN               NaN   \n9059132        NaN         NaN               NaN   \n\n        collapsed_because_crowd_control comment_type  collapsed_reason_code  \\\n629                                 NaN          NaN                    NaN   \n2542                                NaN          NaN                    NaN   \n4381                                NaN          NaN                    NaN   \n5877                                NaN          NaN                    NaN   \n6455                                NaN          NaN                    NaN   \n...                                 ...          ...                    ...   \n9056314                             NaN          NaN                DELETED   \n9056999                             NaN          NaN                   None   \n9057154                             NaN          NaN                   None   \n9057325                             NaN          NaN                DELETED   \n9059132                             NaN          NaN                   None   \n\n        author_is_blocked  editable unrepliable_reason ad_promoted_user_posts  \n629                   NaN       NaN                NaN                    NaN  \n2542                  NaN       NaN                NaN                    NaN  \n4381                  NaN       NaN                NaN                    NaN  \n5877                  NaN       NaN                NaN                    NaN  \n6455                  NaN       NaN                NaN                    NaN  \n...                   ...       ...                ...                    ...  \n9056314               NaN       NaN                NaN                    NaN  \n9056999               NaN       NaN                NaN                    NaN  \n9057154               NaN       NaN                NaN                    NaN  \n9057325               NaN       NaN                NaN                    NaN  \n9059132               NaN       NaN                NaN                    NaN  \n\n[4573 rows x 192 columns]",
      "text/html": "<div>\n<style scoped>\n    .dataframe tbody tr th:only-of-type {\n        vertical-align: middle;\n    }\n\n    .dataframe tbody tr th {\n        vertical-align: top;\n    }\n\n    .dataframe thead th {\n        text-align: right;\n    }\n</style>\n<table border=\"1\" class=\"dataframe\">\n  <thead>\n    <tr style=\"text-align: right;\">\n      <th></th>\n      <th>archived</th>\n      <th>author</th>\n      <th>author_flair_background_color</th>\n      <th>author_flair_css_class</th>\n      <th>author_flair_richtext</th>\n      <th>author_flair_text</th>\n      <th>author_flair_text_color</th>\n      <th>author_flair_type</th>\n      <th>brand_safe</th>\n      <th>can_gild</th>\n      <th>...</th>\n      <th>subcaption</th>\n      <th>quarantined</th>\n      <th>associated_award</th>\n      <th>collapsed_because_crowd_control</th>\n      <th>comment_type</th>\n      <th>collapsed_reason_code</th>\n      <th>author_is_blocked</th>\n      <th>editable</th>\n      <th>unrepliable_reason</th>\n      <th>ad_promoted_user_posts</th>\n    </tr>\n  </thead>\n  <tbody>\n    <tr>\n      <th>629</th>\n      <td>True</td>\n      <td>[deleted]</td>\n      <td></td>\n      <td>None</td>\n      <td>NaN</td>\n      <td>None</td>\n      <td>dark</td>\n      <td>NaN</td>\n      <td>False</td>\n      <td>False</td>\n      <td>...</td>\n      <td>NaN</td>\n      <td>NaN</td>\n      <td>NaN</td>\n      <td>NaN</td>\n      <td>NaN</td>\n      <td>NaN</td>\n      <td>NaN</td>\n      <td>NaN</td>\n      <td>NaN</td>\n      <td>NaN</td>\n    </tr>\n    <tr>\n      <th>2542</th>\n      <td>True</td>\n      <td>unpatriotic</td>\n      <td>None</td>\n      <td>None</td>\n      <td>[]</td>\n      <td>None</td>\n      <td>None</td>\n      <td>text</td>\n      <td>True</td>\n      <td>True</td>\n      <td>...</td>\n      <td>NaN</td>\n      <td>NaN</td>\n      <td>NaN</td>\n      <td>NaN</td>\n      <td>NaN</td>\n      <td>NaN</td>\n      <td>NaN</td>\n      <td>NaN</td>\n      <td>NaN</td>\n      <td>NaN</td>\n    </tr>\n    <tr>\n      <th>4381</th>\n      <td>NaN</td>\n      <td>kidt82</td>\n      <td>NaN</td>\n      <td>None</td>\n      <td>NaN</td>\n      <td>None</td>\n      <td>NaN</td>\n      <td>NaN</td>\n      <td>NaN</td>\n      <td>NaN</td>\n      <td>...</td>\n      <td>NaN</td>\n      <td>NaN</td>\n      <td>NaN</td>\n      <td>NaN</td>\n      <td>NaN</td>\n      <td>NaN</td>\n      <td>NaN</td>\n      <td>NaN</td>\n      <td>NaN</td>\n      <td>NaN</td>\n    </tr>\n    <tr>\n      <th>5877</th>\n      <td>NaN</td>\n      <td>Dizzy_Slip</td>\n      <td>NaN</td>\n      <td>None</td>\n      <td>NaN</td>\n      <td>None</td>\n      <td>NaN</td>\n      <td>NaN</td>\n      <td>NaN</td>\n      <td>NaN</td>\n      <td>...</td>\n      <td>NaN</td>\n      <td>NaN</td>\n      <td>NaN</td>\n      <td>NaN</td>\n      <td>NaN</td>\n      <td>NaN</td>\n      <td>NaN</td>\n      <td>NaN</td>\n      <td>NaN</td>\n      <td>NaN</td>\n    </tr>\n    <tr>\n      <th>6455</th>\n      <td>1.0</td>\n      <td>Slipgrid</td>\n      <td>None</td>\n      <td>None</td>\n      <td>[]</td>\n      <td>None</td>\n      <td>None</td>\n      <td>text</td>\n      <td>1.0</td>\n      <td>1.0</td>\n      <td>...</td>\n      <td>NaN</td>\n      <td>NaN</td>\n      <td>NaN</td>\n      <td>NaN</td>\n      <td>NaN</td>\n      <td>NaN</td>\n      <td>NaN</td>\n      <td>NaN</td>\n      <td>NaN</td>\n      <td>NaN</td>\n    </tr>\n    <tr>\n      <th>...</th>\n      <td>...</td>\n      <td>...</td>\n      <td>...</td>\n      <td>...</td>\n      <td>...</td>\n      <td>...</td>\n      <td>...</td>\n      <td>...</td>\n      <td>...</td>\n      <td>...</td>\n      <td>...</td>\n      <td>...</td>\n      <td>...</td>\n      <td>...</td>\n      <td>...</td>\n      <td>...</td>\n      <td>...</td>\n      <td>...</td>\n      <td>...</td>\n      <td>...</td>\n      <td>...</td>\n    </tr>\n    <tr>\n      <th>9056314</th>\n      <td>False</td>\n      <td>[deleted]</td>\n      <td></td>\n      <td>None</td>\n      <td>NaN</td>\n      <td>None</td>\n      <td>dark</td>\n      <td>NaN</td>\n      <td>NaN</td>\n      <td>True</td>\n      <td>...</td>\n      <td>NaN</td>\n      <td>NaN</td>\n      <td>NaN</td>\n      <td>NaN</td>\n      <td>NaN</td>\n      <td>DELETED</td>\n      <td>NaN</td>\n      <td>NaN</td>\n      <td>NaN</td>\n      <td>NaN</td>\n    </tr>\n    <tr>\n      <th>9056999</th>\n      <td>False</td>\n      <td>Limonov-nyan</td>\n      <td>None</td>\n      <td>None</td>\n      <td>[]</td>\n      <td>None</td>\n      <td>None</td>\n      <td>text</td>\n      <td>NaN</td>\n      <td>True</td>\n      <td>...</td>\n      <td>NaN</td>\n      <td>NaN</td>\n      <td>NaN</td>\n      <td>NaN</td>\n      <td>NaN</td>\n      <td>None</td>\n      <td>NaN</td>\n      <td>NaN</td>\n      <td>NaN</td>\n      <td>NaN</td>\n    </tr>\n    <tr>\n      <th>9057154</th>\n      <td>False</td>\n      <td>stockyardtrash</td>\n      <td>None</td>\n      <td>None</td>\n      <td>[]</td>\n      <td>None</td>\n      <td>None</td>\n      <td>text</td>\n      <td>NaN</td>\n      <td>True</td>\n      <td>...</td>\n      <td>NaN</td>\n      <td>NaN</td>\n      <td>NaN</td>\n      <td>NaN</td>\n      <td>NaN</td>\n      <td>None</td>\n      <td>NaN</td>\n      <td>NaN</td>\n      <td>NaN</td>\n      <td>NaN</td>\n    </tr>\n    <tr>\n      <th>9057325</th>\n      <td>False</td>\n      <td>[deleted]</td>\n      <td></td>\n      <td>None</td>\n      <td>NaN</td>\n      <td>None</td>\n      <td>dark</td>\n      <td>NaN</td>\n      <td>NaN</td>\n      <td>True</td>\n      <td>...</td>\n      <td>NaN</td>\n      <td>NaN</td>\n      <td>NaN</td>\n      <td>NaN</td>\n      <td>NaN</td>\n      <td>DELETED</td>\n      <td>NaN</td>\n      <td>NaN</td>\n      <td>NaN</td>\n      <td>NaN</td>\n    </tr>\n    <tr>\n      <th>9059132</th>\n      <td>False</td>\n      <td>ImWithEllis</td>\n      <td>None</td>\n      <td>None</td>\n      <td>[]</td>\n      <td>None</td>\n      <td>None</td>\n      <td>text</td>\n      <td>NaN</td>\n      <td>True</td>\n      <td>...</td>\n      <td>NaN</td>\n      <td>NaN</td>\n      <td>NaN</td>\n      <td>NaN</td>\n      <td>NaN</td>\n      <td>None</td>\n      <td>NaN</td>\n      <td>NaN</td>\n      <td>NaN</td>\n      <td>NaN</td>\n    </tr>\n  </tbody>\n</table>\n<p>4573 rows × 192 columns</p>\n</div>"
     },
     "execution_count": 23,
     "metadata": {},
     "output_type": "execute_result"
    }
   ],
   "source": [
    "parent_df"
   ],
   "metadata": {
    "collapsed": false,
    "ExecuteTime": {
     "start_time": "2023-11-25T16:42:20.111928Z",
     "end_time": "2023-11-25T16:42:29.299958Z"
    }
   }
  },
  {
   "cell_type": "code",
   "execution_count": 30,
   "outputs": [],
   "source": [
    "parent_df[~parent_df.author.isin(botnames|{'[removed]', '[deleted]'})].to_json('../data/interim/labeled_contributions_nobots.jsonl', lines=True, orient='records')"
   ],
   "metadata": {
    "collapsed": false,
    "ExecuteTime": {
     "start_time": "2023-11-25T16:49:45.452506Z",
     "end_time": "2023-11-25T16:49:47.079060Z"
    }
   }
  },
  {
   "cell_type": "code",
   "execution_count": 31,
   "outputs": [],
   "source": [
    "parent_df.to_json('../data/interim/labeled_contributions.jsonl', lines=True, orient='records')"
   ],
   "metadata": {
    "collapsed": false,
    "ExecuteTime": {
     "start_time": "2023-11-25T16:49:57.577839Z",
     "end_time": "2023-11-25T16:49:58.187164Z"
    }
   }
  },
  {
   "cell_type": "code",
   "execution_count": null,
   "outputs": [],
   "source": [],
   "metadata": {
    "collapsed": false
   }
  }
 ],
 "metadata": {
  "kernelspec": {
   "display_name": "Python 3",
   "language": "python",
   "name": "python3"
  },
  "language_info": {
   "codemirror_mode": {
    "name": "ipython",
    "version": 2
   },
   "file_extension": ".py",
   "mimetype": "text/x-python",
   "name": "python",
   "nbconvert_exporter": "python",
   "pygments_lexer": "ipython2",
   "version": "2.7.6"
  }
 },
 "nbformat": 4,
 "nbformat_minor": 0
}
