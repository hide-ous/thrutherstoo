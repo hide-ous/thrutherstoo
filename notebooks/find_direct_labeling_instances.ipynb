{
 "cells": [
  {
   "cell_type": "code",
   "execution_count": 1,
   "metadata": {
    "collapsed": true,
    "ExecuteTime": {
     "end_time": "2023-09-20T15:13:59.937374700Z",
     "start_time": "2023-09-20T15:13:57.869207400Z"
    }
   },
   "outputs": [],
   "source": [
    "import json\n",
    "import re\n",
    "from collections import defaultdict\n",
    "\n",
    "import pandas as pd\n",
    "import spacy\n",
    "from IPython.core.display import HTML\n",
    "from bs4 import BeautifulSoup\n",
    "from markdown import markdown\n",
    "from spacy import displacy\n",
    "from spacy.matcher import Matcher\n",
    "\n",
    "from src.features.perspective import parse_summary_scores"
   ]
  },
  {
   "cell_type": "code",
   "execution_count": 2,
   "outputs": [],
   "source": [
    "def get_permalink(contribution):\n",
    "    # print(contribution)\n",
    "    return f'https://new.reddit.com/r/{contribution.subreddit}/comments/{contribution.link_fullname.split(\"_\")[-1]}/comment/{contribution.fullname.split(\"_\")[-1]}/'\n",
    "\n"
   ],
   "metadata": {
    "collapsed": false,
    "ExecuteTime": {
     "end_time": "2023-09-20T15:13:59.961554500Z",
     "start_time": "2023-09-20T15:13:59.933374500Z"
    }
   }
  },
  {
   "cell_type": "code",
   "execution_count": 3,
   "outputs": [],
   "source": [
    "# spacy.cli.download('en_core_web_lg')"
   ],
   "metadata": {
    "collapsed": false,
    "ExecuteTime": {
     "end_time": "2023-09-20T15:13:59.994553400Z",
     "start_time": "2023-09-20T15:13:59.961554500Z"
    }
   }
  },
  {
   "cell_type": "code",
   "execution_count": 4,
   "outputs": [],
   "source": [
    "# df = pd.read_json('../data/interim/labeling_contributions_preprocessed_no_bot.jsonl', orient='records', lines=True)[[ 'author', 'created_utc',\n",
    "#        'permalink', 'retrieved_on', 'rte_mode', 'score',\n",
    "#        'subreddit',\n",
    "#        'subreddit_type',\n",
    "#        'contribution_type', 'text', 'fullname', 'parent_fullname',\n",
    "#        'link_fullname', 'preprocessed_text', 'processed_text']]\n",
    "# df = df[df.contribution_type=='comment'] # limit to comments\n",
    "with pd.read_json('../data/interim/labeling_contributions_preprocessed_no_bot.jsonl', orient='records', lines=True, chunksize=500) as reader:\n",
    "    df = pd.concat(chunk[chunk.contribution_type=='comment'][[ 'author', 'created_utc',\n",
    "           'subreddit','text', 'fullname', 'parent_fullname',\n",
    "           'link_fullname',]] for chunk in reader)"
   ],
   "metadata": {
    "collapsed": false,
    "ExecuteTime": {
     "end_time": "2023-09-20T15:14:42.725532100Z",
     "start_time": "2023-09-20T15:13:59.996553Z"
    }
   }
  },
  {
   "cell_type": "code",
   "execution_count": 5,
   "outputs": [],
   "source": [
    "def plain_text_without_quotes(txt):\n",
    "    # md -> html -> text since BeautifulSoup can extract text cleanly\n",
    "    html = markdown(txt)\n",
    "\n",
    "    # remove code snippets\n",
    "    html = re.sub(r'<pre>(.*?)</pre>', ' ', html)\n",
    "    html = re.sub(r'<code>(.*?)</code >', ' ', html)\n",
    "    # extract text\n",
    "    soup = BeautifulSoup(html, \"html.parser\")\n",
    "    for quote in filter(lambda p: p.text.strip().startswith('>'),\n",
    "                        soup.find_all('p')):\n",
    "        quote.replaceWith('...[QUOTE]...')\n",
    "\n",
    "    return '\\n'.join(soup.findAll(string=True))\n"
   ],
   "metadata": {
    "collapsed": false,
    "ExecuteTime": {
     "end_time": "2023-09-20T15:14:42.742533100Z",
     "start_time": "2023-09-20T15:14:42.727532700Z"
    }
   }
  },
  {
   "cell_type": "code",
   "execution_count": 6,
   "outputs": [],
   "source": [
    "df['dequoted_text'] = df.text.apply(plain_text_without_quotes)"
   ],
   "metadata": {
    "collapsed": false,
    "ExecuteTime": {
     "end_time": "2023-09-20T15:23:13.756992700Z",
     "start_time": "2023-09-20T15:14:42.745534800Z"
    }
   }
  },
  {
   "cell_type": "code",
   "execution_count": 7,
   "outputs": [],
   "source": [
    "with open('../data/interim/perspective/labeling_contributions_preprocessed_no_bot_perspective.jsonl', encoding='utf8') as f:\n",
    "    perspectives = dict()\n",
    "    for obj in map(json.loads, f):\n",
    "        k, v = list(obj.items())[0]\n",
    "        perspectives[k] = parse_summary_scores(v)\n",
    "perspective_df = pd.DataFrame(perspectives).T\n",
    "\n",
    "\n",
    "with open('../data/interim/liwc/labeling_contributions_preprocessed_no_bot_liwc.jsonl', encoding='utf8') as f:\n",
    "    liwcs = dict()\n",
    "    for obj in map(json.loads, f):\n",
    "        liwcs.update(obj)\n",
    "liwc_df = pd.DataFrame(liwcs).T\n",
    "with open('../data/interim/social_dimensions/labeling_contributions_preprocessed_no_bot_social_dimensions.jsonl', encoding='utf8') as f:\n",
    "    social_dimensions = dict()\n",
    "    for obj in map(json.loads, f):\n",
    "        social_dimensions.update(obj)\n",
    "social_dimensions_df = pd.DataFrame(social_dimensions).T\n"
   ],
   "metadata": {
    "collapsed": false,
    "ExecuteTime": {
     "end_time": "2023-09-20T15:24:57.745527900Z",
     "start_time": "2023-09-20T15:23:13.759993500Z"
    }
   }
  },
  {
   "cell_type": "code",
   "execution_count": 8,
   "outputs": [],
   "source": [
    "df = pd.merge(df, perspective_df, how='left', left_on='fullname', right_index=True)\n",
    "df = pd.merge(df, social_dimensions_df, how='left', left_on='fullname', right_index=True)\n",
    "df = pd.merge(df, liwc_df, how='left', left_on='fullname', right_index=True)"
   ],
   "metadata": {
    "collapsed": false,
    "ExecuteTime": {
     "end_time": "2023-09-20T15:25:01.936643800Z",
     "start_time": "2023-09-20T15:24:57.746532600Z"
    }
   }
  },
  {
   "cell_type": "markdown",
   "source": [
    "positive indicators of prev_conspiracist:\n",
    "- othering\n",
    "- toxicity\n",
    "- threat\n",
    "- likely_to_reject\n",
    "- insult\n",
    "- attack_on_commenter\n",
    "- attack_on_author\n",
    "-\n",
    "- social\n",
    "- you\n",
    "- social_support\n",
    "- respect\n",
    "- sexually_explicit\n",
    "- death\n",
    "- hear\n",
    "- flirtation\n",
    "- compare\n",
    "\n",
    "\n",
    "negative indicators:\n",
    "- conflict\n",
    "- unsubstantial\n",
    "- incoherent\n",
    "- I\n",
    "-\n",
    "- differ\n",
    "- power\n",
    "- negemo\n",
    "- space\n",
    "- relativ\n",
    "- cogproc\n",
    "- knowledge"
   ],
   "metadata": {
    "collapsed": false
   }
  },
  {
   "cell_type": "code",
   "execution_count": 9,
   "outputs": [],
   "source": [
    "# parent_fullnames = set(df.parent_fullname)\n",
    "# parents = list()\n",
    "# for chunk in pd.read_json('../data/interim/labeling_subthread_all_filtered_preprocessed_no_bot.jsonl.zip', compression='zip', chunksize=1000, lines=True):\n",
    "#     parents.append(chunk[chunk.fullname.isin(parent_fullnames)])"
   ],
   "metadata": {
    "collapsed": false,
    "ExecuteTime": {
     "end_time": "2023-09-20T15:25:01.952648100Z",
     "start_time": "2023-09-20T15:25:01.937650300Z"
    }
   }
  },
  {
   "cell_type": "code",
   "execution_count": 10,
   "outputs": [],
   "source": [
    "# parent_df = pd.concat(parents)\n",
    "# len(parent_df)\n",
    "# to_annotate = pd.merge(df, parent_df[['text', 'fullname']], left_on='parent_fullname', right_on='fullname', suffixes = ['', '_parent'])[['fullname', 'parent_fullname', 'othering', 'dependency_you', 'linear_you', 'subreddit','permalink', 'text', 'text_parent', ]]"
   ],
   "metadata": {
    "collapsed": false,
    "ExecuteTime": {
     "end_time": "2023-09-20T15:25:01.972648200Z",
     "start_time": "2023-09-20T15:25:01.953649500Z"
    }
   }
  },
  {
   "cell_type": "code",
   "execution_count": 19,
   "outputs": [
    {
     "data": {
      "text/plain": "16088    https://new.reddit.com/r/reddit.com/comments/8...\n16095    https://new.reddit.com/r/reddit.com/comments/b...\n16096    https://new.reddit.com/r/reddit.com/comments/b...\n16097    https://new.reddit.com/r/reddit.com/comments/b...\n16099    https://new.reddit.com/r/reddit.com/comments/b...\ndtype: object"
     },
     "execution_count": 19,
     "metadata": {},
     "output_type": "execute_result"
    }
   ],
   "source": [
    "ntile = 4\n",
    "df[pd.qcut(df.Social, ntile, labels=range(ntile))==3].head(10).apply(get_permalink, axis=1).tail()"
   ],
   "metadata": {
    "collapsed": false,
    "ExecuteTime": {
     "end_time": "2023-09-20T09:25:25.299326300Z",
     "start_time": "2023-09-20T09:25:25.041190900Z"
    }
   }
  },
  {
   "cell_type": "code",
   "execution_count": 21,
   "outputs": [],
   "source": [
    "nlp = spacy.load(\"en_core_web_lg\")\n",
    "\n",
    "matcher = Matcher(nlp.vocab)\n",
    "matcher.add(\"conspiracy_labeling\", [[{\"lemma\": \"conspiracy\"}, {\"lemma\": \"theorist\"}],\n",
    "                           [{\"lemma\": \"conspiracist\"}],\n",
    "                           ])\n",
    "\n",
    "matcher.add('pron_poss', [[{\"TAG\":'PRP'}],\n",
    "                          [{\"TAG\":'PRP$'}],\n",
    "                          # [{\"TAG\":'POS'}],\n",
    "                          [{\"TAG\":'WP'}],\n",
    "                          [{\"TAG\":'WP$'}],\n",
    "                          [{\"DEP\":'poss', 'TAG':'DET'}],\n",
    "                          ])\n",
    "# 18.\tPRP\tPersonal pronoun\n",
    "# 19.\tPRP$\tPossessive pronoun\n",
    "# 34.\tWP\tWh-pronoun\n",
    "# 35.\tWP$\tPossessive wh-pronoun\n",
    "# to consider:\n",
    "# 17.\tPOS\tPossessive ending\n",
    "# 33.\tWDT\tWh-determiner\n"
   ],
   "metadata": {
    "collapsed": false,
    "ExecuteTime": {
     "end_time": "2023-09-20T09:28:22.830354600Z",
     "start_time": "2023-09-20T09:28:21.670955400Z"
    }
   }
  },
  {
   "cell_type": "markdown",
   "source": [
    "cases:\n",
    "- you conspiracy theorist\n",
    "- your conspiracy theorist friends\n",
    "- you are a conspiracy theorist\n",
    "- are you a conspiracy theorist?\n",
    "- I'll call you a conspiracy theorist\n",
    "- you're not a conspiracy theorist but...\n",
    "- they are conspiracy theorists like you\n",
    "\n",
    "outside the pattern:\n",
    "- Everyone who says otherwise is an extremist  conspiracy theorist.\n",
    "- the conspiracy theorist in me\n",
    "- Meanwhile, if any of you Reddit pharma conspiracy theorist know where I can find busty blondes handing out envelopes of cash in exchange for prescriptions let me know because apparently my attending forgot to tell me."
   ],
   "metadata": {
    "collapsed": false
   }
  },
  {
   "cell_type": "code",
   "execution_count": 15,
   "outputs": [],
   "source": [
    "example_sentences = [\n",
    "    \"you conspiracy theorist\",\n",
    "    \"your conspiracy theorist friends\",\n",
    "    \"you are a conspiracy theorist\",\n",
    "    \"are you a conspiracy theorist?\",\n",
    "    \"I'll call you a conspiracy theorist\",\n",
    "    \"you're not a conspiracy theorist but...\",\n",
    "    \"they are conspiracy theorists like you\",\n",
    "]\n",
    "\n"
   ],
   "metadata": {
    "collapsed": false,
    "ExecuteTime": {
     "end_time": "2023-09-20T07:38:41.468287500Z",
     "start_time": "2023-09-20T07:38:41.449740700Z"
    }
   }
  },
  {
   "cell_type": "code",
   "execution_count": 16,
   "outputs": [
    {
     "data": {
      "text/plain": "1132689"
     },
     "execution_count": 16,
     "metadata": {},
     "output_type": "execute_result"
    }
   ],
   "source": [
    "len(df)"
   ],
   "metadata": {
    "collapsed": false,
    "ExecuteTime": {
     "end_time": "2023-09-20T07:38:41.507565600Z",
     "start_time": "2023-09-20T07:38:41.472282800Z"
    }
   }
  },
  {
   "cell_type": "markdown",
   "source": [
    "strategy:\n",
    "1. 1st/2nd pp and labeling in same sentence\n",
    "2. ...and pp is closest by sentence idx\n",
    "3. ...and pp is closest by dep links\n",
    "4. ...and are tied by verb, or poss (your ct friends), or ...(as a ct I, like a ct I)\n",
    "5. coref group\n",
    "6. you (part of subj group)... to be (lemma verb) ... (cop) conspiracist\n",
    "7. you and not I"
   ],
   "metadata": {
    "collapsed": false
   }
  },
  {
   "cell_type": "code",
   "execution_count": 35,
   "outputs": [],
   "source": [
    "strategy_1 = list()\n",
    "strategy_2 = list()\n",
    "strategy_3 = list()\n",
    "sample = df[pd.qcut(df.INCOHERENT, ntile, labels=range(ntile))==0][['text', 'fullname']].sample(1000)\n",
    "\n",
    "\n",
    "# sample = df[['dequoted_text', 'fullname']].sample(1000)\n",
    "for _, row in sample.iterrows():\n",
    "    # doc = nlp(row.dequoted_text)\n",
    "\n",
    "    doc = nlp(row.text)\n",
    "    matches = matcher(doc)\n",
    "\n",
    "    match_dict = defaultdict(list)\n",
    "    for match_id, start, end in matches:\n",
    "        string_id = nlp.vocab.strings[match_id]  # Get string representation\n",
    "        span = doc[start:end]  # The matched span\n",
    "        match_dict[string_id].append(span)\n",
    "    for labeling_span in match_dict['conspiracy_labeling']:\n",
    "        sent = labeling_span.sent\n",
    "        related_pron_spans = list()\n",
    "        min_linear_distance_pron_span = None\n",
    "        min_linear_distance_pron_subtree = None\n",
    "        min_linear_distance = None\n",
    "        min_dependency_distance_pron_span = None\n",
    "        min_dependency_distance_pron_subtree = None\n",
    "        min_dependency_distance = None\n",
    "        for pron_span in match_dict['pron_poss']:\n",
    "            if (sent == pron_span.sent) and (pron_span.root.morph.to_dict().get('Person', None) in {'1', '2'}):\n",
    "                lca_mat = pron_span.root.sent.get_lca_matrix()\n",
    "                lca_idx = lca_mat[pron_span.root.i-sent.start, labeling_span.root.i-sent.start]\n",
    "                subtree = list(sent[lca_idx].subtree)\n",
    "                distance_linear = abs(pron_span.root.i-labeling_span.root.i)\n",
    "                distance_dependency = 0\n",
    "                for tok in (pron_span.root, labeling_span.root):\n",
    "                    for ancestor in tok.ancestors:\n",
    "                        distance_dependency+=1\n",
    "                        if tok.i-sent.start==lca_idx:\n",
    "                            break\n",
    "                if (min_linear_distance is None) or (distance_linear<min_linear_distance):\n",
    "                    min_linear_distance=distance_linear\n",
    "                    min_linear_distance_pron_span=pron_span\n",
    "                    min_linear_distance_pron_subtree=subtree\n",
    "\n",
    "                if (min_dependency_distance is None) or (distance_dependency<min_dependency_distance):\n",
    "                    min_dependency_distance=distance_dependency\n",
    "                    min_dependency_distance_pron_span=pron_span\n",
    "                    min_dependency_distance_pron_subtree=subtree\n",
    "\n",
    "                strategy_1.append((pron_span, subtree, row.fullname))\n",
    "        if min_linear_distance is not None:\n",
    "            strategy_2.append((min_linear_distance_pron_span, min_linear_distance_pron_subtree, row.fullname))\n",
    "        if min_dependency_distance is not None:\n",
    "            strategy_3.append((min_dependency_distance_pron_span, min_dependency_distance_pron_subtree, row.fullname))"
   ],
   "metadata": {
    "collapsed": false,
    "pycharm": {
     "is_executing": true
    },
    "ExecuteTime": {
     "end_time": "2023-09-20T10:02:24.938285800Z",
     "start_time": "2023-09-20T10:02:01.685914300Z"
    }
   }
  },
  {
   "cell_type": "code",
   "execution_count": 36,
   "outputs": [],
   "source": [
    "fullnames_strategy_1 = set(i[2] for i in strategy_1 if any(tok.morph.to_dict().get('Person', None) =='2' for tok in i[0].sent))\n",
    "fullnames_strategy_2 = set(i[2] for i in strategy_2 if i[0].root.morph.to_dict().get('Person', None) =='2')\n",
    "fullnames_strategy_3 = set(i[2] for i in strategy_3 if i[0].root.morph.to_dict().get('Person', None) =='2')"
   ],
   "metadata": {
    "collapsed": false,
    "pycharm": {
     "is_executing": true
    },
    "ExecuteTime": {
     "end_time": "2023-09-20T10:02:24.990363800Z",
     "start_time": "2023-09-20T10:02:24.971342100Z"
    }
   }
  },
  {
   "cell_type": "code",
   "execution_count": 37,
   "outputs": [],
   "source": [
    "all_othering = df[df.fullname.isin(fullnames_strategy_3.union(fullnames_strategy_2).union(fullnames_strategy_1))].copy()"
   ],
   "metadata": {
    "collapsed": false,
    "ExecuteTime": {
     "end_time": "2023-09-20T10:02:25.123976200Z",
     "start_time": "2023-09-20T10:02:24.985854Z"
    }
   }
  },
  {
   "cell_type": "code",
   "execution_count": 38,
   "outputs": [],
   "source": [
    "all_othering['linear_you'] = all_othering.fullname.isin(fullnames_strategy_2)\n",
    "all_othering['dependency_you'] = all_othering.fullname.isin(fullnames_strategy_3)"
   ],
   "metadata": {
    "collapsed": false,
    "ExecuteTime": {
     "end_time": "2023-09-20T10:02:25.140525800Z",
     "start_time": "2023-09-20T10:02:25.125985100Z"
    }
   }
  },
  {
   "cell_type": "code",
   "execution_count": 39,
   "outputs": [],
   "source": [
    "\n",
    "all_othering['permalink'] = all_othering.apply(get_permalink, axis=1)\n",
    "all_othering['othering'] = True"
   ],
   "metadata": {
    "collapsed": false,
    "ExecuteTime": {
     "end_time": "2023-09-20T10:02:25.160556Z",
     "start_time": "2023-09-20T10:02:25.143525Z"
    }
   }
  },
  {
   "cell_type": "code",
   "execution_count": 40,
   "outputs": [
    {
     "data": {
      "text/plain": "18368    https://new.reddit.com/r/politics/comments/6f9...\n20208    https://new.reddit.com/r/politics/comments/76b...\n21133    https://new.reddit.com/r/politics/comments/9j4...\n27630    https://new.reddit.com/r/politics/comments/g0e...\n31286    https://new.reddit.com/r/Minecraft/comments/kq...\n32169    https://new.reddit.com/r/legaladvice/comments/...\n33705    https://new.reddit.com/r/WTF/comments/dyq5o/co...\n49417    https://new.reddit.com/r/IAmA/comments/1lhtlx/...\n50191    https://new.reddit.com/r/BigBrother/comments/1...\n51635    https://new.reddit.com/r/gifs/comments/1moczo/...\nName: permalink, dtype: object"
     },
     "execution_count": 40,
     "metadata": {},
     "output_type": "execute_result"
    }
   ],
   "source": [
    "all_othering[all_othering.dependency_you].permalink.head(10)"
   ],
   "metadata": {
    "collapsed": false,
    "ExecuteTime": {
     "end_time": "2023-09-20T10:02:25.181099Z",
     "start_time": "2023-09-20T10:02:25.158556900Z"
    }
   }
  },
  {
   "cell_type": "code",
   "execution_count": 22,
   "outputs": [
    {
     "data": {
      "text/plain": "(217, 197, 180, 217)"
     },
     "execution_count": 22,
     "metadata": {},
     "output_type": "execute_result"
    }
   ],
   "source": [
    "len(fullnames_strategy_1), len(fullnames_strategy_2), len(fullnames_strategy_3), len(fullnames_strategy_3.union(fullnames_strategy_2).union(fullnames_strategy_1))"
   ],
   "metadata": {
    "collapsed": false,
    "ExecuteTime": {
     "end_time": "2023-09-20T07:39:00.149347100Z",
     "start_time": "2023-09-20T07:39:00.129714Z"
    }
   }
  },
  {
   "cell_type": "code",
   "execution_count": 23,
   "outputs": [],
   "source": [
    "non_othering = df[(~df.fullname.isin(fullnames_strategy_1))&((df.fullname.isin(set(sample.fullname))))].copy()\n",
    "non_othering['permalink'] = non_othering.apply(get_permalink, axis=1)\n",
    "non_othering['othering'] = False"
   ],
   "metadata": {
    "collapsed": false,
    "ExecuteTime": {
     "end_time": "2023-09-20T07:39:00.318741900Z",
     "start_time": "2023-09-20T07:39:00.214560600Z"
    }
   }
  },
  {
   "cell_type": "code",
   "execution_count": 24,
   "outputs": [
    {
     "ename": "ValueError",
     "evalue": "Cannot take a larger sample than population when 'replace=False'",
     "output_type": "error",
     "traceback": [
      "\u001B[1;31m---------------------------------------------------------------------------\u001B[0m",
      "\u001B[1;31mValueError\u001B[0m                                Traceback (most recent call last)",
      "Cell \u001B[1;32mIn[24], line 1\u001B[0m\n\u001B[1;32m----> 1\u001B[0m to_annotate \u001B[38;5;241m=\u001B[39m pd\u001B[38;5;241m.\u001B[39mconcat((\u001B[43mall_othering\u001B[49m\u001B[43m[\u001B[49m\u001B[43m(\u001B[49m\u001B[38;5;241;43m~\u001B[39;49m\u001B[43mall_othering\u001B[49m\u001B[38;5;241;43m.\u001B[39;49m\u001B[43mdependency_you\u001B[49m\u001B[43m)\u001B[49m\u001B[38;5;241;43m&\u001B[39;49m\u001B[43m(\u001B[49m\u001B[38;5;241;43m~\u001B[39;49m\u001B[43mall_othering\u001B[49m\u001B[38;5;241;43m.\u001B[39;49m\u001B[43mlinear_you\u001B[49m\u001B[43m)\u001B[49m\u001B[43m]\u001B[49m\u001B[38;5;241;43m.\u001B[39;49m\u001B[43msample\u001B[49m\u001B[43m(\u001B[49m\u001B[38;5;241;43m20\u001B[39;49m\u001B[43m)\u001B[49m,\n\u001B[0;32m      2\u001B[0m            all_othering[(all_othering\u001B[38;5;241m.\u001B[39mdependency_you)\u001B[38;5;241m&\u001B[39m(\u001B[38;5;241m~\u001B[39mall_othering\u001B[38;5;241m.\u001B[39mlinear_you)],\n\u001B[0;32m      3\u001B[0m            all_othering[(\u001B[38;5;241m~\u001B[39mall_othering\u001B[38;5;241m.\u001B[39mdependency_you)\u001B[38;5;241m&\u001B[39m(all_othering\u001B[38;5;241m.\u001B[39mlinear_you)],\n\u001B[0;32m      4\u001B[0m            all_othering[(all_othering\u001B[38;5;241m.\u001B[39mdependency_you)\u001B[38;5;241m&\u001B[39m(all_othering\u001B[38;5;241m.\u001B[39mlinear_you)]\u001B[38;5;241m.\u001B[39msample(\u001B[38;5;241m20\u001B[39m),\n\u001B[0;32m      5\u001B[0m            non_othering\u001B[38;5;241m.\u001B[39msample(\u001B[38;5;241m20\u001B[39m)\n\u001B[0;32m      6\u001B[0m            ))[[\u001B[38;5;124m'\u001B[39m\u001B[38;5;124mpermalink\u001B[39m\u001B[38;5;124m'\u001B[39m, \u001B[38;5;124m'\u001B[39m\u001B[38;5;124mothering\u001B[39m\u001B[38;5;124m'\u001B[39m, \u001B[38;5;124m'\u001B[39m\u001B[38;5;124mdependency_you\u001B[39m\u001B[38;5;124m'\u001B[39m, \u001B[38;5;124m'\u001B[39m\u001B[38;5;124mlinear_you\u001B[39m\u001B[38;5;124m'\u001B[39m, \u001B[38;5;124m'\u001B[39m\u001B[38;5;124msubreddit\u001B[39m\u001B[38;5;124m'\u001B[39m, \u001B[38;5;124m'\u001B[39m\u001B[38;5;124mtext\u001B[39m\u001B[38;5;124m'\u001B[39m, \u001B[38;5;124m'\u001B[39m\u001B[38;5;124mfullname\u001B[39m\u001B[38;5;124m'\u001B[39m, \u001B[38;5;124m'\u001B[39m\u001B[38;5;124mparent_fullname\u001B[39m\u001B[38;5;124m'\u001B[39m]]\n",
      "File \u001B[1;32mF:\\PycharmProjects\\thrutherstoo\\venv\\lib\\site-packages\\pandas\\core\\generic.py:5773\u001B[0m, in \u001B[0;36mNDFrame.sample\u001B[1;34m(self, n, frac, replace, weights, random_state, axis, ignore_index)\u001B[0m\n\u001B[0;32m   5770\u001B[0m \u001B[38;5;28;01mif\u001B[39;00m weights \u001B[38;5;129;01mis\u001B[39;00m \u001B[38;5;129;01mnot\u001B[39;00m \u001B[38;5;28;01mNone\u001B[39;00m:\n\u001B[0;32m   5771\u001B[0m     weights \u001B[38;5;241m=\u001B[39m sample\u001B[38;5;241m.\u001B[39mpreprocess_weights(\u001B[38;5;28mself\u001B[39m, weights, axis)\n\u001B[1;32m-> 5773\u001B[0m sampled_indices \u001B[38;5;241m=\u001B[39m \u001B[43msample\u001B[49m\u001B[38;5;241;43m.\u001B[39;49m\u001B[43msample\u001B[49m\u001B[43m(\u001B[49m\u001B[43mobj_len\u001B[49m\u001B[43m,\u001B[49m\u001B[43m \u001B[49m\u001B[43msize\u001B[49m\u001B[43m,\u001B[49m\u001B[43m \u001B[49m\u001B[43mreplace\u001B[49m\u001B[43m,\u001B[49m\u001B[43m \u001B[49m\u001B[43mweights\u001B[49m\u001B[43m,\u001B[49m\u001B[43m \u001B[49m\u001B[43mrs\u001B[49m\u001B[43m)\u001B[49m\n\u001B[0;32m   5774\u001B[0m result \u001B[38;5;241m=\u001B[39m \u001B[38;5;28mself\u001B[39m\u001B[38;5;241m.\u001B[39mtake(sampled_indices, axis\u001B[38;5;241m=\u001B[39maxis)\n\u001B[0;32m   5776\u001B[0m \u001B[38;5;28;01mif\u001B[39;00m ignore_index:\n",
      "File \u001B[1;32mF:\\PycharmProjects\\thrutherstoo\\venv\\lib\\site-packages\\pandas\\core\\sample.py:150\u001B[0m, in \u001B[0;36msample\u001B[1;34m(obj_len, size, replace, weights, random_state)\u001B[0m\n\u001B[0;32m    147\u001B[0m     \u001B[38;5;28;01melse\u001B[39;00m:\n\u001B[0;32m    148\u001B[0m         \u001B[38;5;28;01mraise\u001B[39;00m \u001B[38;5;167;01mValueError\u001B[39;00m(\u001B[38;5;124m\"\u001B[39m\u001B[38;5;124mInvalid weights: weights sum to zero\u001B[39m\u001B[38;5;124m\"\u001B[39m)\n\u001B[1;32m--> 150\u001B[0m \u001B[38;5;28;01mreturn\u001B[39;00m \u001B[43mrandom_state\u001B[49m\u001B[38;5;241;43m.\u001B[39;49m\u001B[43mchoice\u001B[49m\u001B[43m(\u001B[49m\u001B[43mobj_len\u001B[49m\u001B[43m,\u001B[49m\u001B[43m \u001B[49m\u001B[43msize\u001B[49m\u001B[38;5;241;43m=\u001B[39;49m\u001B[43msize\u001B[49m\u001B[43m,\u001B[49m\u001B[43m \u001B[49m\u001B[43mreplace\u001B[49m\u001B[38;5;241;43m=\u001B[39;49m\u001B[43mreplace\u001B[49m\u001B[43m,\u001B[49m\u001B[43m \u001B[49m\u001B[43mp\u001B[49m\u001B[38;5;241;43m=\u001B[39;49m\u001B[43mweights\u001B[49m\u001B[43m)\u001B[49m\u001B[38;5;241m.\u001B[39mastype(\n\u001B[0;32m    151\u001B[0m     np\u001B[38;5;241m.\u001B[39mintp, copy\u001B[38;5;241m=\u001B[39m\u001B[38;5;28;01mFalse\u001B[39;00m\n\u001B[0;32m    152\u001B[0m )\n",
      "File \u001B[1;32mmtrand.pyx:984\u001B[0m, in \u001B[0;36mnumpy.random.mtrand.RandomState.choice\u001B[1;34m()\u001B[0m\n",
      "\u001B[1;31mValueError\u001B[0m: Cannot take a larger sample than population when 'replace=False'"
     ]
    }
   ],
   "source": [
    "to_annotate = pd.concat((all_othering[(~all_othering.dependency_you)&(~all_othering.linear_you)].sample(20),\n",
    "           all_othering[(all_othering.dependency_you)&(~all_othering.linear_you)],\n",
    "           all_othering[(~all_othering.dependency_you)&(all_othering.linear_you)],\n",
    "           all_othering[(all_othering.dependency_you)&(all_othering.linear_you)].sample(20),\n",
    "           non_othering.sample(20)\n",
    "           ))[['permalink', 'othering', 'dependency_you', 'linear_you', 'subreddit', 'text', 'fullname', 'parent_fullname']]"
   ],
   "metadata": {
    "collapsed": false,
    "ExecuteTime": {
     "end_time": "2023-09-20T07:39:01.512837700Z",
     "start_time": "2023-09-20T07:39:00.319740400Z"
    }
   }
  },
  {
   "cell_type": "code",
   "execution_count": 50,
   "outputs": [
    {
     "ename": "NameError",
     "evalue": "name 'to_annotate' is not defined",
     "output_type": "error",
     "traceback": [
      "\u001B[1;31m---------------------------------------------------------------------------\u001B[0m",
      "\u001B[1;31mNameError\u001B[0m                                 Traceback (most recent call last)",
      "Cell \u001B[1;32mIn[50], line 1\u001B[0m\n\u001B[1;32m----> 1\u001B[0m parent_fullnames \u001B[38;5;241m=\u001B[39m \u001B[38;5;28mset\u001B[39m(\u001B[43mto_annotate\u001B[49m\u001B[38;5;241m.\u001B[39mparent_fullname)\n\u001B[0;32m      2\u001B[0m parents \u001B[38;5;241m=\u001B[39m \u001B[38;5;28mlist\u001B[39m()\n\u001B[0;32m      3\u001B[0m \u001B[38;5;28;01mfor\u001B[39;00m chunk \u001B[38;5;129;01min\u001B[39;00m pd\u001B[38;5;241m.\u001B[39mread_json(\u001B[38;5;124m'\u001B[39m\u001B[38;5;124m../data/interim/labeling_subthread_all_filtered_preprocessed_no_bot.jsonl.zip\u001B[39m\u001B[38;5;124m'\u001B[39m, compression\u001B[38;5;241m=\u001B[39m\u001B[38;5;124m'\u001B[39m\u001B[38;5;124mzip\u001B[39m\u001B[38;5;124m'\u001B[39m, chunksize\u001B[38;5;241m=\u001B[39m\u001B[38;5;241m1000\u001B[39m, lines\u001B[38;5;241m=\u001B[39m\u001B[38;5;28;01mTrue\u001B[39;00m):\n",
      "\u001B[1;31mNameError\u001B[0m: name 'to_annotate' is not defined"
     ]
    }
   ],
   "source": [
    "parent_fullnames = set(to_annotate.parent_fullname)\n",
    "parents = list()\n",
    "for chunk in pd.read_json('../data/interim/labeling_subthread_all_filtered_preprocessed_no_bot.jsonl.zip', compression='zip', chunksize=1000, lines=True):\n",
    "    parents.append(chunk[chunk.fullname.isin(parent_fullnames)])"
   ],
   "metadata": {
    "collapsed": false,
    "ExecuteTime": {
     "end_time": "2023-09-20T08:41:36.912760500Z",
     "start_time": "2023-09-20T08:41:36.900152500Z"
    }
   }
  },
  {
   "cell_type": "code",
   "execution_count": null,
   "outputs": [],
   "source": [
    "parent_df = pd.concat(parents)\n",
    "len(parent_df)\n",
    "to_annotate = pd.merge(to_annotate, parent_df[['text', 'fullname']], left_on='parent_fullname', right_on='fullname', suffixes = ['', '_parent'])[['fullname', 'parent_fullname', 'othering', 'dependency_you', 'linear_you', 'subreddit','permalink', 'text', 'text_parent', ]]"
   ],
   "metadata": {
    "collapsed": false
   }
  },
  {
   "cell_type": "code",
   "execution_count": 85,
   "outputs": [],
   "source": [
    "to_annotate.to_csv('../data/interim/labeling_sample_strategies1--3.csv')"
   ],
   "metadata": {
    "collapsed": false,
    "ExecuteTime": {
     "end_time": "2023-07-04T09:06:30.971283700Z",
     "start_time": "2023-07-04T09:06:30.955284200Z"
    }
   }
  },
  {
   "cell_type": "code",
   "execution_count": 34,
   "outputs": [
    {
     "name": "stdout",
     "output_type": "stream",
     "text": [
      "yourself:PRP:pobj:2 When talking with others do not refer to yourself as a \"conspiracy theorist.\"\n",
      "me:PRP:dobj:1 why it always infuriates me whenever I see a 9/11 conspiracy theorist set up in a little tent with several obscure shots of the WTC/former WTC site with blurry pictures of supposed \"Factual evidence\"\n",
      "I:PRP:nsubj:1 Im very blind when it comes to sepcific proven health risks of these, as all I ever see are conspiracy theorists yelling about Global depopulation of America.\n",
      "I:PRP:nsubj:1 For the record, I am not a conspiracy theorist.\n",
      "I:PRP:nsubj:1 One last thing, as I said before, I am not a conspiracy theorist.\n",
      "we:PRP:nsubj:1 In 1993, the Israelis were responsible for the bombing of the World Trade Center and that kind of stuff...\"\n",
      "\n",
      "\n",
      "/r/Israel, do we have stealth antisemitic conspiracy theorist on our hands\n",
      "us:PRP:dobj:1 label us as conspiracy theorists and traitors\n",
      "I:PRP:nsubj:1 Edit\n",
      " I find this subreddit so interesting...while being superficial, it's also extremely \n",
      "honest\n",
      " and that is a quality you don't find in many places (Advertising degree, quasi conspiracy theorist, attended art \"I like the.....colors....\" classes.\n",
      "us:PRP:dobj:1 Could DE be showing us how brutal the grineer army actually is, or am I just a cracked-up conspiracy theorist?\n",
      "I:PRP:nsubj:1 While my peers called me a 'conspiracy theorist' I would call myself a 'researcher'.\n",
      "me:PRP:dobj:1 They called me a conspiracy theorist, because I actively researched a lot of material, some of which were conspiracies.\n",
      "me:PRP:pobj:1 ?\n",
      "http://www.buyhappiness.net/2013/12/02/24-of-federal-scientists-have-been-forced-to-exclude-or-alter-technical-information-in-federal-government-documents-for-non-scientific-reasons/\n",
      "\n",
      "\n",
      "This link was provided to me via my conspiracy theorist father who is:\n",
      "-anti-vaccine\n",
      "-anti-fluoridation\n",
      "-anti-everythingtodowithgovernment\n",
      "\n",
      "\n",
      "I frequently debate with him, arguing that scientists in modern day are for the most part reliable in their respective fields\n",
      "I:PRP:nsubj:1 I'm interested in websites and blogs like \n",
      "A Skeptical Survivalist\n",
      " or \n",
      "Global Guerrillas\n",
      ", not the conspiracy theorist (One World Order, Amero) type sites.\n",
      "I:PRP:nsubj:1 Conspiracy I think it's time to branch off \"conspiracy theories\" and start to get out act together, whenever someone mentions the words \"conspiracy theorist/theory\" people automatically think of us being crazy.\n",
      "me:PRP:pobj:1 So can someone explain to me as simply as possible why so many conspiracy theorists think the Jews are major conspiracy heads?\n",
      "I:PRP:nsubj:1 I'm no tin foil hat conspiracy theorist, but I call it like I see it.\n",
      "you:PRP:nsubj:2 If you were to ask ANY \"conspiracy theorist\" after 911 what would happen to us?\n",
      "I:PRP:nsubj:1 I was not a conspiracy theorist until 5 years after 911.\n",
      "I:PRP:nsubj:1 Who knows, I could just be a conspiracy theorist.\n",
      "you:PRP:nsubj:2 Secret societies (the Masons, the Templars, you name it) get a bad rap in history due largely to conspiracy theorists.\n",
      "I:PRP:nsubj:1 The only rational way I can explain it (other than the wild idea that these tabloids really do have psychics working for them, oohhh hocus pocus, and all that jazz) might be that since these things were man-made disasters (other than the giant blizzard, but like I said before that wouldn't be too hard to guess) that someone might have caught wind of people high up plotting them, tried to go to the regular newspapers and was written off as a conspiracist and the only newspaper they were able to use to tell the world were these tabloids.\n",
      "I:PRP:nsubj:1 So, I am not a conspiracy theorist by any means; but I think that there may be something to this new world order business.\n",
      "I:PRP:nsubj:1 I've been running into conspiracy theorists lately and I have to ask.\n",
      "I:PRP:nsubj:1 , I want the information to be presentable as factual to everyone, conspiracy theorist or not.\n",
      "you:PRP:nsubj:2 Or would you be more likely to side with the tin-foil hat conspiracy theorists like the ones about 9/11 being an inside job?\n",
      "I:PRP:nsubj:1 I encourage the conspiracy theorists to question.\n",
      "I:PRP:nsubj:1 I'm not a conspiracy theorist and I know the scandal was a bit overblown/\n",
      "my:PRP$:poss:1 my a conspiracy theorist\n",
      "I:PRP:nsubjpass:1 I've been labeled a conspiracy theorist since middle school and here I am now, laughing my ass off at all these people in my schools suddenly concerned about their privacy but the same people called me crazy a few months ago.\n",
      "I:PRP:nsubj:1 What is Ron Paul's strategy in dealing with newsletters?\n",
      "I just saw a huge polemic article on a major german news websites that bashes RP as a racist homophobic anti-semitic conspiracy theorist:\n",
      "I:PRP:nsubj:1 I thought you guys were just some crackpot conspiracy theorists.\n",
      "I:PRP:nsubj:1 I have a friend who is a grade-A conspiracy theorist and is vehemently against vaccinations.\n",
      "you:PRP:nmod:2 quick question for the mods\n",
      "\n",
      "you guys know that conspiracy theorist Alex Jones is using a video that links to the sub-reddit at the end.\n",
      "me:PRP:dobj:1 Convince me to be a conspiracy theorist\n",
      "I used to be a very skeptical person.\n",
      "I:PRP:nsubj:1 I joined /r/conspiratard and loved to mock those crazy old conspiracy theorists.\n",
      "I:PRP:nsubj:1 I was wondering if I was a conspiracy theorist.\n",
      "you:PRP:nsubj:2 because you don't want those 2012 conspiracy theorists proven right when Supreme Chancellor Palin nukes Peru shortly after assuming power\n",
      "you:PRP:nsubj:2 Do you think that in 200 years conspiracy theorists will think Redditers were some sort of illuminati that ran the world???\n",
      "I:PRP:nsubj:1 So yes, I understand that it can be a pain in the butt to play in Inferno, and also the conspiracy theorists are going to run amok with any impropriety they sense, but this game is just as fun as D2 was.\n",
      "I:PRP:nsubj:1 I guess im becomming a tin foil hat conspiracy theorist.\n",
      "I:PRP:nsubj:1 Partner is a conspiracy theorist\n",
      "My partner and I have been together just over a year and are in our mid 20s.\n",
      "I:PRP:nsubj:1 I'm not some conspiracy theorist.\n",
      "you:PRP:nsubj:2 Which conspiracy theory are you hoping will be proved true in 2014?\n",
      "2013 turned out to be a year of vindication for some conspiracy theorists.\n",
      "I:PRP:nsubj:1 I was reading \n",
      "this\n",
      " ZeroHedge article, and though I know the site is full of crackpots and conspiracy theorists, I was somewhat intrigued by his conclusion that GM is overloading its dealers with inventory in order to pump sales volume.\n",
      "I:PRP:nsubj:1 I never really came here before the other day and it appears your sub is mostly a place to poke fun of the ridiculousness of conspiracy theorists.\n",
      "We:PRP:nsubj:1 We are not conspiracy theorists.\n",
      "me:PRP:pobj:1 How this counts as a war is beyond me but conspiracy theorists aren't known for being accurate.\n",
      "my:PRP$:poss:1 my conspiracy theorist friends\n",
      "our:PRP$:poss:1 WAKE UP CALL!\n",
      "Conspiracy theorists love talking about how our government is trying to perpetuate a matrix control system - that isn't exactly true, it's our popular culture, which isn't really government controlled and really never can be.\n",
      "I:PRP:nsubj:1 Seeing as how you can make the argument that religion is used to control populations...\n",
      "\n",
      "\n",
      "I've seen a bunch of conspiracy theorists who go off on their mkultra and haarp and bilderberg rants and then cite a bible verse...\n",
      "I:PRP:nsubj:1 Why are people so upset over the NSA data mining verizon data?\n",
      "I understand why paranoid conspiracy theorists are upset.\n",
      "I:PRP:nsubj:1 I may be a bit drunk at the moment and a bit of a conspiracist\n",
      "you:PRP:nsubj:2 ~~So to \n",
      "really\n",
      " check how nutty those conspiracy theorists are, you can link them to any of the news reports or this WHO publication directly and if they dismiss it - you know they are not of right mind.~~ (my frustration writing)\n",
      "me:PRP:dobj:1 They are calling me a conspiracy theorist and don't believe that this War on Drugs is really screwing over people with schools and jobs.\n",
      "your:PRP$:poss:2 Does your world have conspiracy theorists or are the citizens/denizens of your world trusting to a fault?\n",
      "I:PRP:nsubj:1 Now, I don't want to make this start sounding like a conspiracy theorist or some anti-government lunatic (coinsidently, I'm a far-right libertarian... anarachist, actually).\n",
      "I:PRP:nsubj:1 I don't know, I'm probably talking like a conspiracy theorist right now but any thoughts from you guys?\n",
      "I:PRP:nsubj:1 I don't want to sound like a paranoid conspiracy theorist, but the way the government (US) is going is frankly concerning to me.\n",
      "I:PRP:nsubj:1 I feel that for every big event there is some conspiracy theorist that pokes holes in the public opinion.\n",
      "us:PRP:nsubj:1 Some conspiracy theorists will say it was GGG's plan all along to make us all easier to kill.\n",
      "I:PRP:nsubj:1 I need to start out by saying that I am no conspiracy theorist, but at this point thanks to Edward Snowden\n",
      "I:PRP:nsubj:1 I started off with saying I'm not a conspiracy theorist because some people might believe I am for thinking the government is doing this in large part to protect themselves from being exposed for what they're doing, but also because I believe that Michael Hastings was \n",
      "murdered\n",
      " because he was doing exactly that.\n",
      "I:PRP:nsubj:1 I am by no means an expert on foreign policy issues, but I have been carefully following developments over the past couple of years, and it seems to me that the odds of a global armed conflict (most likely nuclear in nature) arising unexpectedly due to miscalculation on various sides is rising rapidly at the moment, to the point where it is potentially the largest existential danger most of us currently face, which has lead me to wonder: \n",
      "\n",
      "\n",
      "Why is it that, apart from conspiracy theorist and the occasional nutjob, the issue has neither been widely discussed nor is something that seems to be bothering most people?\n",
      "I:PRP:nsubj:1 that I'm somehow being too pessimistic and grossly overestimating the dangers of a global nuclear confrontation by several orders of magnitude, and that the reason that no one apart from the conspiracy theorists is truly worried at this point is that the nightmare scenario is still so improbable that people are right to worry about other things first, but there's a nagging voice at the back of my head telling me that that's probably not the case.\n",
      "I:PRP:nsubj:1 Or am I a paranoid conspiracy theorist?\n",
      "I:PRP:nsubj:1 I feel that conspiracy theorists are given a bad rap.\n",
      "me:PRP:pobj:1 The little conspiracy theorist in me\n",
      "I:PRP:nsubj:1 I've even had users stalk me, posting in virtually every topic I make on certain boards calling me all sorts of anti-conspiracy theorist insults, which never get moderated (even though I mark them), and I've even seen these users post threads outright insulting me in the topic titles (insults in general are against the rules, and calling someone out like that in a title is doubly moddable for harassment) and they are never moderated.\n",
      "me:PRP:pobj:1 This hasn't just happened to me either, it happens to virtually every vocal conspiracy theorist on the site.\n",
      "my:PRP$:poss:1 With the caveat that HR has to tie into the original Deus Ex, this was my first exposure to the series and I spent a lot of the game surprised just how absolutely straight down the line the story played out like a conservative conspiracy theorist manifesto.\n",
      "I:PRP:nsubj:1 Am I being a crazy tinfoil hat wearing (Jokerstars is rigged LOL) conspiracy theorist or is this actually happening?\n",
      "I:PRP:nsubj:1 Plus, I think Ziad is a conspiracy theorist.\n",
      "I:PRP:nsubj:1 People are calling this man a conspiracy theorist, but I believe him.\n"
     ]
    }
   ],
   "source": [
    "for pron_span, subtree, fullname in strategy_3:\n",
    "    # print(list(subtree))\n",
    "    print(f\"{pron_span}:{pron_span.root.tag_}:{pron_span.root.dep_}:{pron_span.root.morph.to_dict().get('Person', None)} {''.join(i.text_with_ws for i in subtree).strip()}\")\n"
   ],
   "metadata": {
    "collapsed": false,
    "ExecuteTime": {
     "end_time": "2023-07-03T20:13:18.642265Z",
     "start_time": "2023-07-03T20:13:18.629270Z"
    }
   }
  },
  {
   "cell_type": "code",
   "execution_count": 64,
   "outputs": [],
   "source": [
    "# find the labeling span\n",
    "# get the root of the span\n",
    "# get the sentence\n",
    "# find all pronouns (you)/det poss (your)/propn? (yours)\n",
    "# find the common ancestor between pronouns* and labeling root\n",
    "# check for verbs in the middle; look for negated"
   ],
   "metadata": {
    "collapsed": false,
    "ExecuteTime": {
     "end_time": "2023-07-04T08:35:06.849839100Z",
     "start_time": "2023-07-04T08:35:06.834839200Z"
    }
   }
  },
  {
   "cell_type": "code",
   "execution_count": 65,
   "outputs": [
    {
     "data": {
      "text/plain": "<IPython.core.display.HTML object>",
      "text/html": "<span class=\"tex2jax_ignore\"><svg xmlns=\"http://www.w3.org/2000/svg\" xmlns:xlink=\"http://www.w3.org/1999/xlink\" xml:lang=\"en\" id=\"0564f99c6ad24adea7067f67437ea0aa-0\" class=\"displacy\" width=\"1850\" height=\"512.0\" direction=\"ltr\" style=\"max-width: none; height: 512.0px; color: white; background: #09a3d5; font-family: Source Sans Pro; direction: ltr\">\n<text class=\"displacy-token\" fill=\"currentColor\" text-anchor=\"middle\" y=\"422.0\">\n    <tspan class=\"displacy-word\" fill=\"currentColor\" x=\"50\">It</tspan>\n    <tspan class=\"displacy-tag\" dy=\"2em\" fill=\"currentColor\" x=\"50\">PRON</tspan>\n</text>\n\n<text class=\"displacy-token\" fill=\"currentColor\" text-anchor=\"middle\" y=\"422.0\">\n    <tspan class=\"displacy-word\" fill=\"currentColor\" x=\"200\">'s</tspan>\n    <tspan class=\"displacy-tag\" dy=\"2em\" fill=\"currentColor\" x=\"200\">AUX</tspan>\n</text>\n\n<text class=\"displacy-token\" fill=\"currentColor\" text-anchor=\"middle\" y=\"422.0\">\n    <tspan class=\"displacy-word\" fill=\"currentColor\" x=\"350\">the</tspan>\n    <tspan class=\"displacy-tag\" dy=\"2em\" fill=\"currentColor\" x=\"350\">DET</tspan>\n</text>\n\n<text class=\"displacy-token\" fill=\"currentColor\" text-anchor=\"middle\" y=\"422.0\">\n    <tspan class=\"displacy-word\" fill=\"currentColor\" x=\"500\">same</tspan>\n    <tspan class=\"displacy-tag\" dy=\"2em\" fill=\"currentColor\" x=\"500\">ADJ</tspan>\n</text>\n\n<text class=\"displacy-token\" fill=\"currentColor\" text-anchor=\"middle\" y=\"422.0\">\n    <tspan class=\"displacy-word\" fill=\"currentColor\" x=\"650\">with</tspan>\n    <tspan class=\"displacy-tag\" dy=\"2em\" fill=\"currentColor\" x=\"650\">SCONJ</tspan>\n</text>\n\n<text class=\"displacy-token\" fill=\"currentColor\" text-anchor=\"middle\" y=\"422.0\">\n    <tspan class=\"displacy-word\" fill=\"currentColor\" x=\"800\">correct</tspan>\n    <tspan class=\"displacy-tag\" dy=\"2em\" fill=\"currentColor\" x=\"800\">ADJ</tspan>\n</text>\n\n<text class=\"displacy-token\" fill=\"currentColor\" text-anchor=\"middle\" y=\"422.0\">\n    <tspan class=\"displacy-word\" fill=\"currentColor\" x=\"950\">the</tspan>\n    <tspan class=\"displacy-tag\" dy=\"2em\" fill=\"currentColor\" x=\"950\">DET</tspan>\n</text>\n\n<text class=\"displacy-token\" fill=\"currentColor\" text-anchor=\"middle\" y=\"422.0\">\n    <tspan class=\"displacy-word\" fill=\"currentColor\" x=\"1100\">record</tspan>\n    <tspan class=\"displacy-tag\" dy=\"2em\" fill=\"currentColor\" x=\"1100\">NOUN</tspan>\n</text>\n\n<text class=\"displacy-token\" fill=\"currentColor\" text-anchor=\"middle\" y=\"422.0\">\n    <tspan class=\"displacy-word\" fill=\"currentColor\" x=\"1250\">and</tspan>\n    <tspan class=\"displacy-tag\" dy=\"2em\" fill=\"currentColor\" x=\"1250\">CCONJ</tspan>\n</text>\n\n<text class=\"displacy-token\" fill=\"currentColor\" text-anchor=\"middle\" y=\"422.0\">\n    <tspan class=\"displacy-word\" fill=\"currentColor\" x=\"1400\">fake</tspan>\n    <tspan class=\"displacy-tag\" dy=\"2em\" fill=\"currentColor\" x=\"1400\">ADJ</tspan>\n</text>\n\n<text class=\"displacy-token\" fill=\"currentColor\" text-anchor=\"middle\" y=\"422.0\">\n    <tspan class=\"displacy-word\" fill=\"currentColor\" x=\"1550\">news.</tspan>\n    <tspan class=\"displacy-tag\" dy=\"2em\" fill=\"currentColor\" x=\"1550\">PUNCT</tspan>\n</text>\n\n<text class=\"displacy-token\" fill=\"currentColor\" text-anchor=\"middle\" y=\"422.0\">\n    <tspan class=\"displacy-word\" fill=\"currentColor\" x=\"1700\"> </tspan>\n    <tspan class=\"displacy-tag\" dy=\"2em\" fill=\"currentColor\" x=\"1700\">SPACE</tspan>\n</text>\n\n<g class=\"displacy-arrow\">\n    <path class=\"displacy-arc\" id=\"arrow-0564f99c6ad24adea7067f67437ea0aa-0-0\" stroke-width=\"2px\" d=\"M62,377.0 62,352.0 188.0,352.0 188.0,377.0\" fill=\"none\" stroke=\"currentColor\"/>\n    <text dy=\"1.25em\" style=\"font-size: 0.8em; letter-spacing: 1px\">\n        <textPath xlink:href=\"#arrow-0564f99c6ad24adea7067f67437ea0aa-0-0\" class=\"displacy-label\" startOffset=\"50%\" side=\"left\" fill=\"currentColor\" text-anchor=\"middle\">nsubj</textPath>\n    </text>\n    <path class=\"displacy-arrowhead\" d=\"M62,379.0 L58,371.0 66,371.0\" fill=\"currentColor\"/>\n</g>\n\n<g class=\"displacy-arrow\">\n    <path class=\"displacy-arc\" id=\"arrow-0564f99c6ad24adea7067f67437ea0aa-0-1\" stroke-width=\"2px\" d=\"M362,377.0 362,352.0 488.0,352.0 488.0,377.0\" fill=\"none\" stroke=\"currentColor\"/>\n    <text dy=\"1.25em\" style=\"font-size: 0.8em; letter-spacing: 1px\">\n        <textPath xlink:href=\"#arrow-0564f99c6ad24adea7067f67437ea0aa-0-1\" class=\"displacy-label\" startOffset=\"50%\" side=\"left\" fill=\"currentColor\" text-anchor=\"middle\">det</textPath>\n    </text>\n    <path class=\"displacy-arrowhead\" d=\"M362,379.0 L358,371.0 366,371.0\" fill=\"currentColor\"/>\n</g>\n\n<g class=\"displacy-arrow\">\n    <path class=\"displacy-arc\" id=\"arrow-0564f99c6ad24adea7067f67437ea0aa-0-2\" stroke-width=\"2px\" d=\"M212,377.0 212,327.0 491.0,327.0 491.0,377.0\" fill=\"none\" stroke=\"currentColor\"/>\n    <text dy=\"1.25em\" style=\"font-size: 0.8em; letter-spacing: 1px\">\n        <textPath xlink:href=\"#arrow-0564f99c6ad24adea7067f67437ea0aa-0-2\" class=\"displacy-label\" startOffset=\"50%\" side=\"left\" fill=\"currentColor\" text-anchor=\"middle\">attr</textPath>\n    </text>\n    <path class=\"displacy-arrowhead\" d=\"M491.0,379.0 L495.0,371.0 487.0,371.0\" fill=\"currentColor\"/>\n</g>\n\n<g class=\"displacy-arrow\">\n    <path class=\"displacy-arc\" id=\"arrow-0564f99c6ad24adea7067f67437ea0aa-0-3\" stroke-width=\"2px\" d=\"M662,377.0 662,352.0 788.0,352.0 788.0,377.0\" fill=\"none\" stroke=\"currentColor\"/>\n    <text dy=\"1.25em\" style=\"font-size: 0.8em; letter-spacing: 1px\">\n        <textPath xlink:href=\"#arrow-0564f99c6ad24adea7067f67437ea0aa-0-3\" class=\"displacy-label\" startOffset=\"50%\" side=\"left\" fill=\"currentColor\" text-anchor=\"middle\">mark</textPath>\n    </text>\n    <path class=\"displacy-arrowhead\" d=\"M662,379.0 L658,371.0 666,371.0\" fill=\"currentColor\"/>\n</g>\n\n<g class=\"displacy-arrow\">\n    <path class=\"displacy-arc\" id=\"arrow-0564f99c6ad24adea7067f67437ea0aa-0-4\" stroke-width=\"2px\" d=\"M212,377.0 212,302.0 794.0,302.0 794.0,377.0\" fill=\"none\" stroke=\"currentColor\"/>\n    <text dy=\"1.25em\" style=\"font-size: 0.8em; letter-spacing: 1px\">\n        <textPath xlink:href=\"#arrow-0564f99c6ad24adea7067f67437ea0aa-0-4\" class=\"displacy-label\" startOffset=\"50%\" side=\"left\" fill=\"currentColor\" text-anchor=\"middle\">advcl</textPath>\n    </text>\n    <path class=\"displacy-arrowhead\" d=\"M794.0,379.0 L798.0,371.0 790.0,371.0\" fill=\"currentColor\"/>\n</g>\n\n<g class=\"displacy-arrow\">\n    <path class=\"displacy-arc\" id=\"arrow-0564f99c6ad24adea7067f67437ea0aa-0-5\" stroke-width=\"2px\" d=\"M962,377.0 962,277.0 1547.0,277.0 1547.0,377.0\" fill=\"none\" stroke=\"currentColor\"/>\n    <text dy=\"1.25em\" style=\"font-size: 0.8em; letter-spacing: 1px\">\n        <textPath xlink:href=\"#arrow-0564f99c6ad24adea7067f67437ea0aa-0-5\" class=\"displacy-label\" startOffset=\"50%\" side=\"left\" fill=\"currentColor\" text-anchor=\"middle\">det</textPath>\n    </text>\n    <path class=\"displacy-arrowhead\" d=\"M962,379.0 L958,371.0 966,371.0\" fill=\"currentColor\"/>\n</g>\n\n<g class=\"displacy-arrow\">\n    <path class=\"displacy-arc\" id=\"arrow-0564f99c6ad24adea7067f67437ea0aa-0-6\" stroke-width=\"2px\" d=\"M1112,377.0 1112,302.0 1544.0,302.0 1544.0,377.0\" fill=\"none\" stroke=\"currentColor\"/>\n    <text dy=\"1.25em\" style=\"font-size: 0.8em; letter-spacing: 1px\">\n        <textPath xlink:href=\"#arrow-0564f99c6ad24adea7067f67437ea0aa-0-6\" class=\"displacy-label\" startOffset=\"50%\" side=\"left\" fill=\"currentColor\" text-anchor=\"middle\">nmod</textPath>\n    </text>\n    <path class=\"displacy-arrowhead\" d=\"M1112,379.0 L1108,371.0 1116,371.0\" fill=\"currentColor\"/>\n</g>\n\n<g class=\"displacy-arrow\">\n    <path class=\"displacy-arc\" id=\"arrow-0564f99c6ad24adea7067f67437ea0aa-0-7\" stroke-width=\"2px\" d=\"M1112,377.0 1112,352.0 1238.0,352.0 1238.0,377.0\" fill=\"none\" stroke=\"currentColor\"/>\n    <text dy=\"1.25em\" style=\"font-size: 0.8em; letter-spacing: 1px\">\n        <textPath xlink:href=\"#arrow-0564f99c6ad24adea7067f67437ea0aa-0-7\" class=\"displacy-label\" startOffset=\"50%\" side=\"left\" fill=\"currentColor\" text-anchor=\"middle\">cc</textPath>\n    </text>\n    <path class=\"displacy-arrowhead\" d=\"M1238.0,379.0 L1242.0,371.0 1234.0,371.0\" fill=\"currentColor\"/>\n</g>\n\n<g class=\"displacy-arrow\">\n    <path class=\"displacy-arc\" id=\"arrow-0564f99c6ad24adea7067f67437ea0aa-0-8\" stroke-width=\"2px\" d=\"M1112,377.0 1112,327.0 1391.0,327.0 1391.0,377.0\" fill=\"none\" stroke=\"currentColor\"/>\n    <text dy=\"1.25em\" style=\"font-size: 0.8em; letter-spacing: 1px\">\n        <textPath xlink:href=\"#arrow-0564f99c6ad24adea7067f67437ea0aa-0-8\" class=\"displacy-label\" startOffset=\"50%\" side=\"left\" fill=\"currentColor\" text-anchor=\"middle\">conj</textPath>\n    </text>\n    <path class=\"displacy-arrowhead\" d=\"M1391.0,379.0 L1395.0,371.0 1387.0,371.0\" fill=\"currentColor\"/>\n</g>\n\n<g class=\"displacy-arrow\">\n    <path class=\"displacy-arc\" id=\"arrow-0564f99c6ad24adea7067f67437ea0aa-0-9\" stroke-width=\"2px\" d=\"M212,377.0 212,252.0 1550.0,252.0 1550.0,377.0\" fill=\"none\" stroke=\"currentColor\"/>\n    <text dy=\"1.25em\" style=\"font-size: 0.8em; letter-spacing: 1px\">\n        <textPath xlink:href=\"#arrow-0564f99c6ad24adea7067f67437ea0aa-0-9\" class=\"displacy-label\" startOffset=\"50%\" side=\"left\" fill=\"currentColor\" text-anchor=\"middle\">punct</textPath>\n    </text>\n    <path class=\"displacy-arrowhead\" d=\"M1550.0,379.0 L1554.0,371.0 1546.0,371.0\" fill=\"currentColor\"/>\n</g>\n\n<g class=\"displacy-arrow\">\n    <path class=\"displacy-arc\" id=\"arrow-0564f99c6ad24adea7067f67437ea0aa-0-10\" stroke-width=\"2px\" d=\"M1562,377.0 1562,352.0 1688.0,352.0 1688.0,377.0\" fill=\"none\" stroke=\"currentColor\"/>\n    <text dy=\"1.25em\" style=\"font-size: 0.8em; letter-spacing: 1px\">\n        <textPath xlink:href=\"#arrow-0564f99c6ad24adea7067f67437ea0aa-0-10\" class=\"displacy-label\" startOffset=\"50%\" side=\"left\" fill=\"currentColor\" text-anchor=\"middle\">dep</textPath>\n    </text>\n    <path class=\"displacy-arrowhead\" d=\"M1688.0,379.0 L1692.0,371.0 1684.0,371.0\" fill=\"currentColor\"/>\n</g>\n</svg></span>"
     },
     "metadata": {},
     "output_type": "display_data"
    }
   ],
   "source": [
    "options = {\"compact\": True, \"bg\": \"#09a3d5\",\n",
    "           \"color\": \"white\", \"font\": \"Source Sans Pro\"}\n",
    "displacy.render(pron_span.sent, style=\"dep\", options=options)\n"
   ],
   "metadata": {
    "collapsed": false,
    "ExecuteTime": {
     "end_time": "2023-07-04T08:35:34.399630200Z",
     "start_time": "2023-07-04T08:35:30.977512500Z"
    }
   }
  }
 ],
 "metadata": {
  "kernelspec": {
   "display_name": "Python 3",
   "language": "python",
   "name": "python3"
  },
  "language_info": {
   "codemirror_mode": {
    "name": "ipython",
    "version": 2
   },
   "file_extension": ".py",
   "mimetype": "text/x-python",
   "name": "python",
   "nbconvert_exporter": "python",
   "pygments_lexer": "ipython2",
   "version": "2.7.6"
  }
 },
 "nbformat": 4,
 "nbformat_minor": 0
}
