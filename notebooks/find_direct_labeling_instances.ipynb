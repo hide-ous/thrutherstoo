{
 "cells": [
  {
   "cell_type": "code",
   "execution_count": 1,
   "metadata": {
    "collapsed": true,
    "ExecuteTime": {
     "start_time": "2023-07-03T19:40:32.260645Z",
     "end_time": "2023-07-03T19:40:35.169690Z"
    }
   },
   "outputs": [],
   "source": [
    "import re\n",
    "from collections import defaultdict\n",
    "\n",
    "import pandas as pd\n",
    "import spacy\n",
    "from IPython.core.display import HTML\n",
    "from bs4 import BeautifulSoup\n",
    "from markdown import markdown\n",
    "from spacy import displacy\n",
    "from spacy.matcher import Matcher"
   ]
  },
  {
   "cell_type": "code",
   "execution_count": 2,
   "outputs": [],
   "source": [
    "# spacy.cli.download('en_core_web_lg')"
   ],
   "metadata": {
    "collapsed": false,
    "ExecuteTime": {
     "start_time": "2023-07-03T19:40:35.173701Z",
     "end_time": "2023-07-03T19:40:35.183468Z"
    }
   }
  },
  {
   "cell_type": "code",
   "execution_count": 3,
   "outputs": [],
   "source": [
    "df = pd.read_json('../data/interim/labeling_contributions_preprocessed_no_bot.jsonl', orient='records', nrows=1000, lines=True)[[ 'author', 'created_utc',\n",
    "       'permalink', 'retrieved_on', 'rte_mode', 'score',\n",
    "       'subreddit',\n",
    "       'subreddit_type',\n",
    "       'contribution_type', 'text', 'fullname', 'parent_fullname',\n",
    "       'link_fullname', 'preprocessed_text', 'processed_text']]"
   ],
   "metadata": {
    "collapsed": false,
    "ExecuteTime": {
     "start_time": "2023-07-03T19:40:35.189285Z",
     "end_time": "2023-07-03T19:40:35.376896Z"
    }
   }
  },
  {
   "cell_type": "code",
   "execution_count": 4,
   "outputs": [],
   "source": [
    "def plain_text_without_quotes(txt):\n",
    "    # md -> html -> text since BeautifulSoup can extract text cleanly\n",
    "    html = markdown(txt)\n",
    "\n",
    "    # remove code snippets\n",
    "    html = re.sub(r'<pre>(.*?)</pre>', ' ', html)\n",
    "    html = re.sub(r'<code>(.*?)</code >', ' ', html)\n",
    "    # extract text\n",
    "    soup = BeautifulSoup(html, \"html.parser\")\n",
    "    for quote in filter(lambda p: p.text.strip().startswith('>'),\n",
    "                        soup.find_all('p')):\n",
    "        quote.replaceWith('...[QUOTE]...')\n",
    "\n",
    "    return '\\n'.join(soup.findAll(string=True))\n"
   ],
   "metadata": {
    "collapsed": false,
    "ExecuteTime": {
     "start_time": "2023-07-03T19:40:35.441769Z",
     "end_time": "2023-07-03T19:40:35.453850Z"
    }
   }
  },
  {
   "cell_type": "code",
   "execution_count": 5,
   "outputs": [],
   "source": [
    "df['dequoted_text'] = df.text.apply(plain_text_without_quotes)"
   ],
   "metadata": {
    "collapsed": false,
    "ExecuteTime": {
     "start_time": "2023-07-03T19:40:37.259636Z",
     "end_time": "2023-07-03T19:40:39.518808Z"
    }
   }
  },
  {
   "cell_type": "code",
   "execution_count": 9,
   "outputs": [],
   "source": [
    "nlp = spacy.load(\"en_core_web_lg\")\n",
    "\n",
    "matcher = Matcher(nlp.vocab)\n",
    "matcher.add(\"conspiracy_labeling\", [[{\"lemma\": \"conspiracy\"}, {\"lemma\": \"theorist\"}],\n",
    "                           [{\"lemma\": \"conspiracist\"}],\n",
    "                           ])\n",
    "\n",
    "matcher.add('pron_poss', [[{\"TAG\":'PRP'}],\n",
    "                          [{\"TAG\":'PRP$'}],\n",
    "                          # [{\"TAG\":'POS'}],\n",
    "                          [{\"TAG\":'WP'}],\n",
    "                          [{\"TAG\":'WP$'}],\n",
    "                          [{\"DEP\":'poss', 'TAG':'DET'}],\n",
    "                          ])\n",
    "# 18.\tPRP\tPersonal pronoun\n",
    "# 19.\tPRP$\tPossessive pronoun\n",
    "# 34.\tWP\tWh-pronoun\n",
    "# 35.\tWP$\tPossessive wh-pronoun\n",
    "# to consider:\n",
    "# 17.\tPOS\tPossessive ending\n",
    "# 33.\tWDT\tWh-determiner\n"
   ],
   "metadata": {
    "collapsed": false,
    "ExecuteTime": {
     "start_time": "2023-07-03T19:42:34.477934Z",
     "end_time": "2023-07-03T19:42:36.672095Z"
    }
   }
  },
  {
   "cell_type": "markdown",
   "source": [
    "cases:\n",
    "- you conspiracy theorist\n",
    "- your conspiracy theorist friends\n",
    "- you are a conspiracy theorist\n",
    "- are you a conspiracy theorist?\n",
    "- I'll call you a conspiracy theorist\n",
    "- you're not a conspiracy theorist but...\n",
    "- they are conspiracy theorists like you\n",
    "\n",
    "outside the pattern:\n",
    "- Everyone who says otherwise is an extremist  conspiracy theorist."
   ],
   "metadata": {
    "collapsed": false
   }
  },
  {
   "cell_type": "code",
   "execution_count": 10,
   "outputs": [],
   "source": [
    "example_sentences = [\n",
    "    \"you conspiracy theorist\",\n",
    "    \"your conspiracy theorist friends\",\n",
    "    \"you are a conspiracy theorist\",\n",
    "    \"are you a conspiracy theorist?\",\n",
    "    \"I'll call you a conspiracy theorist\",\n",
    "    \"you're not a conspiracy theorist but...\",\n",
    "    \"they are conspiracy theorists like you\",\n",
    "]\n",
    "\n"
   ],
   "metadata": {
    "collapsed": false,
    "ExecuteTime": {
     "start_time": "2023-07-03T19:42:37.885425Z",
     "end_time": "2023-07-03T19:42:37.951136Z"
    }
   }
  },
  {
   "cell_type": "markdown",
   "source": [
    "strategy:\n",
    "1. 1st/2nd pp and labeling in same sentence\n",
    "2. ...and pp is closest by sentence idx\n",
    "3. ...and pp is closest by dep links\n",
    "4. ...and are tied by verb, or poss (your ct friends), or ...(as a ct I, like a ct I)"
   ],
   "metadata": {
    "collapsed": false
   }
  },
  {
   "cell_type": "code",
   "execution_count": 24,
   "outputs": [],
   "source": [
    "strategy_1 = list()\n",
    "strategy_2 = list()\n",
    "strategy_3 = list()\n",
    "\n",
    "\n",
    "for txt in df.dequoted_text.head(100):\n",
    "    doc = nlp(txt)\n",
    "    matches = matcher(doc)\n",
    "\n",
    "    match_dict = defaultdict(list)\n",
    "    for match_id, start, end in matches:\n",
    "        string_id = nlp.vocab.strings[match_id]  # Get string representation\n",
    "        span = doc[start:end]  # The matched span\n",
    "        match_dict[string_id].append(span)\n",
    "    for labeling_span in match_dict['conspiracy_labeling']:\n",
    "        sent = labeling_span.sent\n",
    "        related_pron_spans = list()\n",
    "        min_linear_distance_pron_span = None\n",
    "        min_linear_distance_pron_subtree = None\n",
    "        min_linear_distance = None\n",
    "        min_dependency_distance_pron_span = None\n",
    "        min_dependency_distance_pron_subtree = None\n",
    "        min_dependency_distance = None\n",
    "        for pron_span in match_dict['pron_poss']:\n",
    "            if (sent == pron_span.sent) and (pron_span.root.morph.to_dict().get('Person', None) in {'1', '2'}):\n",
    "                lca_mat = pron_span.root.sent.get_lca_matrix()\n",
    "                lca_idx = lca_mat[pron_span.root.i-sent.start, labeling_span.root.i-sent.start]\n",
    "                subtree = list(sent[lca_idx].subtree)\n",
    "                distance_linear = abs(pron_span.root.i-labeling_span.root.i)\n",
    "                distance_dependency = 0\n",
    "                for tok in (pron_span.root, labeling_span.root):\n",
    "                    for ancestor in tok.ancestors:\n",
    "                        distance_dependency+=1\n",
    "                        if tok.i-sent.start==lca_idx:\n",
    "                            break\n",
    "                if (min_linear_distance is None) or (distance_linear<min_linear_distance):\n",
    "                    min_linear_distance=distance_linear\n",
    "                    min_linear_distance_pron_span=pron_span\n",
    "                    min_linear_distance_pron_subtree=subtree\n",
    "\n",
    "                if (min_dependency_distance is None) or (distance_dependency<min_dependency_distance):\n",
    "                    min_dependency_distance=distance_dependency\n",
    "                    min_dependency_distance_pron_span=pron_span\n",
    "                    min_dependency_distance_pron_subtree=subtree\n",
    "\n",
    "                strategy_1.append((pron_span, subtree))\n",
    "        if min_linear_distance is not None:\n",
    "            strategy_2.append((min_linear_distance_pron_span, min_linear_distance_pron_subtree))\n",
    "        if min_dependency_distance is not None:\n",
    "            strategy_3.append((min_dependency_distance_pron_span, min_dependency_distance_pron_subtree))"
   ],
   "metadata": {
    "collapsed": false,
    "ExecuteTime": {
     "start_time": "2023-07-03T20:01:44.865601Z",
     "end_time": "2023-07-03T20:01:50.164704Z"
    }
   }
  },
  {
   "cell_type": "code",
   "execution_count": 26,
   "outputs": [
    {
     "name": "stdout",
     "output_type": "stream",
     "text": [
      "I:PRP:nsubj:1 I used to ignore conspiracy theorists but unfortunately, recently, I have started watching their videos and reading their articles.\n",
      "I:PRP:nsubj:1 (I did create /r/fuckyouall)\n",
      "\n",
      "\n",
      "Indifference to the opinions of others (except conspiracy theorists)\n",
      "\n",
      "\n",
      "A tendency to argue (before you try to say I don't tend to argue, consider this: your statements are completely unconnected to reality)\n",
      "I:PRP:nsubj:1 As an amateur art historian, conspiracy theorist and wanna-be-treasure-hunter I loved sinking my teeth into \"The Da Vinci Code\" and \"Angels and Demons.\"\n",
      "I:PRP:nsubj:1 Not that I am a conspiracy theorist, but my own ISP, Time Warner, has H-1Bs that I suspect of targeting me.\n",
      "me:PRP:pobj:1 Yes, he is a conspiracy theorist, and yes the the trailer quotes \"The Onion\" but to me it just seems common-sense to invest more in commodities and skills with intrinsic value such as farmland, seeds and gold.\n",
      "we:PRP:nsubj:1 From \n",
      "TwoChoice's history\n",
      " we know he's a conspiracy theorist and put on a headline hoping no one would watch with a critical eye.\n",
      "You:PRP:nsubj:2 You think 911 conspiracy theorists are paranoid?\n",
      "me:PRP:pobj:1 He seems like any other conspiracy theorist, only he appears to do an especially good job of straddling the boundary of believability (at least for me, someone who is inherently skeptical).\n",
      "I:PRP:nsubj:1 I'm not some crazy conspiracy theorist, I haven't seen aliens but I'm certain\n",
      "I:PRP:nsubj:1 I am not a conspiracy theorist, nor do I claim that the US government had no prior knowledge about 9/11.\n",
      "you:PRP:dobj:2 Fuck you, conspiracy theorist denier.\n",
      "you:PRP:dobj:2 Fuck you, conspiracy theorist truther.\n",
      "your:PRP$:poss:2 Fifty years from now, your children will proudly say their father was a conspiracy theorist.\n",
      "our:PRP$:poss:1 The conspiracy theorists have warned since before the start of the wars in Iraq and Afghanistan that our government lied to us to invade these nations, that these wars were nothing but imperialist struggles, and warned that the effects would be horrendous.\n",
      "We:PRP:nsubj:1 We had the biggest anti-war protests in recorded history, but the governments conspired to start a war nonetheless, proving the conspiracy theorists right when they claim we do not live in Democratic nations.\n",
      "our:PRP$:poss:1 The conspiracy theorists are standing up for the millions of innocent people who die unnecessary deaths due to conspiracies engaged in by our elites.\n",
      "you:PRP:nsubjpass:2 If you decide to be a conspiracy theorist, you are met with vile hatred.\n",
      "You:PRP:nsubj:2 You, the conspiracy theorists\n",
      "your:PRP$:poss:2 The conspiracies that happen today will eventually be exposed as well, and 50 years from now, your children will proudly say their father was a conspiracy theorist.\n",
      "I:PRP:nsubj:1 I know there are conspiracy theorists, and then there are theories of conspiracy, and everything in between.\n",
      "I:PRP:nsubj:1 I don’t mind if your right wing, left, a world news buff, or a fringe conspiracist, where do you get your dose of news from?\n",
      "I:PRP:nsubj:1 Instead I called him an unscientific conspiracy theorist, because that's what he is.\n",
      "your:PRP$:poss:2 your friend turn into unrational, super-unscientific populist conspiracy theorists\n",
      "us:PRP:pobj:1 that the rest of us are seen as 'crazy conspiracy theorists'\n",
      "me:PRP:dobj:1 that strike me as the off-the-wall conspiracy theorist types\n",
      "you:PRP:nsubj:2 as the conspiracy theorists would have you believe,\n",
      "me:PRP:dobj:1 http://www.glbtq.com/social-sciences/boycotts.html\n",
      "\n",
      "\n",
      "\n",
      "\n",
      "Call me a conspiracy theorist or even crazy, but I know what money does to people.\n",
      "my:PRP$:poss:1 \"\n",
      "\n",
      "\n",
      "Of course this is all in my imagination as a few paid conspiracist accusers will quickly point out to me right out of the playbook.\n",
      "we:PRP:nsubj:1 we also encourage any conspiracy theorist to debate us.\n",
      "We:PRP:nsubj:1 We're an open-minded crowd and willing to be convinced, provided the conspiracy theorist provides sufficient evidence to support his position!\n",
      "I:PRP:nsubj:1 I don't know if it has a name, but it certainly has a lot of conspiracy theorists engaged by it: basically, I can hear/feel low frequency vibrations.\n",
      "you:PRP:pobj:2 Some of you might just know Jim as being the least attractive member of The Corrs but he is also a crazy conspiracy theorist.\n",
      "I:PRP:nsubj:1 I'm not generally a big conspiracy theorist or I'd be posting this in the appropriate subreddit\n",
      "I:PRP:nsubj:1 The Dalai Lama: questionable activities?\n",
      "I don't want to sound like a crazed conspiracy theorist, but after doing some research I'm a bit taken aback by some of the things the Dalai Lama has done.\n",
      "I:PRP:nsubj:1 Am I being a conspiracy theorist or is this normal connection behavior?\n",
      "\n",
      "\n",
      "edit: Looks like it's normal then.\n",
      "yourself:PRP:dobj:2 For instance, to label yourself as a, \"conspiracy theorist\"\n",
      "I:PRP:nsubj:1 I'm not really a conspiracy theorist, but sometimes I feel like they just want people to get frustrated and stop pumping before they've gotten all the gas they've paid for (I have done this when in a real hurry).\n",
      "you:PRP:nsubj:2 While you are right to mock \n",
      "some\n",
      " of the conspiracy theorists\n",
      "you:PRP:nsubj:2 While you are right to mock some of the conspiracy theorists\n",
      "you:PRP:nsubj:2 Do you think the level of critical thinking demonstrated among the various online communities dedicated to conspiratorial investigation is adequate, or even too much?\n",
      "\n",
      "\n",
      "TL;DR\n",
      " Are the online conspiracy theorist communities doing more harm than good by frequently not requiring stringent evidence before claiming something is true, rather than claiming something \n",
      "might\n",
      " be true, but has yet to be determined?\n",
      "I:PRP:nsubj:1 Sometimes I wonder if conspiracy theorists who think the internet was created as a distraction to the masses have a point.\n",
      "you:PRP:nsubj:2 Who here is believes that the 9/11 commission really did get to the bottom of the issue and that it was indeed 19 Arab hijackers? \n",
      "\n",
      "Follow up question\n",
      ": If so, do you consider yourself to be a conspiracy theorist and why?\n",
      "I:PRP:nsubj:1 I'm not a conspiracy theorist... but damn, burning down a house of evidence\n",
      "I:PRP:nsubj:1 PS: I am not a conspiracy theorist.\n",
      "my:PRP$:poss:1 my conspiracy theorist friend\n",
      "I:PRP:nsubj:1 This is just a small sample of my gripes with the site, I see a lot of comments I agree that with shot down and ridiculed just because they're more of a conservative nature and less of a conspiracy theorist type \"America is out to get us, destroy us, keep us down etc etc. rah rah\n",
      "I:PRP:nsubj:1 I don't want to sound like a conspiracy theorist, but it sure does give a lot of power to corporations and those who own power in those corporations\n",
      "tl;dr representation is held hostage to corporate power and wealth\n",
      "me:PRP:dobj:1 Call me a conspiracy theorist but this is too much of a coincidence.\n",
      "I:PRP:nsubj:1 If so, how?\n",
      "I have a friend that is a right-wing conspiracy theorist and he and his wife moved to Hawaii.\n",
      "I:PRP:nsubj:1 What technology do you think is exists, but is deliberately kept from the public for whatever reason?\n",
      "Conspiracy theorists welcomed, I just hope I can follow your logic.\n",
      "I:PRP:nsubj:1 Today I only read news about the \"bad\" web!!\n",
      "\n",
      "\n",
      "\n",
      "\n",
      "hacked companys for (no) reason\n",
      "\n",
      "\n",
      "Bitcoin is bad\n",
      "\n",
      "\n",
      "ddos attacks\n",
      "\n",
      "\n",
      "Cyber Combat: Act of War\n",
      "\n",
      "\n",
      "conspiracy theorists\n",
      "\n",
      "\n",
      "\n",
      "\n",
      "and many many more...\n",
      "I:PRP:nsubj:1 I hate to be the \"conspiracy theorist\" (,) but the randomness of your accomplishments makes any message larger than \"internet securitee is lulz!!\"\n",
      "I:PRP:nsubj:1 I guess it's okay to be a conspiracy theorist when you've made it to the top.\n",
      "I:PRP:nsubj:1 I guess it's okay to be a conspiracy theorist when you've already made it to the top.\n",
      "I:PRP:nsubj:1 I may be a bit drunk at the moment and a bit of a conspiracist\n",
      "I:PRP:nsubjpass:1 I am being painted as a conspiracy theorist any advice on how to handle this situation?\n",
      "We:PRP:nsubjpass:1 We (the contributers) are being painted as conspiracy theorists, nutjubs and scumbags for questioing the official story, but we are still filming.\n",
      "I:PRP:nsubj:1 Yeah, I do realize some people will start trying to hang the flaming tire of \"conspiracy theorist\" around my neck, but anyone who studies history knows that dirty tricks make the world go 'round.\n",
      "I:PRP:nsubj:1 I assure you he isn't the conspiracy theorist in this relationship.\n",
      "I:PRP:nsubj:1 If Called A Conspiricy Theorist\n",
      "When called a conspiracy theorist I counter that I am a systems theorist and government is one big system.\n",
      "I:PRP:nsubj:1 I would say to a counter conspiracist out there if you object to my observations of the American system you should move to a country that doesn't protect such expression.\n",
      "I:PRP:nsubj:1 Alan Moore on Conspiracy Theories\n",
      "Doing research into conspiracy theories for his work on Brought to Light, he came to develop his own opinions on the subject of a global conspiracy, stating that \"Yes, there is a conspiracy, indeed there are a great number of conspiracies, all tripping each other up… the main thing that I learned about conspiracy theories is that conspiracy theorists actually believe in the conspiracy because that is more comforting.\n",
      "I:PRP:nsubj:1 part II\n",
      "\n",
      "\n",
      "I can also guarantee that very few of you, if any at all, will simply accuse me of being a conspiracy theorist, mentally ill, a misogynist or any other number of insults before reading any of the above all because I'm questioning that which has been declared off limits to scrutiny.\n",
      "I:PRP:nsubj:1 People are calling this man a conspiracy theorist, but I believe him.\n",
      "I:PRP:nsubj:1 People are calling this man a conspiracy theorist, but I believe him.\n",
      "I:PRP:nsubj:1 People are calling this man a conspiracy theorist, but I believe him.\n",
      "you:PRP:nsubj:2 Do with it what you will, but I wouldn't be a good conspiracy theorist if I didn't at least mention it to you all.\n",
      "I:PRP:nsubj:1 I'm simply being sceptical (like a conspiracy theorist) to these random, unbelievable (for the moment), theories.\n",
      "us:PRP:dobj:1 One of my professors is assigning us to watch Zeitgeist: The Movie\n",
      "Turns out, the professor is not a conspiracy theorist, as I had originally feared.\n",
      "I:PRP:nsubj:1 I'm not trying to sound like some crazy conspiracy theorist, but during hurricane Katina citizens guns were \n",
      "confiscated\n",
      ".\n",
      "I:PRP:nsubj:1 So I used to be a big conspiracy theorist and thought the world was going to end in 2012 etc etc... but over time I felt my views may have been misinformed someway and maybe a little to \"hokey\".\n",
      "me:PRP:dobj:1 Challenge: Prove me that 9/11 was done completely \n",
      "or mostly by Al-Qaeda\n",
      "I am not a hardcore conspiracy theorist but I do believe that the US government was behind 9/11.\n",
      "I:PRP:nsubj:1 \"Why I haven't mentioned Discovery's final mission \n",
      "to my fiancée\" OR \"My fiancée is a conspiracy nut, \n",
      "AMA\"\n",
      "She thinks that Neil Armstrong was a teacher/conspiracy theorist who was killed by NASA.\n",
      "I:PRP:nsubj:1 I encourage the conspiracy theorists to question.\n",
      "you:PRP:nsubj:2 because you don't want those 2012 conspiracy theorists proven right when Supreme Chancellor Palin nukes Peru shortly after assuming power\n",
      "I:PRP:nsubj:1 I'm not an anarchist, I'm not a conspiracy theorist, hell in most senses I'm quite a \"normal guy\" - but there are very profound moments that have been occurring more and more often where I gain some perspective on my meaningless little existence and wonder why I don't sack-up and push myself to the boundaries of what is emotionally and intellectually acceptable in our rigid confines of 21st century American existence.\n",
      "I:PRP:nsubj:1 I'm not sure at I go what point from being a reactionary conspiracist to 1 of a million cars stuck on the freeway trying to escape the nuclear fallout cloud heading out way.\n",
      "me:PRP:pobj:1 the conspiracy theorist in me\n",
      "I:PRP:nsubj:1 I would not describe myself as a conspiracy theorist, not until tonight at least.\n"
     ]
    }
   ],
   "source": [
    "for pron_span, subtree in strategy_3:\n",
    "    # print(list(subtree))\n",
    "    print(f\"{pron_span}:{pron_span.root.tag_}:{pron_span.root.dep_}:{pron_span.root.morph.to_dict().get('Person', None)} {''.join(i.text_with_ws for i in subtree).strip()}\")\n"
   ],
   "metadata": {
    "collapsed": false,
    "ExecuteTime": {
     "start_time": "2023-07-03T20:02:22.796574Z",
     "end_time": "2023-07-03T20:02:22.821570Z"
    }
   }
  },
  {
   "cell_type": "code",
   "execution_count": 73,
   "outputs": [
    {
     "ename": "AttributeError",
     "evalue": "'spacy.tokens.morphanalysis.MorphAnalysis' object has no attribute 'to_dict'",
     "output_type": "error",
     "traceback": [
      "\u001B[1;31m---------------------------------------------------------------------------\u001B[0m",
      "\u001B[1;31mAttributeError\u001B[0m                            Traceback (most recent call last)",
      "Cell \u001B[1;32mIn[73], line 3\u001B[0m\n\u001B[0;32m      1\u001B[0m \u001B[38;5;28;01mfor\u001B[39;00m token \u001B[38;5;129;01min\u001B[39;00m nlp(\u001B[38;5;124m\"\u001B[39m\u001B[38;5;124mI\u001B[39m\u001B[38;5;124m'\u001B[39m\u001B[38;5;124mm not usually the conspiracy theorist/super skeptic guy, but I think I have some insight into this whole situation.\u001B[39m\u001B[38;5;124m\"\u001B[39m):\n\u001B[0;32m      2\u001B[0m   morph \u001B[38;5;241m=\u001B[39m nlp\u001B[38;5;241m.\u001B[39mvocab\u001B[38;5;241m.\u001B[39mmorphology\u001B[38;5;241m.\u001B[39mtag_map[token\u001B[38;5;241m.\u001B[39mtag_]\n\u001B[1;32m----> 3\u001B[0m   \u001B[38;5;28mprint\u001B[39m(token, morph, \u001B[43mtoken\u001B[49m\u001B[38;5;241;43m.\u001B[39;49m\u001B[43mmorph\u001B[49m\u001B[38;5;241;43m.\u001B[39;49m\u001B[43mto_dict\u001B[49m())\n",
      "\u001B[1;31mAttributeError\u001B[0m: 'spacy.tokens.morphanalysis.MorphAnalysis' object has no attribute 'to_dict'"
     ]
    }
   ],
   "source": [
    "labeling_span.root,"
   ],
   "metadata": {
    "collapsed": false,
    "ExecuteTime": {
     "start_time": "2023-07-03T18:52:48.490608Z",
     "end_time": "2023-07-03T18:52:48.531893Z"
    }
   }
  },
  {
   "cell_type": "code",
   "execution_count": 70,
   "outputs": [
    {
     "data": {
      "text/plain": "{74: 95, 'PronType_prs': True}"
     },
     "execution_count": 70,
     "metadata": {},
     "output_type": "execute_result"
    }
   ],
   "source": [
    "doc = nlp(\"I'm not a conspiracy theorist but I believe in ufos\")\n",
    "for chunk in doc.noun_chunks:\n",
    "    print(chunk)"
   ],
   "metadata": {
    "collapsed": false,
    "ExecuteTime": {
     "start_time": "2023-07-03T18:50:19.919856Z",
     "end_time": "2023-07-03T18:50:19.941869Z"
    }
   }
  },
  {
   "cell_type": "code",
   "execution_count": 75,
   "outputs": [
    {
     "data": {
      "text/plain": "'2.3.9'"
     },
     "execution_count": 75,
     "metadata": {},
     "output_type": "execute_result"
    }
   ],
   "source": [
    "print(chunk.root.sent, chunk.root.sent.get_lca_matrix())"
   ],
   "metadata": {
    "collapsed": false,
    "ExecuteTime": {
     "start_time": "2023-07-03T18:54:53.518389Z",
     "end_time": "2023-07-03T18:54:53.529408Z"
    }
   }
  },
  {
   "cell_type": "code",
   "execution_count": 40,
   "outputs": [
    {
     "name": "stdout",
     "output_type": "stream",
     "text": [
      "anyone\n",
      "who\n",
      "the real Alex jones\n",
      "he\n",
      "a conspiracy theorist\n",
      "the main suspects\n",
      "name\n",
      "Alex jones\n",
      "the father\n",
      "a doomsday prepper\n",
      "anyone\n",
      "I\n"
     ]
    }
   ],
   "source": [
    "# find the labeling span\n",
    "# get the root of the span\n",
    "# get the sentence\n",
    "# find all pronouns (you)/det poss (your)/propn? (yours)\n",
    "# find the common ancestor between pronouns* and labeling root\n",
    "# check for verbs in the middle; look for negated"
   ],
   "metadata": {
    "collapsed": false,
    "ExecuteTime": {
     "start_time": "2023-07-03T12:43:33.799813Z",
     "end_time": "2023-07-03T12:43:33.846843Z"
    }
   }
  },
  {
   "cell_type": "code",
   "execution_count": 41,
   "outputs": [
    {
     "name": "stdout",
     "output_type": "stream",
     "text": [
      "knows INTRANVERB\n",
      "is INTRANVERB\n",
      "'s INTRANVERB\n",
      "pointing INTRANVERB\n",
      "is INTRANVERB\n",
      "is INTRANVERB\n",
      "does INTRANVERB\n",
      "feel INTRANVERB\n",
      "am INTRANVERB\n",
      "being INTRANVERB\n"
     ]
    }
   ],
   "source": [
    "options = {\"compact\": True, \"bg\": \"#09a3d5\",\n",
    "           \"color\": \"white\", \"font\": \"Source Sans Pro\"}\n",
    "displacy.render(nlp('Everyone who says otherwise is an extremist  conspiracy theorist.'), style=\"dep\", options=options)\n"
   ],
   "metadata": {
    "collapsed": false,
    "ExecuteTime": {
     "start_time": "2023-07-03T12:43:35.620710Z",
     "end_time": "2023-07-03T12:43:35.642642Z"
    }
   }
  },
  {
   "cell_type": "code",
   "execution_count": 53,
   "outputs": [
    {
     "data": {
      "text/plain": "<IPython.core.display.HTML object>",
      "text/html": "<span class=\"tex2jax_ignore\"><svg xmlns=\"http://www.w3.org/2000/svg\" xmlns:xlink=\"http://www.w3.org/1999/xlink\" xml:lang=\"en\" id=\"35c59daa50dd4479b61751cc29cd4e9b-0\" class=\"displacy\" width=\"1100\" height=\"362.0\" direction=\"ltr\" style=\"max-width: none; height: 362.0px; color: white; background: #09a3d5; font-family: Source Sans Pro; direction: ltr\">\n<text class=\"displacy-token\" fill=\"currentColor\" text-anchor=\"middle\" y=\"272.0\">\n    <tspan class=\"displacy-word\" fill=\"currentColor\" x=\"50\">I</tspan>\n    <tspan class=\"displacy-tag\" dy=\"2em\" fill=\"currentColor\" x=\"50\">PRON</tspan>\n</text>\n\n<text class=\"displacy-token\" fill=\"currentColor\" text-anchor=\"middle\" y=\"272.0\">\n    <tspan class=\"displacy-word\" fill=\"currentColor\" x=\"200\">'ll</tspan>\n    <tspan class=\"displacy-tag\" dy=\"2em\" fill=\"currentColor\" x=\"200\">VERB</tspan>\n</text>\n\n<text class=\"displacy-token\" fill=\"currentColor\" text-anchor=\"middle\" y=\"272.0\">\n    <tspan class=\"displacy-word\" fill=\"currentColor\" x=\"350\">call</tspan>\n    <tspan class=\"displacy-tag\" dy=\"2em\" fill=\"currentColor\" x=\"350\">VERB</tspan>\n</text>\n\n<text class=\"displacy-token\" fill=\"currentColor\" text-anchor=\"middle\" y=\"272.0\">\n    <tspan class=\"displacy-word\" fill=\"currentColor\" x=\"500\">you</tspan>\n    <tspan class=\"displacy-tag\" dy=\"2em\" fill=\"currentColor\" x=\"500\">PRON</tspan>\n</text>\n\n<text class=\"displacy-token\" fill=\"currentColor\" text-anchor=\"middle\" y=\"272.0\">\n    <tspan class=\"displacy-word\" fill=\"currentColor\" x=\"650\">a</tspan>\n    <tspan class=\"displacy-tag\" dy=\"2em\" fill=\"currentColor\" x=\"650\">DET</tspan>\n</text>\n\n<text class=\"displacy-token\" fill=\"currentColor\" text-anchor=\"middle\" y=\"272.0\">\n    <tspan class=\"displacy-word\" fill=\"currentColor\" x=\"800\">conspiracy</tspan>\n    <tspan class=\"displacy-tag\" dy=\"2em\" fill=\"currentColor\" x=\"800\">NOUN</tspan>\n</text>\n\n<text class=\"displacy-token\" fill=\"currentColor\" text-anchor=\"middle\" y=\"272.0\">\n    <tspan class=\"displacy-word\" fill=\"currentColor\" x=\"950\">theorist</tspan>\n    <tspan class=\"displacy-tag\" dy=\"2em\" fill=\"currentColor\" x=\"950\">NOUN</tspan>\n</text>\n\n<g class=\"displacy-arrow\">\n    <path class=\"displacy-arc\" id=\"arrow-35c59daa50dd4479b61751cc29cd4e9b-0-0\" stroke-width=\"2px\" d=\"M62,227.0 62,177.0 347.0,177.0 347.0,227.0\" fill=\"none\" stroke=\"currentColor\"/>\n    <text dy=\"1.25em\" style=\"font-size: 0.8em; letter-spacing: 1px\">\n        <textPath xlink:href=\"#arrow-35c59daa50dd4479b61751cc29cd4e9b-0-0\" class=\"displacy-label\" startOffset=\"50%\" side=\"left\" fill=\"currentColor\" text-anchor=\"middle\">nsubj</textPath>\n    </text>\n    <path class=\"displacy-arrowhead\" d=\"M62,229.0 L58,221.0 66,221.0\" fill=\"currentColor\"/>\n</g>\n\n<g class=\"displacy-arrow\">\n    <path class=\"displacy-arc\" id=\"arrow-35c59daa50dd4479b61751cc29cd4e9b-0-1\" stroke-width=\"2px\" d=\"M212,227.0 212,202.0 344.0,202.0 344.0,227.0\" fill=\"none\" stroke=\"currentColor\"/>\n    <text dy=\"1.25em\" style=\"font-size: 0.8em; letter-spacing: 1px\">\n        <textPath xlink:href=\"#arrow-35c59daa50dd4479b61751cc29cd4e9b-0-1\" class=\"displacy-label\" startOffset=\"50%\" side=\"left\" fill=\"currentColor\" text-anchor=\"middle\">aux</textPath>\n    </text>\n    <path class=\"displacy-arrowhead\" d=\"M212,229.0 L208,221.0 216,221.0\" fill=\"currentColor\"/>\n</g>\n\n<g class=\"displacy-arrow\">\n    <path class=\"displacy-arc\" id=\"arrow-35c59daa50dd4479b61751cc29cd4e9b-0-2\" stroke-width=\"2px\" d=\"M362,227.0 362,202.0 494.0,202.0 494.0,227.0\" fill=\"none\" stroke=\"currentColor\"/>\n    <text dy=\"1.25em\" style=\"font-size: 0.8em; letter-spacing: 1px\">\n        <textPath xlink:href=\"#arrow-35c59daa50dd4479b61751cc29cd4e9b-0-2\" class=\"displacy-label\" startOffset=\"50%\" side=\"left\" fill=\"currentColor\" text-anchor=\"middle\">dobj</textPath>\n    </text>\n    <path class=\"displacy-arrowhead\" d=\"M494.0,229.0 L498.0,221.0 490.0,221.0\" fill=\"currentColor\"/>\n</g>\n\n<g class=\"displacy-arrow\">\n    <path class=\"displacy-arc\" id=\"arrow-35c59daa50dd4479b61751cc29cd4e9b-0-3\" stroke-width=\"2px\" d=\"M662,227.0 662,177.0 947.0,177.0 947.0,227.0\" fill=\"none\" stroke=\"currentColor\"/>\n    <text dy=\"1.25em\" style=\"font-size: 0.8em; letter-spacing: 1px\">\n        <textPath xlink:href=\"#arrow-35c59daa50dd4479b61751cc29cd4e9b-0-3\" class=\"displacy-label\" startOffset=\"50%\" side=\"left\" fill=\"currentColor\" text-anchor=\"middle\">det</textPath>\n    </text>\n    <path class=\"displacy-arrowhead\" d=\"M662,229.0 L658,221.0 666,221.0\" fill=\"currentColor\"/>\n</g>\n\n<g class=\"displacy-arrow\">\n    <path class=\"displacy-arc\" id=\"arrow-35c59daa50dd4479b61751cc29cd4e9b-0-4\" stroke-width=\"2px\" d=\"M812,227.0 812,202.0 944.0,202.0 944.0,227.0\" fill=\"none\" stroke=\"currentColor\"/>\n    <text dy=\"1.25em\" style=\"font-size: 0.8em; letter-spacing: 1px\">\n        <textPath xlink:href=\"#arrow-35c59daa50dd4479b61751cc29cd4e9b-0-4\" class=\"displacy-label\" startOffset=\"50%\" side=\"left\" fill=\"currentColor\" text-anchor=\"middle\">compound</textPath>\n    </text>\n    <path class=\"displacy-arrowhead\" d=\"M812,229.0 L808,221.0 816,221.0\" fill=\"currentColor\"/>\n</g>\n\n<g class=\"displacy-arrow\">\n    <path class=\"displacy-arc\" id=\"arrow-35c59daa50dd4479b61751cc29cd4e9b-0-5\" stroke-width=\"2px\" d=\"M362,227.0 362,152.0 950.0,152.0 950.0,227.0\" fill=\"none\" stroke=\"currentColor\"/>\n    <text dy=\"1.25em\" style=\"font-size: 0.8em; letter-spacing: 1px\">\n        <textPath xlink:href=\"#arrow-35c59daa50dd4479b61751cc29cd4e9b-0-5\" class=\"displacy-label\" startOffset=\"50%\" side=\"left\" fill=\"currentColor\" text-anchor=\"middle\">oprd</textPath>\n    </text>\n    <path class=\"displacy-arrowhead\" d=\"M950.0,229.0 L954.0,221.0 946.0,221.0\" fill=\"currentColor\"/>\n</g>\n</svg></span>"
     },
     "metadata": {},
     "output_type": "display_data"
    }
   ],
   "source": [
    "options = {\"compact\": True, \"bg\": \"#09a3d5\",\n",
    "           \"color\": \"white\", \"font\": \"Source Sans Pro\"}\n",
    "displacy.render(span.sent, style=\"dep\", options=options)\n"
   ],
   "metadata": {
    "collapsed": false,
    "ExecuteTime": {
     "start_time": "2023-07-03T18:26:38.055672Z",
     "end_time": "2023-07-03T18:26:38.147148Z"
    }
   }
  },
  {
   "cell_type": "code",
   "execution_count": 29,
   "outputs": [],
   "source": [
    "sent = span.sent\n",
    "\"you\" in {tok.text.lower() for tok in sent}"
   ],
   "metadata": {
    "collapsed": false,
    "ExecuteTime": {
     "start_time": "2023-06-24T15:06:13.179593Z",
     "end_time": "2023-06-24T15:06:13.194896Z"
    }
   }
  },
  {
   "cell_type": "code",
   "execution_count": null,
   "outputs": [],
   "source": [],
   "metadata": {
    "collapsed": false
   }
  }
 ],
 "metadata": {
  "kernelspec": {
   "display_name": "Python 3",
   "language": "python",
   "name": "python3"
  },
  "language_info": {
   "codemirror_mode": {
    "name": "ipython",
    "version": 2
   },
   "file_extension": ".py",
   "mimetype": "text/x-python",
   "name": "python",
   "nbconvert_exporter": "python",
   "pygments_lexer": "ipython2",
   "version": "2.7.6"
  }
 },
 "nbformat": 4,
 "nbformat_minor": 0
}
