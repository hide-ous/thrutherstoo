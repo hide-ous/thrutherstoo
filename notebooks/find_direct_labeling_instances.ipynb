{
 "cells": [
  {
   "cell_type": "code",
   "execution_count": 1,
   "metadata": {
    "collapsed": true,
    "ExecuteTime": {
     "end_time": "2023-10-02T09:37:23.481904100Z",
     "start_time": "2023-10-02T09:37:20.042661500Z"
    }
   },
   "outputs": [],
   "source": [
    "import json\n",
    "import re\n",
    "from collections import defaultdict\n",
    "\n",
    "import pandas as pd\n",
    "import spacy\n",
    "from IPython.core.display import HTML\n",
    "from bs4 import BeautifulSoup\n",
    "from markdown import markdown\n",
    "from spacy import displacy\n",
    "from spacy.matcher import Matcher\n",
    "from textacy.spacier.utils import get_subjects_of_verb, \\\n",
    "    get_objects_of_verb\n",
    "\n",
    "from src.features.perspective import parse_summary_scores"
   ]
  },
  {
   "cell_type": "code",
   "execution_count": 2,
   "outputs": [],
   "source": [
    "def get_permalink(contribution):\n",
    "    # print(contribution)\n",
    "    return f'https://new.reddit.com/r/{contribution.subreddit}/comments/{contribution.link_fullname.split(\"_\")[-1]}/comment/{contribution.fullname.split(\"_\")[-1]}/'\n",
    "\n"
   ],
   "metadata": {
    "collapsed": false,
    "ExecuteTime": {
     "end_time": "2023-10-02T09:37:23.484905500Z",
     "start_time": "2023-10-02T09:37:23.481904100Z"
    }
   }
  },
  {
   "cell_type": "code",
   "execution_count": 3,
   "outputs": [],
   "source": [
    "# spacy.cli.download('en_core_web_lg')"
   ],
   "metadata": {
    "collapsed": false,
    "ExecuteTime": {
     "end_time": "2023-10-02T09:37:23.529543900Z",
     "start_time": "2023-10-02T09:37:23.484905500Z"
    }
   }
  },
  {
   "cell_type": "code",
   "execution_count": 4,
   "outputs": [],
   "source": [
    "# df = pd.read_json('../data/interim/labeling_contributions_preprocessed_no_bot.jsonl', orient='records', lines=True)[[ 'author', 'created_utc',\n",
    "#        'permalink', 'retrieved_on', 'rte_mode', 'score',\n",
    "#        'subreddit',\n",
    "#        'subreddit_type',\n",
    "#        'contribution_type', 'text', 'fullname', 'parent_fullname',\n",
    "#        'link_fullname', 'preprocessed_text', 'processed_text']]\n",
    "# df = df[df.contribution_type=='comment'] # limit to comments\n",
    "with pd.read_json('../data/interim/labeling_contributions_preprocessed_no_bot.jsonl', orient='records', lines=True, chunksize=500) as reader:\n",
    "    df = pd.concat(chunk[chunk.contribution_type=='comment'][[ 'author', 'created_utc',\n",
    "           'subreddit','text', 'fullname', 'parent_fullname',\n",
    "           'link_fullname',]] for chunk in reader)"
   ],
   "metadata": {
    "collapsed": false,
    "ExecuteTime": {
     "end_time": "2023-10-02T09:38:23.066648200Z",
     "start_time": "2023-10-02T09:37:23.518547400Z"
    }
   }
  },
  {
   "cell_type": "code",
   "execution_count": 5,
   "outputs": [],
   "source": [
    "def plain_text_without_quotes(txt):\n",
    "    # md -> html -> text since BeautifulSoup can extract text cleanly\n",
    "    html = markdown(txt)\n",
    "\n",
    "    # remove code snippets\n",
    "    html = re.sub(r'<pre>(.*?)</pre>', ' ', html)\n",
    "    html = re.sub(r'<code>(.*?)</code >', ' ', html)\n",
    "    # extract text\n",
    "    soup = BeautifulSoup(html, \"html.parser\")\n",
    "    for quote in filter(lambda p: p.text.strip().startswith('>'),\n",
    "                        soup.find_all('p')):\n",
    "        quote.replaceWith('...[QUOTE]...')\n",
    "\n",
    "    return '\\n'.join(soup.findAll(string=True))\n"
   ],
   "metadata": {
    "collapsed": false,
    "ExecuteTime": {
     "end_time": "2023-10-02T09:38:23.082589600Z",
     "start_time": "2023-10-02T09:38:23.068650400Z"
    }
   }
  },
  {
   "cell_type": "code",
   "execution_count": 6,
   "outputs": [],
   "source": [
    "df['dequoted_text'] = df.text.apply(plain_text_without_quotes)"
   ],
   "metadata": {
    "collapsed": false,
    "ExecuteTime": {
     "end_time": "2023-10-02T09:46:56.932917600Z",
     "start_time": "2023-10-02T09:38:23.083552400Z"
    }
   }
  },
  {
   "cell_type": "code",
   "execution_count": 7,
   "outputs": [],
   "source": [
    "with open('../data/interim/perspective/labeling_contributions_preprocessed_no_bot_perspective.jsonl', encoding='utf8') as f:\n",
    "    perspectives = dict()\n",
    "    for obj in map(json.loads, f):\n",
    "        k, v = list(obj.items())[0]\n",
    "        perspectives[k] = parse_summary_scores(v)\n",
    "perspective_df = pd.DataFrame(perspectives).T\n",
    "\n",
    "\n",
    "with open('../data/interim/liwc/labeling_contributions_preprocessed_no_bot_liwc.jsonl', encoding='utf8') as f:\n",
    "    liwcs = dict()\n",
    "    for obj in map(json.loads, f):\n",
    "        liwcs.update(obj)\n",
    "liwc_df = pd.DataFrame(liwcs).T\n",
    "with open('../data/interim/social_dimensions/labeling_contributions_preprocessed_no_bot_social_dimensions.jsonl', encoding='utf8') as f:\n",
    "    social_dimensions = dict()\n",
    "    for obj in map(json.loads, f):\n",
    "        social_dimensions.update(obj)\n",
    "social_dimensions_df = pd.DataFrame(social_dimensions).T\n"
   ],
   "metadata": {
    "collapsed": false,
    "ExecuteTime": {
     "end_time": "2023-10-02T09:48:41.014387300Z",
     "start_time": "2023-10-02T09:46:56.936918Z"
    }
   }
  },
  {
   "cell_type": "code",
   "execution_count": 8,
   "outputs": [],
   "source": [
    "df = pd.merge(df, perspective_df, how='left', left_on='fullname', right_index=True)\n",
    "df = pd.merge(df, social_dimensions_df, how='left', left_on='fullname', right_index=True)\n",
    "df = pd.merge(df, liwc_df, how='left', left_on='fullname', right_index=True)"
   ],
   "metadata": {
    "collapsed": false,
    "ExecuteTime": {
     "end_time": "2023-10-02T09:48:45.240384400Z",
     "start_time": "2023-10-02T09:48:41.013388800Z"
    }
   }
  },
  {
   "cell_type": "code",
   "execution_count": 33,
   "outputs": [
    {
     "data": {
      "text/plain": "   fullname    attack     toxic   bonding  rational    status\n0  t1_c2608  0.336252  0.025763 -1.628081  0.918836 -0.304072\n1  t1_c6146 -0.385578 -0.461117 -1.004141 -0.046233  5.747430\n2  t1_c17zz -0.462917 -0.543348  5.070771  2.952260  6.803712\n3  t1_c1bq8  0.192129 -0.224030 -0.678638 -1.072955 -2.297167\n4  t1_c3xes -0.119972 -0.512010 -1.940889 -2.064472 -2.300674",
      "text/html": "<div>\n<style scoped>\n    .dataframe tbody tr th:only-of-type {\n        vertical-align: middle;\n    }\n\n    .dataframe tbody tr th {\n        vertical-align: top;\n    }\n\n    .dataframe thead th {\n        text-align: right;\n    }\n</style>\n<table border=\"1\" class=\"dataframe\">\n  <thead>\n    <tr style=\"text-align: right;\">\n      <th></th>\n      <th>fullname</th>\n      <th>attack</th>\n      <th>toxic</th>\n      <th>bonding</th>\n      <th>rational</th>\n      <th>status</th>\n    </tr>\n  </thead>\n  <tbody>\n    <tr>\n      <th>0</th>\n      <td>t1_c2608</td>\n      <td>0.336252</td>\n      <td>0.025763</td>\n      <td>-1.628081</td>\n      <td>0.918836</td>\n      <td>-0.304072</td>\n    </tr>\n    <tr>\n      <th>1</th>\n      <td>t1_c6146</td>\n      <td>-0.385578</td>\n      <td>-0.461117</td>\n      <td>-1.004141</td>\n      <td>-0.046233</td>\n      <td>5.747430</td>\n    </tr>\n    <tr>\n      <th>2</th>\n      <td>t1_c17zz</td>\n      <td>-0.462917</td>\n      <td>-0.543348</td>\n      <td>5.070771</td>\n      <td>2.952260</td>\n      <td>6.803712</td>\n    </tr>\n    <tr>\n      <th>3</th>\n      <td>t1_c1bq8</td>\n      <td>0.192129</td>\n      <td>-0.224030</td>\n      <td>-0.678638</td>\n      <td>-1.072955</td>\n      <td>-2.297167</td>\n    </tr>\n    <tr>\n      <th>4</th>\n      <td>t1_c3xes</td>\n      <td>-0.119972</td>\n      <td>-0.512010</td>\n      <td>-1.940889</td>\n      <td>-2.064472</td>\n      <td>-2.300674</td>\n    </tr>\n  </tbody>\n</table>\n</div>"
     },
     "execution_count": 33,
     "metadata": {},
     "output_type": "execute_result"
    }
   ],
   "source": [
    "correlate_df = pd.read_csv('../data/interim/sampling_features/sampling_features.csv')\n",
    "correlate_df.head()"
   ],
   "metadata": {
    "collapsed": false,
    "ExecuteTime": {
     "end_time": "2023-10-04T13:30:45.049720500Z",
     "start_time": "2023-10-04T13:30:43.959787Z"
    }
   }
  },
  {
   "cell_type": "code",
   "execution_count": 34,
   "outputs": [
    {
     "data": {
      "text/plain": "            attack     toxic   bonding  rational    status\nattack    1.000000  0.049203  0.150347 -0.092376 -0.155971\ntoxic     0.049203  1.000000  0.123159 -0.016257 -0.009546\nbonding   0.150347  0.123159  1.000000  0.205250  0.449680\nrational -0.092376 -0.016257  0.205250  1.000000  0.220593\nstatus   -0.155971 -0.009546  0.449680  0.220593  1.000000",
      "text/html": "<div>\n<style scoped>\n    .dataframe tbody tr th:only-of-type {\n        vertical-align: middle;\n    }\n\n    .dataframe tbody tr th {\n        vertical-align: top;\n    }\n\n    .dataframe thead th {\n        text-align: right;\n    }\n</style>\n<table border=\"1\" class=\"dataframe\">\n  <thead>\n    <tr style=\"text-align: right;\">\n      <th></th>\n      <th>attack</th>\n      <th>toxic</th>\n      <th>bonding</th>\n      <th>rational</th>\n      <th>status</th>\n    </tr>\n  </thead>\n  <tbody>\n    <tr>\n      <th>attack</th>\n      <td>1.000000</td>\n      <td>0.049203</td>\n      <td>0.150347</td>\n      <td>-0.092376</td>\n      <td>-0.155971</td>\n    </tr>\n    <tr>\n      <th>toxic</th>\n      <td>0.049203</td>\n      <td>1.000000</td>\n      <td>0.123159</td>\n      <td>-0.016257</td>\n      <td>-0.009546</td>\n    </tr>\n    <tr>\n      <th>bonding</th>\n      <td>0.150347</td>\n      <td>0.123159</td>\n      <td>1.000000</td>\n      <td>0.205250</td>\n      <td>0.449680</td>\n    </tr>\n    <tr>\n      <th>rational</th>\n      <td>-0.092376</td>\n      <td>-0.016257</td>\n      <td>0.205250</td>\n      <td>1.000000</td>\n      <td>0.220593</td>\n    </tr>\n    <tr>\n      <th>status</th>\n      <td>-0.155971</td>\n      <td>-0.009546</td>\n      <td>0.449680</td>\n      <td>0.220593</td>\n      <td>1.000000</td>\n    </tr>\n  </tbody>\n</table>\n</div>"
     },
     "execution_count": 34,
     "metadata": {},
     "output_type": "execute_result"
    }
   ],
   "source": [
    "correlate_df.set_index('fullname').corr()"
   ],
   "metadata": {
    "collapsed": false,
    "ExecuteTime": {
     "end_time": "2023-10-04T13:31:29.574603500Z",
     "start_time": "2023-10-04T13:31:29.473337700Z"
    }
   }
  },
  {
   "cell_type": "code",
   "execution_count": 35,
   "outputs": [],
   "source": [
    "df = pd.merge(df, correlate_df, how='left', left_on='fullname', right_on='fullname')"
   ],
   "metadata": {
    "collapsed": false,
    "ExecuteTime": {
     "end_time": "2023-10-04T13:32:47.511448800Z",
     "start_time": "2023-10-04T13:32:44.777846500Z"
    }
   }
  },
  {
   "cell_type": "markdown",
   "source": [
    "positive indicators of prev_conspiracist:\n",
    "- othering\n",
    "- toxicity\n",
    "- threat\n",
    "- likely_to_reject\n",
    "- insult\n",
    "- attack_on_commenter\n",
    "- attack_on_author\n",
    "-\n",
    "- social\n",
    "- you\n",
    "- social_support\n",
    "- respect\n",
    "- sexually_explicit\n",
    "- death\n",
    "- hear\n",
    "- flirtation\n",
    "- compare\n",
    "\n",
    "\n",
    "negative indicators:\n",
    "- conflict\n",
    "- unsubstantial\n",
    "- incoherent\n",
    "- I\n",
    "-\n",
    "- differ\n",
    "- power\n",
    "- negemo\n",
    "- space\n",
    "- relativ\n",
    "- cogproc\n",
    "- knowledge"
   ],
   "metadata": {
    "collapsed": false
   }
  },
  {
   "cell_type": "code",
   "execution_count": null,
   "outputs": [],
   "source": [],
   "metadata": {
    "collapsed": false
   }
  },
  {
   "cell_type": "code",
   "execution_count": 9,
   "outputs": [],
   "source": [
    "# parent_fullnames = set(df.parent_fullname)\n",
    "# parents = list()\n",
    "# for chunk in pd.read_json('../data/interim/labeling_subthread_all_filtered_preprocessed_no_bot.jsonl.zip', compression='zip', chunksize=1000, lines=True):\n",
    "#     parents.append(chunk[chunk.fullname.isin(parent_fullnames)])"
   ],
   "metadata": {
    "collapsed": false,
    "ExecuteTime": {
     "end_time": "2023-10-02T09:48:45.254890500Z",
     "start_time": "2023-10-02T09:48:45.240384400Z"
    }
   }
  },
  {
   "cell_type": "code",
   "execution_count": 10,
   "outputs": [],
   "source": [
    "# parent_df = pd.concat(parents)\n",
    "# len(parent_df)\n",
    "# to_annotate = pd.merge(df, parent_df[['text', 'fullname']], left_on='parent_fullname', right_on='fullname', suffixes = ['', '_parent'])[['fullname', 'parent_fullname', 'othering', 'dependency_you', 'linear_you', 'subreddit','permalink', 'text', 'text_parent', ]]"
   ],
   "metadata": {
    "collapsed": false,
    "ExecuteTime": {
     "end_time": "2023-10-02T09:48:45.285890900Z",
     "start_time": "2023-10-02T09:48:45.255892700Z"
    }
   }
  },
  {
   "cell_type": "code",
   "execution_count": 11,
   "outputs": [],
   "source": [
    "# ntile = 4\n",
    "# df[pd.qcut(df.Social, ntile, labels=range(ntile))==3].head(10).apply(get_permalink, axis=1).tail()"
   ],
   "metadata": {
    "collapsed": false,
    "ExecuteTime": {
     "end_time": "2023-10-02T09:48:45.286893900Z",
     "start_time": "2023-10-02T09:48:45.271893300Z"
    }
   }
  },
  {
   "cell_type": "code",
   "execution_count": 12,
   "outputs": [],
   "source": [
    "nlp = spacy.load(\"en_core_web_lg\")\n",
    "\n",
    "matcher = Matcher(nlp.vocab)\n",
    "matcher.add(\"conspiracy_labeling\", [[{\"lemma\": \"conspiracy\"}, {\"lemma\": \"theorist\"}],\n",
    "                           [{\"lemma\": \"conspiracist\"}],\n",
    "                           ])\n",
    "\n",
    "matcher.add('pron_poss', [[{\"TAG\":'PRP'}],\n",
    "                          [{\"TAG\":'PRP$'}],\n",
    "                          # [{\"TAG\":'POS'}],\n",
    "                          [{\"TAG\":'WP'}],\n",
    "                          [{\"TAG\":'WP$'}],\n",
    "                          [{\"DEP\":'poss', 'TAG':'DET'}],\n",
    "                          ])\n",
    "# 18.\tPRP\tPersonal pronoun\n",
    "# 19.\tPRP$\tPossessive pronoun\n",
    "# 34.\tWP\tWh-pronoun\n",
    "# 35.\tWP$\tPossessive wh-pronoun\n",
    "# to consider:\n",
    "# 17.\tPOS\tPossessive ending\n",
    "# 33.\tWDT\tWh-determiner\n"
   ],
   "metadata": {
    "collapsed": false,
    "ExecuteTime": {
     "end_time": "2023-10-02T09:48:48.156331200Z",
     "start_time": "2023-10-02T09:48:45.287892100Z"
    }
   }
  },
  {
   "cell_type": "markdown",
   "source": [
    "cases:\n",
    "- you conspiracy theorist\n",
    "- your conspiracy theorist friends\n",
    "- you are a conspiracy theorist\n",
    "- are you a conspiracy theorist?\n",
    "- I'll call you a conspiracy theorist\n",
    "- you're not a conspiracy theorist but...\n",
    "- they are conspiracy theorists like you\n",
    "\n",
    "outside the pattern:\n",
    "- Everyone who says otherwise is an extremist  conspiracy theorist.\n",
    "- the conspiracy theorist in me\n",
    "- Meanwhile, if any of you Reddit pharma conspiracy theorist know where I can find busty blondes handing out envelopes of cash in exchange for prescriptions let me know because apparently my attending forgot to tell me."
   ],
   "metadata": {
    "collapsed": false
   }
  },
  {
   "cell_type": "code",
   "execution_count": 13,
   "outputs": [],
   "source": [
    "example_sentences = [\n",
    "    \"you conspiracy theorist\",\n",
    "    \"your conspiracy theorist friends\",\n",
    "    \"you are a conspiracy theorist\",\n",
    "    \"are you a conspiracy theorist?\",\n",
    "    \"I'll call you a conspiracy theorist\",\n",
    "    \"you're not a conspiracy theorist but...\",\n",
    "    \"they are conspiracy theorists like you\",\n",
    "]\n",
    "\n"
   ],
   "metadata": {
    "collapsed": false,
    "ExecuteTime": {
     "end_time": "2023-10-02T09:48:48.172338Z",
     "start_time": "2023-10-02T09:48:48.157331300Z"
    }
   }
  },
  {
   "cell_type": "code",
   "execution_count": 14,
   "outputs": [
    {
     "data": {
      "text/plain": "1132689"
     },
     "execution_count": 14,
     "metadata": {},
     "output_type": "execute_result"
    }
   ],
   "source": [
    "len(df)"
   ],
   "metadata": {
    "collapsed": false,
    "ExecuteTime": {
     "end_time": "2023-10-02T09:48:48.216338900Z",
     "start_time": "2023-10-02T09:48:48.174342100Z"
    }
   }
  },
  {
   "cell_type": "code",
   "execution_count": 79,
   "outputs": [],
   "source": [
    "df['has_quote'] = df.dequoted_text.apply(lambda x: '...[QUOTE]...' in x)"
   ],
   "metadata": {
    "collapsed": false,
    "ExecuteTime": {
     "end_time": "2023-10-04T14:18:32.723739Z",
     "start_time": "2023-10-04T14:18:32.060758600Z"
    }
   }
  },
  {
   "cell_type": "markdown",
   "source": [
    "strategy:\n",
    "1. 1st/2nd pp and labeling in same sentence\n",
    "2. ...and pp is closest by sentence idx\n",
    "3. ...and pp is closest by dep links\n",
    "4. you (part of subj group)... to be (lemma verb) ... (cop) conspiracist\n",
    "5. ...and are tied by verb, or poss (your ct friends), or ...(as a ct I, like a ct I)\n",
    "6. coref group\n",
    "7. you and not I"
   ],
   "metadata": {
    "collapsed": false
   }
  },
  {
   "cell_type": "code",
   "execution_count": 57,
   "outputs": [],
   "source": [
    "def build_match_dict(matcher, sent):\n",
    "    matches = matcher(sent)\n",
    "    match_dict = defaultdict(list)\n",
    "    for match_id, start, end in matches:\n",
    "        string_id = nlp.vocab.strings[match_id]  # Get string representation\n",
    "        span = sent[start:end]  # The matched span\n",
    "        match_dict[string_id].append(span)\n",
    "    return match_dict"
   ],
   "metadata": {
    "collapsed": false,
    "ExecuteTime": {
     "end_time": "2023-10-04T14:03:17.057008400Z",
     "start_time": "2023-10-04T14:03:17.042450900Z"
    }
   }
  },
  {
   "cell_type": "code",
   "execution_count": 15,
   "outputs": [],
   "source": [
    "\n",
    "\n",
    "strategy_4 = list()\n",
    "for _, row in df.iterrows():\n",
    "    doc = nlp(row.dequoted_text)\n",
    "\n",
    "# for doc in map(nlp, example_sentences):\n",
    "    for sent in doc.sents:\n",
    "        # print(sent)\n",
    "        # print(sent.root.lemma_=='be')\n",
    "        # print(get_subjects_of_verb(sent.root))\n",
    "        # print(get_objects_of_verb(sent.root))\n",
    "        if sent.root.lemma_=='be':\n",
    "            match_dict = build_match_dict(matcher, sent)\n",
    "            noun_chunks = defaultdict(set)\n",
    "            noun_chunks.update(\n",
    "                {i: n for n in doc.noun_chunks for i in range(n.start, n.end)})\n",
    "            you_subj = False\n",
    "            for pron_span in match_dict['pron_poss']:\n",
    "                if you_subj: break\n",
    "                if (pron_span.root.morph.to_dict().get('Person', None) == '2'):\n",
    "                    # print(pron_span, sent)\n",
    "                    for subj in get_subjects_of_verb(sent.root):\n",
    "                        subj_noun_chunk = noun_chunks[subj.i]\n",
    "                        if pron_span.root in subj_noun_chunk:\n",
    "                            # print('great success', subj_noun_chunk, sent)\n",
    "                            you_subj=True\n",
    "                            break\n",
    "            if not you_subj: continue\n",
    "            conspiracy_obj = False\n",
    "            for labeling_span in match_dict['conspiracy_labeling']:\n",
    "                if conspiracy_obj: break\n",
    "                for obj in get_objects_of_verb(sent.root):\n",
    "                    obj_noun_chunk = noun_chunks[obj.i]\n",
    "                    if labeling_span.root in obj_noun_chunk:\n",
    "                        # print('wowzies', obj_noun_chunk)\n",
    "                        strategy_4.append((subj_noun_chunk, sent, row.fullname))\n",
    "                        conspiracy_obj = True\n",
    "                        break\n",
    "            if conspiracy_obj:\n",
    "                break\n"
   ],
   "metadata": {
    "collapsed": false,
    "ExecuteTime": {
     "end_time": "2023-10-02T13:19:09.966341400Z",
     "start_time": "2023-10-02T09:48:48.189367Z"
    }
   }
  },
  {
   "cell_type": "code",
   "execution_count": 16,
   "outputs": [
    {
     "data": {
      "text/plain": "6956"
     },
     "execution_count": 16,
     "metadata": {},
     "output_type": "execute_result"
    }
   ],
   "source": [
    "len(strategy_4)"
   ],
   "metadata": {
    "collapsed": false,
    "ExecuteTime": {
     "end_time": "2023-10-02T13:19:09.982290300Z",
     "start_time": "2023-10-02T13:19:09.967341500Z"
    }
   }
  },
  {
   "cell_type": "code",
   "execution_count": 72,
   "outputs": [],
   "source": [
    "def check_conspiracy_morph(doc, matcher=matcher):\n",
    "\n",
    "    for sent in doc.sents:\n",
    "        match_dict = build_match_dict(matcher, sent)\n",
    "        for labeling_span in match_dict['conspiracy_labeling']:\n",
    "            span_morph = labeling_span[0].morph.to_dict()\n",
    "            if \"Number\" in span_morph:\n",
    "                if span_morph.get('Number', None)=='Sing':\n",
    "                    return True\n",
    "            elif labeling_span[-1].text[-1]!='s':\n",
    "                # print(\"ok:\", labeling_span)\n",
    "                return True\n",
    "    # print(\"not ok:\", doc)\n",
    "    return False\n",
    "strategy_4_singular = [i for i in strategy_4 if check_conspiracy_morph(i[-2])]"
   ],
   "metadata": {
    "collapsed": false,
    "ExecuteTime": {
     "end_time": "2023-10-04T14:12:47.532795400Z",
     "start_time": "2023-10-04T14:12:47.435252700Z"
    }
   }
  },
  {
   "cell_type": "code",
   "execution_count": 73,
   "outputs": [
    {
     "data": {
      "text/plain": "6943"
     },
     "execution_count": 73,
     "metadata": {},
     "output_type": "execute_result"
    }
   ],
   "source": [
    "len(strategy_4_singular)"
   ],
   "metadata": {
    "collapsed": false,
    "ExecuteTime": {
     "end_time": "2023-10-04T14:12:56.644448Z",
     "start_time": "2023-10-04T14:12:56.623980500Z"
    }
   }
  },
  {
   "cell_type": "code",
   "execution_count": 118,
   "outputs": [],
   "source": [
    "def check_negated_verb(doc, matcher=matcher):\n",
    "    for sent in doc.sents:\n",
    "        match_dict = build_match_dict(matcher, sent)\n",
    "        for labeling_span in match_dict['conspiracy_labeling']:\n",
    "            root_verb = labeling_span.sent.root\n",
    "            if root_verb.lemma_=='be':\n",
    "                if any(map(lambda x: x.dep_=='neg', root_verb.children)):\n",
    "                    # print(sent)\n",
    "                    return True\n",
    "\n",
    "    return False"
   ],
   "metadata": {
    "collapsed": false,
    "ExecuteTime": {
     "end_time": "2023-10-04T14:50:58.287693400Z",
     "start_time": "2023-10-04T14:50:58.271181300Z"
    }
   }
  },
  {
   "cell_type": "code",
   "execution_count": 119,
   "outputs": [],
   "source": [
    "strategy_4_singular_not_negated = [i for i in strategy_4_singular if not check_negated_verb(i[-2])]"
   ],
   "metadata": {
    "collapsed": false,
    "ExecuteTime": {
     "end_time": "2023-10-04T14:50:59.852602Z",
     "start_time": "2023-10-04T14:50:59.713492500Z"
    }
   }
  },
  {
   "cell_type": "code",
   "execution_count": 120,
   "outputs": [
    {
     "data": {
      "text/plain": "6560"
     },
     "execution_count": 120,
     "metadata": {},
     "output_type": "execute_result"
    }
   ],
   "source": [
    "len(strategy_4_singular_not_negated)"
   ],
   "metadata": {
    "collapsed": false,
    "ExecuteTime": {
     "end_time": "2023-10-04T14:50:59.867607300Z",
     "start_time": "2023-10-04T14:50:59.853603500Z"
    }
   }
  },
  {
   "cell_type": "code",
   "execution_count": 121,
   "outputs": [],
   "source": [
    "strategy_4_df =df[df.fullname.isin(i[-1] for i in strategy_4_singular_not_negated)]\n",
    "ntile=4\n"
   ],
   "metadata": {
    "collapsed": false,
    "ExecuteTime": {
     "end_time": "2023-10-04T14:51:01.448585100Z",
     "start_time": "2023-10-04T14:51:01.149616100Z"
    }
   }
  },
  {
   "cell_type": "code",
   "execution_count": 130,
   "outputs": [
    {
     "data": {
      "text/plain": "                                             dequoted_text    fullname  \\\n258909                You're quite the conspiracy theorist  t1_d8hsbji   \n1064604                      You're a conspiracy theorist.  t1_ia7kjw9   \n1058370  \"If you disagree with me, you're a conspiracy ...  t1_i8opn25   \n174425       Lol now you all are the conspiracy theorists   t1_dvmjmc7   \n252934   Your friend is a conspiracy theorist. There is...  t1_eqsqgnk   \n...                                                    ...         ...   \n807607   Oh you're a conspiracy theorist too. I bet you...  t1_ewx9mzx   \n298586   Mate, you're just a paranoid conspiracy theori...  t1_fsmhyta   \n203098   If you don't like something Monsanto is doing ...  t1_cqmfe4z   \n93500    Oh, so on top of being a Muslim 'scholar', you...  t1_d4bw5t1   \n175815   Okay, but if you're theorizing about conspirac...  t1_dvwcmrx   \n\n           attack     toxic   bonding  rational    status  \n258909   0.418672  0.128050 -1.304470 -1.079517 -2.299046  \n1064604  0.527308  0.258990 -1.303766 -2.074492 -2.298545  \n1058370  0.641701  0.044014  0.271339 -1.067166 -1.244225  \n174425   0.218504  0.053315 -1.304771 -1.084834 -2.300603  \n252934   0.545408 -0.147588 -0.678676 -2.064361 -2.184377  \n...           ...       ...       ...       ...       ...  \n807607   0.459887  0.137038  1.219727 -2.074479 -1.302372  \n298586   0.426194  0.334656  2.171381 -2.048995 -2.242527  \n203098   0.512655  0.352367  0.271314 -1.070574 -1.244226  \n93500    0.715528  0.798277 -1.302478 -2.062289 -2.242528  \n175815   0.614393 -0.034212 -0.041062 -0.070577 -2.300661  \n\n[100 rows x 7 columns]",
      "text/html": "<div>\n<style scoped>\n    .dataframe tbody tr th:only-of-type {\n        vertical-align: middle;\n    }\n\n    .dataframe tbody tr th {\n        vertical-align: top;\n    }\n\n    .dataframe thead th {\n        text-align: right;\n    }\n</style>\n<table border=\"1\" class=\"dataframe\">\n  <thead>\n    <tr style=\"text-align: right;\">\n      <th></th>\n      <th>dequoted_text</th>\n      <th>fullname</th>\n      <th>attack</th>\n      <th>toxic</th>\n      <th>bonding</th>\n      <th>rational</th>\n      <th>status</th>\n    </tr>\n  </thead>\n  <tbody>\n    <tr>\n      <th>258909</th>\n      <td>You're quite the conspiracy theorist</td>\n      <td>t1_d8hsbji</td>\n      <td>0.418672</td>\n      <td>0.128050</td>\n      <td>-1.304470</td>\n      <td>-1.079517</td>\n      <td>-2.299046</td>\n    </tr>\n    <tr>\n      <th>1064604</th>\n      <td>You're a conspiracy theorist.</td>\n      <td>t1_ia7kjw9</td>\n      <td>0.527308</td>\n      <td>0.258990</td>\n      <td>-1.303766</td>\n      <td>-2.074492</td>\n      <td>-2.298545</td>\n    </tr>\n    <tr>\n      <th>1058370</th>\n      <td>\"If you disagree with me, you're a conspiracy ...</td>\n      <td>t1_i8opn25</td>\n      <td>0.641701</td>\n      <td>0.044014</td>\n      <td>0.271339</td>\n      <td>-1.067166</td>\n      <td>-1.244225</td>\n    </tr>\n    <tr>\n      <th>174425</th>\n      <td>Lol now you all are the conspiracy theorists</td>\n      <td>t1_dvmjmc7</td>\n      <td>0.218504</td>\n      <td>0.053315</td>\n      <td>-1.304771</td>\n      <td>-1.084834</td>\n      <td>-2.300603</td>\n    </tr>\n    <tr>\n      <th>252934</th>\n      <td>Your friend is a conspiracy theorist. There is...</td>\n      <td>t1_eqsqgnk</td>\n      <td>0.545408</td>\n      <td>-0.147588</td>\n      <td>-0.678676</td>\n      <td>-2.064361</td>\n      <td>-2.184377</td>\n    </tr>\n    <tr>\n      <th>...</th>\n      <td>...</td>\n      <td>...</td>\n      <td>...</td>\n      <td>...</td>\n      <td>...</td>\n      <td>...</td>\n      <td>...</td>\n    </tr>\n    <tr>\n      <th>807607</th>\n      <td>Oh you're a conspiracy theorist too. I bet you...</td>\n      <td>t1_ewx9mzx</td>\n      <td>0.459887</td>\n      <td>0.137038</td>\n      <td>1.219727</td>\n      <td>-2.074479</td>\n      <td>-1.302372</td>\n    </tr>\n    <tr>\n      <th>298586</th>\n      <td>Mate, you're just a paranoid conspiracy theori...</td>\n      <td>t1_fsmhyta</td>\n      <td>0.426194</td>\n      <td>0.334656</td>\n      <td>2.171381</td>\n      <td>-2.048995</td>\n      <td>-2.242527</td>\n    </tr>\n    <tr>\n      <th>203098</th>\n      <td>If you don't like something Monsanto is doing ...</td>\n      <td>t1_cqmfe4z</td>\n      <td>0.512655</td>\n      <td>0.352367</td>\n      <td>0.271314</td>\n      <td>-1.070574</td>\n      <td>-1.244226</td>\n    </tr>\n    <tr>\n      <th>93500</th>\n      <td>Oh, so on top of being a Muslim 'scholar', you...</td>\n      <td>t1_d4bw5t1</td>\n      <td>0.715528</td>\n      <td>0.798277</td>\n      <td>-1.302478</td>\n      <td>-2.062289</td>\n      <td>-2.242528</td>\n    </tr>\n    <tr>\n      <th>175815</th>\n      <td>Okay, but if you're theorizing about conspirac...</td>\n      <td>t1_dvwcmrx</td>\n      <td>0.614393</td>\n      <td>-0.034212</td>\n      <td>-0.041062</td>\n      <td>-0.070577</td>\n      <td>-2.300661</td>\n    </tr>\n  </tbody>\n</table>\n<p>100 rows × 7 columns</p>\n</div>"
     },
     "execution_count": 130,
     "metadata": {},
     "output_type": "execute_result"
    }
   ],
   "source": [
    "strategy_4_df.sample(100)[['dequoted_text', 'fullname', 'attack', 'toxic', 'bonding', 'rational', 'status']]"
   ],
   "metadata": {
    "collapsed": false,
    "ExecuteTime": {
     "end_time": "2023-10-04T14:54:03.189311Z",
     "start_time": "2023-10-04T14:54:03.160888700Z"
    }
   }
  },
  {
   "cell_type": "code",
   "execution_count": 122,
   "outputs": [
    {
     "data": {
      "text/plain": "                                            dequoted_text    fullname  \\\n888784  Do we really need a new post about this every ...  t1_i6cqlcy   \n476800  Or you are a conspiracy theorist.\\n\\n\\nYou can...  t1_ho6zbdl   \n819638  ...[QUOTE]...\\n\\n\\nIf you disagree with the Go...  t1_hgfpg56   \n271585  Your source is a crackpot conspiracy theorist ...  t1_f1di98h   \n525837  And you still are a conspiracy theorist.\\n\\n\\n...  t1_ic3iy94   \n...                                                   ...         ...   \n632400  So you are basically a conspiracy theorist. Yo...  t1_etewbu0   \n732807  Within the realm of possibility that this is a...  t1_gikfwps   \n107976  no, now you are the conspiracy theorist for de...  t1_d7umc3x   \n637329                 So you're a conspiracy theorist. 👍  t1_ev60gab   \n900630  Ah I see, so you ARE a conspiracy theorist.\\n\\...  t1_it5xcum   \n\n          attack  \n888784  0.751779  \n476800  0.684076  \n819638  0.598882  \n271585  0.671875  \n525837  0.662274  \n...          ...  \n632400  0.588707  \n732807  0.725723  \n107976  0.582371  \n637329  0.623355  \n900630  0.670686  \n\n[100 rows x 3 columns]",
      "text/html": "<div>\n<style scoped>\n    .dataframe tbody tr th:only-of-type {\n        vertical-align: middle;\n    }\n\n    .dataframe tbody tr th {\n        vertical-align: top;\n    }\n\n    .dataframe thead th {\n        text-align: right;\n    }\n</style>\n<table border=\"1\" class=\"dataframe\">\n  <thead>\n    <tr style=\"text-align: right;\">\n      <th></th>\n      <th>dequoted_text</th>\n      <th>fullname</th>\n      <th>attack</th>\n    </tr>\n  </thead>\n  <tbody>\n    <tr>\n      <th>888784</th>\n      <td>Do we really need a new post about this every ...</td>\n      <td>t1_i6cqlcy</td>\n      <td>0.751779</td>\n    </tr>\n    <tr>\n      <th>476800</th>\n      <td>Or you are a conspiracy theorist.\\n\\n\\nYou can...</td>\n      <td>t1_ho6zbdl</td>\n      <td>0.684076</td>\n    </tr>\n    <tr>\n      <th>819638</th>\n      <td>...[QUOTE]...\\n\\n\\nIf you disagree with the Go...</td>\n      <td>t1_hgfpg56</td>\n      <td>0.598882</td>\n    </tr>\n    <tr>\n      <th>271585</th>\n      <td>Your source is a crackpot conspiracy theorist ...</td>\n      <td>t1_f1di98h</td>\n      <td>0.671875</td>\n    </tr>\n    <tr>\n      <th>525837</th>\n      <td>And you still are a conspiracy theorist.\\n\\n\\n...</td>\n      <td>t1_ic3iy94</td>\n      <td>0.662274</td>\n    </tr>\n    <tr>\n      <th>...</th>\n      <td>...</td>\n      <td>...</td>\n      <td>...</td>\n    </tr>\n    <tr>\n      <th>632400</th>\n      <td>So you are basically a conspiracy theorist. Yo...</td>\n      <td>t1_etewbu0</td>\n      <td>0.588707</td>\n    </tr>\n    <tr>\n      <th>732807</th>\n      <td>Within the realm of possibility that this is a...</td>\n      <td>t1_gikfwps</td>\n      <td>0.725723</td>\n    </tr>\n    <tr>\n      <th>107976</th>\n      <td>no, now you are the conspiracy theorist for de...</td>\n      <td>t1_d7umc3x</td>\n      <td>0.582371</td>\n    </tr>\n    <tr>\n      <th>637329</th>\n      <td>So you're a conspiracy theorist. 👍</td>\n      <td>t1_ev60gab</td>\n      <td>0.623355</td>\n    </tr>\n    <tr>\n      <th>900630</th>\n      <td>Ah I see, so you ARE a conspiracy theorist.\\n\\...</td>\n      <td>t1_it5xcum</td>\n      <td>0.670686</td>\n    </tr>\n  </tbody>\n</table>\n<p>100 rows × 3 columns</p>\n</div>"
     },
     "execution_count": 122,
     "metadata": {},
     "output_type": "execute_result"
    }
   ],
   "source": [
    "strategy_4_df[(pd.qcut(strategy_4_df.attack, ntile, labels=range(ntile))==3)][['dequoted_text', 'fullname', 'attack']].sample(100)"
   ],
   "metadata": {
    "collapsed": false,
    "ExecuteTime": {
     "end_time": "2023-10-04T14:51:01.463341600Z",
     "start_time": "2023-10-04T14:51:01.450592700Z"
    }
   }
  },
  {
   "cell_type": "code",
   "execution_count": 123,
   "outputs": [
    {
     "data": {
      "text/plain": "                                             dequoted_text    fullname  \\\n125808   If you call them out on their bullshit you are...  t1_dekoodu   \n958093                You're a nutbag conspiracy theorist.  t1_gdso9o6   \n922598            Damn, you're a conspiracy theorist, too?  t1_j6dpkue   \n434840   You're a weird conspiracist, vaccinated or not...  t1_h3kk2pd   \n113275   So, you're a parasitic conspiracy theorist?  c...  t1_c5nlyfo   \n...                                                    ...         ...   \n929416   You're not an adult though, you're a conspirac...  t1_fpyfhke   \n1085299  You're a ridiculous conspiracy theorist who cl...  t1_hvhakho   \n767948   You and everyone you’re citing are just conspi...  t1_gwe2hft   \n947087   You guys are conspiracy theorists looking for ...  t1_gbo5g2u   \n982953   If you question vaccine effectiveness you are ...  t1_gxrri4e   \n\n            toxic  \n125808   0.643071  \n958093   0.608782  \n922598   0.520222  \n434840   0.789066  \n113275   0.597926  \n...           ...  \n929416   0.818369  \n1085299  0.490527  \n767948   0.781651  \n947087   0.589631  \n982953   0.685964  \n\n[100 rows x 3 columns]",
      "text/html": "<div>\n<style scoped>\n    .dataframe tbody tr th:only-of-type {\n        vertical-align: middle;\n    }\n\n    .dataframe tbody tr th {\n        vertical-align: top;\n    }\n\n    .dataframe thead th {\n        text-align: right;\n    }\n</style>\n<table border=\"1\" class=\"dataframe\">\n  <thead>\n    <tr style=\"text-align: right;\">\n      <th></th>\n      <th>dequoted_text</th>\n      <th>fullname</th>\n      <th>toxic</th>\n    </tr>\n  </thead>\n  <tbody>\n    <tr>\n      <th>125808</th>\n      <td>If you call them out on their bullshit you are...</td>\n      <td>t1_dekoodu</td>\n      <td>0.643071</td>\n    </tr>\n    <tr>\n      <th>958093</th>\n      <td>You're a nutbag conspiracy theorist.</td>\n      <td>t1_gdso9o6</td>\n      <td>0.608782</td>\n    </tr>\n    <tr>\n      <th>922598</th>\n      <td>Damn, you're a conspiracy theorist, too?</td>\n      <td>t1_j6dpkue</td>\n      <td>0.520222</td>\n    </tr>\n    <tr>\n      <th>434840</th>\n      <td>You're a weird conspiracist, vaccinated or not...</td>\n      <td>t1_h3kk2pd</td>\n      <td>0.789066</td>\n    </tr>\n    <tr>\n      <th>113275</th>\n      <td>So, you're a parasitic conspiracy theorist?  c...</td>\n      <td>t1_c5nlyfo</td>\n      <td>0.597926</td>\n    </tr>\n    <tr>\n      <th>...</th>\n      <td>...</td>\n      <td>...</td>\n      <td>...</td>\n    </tr>\n    <tr>\n      <th>929416</th>\n      <td>You're not an adult though, you're a conspirac...</td>\n      <td>t1_fpyfhke</td>\n      <td>0.818369</td>\n    </tr>\n    <tr>\n      <th>1085299</th>\n      <td>You're a ridiculous conspiracy theorist who cl...</td>\n      <td>t1_hvhakho</td>\n      <td>0.490527</td>\n    </tr>\n    <tr>\n      <th>767948</th>\n      <td>You and everyone you’re citing are just conspi...</td>\n      <td>t1_gwe2hft</td>\n      <td>0.781651</td>\n    </tr>\n    <tr>\n      <th>947087</th>\n      <td>You guys are conspiracy theorists looking for ...</td>\n      <td>t1_gbo5g2u</td>\n      <td>0.589631</td>\n    </tr>\n    <tr>\n      <th>982953</th>\n      <td>If you question vaccine effectiveness you are ...</td>\n      <td>t1_gxrri4e</td>\n      <td>0.685964</td>\n    </tr>\n  </tbody>\n</table>\n<p>100 rows × 3 columns</p>\n</div>"
     },
     "execution_count": 123,
     "metadata": {},
     "output_type": "execute_result"
    }
   ],
   "source": [
    "strategy_4_df[(pd.qcut(strategy_4_df.toxic, ntile, labels=range(ntile))==3)][['dequoted_text', 'fullname', 'toxic']].sample(100)"
   ],
   "metadata": {
    "collapsed": false,
    "ExecuteTime": {
     "end_time": "2023-10-04T14:51:02.995195500Z",
     "start_time": "2023-10-04T14:51:02.982685600Z"
    }
   }
  },
  {
   "cell_type": "code",
   "execution_count": 132,
   "outputs": [
    {
     "data": {
      "text/plain": "                                             dequoted_text    fullname  \\\n1081451  ...[QUOTE]...\\n\\n\\nNo, you are a conspiracy th...  t1_im5erxc   \n602121   Now you're a conspiracy theorist... I do not r...  t1_eg706xt   \n837972   If you believe that our government is capable ...  t1_fiowy0k   \n724932   You're a conspiracy theorist. And you know not...  t1_gae4lvp   \n823442   Well, if you don't believe the MSM, then you a...  t1_hhargig   \n...                                                    ...         ...   \n542291   No, you are a conspiracy theorist who is doing...  t1_iorgsjg   \n1099201  Either you're a crazy conspiracy theorists who...  t1_hyfcdx0   \n577944   ...[QUOTE]...\\n\\n\\nAh, so you're literally a c...  t1_e8p1kib   \n1072245  At this point, you're the conspiracy theorist ...  t1_ijrax6m   \n1063359  Lol you are a conspiracy theorist. I bet you a...  t1_i9x9gg2   \n\n           bonding  \n1081451  20.824612  \n602121    2.482450  \n837972    1.845192  \n724932    2.482836  \n823442    8.424035  \n...            ...  \n542291    1.221092  \n1099201   1.532683  \n577944    6.945836  \n1072245   2.483302  \n1063359   2.470195  \n\n[100 rows x 3 columns]",
      "text/html": "<div>\n<style scoped>\n    .dataframe tbody tr th:only-of-type {\n        vertical-align: middle;\n    }\n\n    .dataframe tbody tr th {\n        vertical-align: top;\n    }\n\n    .dataframe thead th {\n        text-align: right;\n    }\n</style>\n<table border=\"1\" class=\"dataframe\">\n  <thead>\n    <tr style=\"text-align: right;\">\n      <th></th>\n      <th>dequoted_text</th>\n      <th>fullname</th>\n      <th>bonding</th>\n    </tr>\n  </thead>\n  <tbody>\n    <tr>\n      <th>1081451</th>\n      <td>...[QUOTE]...\\n\\n\\nNo, you are a conspiracy th...</td>\n      <td>t1_im5erxc</td>\n      <td>20.824612</td>\n    </tr>\n    <tr>\n      <th>602121</th>\n      <td>Now you're a conspiracy theorist... I do not r...</td>\n      <td>t1_eg706xt</td>\n      <td>2.482450</td>\n    </tr>\n    <tr>\n      <th>837972</th>\n      <td>If you believe that our government is capable ...</td>\n      <td>t1_fiowy0k</td>\n      <td>1.845192</td>\n    </tr>\n    <tr>\n      <th>724932</th>\n      <td>You're a conspiracy theorist. And you know not...</td>\n      <td>t1_gae4lvp</td>\n      <td>2.482836</td>\n    </tr>\n    <tr>\n      <th>823442</th>\n      <td>Well, if you don't believe the MSM, then you a...</td>\n      <td>t1_hhargig</td>\n      <td>8.424035</td>\n    </tr>\n    <tr>\n      <th>...</th>\n      <td>...</td>\n      <td>...</td>\n      <td>...</td>\n    </tr>\n    <tr>\n      <th>542291</th>\n      <td>No, you are a conspiracy theorist who is doing...</td>\n      <td>t1_iorgsjg</td>\n      <td>1.221092</td>\n    </tr>\n    <tr>\n      <th>1099201</th>\n      <td>Either you're a crazy conspiracy theorists who...</td>\n      <td>t1_hyfcdx0</td>\n      <td>1.532683</td>\n    </tr>\n    <tr>\n      <th>577944</th>\n      <td>...[QUOTE]...\\n\\n\\nAh, so you're literally a c...</td>\n      <td>t1_e8p1kib</td>\n      <td>6.945836</td>\n    </tr>\n    <tr>\n      <th>1072245</th>\n      <td>At this point, you're the conspiracy theorist ...</td>\n      <td>t1_ijrax6m</td>\n      <td>2.483302</td>\n    </tr>\n    <tr>\n      <th>1063359</th>\n      <td>Lol you are a conspiracy theorist. I bet you a...</td>\n      <td>t1_i9x9gg2</td>\n      <td>2.470195</td>\n    </tr>\n  </tbody>\n</table>\n<p>100 rows × 3 columns</p>\n</div>"
     },
     "execution_count": 132,
     "metadata": {},
     "output_type": "execute_result"
    }
   ],
   "source": [
    "strategy_4_df[(pd.qcut(strategy_4_df.bonding, ntile, labels=range(ntile))==3)][['dequoted_text', 'fullname', 'bonding']].sample(100)"
   ],
   "metadata": {
    "collapsed": false,
    "ExecuteTime": {
     "end_time": "2023-10-04T14:58:53.530144400Z",
     "start_time": "2023-10-04T14:58:53.517130900Z"
    }
   }
  },
  {
   "cell_type": "code",
   "execution_count": 143,
   "outputs": [
    {
     "data": {
      "text/plain": "                                             dequoted_text    fullname  \\\n965210   You guys who still worship Pencil Neck Schiff ...  t1_g11kohq   \n441647    Ok so you're an antisemitic conspiracy theorists  t1_hc8u2aj   \n724631   You are another RussiaGate conspiracy theorist...  t1_gabmvwe   \n143566   Hey, you're the conspiracy theorist here.  I'm...  t1_c8fs3o0   \n36379    Ha, you are a bigger conspiracy theorist than ...  t1_c16sjfp   \n...                                                    ...         ...   \n421385                 You're still a conspiracy theorist.  t1_h0y43tj   \n1019011  Oh God you're just another dumb right-wing con...  t1_h8j3bj9   \n1047781  You are a walking conspiracy theorist. And cle...  t1_hltko6k   \n436383              You are a terrible conspiracy theorist  t1_hbb1tk4   \n801855                       you are a conspiracy theorist  t1_evrfkjc   \n\n         rational  \n965210  -2.079209  \n441647  -2.075781  \n724631  -2.077758  \n143566  -2.074683  \n36379   -2.072325  \n...           ...  \n421385  -2.076005  \n1019011 -2.072391  \n1047781 -2.072596  \n436383  -2.077225  \n801855  -2.077432  \n\n[100 rows x 3 columns]",
      "text/html": "<div>\n<style scoped>\n    .dataframe tbody tr th:only-of-type {\n        vertical-align: middle;\n    }\n\n    .dataframe tbody tr th {\n        vertical-align: top;\n    }\n\n    .dataframe thead th {\n        text-align: right;\n    }\n</style>\n<table border=\"1\" class=\"dataframe\">\n  <thead>\n    <tr style=\"text-align: right;\">\n      <th></th>\n      <th>dequoted_text</th>\n      <th>fullname</th>\n      <th>rational</th>\n    </tr>\n  </thead>\n  <tbody>\n    <tr>\n      <th>965210</th>\n      <td>You guys who still worship Pencil Neck Schiff ...</td>\n      <td>t1_g11kohq</td>\n      <td>-2.079209</td>\n    </tr>\n    <tr>\n      <th>441647</th>\n      <td>Ok so you're an antisemitic conspiracy theorists</td>\n      <td>t1_hc8u2aj</td>\n      <td>-2.075781</td>\n    </tr>\n    <tr>\n      <th>724631</th>\n      <td>You are another RussiaGate conspiracy theorist...</td>\n      <td>t1_gabmvwe</td>\n      <td>-2.077758</td>\n    </tr>\n    <tr>\n      <th>143566</th>\n      <td>Hey, you're the conspiracy theorist here.  I'm...</td>\n      <td>t1_c8fs3o0</td>\n      <td>-2.074683</td>\n    </tr>\n    <tr>\n      <th>36379</th>\n      <td>Ha, you are a bigger conspiracy theorist than ...</td>\n      <td>t1_c16sjfp</td>\n      <td>-2.072325</td>\n    </tr>\n    <tr>\n      <th>...</th>\n      <td>...</td>\n      <td>...</td>\n      <td>...</td>\n    </tr>\n    <tr>\n      <th>421385</th>\n      <td>You're still a conspiracy theorist.</td>\n      <td>t1_h0y43tj</td>\n      <td>-2.076005</td>\n    </tr>\n    <tr>\n      <th>1019011</th>\n      <td>Oh God you're just another dumb right-wing con...</td>\n      <td>t1_h8j3bj9</td>\n      <td>-2.072391</td>\n    </tr>\n    <tr>\n      <th>1047781</th>\n      <td>You are a walking conspiracy theorist. And cle...</td>\n      <td>t1_hltko6k</td>\n      <td>-2.072596</td>\n    </tr>\n    <tr>\n      <th>436383</th>\n      <td>You are a terrible conspiracy theorist</td>\n      <td>t1_hbb1tk4</td>\n      <td>-2.077225</td>\n    </tr>\n    <tr>\n      <th>801855</th>\n      <td>you are a conspiracy theorist</td>\n      <td>t1_evrfkjc</td>\n      <td>-2.077432</td>\n    </tr>\n  </tbody>\n</table>\n<p>100 rows × 3 columns</p>\n</div>"
     },
     "execution_count": 143,
     "metadata": {},
     "output_type": "execute_result"
    }
   ],
   "source": [
    "strategy_4_df[(pd.qcut(strategy_4_df.rational, ntile, labels=range(ntile))==0)][['dequoted_text', 'fullname', 'rational']].sample(100)"
   ],
   "metadata": {
    "collapsed": false,
    "ExecuteTime": {
     "end_time": "2023-10-04T15:02:43.020991700Z",
     "start_time": "2023-10-04T15:02:43.001808600Z"
    }
   }
  },
  {
   "cell_type": "code",
   "execution_count": 148,
   "outputs": [
    {
     "data": {
      "text/plain": "                                             dequoted_text    fullname  \\\n170493   Wow you are a conspiracy theorist. Wilson ran ...  t1_co2tkl9   \n402228   You are all conspiracy theorists. I have a mod...  t1_czlqr9s   \n360654   Your comment is basically a conspiracy theoris...  t1_djsoggb   \n718008   If you believe his birth certificate is fake, ...  t1_g8q9jwx   \n720217   Liberals: \"I'm skeptical, you're a conspiracy ...  t1_g98bl3q   \n...                                                    ...         ...   \n1010679  Holy shit you really are a fucking conspiracy ...  t1_goriv9c   \n1087944  Ok you're just a conspiracy theorist who has b...  t1_hvzb8e3   \n140994   You are quite the conspiracy theorist. I don't...  t1_djdu84w   \n135446   So, you're a conspiracy theorist, but \\nI'm\\n ...  t1_dibwbn4   \n273324   lol, you're such a conspiracy theorist.. ridic...  t1_cjf59sm   \n\n           status  \n170493  -1.125538  \n402228  -1.244226  \n360654  -1.186075  \n718008  -1.186075  \n720217   0.694247  \n...           ...  \n1010679 -1.244221  \n1087944 -1.244225  \n140994  -0.304074  \n135446  -0.245925  \n273324   3.747291  \n\n[100 rows x 3 columns]",
      "text/html": "<div>\n<style scoped>\n    .dataframe tbody tr th:only-of-type {\n        vertical-align: middle;\n    }\n\n    .dataframe tbody tr th {\n        vertical-align: top;\n    }\n\n    .dataframe thead th {\n        text-align: right;\n    }\n</style>\n<table border=\"1\" class=\"dataframe\">\n  <thead>\n    <tr style=\"text-align: right;\">\n      <th></th>\n      <th>dequoted_text</th>\n      <th>fullname</th>\n      <th>status</th>\n    </tr>\n  </thead>\n  <tbody>\n    <tr>\n      <th>170493</th>\n      <td>Wow you are a conspiracy theorist. Wilson ran ...</td>\n      <td>t1_co2tkl9</td>\n      <td>-1.125538</td>\n    </tr>\n    <tr>\n      <th>402228</th>\n      <td>You are all conspiracy theorists. I have a mod...</td>\n      <td>t1_czlqr9s</td>\n      <td>-1.244226</td>\n    </tr>\n    <tr>\n      <th>360654</th>\n      <td>Your comment is basically a conspiracy theoris...</td>\n      <td>t1_djsoggb</td>\n      <td>-1.186075</td>\n    </tr>\n    <tr>\n      <th>718008</th>\n      <td>If you believe his birth certificate is fake, ...</td>\n      <td>t1_g8q9jwx</td>\n      <td>-1.186075</td>\n    </tr>\n    <tr>\n      <th>720217</th>\n      <td>Liberals: \"I'm skeptical, you're a conspiracy ...</td>\n      <td>t1_g98bl3q</td>\n      <td>0.694247</td>\n    </tr>\n    <tr>\n      <th>...</th>\n      <td>...</td>\n      <td>...</td>\n      <td>...</td>\n    </tr>\n    <tr>\n      <th>1010679</th>\n      <td>Holy shit you really are a fucking conspiracy ...</td>\n      <td>t1_goriv9c</td>\n      <td>-1.244221</td>\n    </tr>\n    <tr>\n      <th>1087944</th>\n      <td>Ok you're just a conspiracy theorist who has b...</td>\n      <td>t1_hvzb8e3</td>\n      <td>-1.244225</td>\n    </tr>\n    <tr>\n      <th>140994</th>\n      <td>You are quite the conspiracy theorist. I don't...</td>\n      <td>t1_djdu84w</td>\n      <td>-0.304074</td>\n    </tr>\n    <tr>\n      <th>135446</th>\n      <td>So, you're a conspiracy theorist, but \\nI'm\\n ...</td>\n      <td>t1_dibwbn4</td>\n      <td>-0.245925</td>\n    </tr>\n    <tr>\n      <th>273324</th>\n      <td>lol, you're such a conspiracy theorist.. ridic...</td>\n      <td>t1_cjf59sm</td>\n      <td>3.747291</td>\n    </tr>\n  </tbody>\n</table>\n<p>100 rows × 3 columns</p>\n</div>"
     },
     "execution_count": 148,
     "metadata": {},
     "output_type": "execute_result"
    }
   ],
   "source": [
    "strategy_4_df[(pd.qcut(strategy_4_df.status, ntile, labels=range(ntile))==3)][['dequoted_text', 'fullname', 'status']].sample(100)"
   ],
   "metadata": {
    "collapsed": false,
    "ExecuteTime": {
     "end_time": "2023-10-04T15:04:21.491378200Z",
     "start_time": "2023-10-04T15:04:21.461073700Z"
    }
   }
  },
  {
   "cell_type": "code",
   "execution_count": 151,
   "outputs": [
    {
     "data": {
      "text/plain": "                                             dequoted_text    fullname\n554      If you think we are leaving the region you are...   t1_c2opia\n695          You are my new favourite conspiracy theorist.  t1_c02nlxe\n1030     You sir are clearly a wild eyed conspiracy the...  t1_c03kn4z\n1091     Keep voting me down, you are all conspiracy th...  t1_c02aamn\n1242     You're a Paul supporter \\nand\\n a conspiracy t...  t1_c02wap4\n...                                                    ...         ...\n1132148  You're just a conspiracy theorist. We dismiss ...  t1_ja8zfpk\n1132231        You're a conspiracy theorist, best of luck.  t1_ja9fong\n1132799           You are the conspiracy theorist you hate  t1_jade3be\n1132985  You're a pro-government conspiracy theorist?? ...  t1_jaeobiv\n1133042  If your opinions come from the mainstream then...  t1_jaf05a7\n\n[6231 rows x 2 columns]",
      "text/html": "<div>\n<style scoped>\n    .dataframe tbody tr th:only-of-type {\n        vertical-align: middle;\n    }\n\n    .dataframe tbody tr th {\n        vertical-align: top;\n    }\n\n    .dataframe thead th {\n        text-align: right;\n    }\n</style>\n<table border=\"1\" class=\"dataframe\">\n  <thead>\n    <tr style=\"text-align: right;\">\n      <th></th>\n      <th>dequoted_text</th>\n      <th>fullname</th>\n    </tr>\n  </thead>\n  <tbody>\n    <tr>\n      <th>554</th>\n      <td>If you think we are leaving the region you are...</td>\n      <td>t1_c2opia</td>\n    </tr>\n    <tr>\n      <th>695</th>\n      <td>You are my new favourite conspiracy theorist.</td>\n      <td>t1_c02nlxe</td>\n    </tr>\n    <tr>\n      <th>1030</th>\n      <td>You sir are clearly a wild eyed conspiracy the...</td>\n      <td>t1_c03kn4z</td>\n    </tr>\n    <tr>\n      <th>1091</th>\n      <td>Keep voting me down, you are all conspiracy th...</td>\n      <td>t1_c02aamn</td>\n    </tr>\n    <tr>\n      <th>1242</th>\n      <td>You're a Paul supporter \\nand\\n a conspiracy t...</td>\n      <td>t1_c02wap4</td>\n    </tr>\n    <tr>\n      <th>...</th>\n      <td>...</td>\n      <td>...</td>\n    </tr>\n    <tr>\n      <th>1132148</th>\n      <td>You're just a conspiracy theorist. We dismiss ...</td>\n      <td>t1_ja8zfpk</td>\n    </tr>\n    <tr>\n      <th>1132231</th>\n      <td>You're a conspiracy theorist, best of luck.</td>\n      <td>t1_ja9fong</td>\n    </tr>\n    <tr>\n      <th>1132799</th>\n      <td>You are the conspiracy theorist you hate</td>\n      <td>t1_jade3be</td>\n    </tr>\n    <tr>\n      <th>1132985</th>\n      <td>You're a pro-government conspiracy theorist?? ...</td>\n      <td>t1_jaeobiv</td>\n    </tr>\n    <tr>\n      <th>1133042</th>\n      <td>If your opinions come from the mainstream then...</td>\n      <td>t1_jaf05a7</td>\n    </tr>\n  </tbody>\n</table>\n<p>6231 rows × 2 columns</p>\n</div>"
     },
     "execution_count": 151,
     "metadata": {},
     "output_type": "execute_result"
    }
   ],
   "source": [
    "strategy_4_df[strategy_4_df.rational<0][['dequoted_text', 'fullname']]"
   ],
   "metadata": {
    "collapsed": false,
    "ExecuteTime": {
     "end_time": "2023-10-04T15:05:22.846373800Z",
     "start_time": "2023-10-04T15:05:22.836360600Z"
    }
   }
  },
  {
   "cell_type": "code",
   "execution_count": 152,
   "outputs": [
    {
     "data": {
      "text/plain": "                                             dequoted_text    fullname\n13817    When you use the word of one individual agains...  t1_c3by8qk\n15293    If you believe in any version of the 9/11 stor...  t1_c40nh2u\n16132    You're a overly-sensitive conspiracist bullshi...  t1_c45ixjq\n18575    When you're refuting all evidence and trying t...  t1_c65gzzv\n19706    I've been told again and again by you people o...  t1_c6e39e2\n...                                                    ...         ...\n1123859  If you don't believe that he tied a sheet arou...  t1_j8doecl\n1126571  If you still believe that Rebekah Jones lady y...  t1_j8y91ve\n1126687  But if you dare discuss such things while not ...  t1_j8yy389\n1131046  bro you are the absolute worst conspiracist i’...  t1_ja2yidj\n1132272  But you repeat qualitatively questionable info...  t1_ja9n8nk\n\n[333 rows x 2 columns]",
      "text/html": "<div>\n<style scoped>\n    .dataframe tbody tr th:only-of-type {\n        vertical-align: middle;\n    }\n\n    .dataframe tbody tr th {\n        vertical-align: top;\n    }\n\n    .dataframe thead th {\n        text-align: right;\n    }\n</style>\n<table border=\"1\" class=\"dataframe\">\n  <thead>\n    <tr style=\"text-align: right;\">\n      <th></th>\n      <th>dequoted_text</th>\n      <th>fullname</th>\n    </tr>\n  </thead>\n  <tbody>\n    <tr>\n      <th>13817</th>\n      <td>When you use the word of one individual agains...</td>\n      <td>t1_c3by8qk</td>\n    </tr>\n    <tr>\n      <th>15293</th>\n      <td>If you believe in any version of the 9/11 stor...</td>\n      <td>t1_c40nh2u</td>\n    </tr>\n    <tr>\n      <th>16132</th>\n      <td>You're a overly-sensitive conspiracist bullshi...</td>\n      <td>t1_c45ixjq</td>\n    </tr>\n    <tr>\n      <th>18575</th>\n      <td>When you're refuting all evidence and trying t...</td>\n      <td>t1_c65gzzv</td>\n    </tr>\n    <tr>\n      <th>19706</th>\n      <td>I've been told again and again by you people o...</td>\n      <td>t1_c6e39e2</td>\n    </tr>\n    <tr>\n      <th>...</th>\n      <td>...</td>\n      <td>...</td>\n    </tr>\n    <tr>\n      <th>1123859</th>\n      <td>If you don't believe that he tied a sheet arou...</td>\n      <td>t1_j8doecl</td>\n    </tr>\n    <tr>\n      <th>1126571</th>\n      <td>If you still believe that Rebekah Jones lady y...</td>\n      <td>t1_j8y91ve</td>\n    </tr>\n    <tr>\n      <th>1126687</th>\n      <td>But if you dare discuss such things while not ...</td>\n      <td>t1_j8yy389</td>\n    </tr>\n    <tr>\n      <th>1131046</th>\n      <td>bro you are the absolute worst conspiracist i’...</td>\n      <td>t1_ja2yidj</td>\n    </tr>\n    <tr>\n      <th>1132272</th>\n      <td>But you repeat qualitatively questionable info...</td>\n      <td>t1_ja9n8nk</td>\n    </tr>\n  </tbody>\n</table>\n<p>333 rows × 2 columns</p>\n</div>"
     },
     "execution_count": 152,
     "metadata": {},
     "output_type": "execute_result"
    }
   ],
   "source": [
    "strategy_4_df[strategy_4_df.rational>0][['dequoted_text', 'fullname']]"
   ],
   "metadata": {
    "collapsed": false,
    "ExecuteTime": {
     "end_time": "2023-10-04T15:05:44.041115700Z",
     "start_time": "2023-10-04T15:05:44.027601Z"
    }
   }
  },
  {
   "cell_type": "code",
   "execution_count": 154,
   "outputs": [
    {
     "data": {
      "text/plain": "                                             dequoted_text    fullname\n554      If you think we are leaving the region you are...   t1_c2opia\n695          You are my new favourite conspiracy theorist.  t1_c02nlxe\n1030     You sir are clearly a wild eyed conspiracy the...  t1_c03kn4z\n1091     Keep voting me down, you are all conspiracy th...  t1_c02aamn\n1242     You're a Paul supporter \\nand\\n a conspiracy t...  t1_c02wap4\n...                                                    ...         ...\n1132231        You're a conspiracy theorist, best of luck.  t1_ja9fong\n1132272  But you repeat qualitatively questionable info...  t1_ja9n8nk\n1132799           You are the conspiracy theorist you hate  t1_jade3be\n1132985  You're a pro-government conspiracy theorist?? ...  t1_jaeobiv\n1133042  If your opinions come from the mainstream then...  t1_jaf05a7\n\n[6176 rows x 2 columns]",
      "text/html": "<div>\n<style scoped>\n    .dataframe tbody tr th:only-of-type {\n        vertical-align: middle;\n    }\n\n    .dataframe tbody tr th {\n        vertical-align: top;\n    }\n\n    .dataframe thead th {\n        text-align: right;\n    }\n</style>\n<table border=\"1\" class=\"dataframe\">\n  <thead>\n    <tr style=\"text-align: right;\">\n      <th></th>\n      <th>dequoted_text</th>\n      <th>fullname</th>\n    </tr>\n  </thead>\n  <tbody>\n    <tr>\n      <th>554</th>\n      <td>If you think we are leaving the region you are...</td>\n      <td>t1_c2opia</td>\n    </tr>\n    <tr>\n      <th>695</th>\n      <td>You are my new favourite conspiracy theorist.</td>\n      <td>t1_c02nlxe</td>\n    </tr>\n    <tr>\n      <th>1030</th>\n      <td>You sir are clearly a wild eyed conspiracy the...</td>\n      <td>t1_c03kn4z</td>\n    </tr>\n    <tr>\n      <th>1091</th>\n      <td>Keep voting me down, you are all conspiracy th...</td>\n      <td>t1_c02aamn</td>\n    </tr>\n    <tr>\n      <th>1242</th>\n      <td>You're a Paul supporter \\nand\\n a conspiracy t...</td>\n      <td>t1_c02wap4</td>\n    </tr>\n    <tr>\n      <th>...</th>\n      <td>...</td>\n      <td>...</td>\n    </tr>\n    <tr>\n      <th>1132231</th>\n      <td>You're a conspiracy theorist, best of luck.</td>\n      <td>t1_ja9fong</td>\n    </tr>\n    <tr>\n      <th>1132272</th>\n      <td>But you repeat qualitatively questionable info...</td>\n      <td>t1_ja9n8nk</td>\n    </tr>\n    <tr>\n      <th>1132799</th>\n      <td>You are the conspiracy theorist you hate</td>\n      <td>t1_jade3be</td>\n    </tr>\n    <tr>\n      <th>1132985</th>\n      <td>You're a pro-government conspiracy theorist?? ...</td>\n      <td>t1_jaeobiv</td>\n    </tr>\n    <tr>\n      <th>1133042</th>\n      <td>If your opinions come from the mainstream then...</td>\n      <td>t1_jaf05a7</td>\n    </tr>\n  </tbody>\n</table>\n<p>6176 rows × 2 columns</p>\n</div>"
     },
     "execution_count": 154,
     "metadata": {},
     "output_type": "execute_result"
    }
   ],
   "source": [
    "strategy_4_df[strategy_4_df.status<0][['dequoted_text', 'fullname']]"
   ],
   "metadata": {
    "collapsed": false,
    "ExecuteTime": {
     "end_time": "2023-10-04T15:07:25.358469300Z",
     "start_time": "2023-10-04T15:07:25.336217700Z"
    }
   }
  },
  {
   "cell_type": "code",
   "execution_count": 162,
   "outputs": [
    {
     "data": {
      "text/plain": "                                             dequoted_text    fullname\n1047801             So you're a conspiracy theorist, then?  t1_hltpcqi\n444192   So you are a conspiracy theorist. Thanks for c...  t1_hcnhplz\n624382   You guys are the biggest conspiracy theorists ...  t1_ekit048\n583438   You're a Seth Rich conspiracy theorist.  Get out.  t1_dhwgm6x\n98477             You're definitely a conspiracy theorist.  t1_cd38t1i\n693228   Wow, you are a hateful conspiracy theorist, th...  t1_foyr34c\n927426   Ah, and you are the fact resistant conspiracy ...  t1_fpodenm\n268257                      You are a conspiracy theorist.  t1_ezxr8xa\n47079    you are a conspiracy theorist .come on don't d...  t1_cikstdm\n76735    Then you're anti-Israeli conspiracy theorist. ...  t1_c6rse88\n299641   You're the \"\\nokay conspiracy theorist\\n\" guy,...  t1_fsvroa4\n645518                      You are a conspiracy theorist.  t1_f5ojqx6\n79714    You are just being a crazy tin-foil-hat conspi...  t1_c7yg6vg\n467969   You're an insane conspiracy theorist dragging ...  t1_dabsea5\n207181         You are quite the conspiracy theorist, son!  t1_cwdz2us\n80824                     So you're a conspiracy theorist?  t1_c84g93o\n259140   From what I can tell, you're mostly pot-smokin...  t1_d8j8t7c\n668120                       You're a conspiracy theorist.  t1_e4r3v8z\n415431   You also are a conspiracy theorist! So nice to...  t1_d3b8t1m\n664461         You're a conspiracy theorist too though lol  t1_e3z7tbr",
      "text/html": "<div>\n<style scoped>\n    .dataframe tbody tr th:only-of-type {\n        vertical-align: middle;\n    }\n\n    .dataframe tbody tr th {\n        vertical-align: top;\n    }\n\n    .dataframe thead th {\n        text-align: right;\n    }\n</style>\n<table border=\"1\" class=\"dataframe\">\n  <thead>\n    <tr style=\"text-align: right;\">\n      <th></th>\n      <th>dequoted_text</th>\n      <th>fullname</th>\n    </tr>\n  </thead>\n  <tbody>\n    <tr>\n      <th>1047801</th>\n      <td>So you're a conspiracy theorist, then?</td>\n      <td>t1_hltpcqi</td>\n    </tr>\n    <tr>\n      <th>444192</th>\n      <td>So you are a conspiracy theorist. Thanks for c...</td>\n      <td>t1_hcnhplz</td>\n    </tr>\n    <tr>\n      <th>624382</th>\n      <td>You guys are the biggest conspiracy theorists ...</td>\n      <td>t1_ekit048</td>\n    </tr>\n    <tr>\n      <th>583438</th>\n      <td>You're a Seth Rich conspiracy theorist.  Get out.</td>\n      <td>t1_dhwgm6x</td>\n    </tr>\n    <tr>\n      <th>98477</th>\n      <td>You're definitely a conspiracy theorist.</td>\n      <td>t1_cd38t1i</td>\n    </tr>\n    <tr>\n      <th>693228</th>\n      <td>Wow, you are a hateful conspiracy theorist, th...</td>\n      <td>t1_foyr34c</td>\n    </tr>\n    <tr>\n      <th>927426</th>\n      <td>Ah, and you are the fact resistant conspiracy ...</td>\n      <td>t1_fpodenm</td>\n    </tr>\n    <tr>\n      <th>268257</th>\n      <td>You are a conspiracy theorist.</td>\n      <td>t1_ezxr8xa</td>\n    </tr>\n    <tr>\n      <th>47079</th>\n      <td>you are a conspiracy theorist .come on don't d...</td>\n      <td>t1_cikstdm</td>\n    </tr>\n    <tr>\n      <th>76735</th>\n      <td>Then you're anti-Israeli conspiracy theorist. ...</td>\n      <td>t1_c6rse88</td>\n    </tr>\n    <tr>\n      <th>299641</th>\n      <td>You're the \"\\nokay conspiracy theorist\\n\" guy,...</td>\n      <td>t1_fsvroa4</td>\n    </tr>\n    <tr>\n      <th>645518</th>\n      <td>You are a conspiracy theorist.</td>\n      <td>t1_f5ojqx6</td>\n    </tr>\n    <tr>\n      <th>79714</th>\n      <td>You are just being a crazy tin-foil-hat conspi...</td>\n      <td>t1_c7yg6vg</td>\n    </tr>\n    <tr>\n      <th>467969</th>\n      <td>You're an insane conspiracy theorist dragging ...</td>\n      <td>t1_dabsea5</td>\n    </tr>\n    <tr>\n      <th>207181</th>\n      <td>You are quite the conspiracy theorist, son!</td>\n      <td>t1_cwdz2us</td>\n    </tr>\n    <tr>\n      <th>80824</th>\n      <td>So you're a conspiracy theorist?</td>\n      <td>t1_c84g93o</td>\n    </tr>\n    <tr>\n      <th>259140</th>\n      <td>From what I can tell, you're mostly pot-smokin...</td>\n      <td>t1_d8j8t7c</td>\n    </tr>\n    <tr>\n      <th>668120</th>\n      <td>You're a conspiracy theorist.</td>\n      <td>t1_e4r3v8z</td>\n    </tr>\n    <tr>\n      <th>415431</th>\n      <td>You also are a conspiracy theorist! So nice to...</td>\n      <td>t1_d3b8t1m</td>\n    </tr>\n    <tr>\n      <th>664461</th>\n      <td>You're a conspiracy theorist too though lol</td>\n      <td>t1_e3z7tbr</td>\n    </tr>\n  </tbody>\n</table>\n</div>"
     },
     "execution_count": 162,
     "metadata": {},
     "output_type": "execute_result"
    }
   ],
   "source": [
    "strategy_4_df[(strategy_4_df.status<0)&(strategy_4_df.rational<0)&(strategy_4_df.bonding<0)&(strategy_4_df.attack>0)&(strategy_4_df.toxic>0)][['dequoted_text', 'fullname']].sample(20)"
   ],
   "metadata": {
    "collapsed": false,
    "ExecuteTime": {
     "end_time": "2023-10-04T15:18:17.806456700Z",
     "start_time": "2023-10-04T15:18:17.791946200Z"
    }
   }
  },
  {
   "cell_type": "code",
   "execution_count": 163,
   "outputs": [
    {
     "data": {
      "text/plain": "                                             dequoted_text    fullname\n402305   Man, if you can't back your claims, then you'r...  t1_czmijkq\n812194   Oh, you're a conspiracy theorist..\\n\\n\\nJust k...  t1_eyoqfhb\n103859   And your evidence is an alt-right conspiracy t...  t1_d7a0yq6\n418418   You're a conspiracy theorist covid denying ant...  t1_h0ds2ix\n370823   When your expert witness is a JFK conspiracy t...  t1_cwuyn9p\n638857   now you’re just being a conspiracy theorist. W...  t1_f27sslp\n543619   And you're a crackhead conspiracy theorist. I ...  t1_ip5nc2c\n545080                     so you're a conspiracy theorist  t1_ipk0rwb\n768248   You are the conspiracy theorist because you ar...  t1_gwfvohp\n235505   You're a crazy conspiracy theorist if you thin...  t1_d5q43nw\n448529   You are a conspiracy theorist who like all con...  t1_hdgq4aa\n186534   When you cannot accept evidence that disagrees...  t1_e00y3dd\n1051245  \"Do your own research bro\" is dumbfuck conspir...  t1_hml8zff\n533902           Ah, you're a conspiracy theorist. Got it.  t1_ieck3st\n571715     So you're actually a conspiracy theorist. Great  t1_e7424d4\n812709                    oh, you're a conspiracy theorist  t1_hf039c8\n883029   You are obviously a Russian troll or alt-right...  t1_i4qwwyo\n998450   Oh I get it, you're a conspiracy theorist. \"Pe...  t1_gm1offm\n636097   You people are the crazy conspiracy theorists ...  t1_euhl9b5\n1102548  Ps- YOU are the conspiracy theorist/Nazi, and ...  t1_iuwmpsb",
      "text/html": "<div>\n<style scoped>\n    .dataframe tbody tr th:only-of-type {\n        vertical-align: middle;\n    }\n\n    .dataframe tbody tr th {\n        vertical-align: top;\n    }\n\n    .dataframe thead th {\n        text-align: right;\n    }\n</style>\n<table border=\"1\" class=\"dataframe\">\n  <thead>\n    <tr style=\"text-align: right;\">\n      <th></th>\n      <th>dequoted_text</th>\n      <th>fullname</th>\n    </tr>\n  </thead>\n  <tbody>\n    <tr>\n      <th>402305</th>\n      <td>Man, if you can't back your claims, then you'r...</td>\n      <td>t1_czmijkq</td>\n    </tr>\n    <tr>\n      <th>812194</th>\n      <td>Oh, you're a conspiracy theorist..\\n\\n\\nJust k...</td>\n      <td>t1_eyoqfhb</td>\n    </tr>\n    <tr>\n      <th>103859</th>\n      <td>And your evidence is an alt-right conspiracy t...</td>\n      <td>t1_d7a0yq6</td>\n    </tr>\n    <tr>\n      <th>418418</th>\n      <td>You're a conspiracy theorist covid denying ant...</td>\n      <td>t1_h0ds2ix</td>\n    </tr>\n    <tr>\n      <th>370823</th>\n      <td>When your expert witness is a JFK conspiracy t...</td>\n      <td>t1_cwuyn9p</td>\n    </tr>\n    <tr>\n      <th>638857</th>\n      <td>now you’re just being a conspiracy theorist. W...</td>\n      <td>t1_f27sslp</td>\n    </tr>\n    <tr>\n      <th>543619</th>\n      <td>And you're a crackhead conspiracy theorist. I ...</td>\n      <td>t1_ip5nc2c</td>\n    </tr>\n    <tr>\n      <th>545080</th>\n      <td>so you're a conspiracy theorist</td>\n      <td>t1_ipk0rwb</td>\n    </tr>\n    <tr>\n      <th>768248</th>\n      <td>You are the conspiracy theorist because you ar...</td>\n      <td>t1_gwfvohp</td>\n    </tr>\n    <tr>\n      <th>235505</th>\n      <td>You're a crazy conspiracy theorist if you thin...</td>\n      <td>t1_d5q43nw</td>\n    </tr>\n    <tr>\n      <th>448529</th>\n      <td>You are a conspiracy theorist who like all con...</td>\n      <td>t1_hdgq4aa</td>\n    </tr>\n    <tr>\n      <th>186534</th>\n      <td>When you cannot accept evidence that disagrees...</td>\n      <td>t1_e00y3dd</td>\n    </tr>\n    <tr>\n      <th>1051245</th>\n      <td>\"Do your own research bro\" is dumbfuck conspir...</td>\n      <td>t1_hml8zff</td>\n    </tr>\n    <tr>\n      <th>533902</th>\n      <td>Ah, you're a conspiracy theorist. Got it.</td>\n      <td>t1_ieck3st</td>\n    </tr>\n    <tr>\n      <th>571715</th>\n      <td>So you're actually a conspiracy theorist. Great</td>\n      <td>t1_e7424d4</td>\n    </tr>\n    <tr>\n      <th>812709</th>\n      <td>oh, you're a conspiracy theorist</td>\n      <td>t1_hf039c8</td>\n    </tr>\n    <tr>\n      <th>883029</th>\n      <td>You are obviously a Russian troll or alt-right...</td>\n      <td>t1_i4qwwyo</td>\n    </tr>\n    <tr>\n      <th>998450</th>\n      <td>Oh I get it, you're a conspiracy theorist. \"Pe...</td>\n      <td>t1_gm1offm</td>\n    </tr>\n    <tr>\n      <th>636097</th>\n      <td>You people are the crazy conspiracy theorists ...</td>\n      <td>t1_euhl9b5</td>\n    </tr>\n    <tr>\n      <th>1102548</th>\n      <td>Ps- YOU are the conspiracy theorist/Nazi, and ...</td>\n      <td>t1_iuwmpsb</td>\n    </tr>\n  </tbody>\n</table>\n</div>"
     },
     "execution_count": 163,
     "metadata": {},
     "output_type": "execute_result"
    }
   ],
   "source": [
    "strategy_4_df.sample(100)[['dequoted_text', 'fullname']].sample(20)\n"
   ],
   "metadata": {
    "collapsed": false,
    "ExecuteTime": {
     "end_time": "2023-10-04T15:18:22.706779200Z",
     "start_time": "2023-10-04T15:18:22.678811800Z"
    }
   }
  },
  {
   "cell_type": "code",
   "execution_count": 199,
   "outputs": [],
   "source": [
    "n_samples = 20\n",
    "sample_4, sample_4_stricter =strategy_4_df.sample(n_samples), strategy_4_df[(strategy_4_df.status<0)&(strategy_4_df.rational<0)&(strategy_4_df.bonding<0)&(strategy_4_df.attack>0)&(strategy_4_df.toxic>0)].sample(n_samples)\n",
    "sample_4['sample_strategy'] = 'strategy_4'\n",
    "sample_4_stricter['sample_strategy'] = 'strategy_4_stricter'\n"
   ],
   "metadata": {
    "collapsed": false,
    "ExecuteTime": {
     "end_time": "2023-10-04T15:52:33.946512800Z",
     "start_time": "2023-10-04T15:52:33.912203400Z"
    }
   }
  },
  {
   "cell_type": "code",
   "execution_count": 215,
   "outputs": [],
   "source": [
    "to_annotate = pd.concat((sample_4, sample_4_stricter))"
   ],
   "metadata": {
    "collapsed": false,
    "ExecuteTime": {
     "end_time": "2023-10-04T16:02:38.518003800Z",
     "start_time": "2023-10-04T16:02:38.500999800Z"
    }
   }
  },
  {
   "cell_type": "code",
   "execution_count": 200,
   "outputs": [
    {
     "data": {
      "text/plain": "40"
     },
     "execution_count": 200,
     "metadata": {},
     "output_type": "execute_result"
    }
   ],
   "source": [
    "parent_fullnames = set(to_annotate.parent_fullname)\n",
    "parents = list()\n",
    "for chunk in pd.read_json('../data/interim/labeling_subthread_all_filtered_preprocessed_no_bot.jsonl.zip', compression='zip', chunksize=1000, lines=True):\n",
    "    parents.append(chunk[chunk.fullname.isin(parent_fullnames)])\n",
    "parent_df = pd.concat(parents)\n",
    "len(parent_df)"
   ],
   "metadata": {
    "collapsed": false,
    "ExecuteTime": {
     "end_time": "2023-10-04T15:58:53.776499900Z",
     "start_time": "2023-10-04T15:52:35.738465Z"
    }
   }
  },
  {
   "cell_type": "code",
   "execution_count": 201,
   "outputs": [
    {
     "data": {
      "text/plain": "       archived        author author_flair_background_color  \\\n102227      0.0  Mugatu101116                          None   \n206709      NaN        lessig                           NaN   \n327918     True      sporks49                           NaN   \n442238    False        iDovke                          None   \n476579     True        jcm267                           NaN   \n\n       author_flair_css_class author_flair_richtext author_flair_text  \\\n102227                   None                    []              None   \n206709                mozilla                   NaN      Larry Lessig   \n327918                   None                   NaN              None   \n442238                   None                    []              None   \n476579                   None                   NaN              None   \n\n       author_flair_text_color author_flair_type brand_safe can_gild  ...  \\\n102227                    None              text        NaN     True  ...   \n206709                     NaN               NaN        NaN      NaN  ...   \n327918                     NaN               NaN        NaN      NaN  ...   \n442238                    None              text        NaN    False  ...   \n476579                     NaN               NaN        NaN      NaN  ...   \n\n       subcaption quarantined  associated_award  \\\n102227        NaN         NaN               NaN   \n206709        NaN         NaN               NaN   \n327918        NaN         NaN               NaN   \n442238        NaN         NaN               NaN   \n476579        NaN         NaN               NaN   \n\n       collapsed_because_crowd_control comment_type  collapsed_reason_code  \\\n102227                             NaN          NaN                    NaN   \n206709                             NaN          NaN                    NaN   \n327918                             NaN          NaN                    NaN   \n442238                             NaN          NaN                    NaN   \n476579                             NaN          NaN                    NaN   \n\n       author_is_blocked  editable unrepliable_reason ad_promoted_user_posts  \n102227               NaN       NaN                NaN                    NaN  \n206709               NaN       NaN                NaN                    NaN  \n327918               NaN       NaN                NaN                    NaN  \n442238               NaN       NaN                NaN                    NaN  \n476579               NaN       NaN                NaN                    NaN  \n\n[5 rows x 192 columns]",
      "text/html": "<div>\n<style scoped>\n    .dataframe tbody tr th:only-of-type {\n        vertical-align: middle;\n    }\n\n    .dataframe tbody tr th {\n        vertical-align: top;\n    }\n\n    .dataframe thead th {\n        text-align: right;\n    }\n</style>\n<table border=\"1\" class=\"dataframe\">\n  <thead>\n    <tr style=\"text-align: right;\">\n      <th></th>\n      <th>archived</th>\n      <th>author</th>\n      <th>author_flair_background_color</th>\n      <th>author_flair_css_class</th>\n      <th>author_flair_richtext</th>\n      <th>author_flair_text</th>\n      <th>author_flair_text_color</th>\n      <th>author_flair_type</th>\n      <th>brand_safe</th>\n      <th>can_gild</th>\n      <th>...</th>\n      <th>subcaption</th>\n      <th>quarantined</th>\n      <th>associated_award</th>\n      <th>collapsed_because_crowd_control</th>\n      <th>comment_type</th>\n      <th>collapsed_reason_code</th>\n      <th>author_is_blocked</th>\n      <th>editable</th>\n      <th>unrepliable_reason</th>\n      <th>ad_promoted_user_posts</th>\n    </tr>\n  </thead>\n  <tbody>\n    <tr>\n      <th>102227</th>\n      <td>0.0</td>\n      <td>Mugatu101116</td>\n      <td>None</td>\n      <td>None</td>\n      <td>[]</td>\n      <td>None</td>\n      <td>None</td>\n      <td>text</td>\n      <td>NaN</td>\n      <td>True</td>\n      <td>...</td>\n      <td>NaN</td>\n      <td>NaN</td>\n      <td>NaN</td>\n      <td>NaN</td>\n      <td>NaN</td>\n      <td>NaN</td>\n      <td>NaN</td>\n      <td>NaN</td>\n      <td>NaN</td>\n      <td>NaN</td>\n    </tr>\n    <tr>\n      <th>206709</th>\n      <td>NaN</td>\n      <td>lessig</td>\n      <td>NaN</td>\n      <td>mozilla</td>\n      <td>NaN</td>\n      <td>Larry Lessig</td>\n      <td>NaN</td>\n      <td>NaN</td>\n      <td>NaN</td>\n      <td>NaN</td>\n      <td>...</td>\n      <td>NaN</td>\n      <td>NaN</td>\n      <td>NaN</td>\n      <td>NaN</td>\n      <td>NaN</td>\n      <td>NaN</td>\n      <td>NaN</td>\n      <td>NaN</td>\n      <td>NaN</td>\n      <td>NaN</td>\n    </tr>\n    <tr>\n      <th>327918</th>\n      <td>True</td>\n      <td>sporks49</td>\n      <td>NaN</td>\n      <td>None</td>\n      <td>NaN</td>\n      <td>None</td>\n      <td>NaN</td>\n      <td>NaN</td>\n      <td>NaN</td>\n      <td>NaN</td>\n      <td>...</td>\n      <td>NaN</td>\n      <td>NaN</td>\n      <td>NaN</td>\n      <td>NaN</td>\n      <td>NaN</td>\n      <td>NaN</td>\n      <td>NaN</td>\n      <td>NaN</td>\n      <td>NaN</td>\n      <td>NaN</td>\n    </tr>\n    <tr>\n      <th>442238</th>\n      <td>False</td>\n      <td>iDovke</td>\n      <td>None</td>\n      <td>None</td>\n      <td>[]</td>\n      <td>None</td>\n      <td>None</td>\n      <td>text</td>\n      <td>NaN</td>\n      <td>False</td>\n      <td>...</td>\n      <td>NaN</td>\n      <td>NaN</td>\n      <td>NaN</td>\n      <td>NaN</td>\n      <td>NaN</td>\n      <td>NaN</td>\n      <td>NaN</td>\n      <td>NaN</td>\n      <td>NaN</td>\n      <td>NaN</td>\n    </tr>\n    <tr>\n      <th>476579</th>\n      <td>True</td>\n      <td>jcm267</td>\n      <td>NaN</td>\n      <td>None</td>\n      <td>NaN</td>\n      <td>None</td>\n      <td>NaN</td>\n      <td>NaN</td>\n      <td>NaN</td>\n      <td>NaN</td>\n      <td>...</td>\n      <td>NaN</td>\n      <td>NaN</td>\n      <td>NaN</td>\n      <td>NaN</td>\n      <td>NaN</td>\n      <td>NaN</td>\n      <td>NaN</td>\n      <td>NaN</td>\n      <td>NaN</td>\n      <td>NaN</td>\n    </tr>\n  </tbody>\n</table>\n<p>5 rows × 192 columns</p>\n</div>"
     },
     "execution_count": 201,
     "metadata": {},
     "output_type": "execute_result"
    }
   ],
   "source": [
    "parent_df.head()"
   ],
   "metadata": {
    "collapsed": false,
    "ExecuteTime": {
     "end_time": "2023-10-04T15:58:53.820513600Z",
     "start_time": "2023-10-04T15:58:53.777500300Z"
    }
   }
  },
  {
   "cell_type": "code",
   "execution_count": 202,
   "outputs": [
    {
     "data": {
      "text/plain": "                 author  created_utc       subreddit  \\\n1094160     xChainfirex   1645118525    WayOfTheBern   \n1103968  SusanRosenberg   1667698296    Conservative   \n1027102     TheSurge305   1629606279        Wrasslin   \n475798             ee4m   1639134487  JordanPeterson   \n93433           Atlas26   1466082497            news   \n\n                                                      text    fullname  \\\n1094160  JFC, you are a full-blown anti-vaxxer conspira...  t1_hxby6hf   \n1103968  According to the MSM, you're a conspiracy theo...  t1_iv88pik   \n1027102  You are a conspiracy theorist I see. Yeah Vinc...  t1_h9vg7bu   \n475798   You are a conspiracy theorist. They arent conn...  t1_hnz2zeg   \n93433               Unless you're a conspiracy theorist...  t1_d4bin7b   \n\n        parent_fullname link_fullname  \\\n1094160      t1_hxbwocd     t3_sunhdy   \n1103968      t1_iv5v1o2     t3_yms3zx   \n1027102      t1_h9vfj5e     t3_p8qiav   \n475798       t1_hnz2jzn     t3_rd2i5m   \n93433        t1_d4b6xgv     t3_4o9f3x   \n\n                                             dequoted_text  ATTACK_ON_AUTHOR  \\\n1094160  JFC, you are a full-blown anti-vaxxer conspira...          0.809171   \n1103968  According to the MSM, you're a conspiracy theo...          0.144896   \n1027102  You are a conspiracy theorist I see. Yeah Vinc...          0.419108   \n475798   You are a conspiracy theorist. They arent conn...          0.104536   \n93433               Unless you're a conspiracy theorist...          0.145185   \n\n         ATTACK_ON_COMMENTER  ...  Money  home  Filler    attack     toxic  \\\n1094160             0.972669  ...    0.0   0.0     0.0  0.773211  0.361773   \n1103968             0.898354  ...    0.0   0.0     0.0  0.381498 -0.032953   \n1027102             0.942327  ...    1.0   0.0     0.0  0.554770  0.059772   \n475798              0.943463  ...    0.0   0.0     0.0  0.400892 -0.058353   \n93433               0.911894  ...    0.0   0.0     0.0  0.393426 -0.048003   \n\n          bonding  rational    status  has_quote  sample_strategy  \n1094160  3.744725 -2.046898 -1.302365      False       strategy_4  \n1103968 -0.039715 -2.067808 -2.300656      False       strategy_4  \n1027102  0.272009 -2.053185 -0.129596      False       strategy_4  \n475798  -0.990291 -2.059104 -2.300676      False       strategy_4  \n93433   -1.304014 -1.077601 -2.298677      False       strategy_4  \n\n[5 rows x 114 columns]",
      "text/html": "<div>\n<style scoped>\n    .dataframe tbody tr th:only-of-type {\n        vertical-align: middle;\n    }\n\n    .dataframe tbody tr th {\n        vertical-align: top;\n    }\n\n    .dataframe thead th {\n        text-align: right;\n    }\n</style>\n<table border=\"1\" class=\"dataframe\">\n  <thead>\n    <tr style=\"text-align: right;\">\n      <th></th>\n      <th>author</th>\n      <th>created_utc</th>\n      <th>subreddit</th>\n      <th>text</th>\n      <th>fullname</th>\n      <th>parent_fullname</th>\n      <th>link_fullname</th>\n      <th>dequoted_text</th>\n      <th>ATTACK_ON_AUTHOR</th>\n      <th>ATTACK_ON_COMMENTER</th>\n      <th>...</th>\n      <th>Money</th>\n      <th>home</th>\n      <th>Filler</th>\n      <th>attack</th>\n      <th>toxic</th>\n      <th>bonding</th>\n      <th>rational</th>\n      <th>status</th>\n      <th>has_quote</th>\n      <th>sample_strategy</th>\n    </tr>\n  </thead>\n  <tbody>\n    <tr>\n      <th>1094160</th>\n      <td>xChainfirex</td>\n      <td>1645118525</td>\n      <td>WayOfTheBern</td>\n      <td>JFC, you are a full-blown anti-vaxxer conspira...</td>\n      <td>t1_hxby6hf</td>\n      <td>t1_hxbwocd</td>\n      <td>t3_sunhdy</td>\n      <td>JFC, you are a full-blown anti-vaxxer conspira...</td>\n      <td>0.809171</td>\n      <td>0.972669</td>\n      <td>...</td>\n      <td>0.0</td>\n      <td>0.0</td>\n      <td>0.0</td>\n      <td>0.773211</td>\n      <td>0.361773</td>\n      <td>3.744725</td>\n      <td>-2.046898</td>\n      <td>-1.302365</td>\n      <td>False</td>\n      <td>strategy_4</td>\n    </tr>\n    <tr>\n      <th>1103968</th>\n      <td>SusanRosenberg</td>\n      <td>1667698296</td>\n      <td>Conservative</td>\n      <td>According to the MSM, you're a conspiracy theo...</td>\n      <td>t1_iv88pik</td>\n      <td>t1_iv5v1o2</td>\n      <td>t3_yms3zx</td>\n      <td>According to the MSM, you're a conspiracy theo...</td>\n      <td>0.144896</td>\n      <td>0.898354</td>\n      <td>...</td>\n      <td>0.0</td>\n      <td>0.0</td>\n      <td>0.0</td>\n      <td>0.381498</td>\n      <td>-0.032953</td>\n      <td>-0.039715</td>\n      <td>-2.067808</td>\n      <td>-2.300656</td>\n      <td>False</td>\n      <td>strategy_4</td>\n    </tr>\n    <tr>\n      <th>1027102</th>\n      <td>TheSurge305</td>\n      <td>1629606279</td>\n      <td>Wrasslin</td>\n      <td>You are a conspiracy theorist I see. Yeah Vinc...</td>\n      <td>t1_h9vg7bu</td>\n      <td>t1_h9vfj5e</td>\n      <td>t3_p8qiav</td>\n      <td>You are a conspiracy theorist I see. Yeah Vinc...</td>\n      <td>0.419108</td>\n      <td>0.942327</td>\n      <td>...</td>\n      <td>1.0</td>\n      <td>0.0</td>\n      <td>0.0</td>\n      <td>0.554770</td>\n      <td>0.059772</td>\n      <td>0.272009</td>\n      <td>-2.053185</td>\n      <td>-0.129596</td>\n      <td>False</td>\n      <td>strategy_4</td>\n    </tr>\n    <tr>\n      <th>475798</th>\n      <td>ee4m</td>\n      <td>1639134487</td>\n      <td>JordanPeterson</td>\n      <td>You are a conspiracy theorist. They arent conn...</td>\n      <td>t1_hnz2zeg</td>\n      <td>t1_hnz2jzn</td>\n      <td>t3_rd2i5m</td>\n      <td>You are a conspiracy theorist. They arent conn...</td>\n      <td>0.104536</td>\n      <td>0.943463</td>\n      <td>...</td>\n      <td>0.0</td>\n      <td>0.0</td>\n      <td>0.0</td>\n      <td>0.400892</td>\n      <td>-0.058353</td>\n      <td>-0.990291</td>\n      <td>-2.059104</td>\n      <td>-2.300676</td>\n      <td>False</td>\n      <td>strategy_4</td>\n    </tr>\n    <tr>\n      <th>93433</th>\n      <td>Atlas26</td>\n      <td>1466082497</td>\n      <td>news</td>\n      <td>Unless you're a conspiracy theorist...</td>\n      <td>t1_d4bin7b</td>\n      <td>t1_d4b6xgv</td>\n      <td>t3_4o9f3x</td>\n      <td>Unless you're a conspiracy theorist...</td>\n      <td>0.145185</td>\n      <td>0.911894</td>\n      <td>...</td>\n      <td>0.0</td>\n      <td>0.0</td>\n      <td>0.0</td>\n      <td>0.393426</td>\n      <td>-0.048003</td>\n      <td>-1.304014</td>\n      <td>-1.077601</td>\n      <td>-2.298677</td>\n      <td>False</td>\n      <td>strategy_4</td>\n    </tr>\n  </tbody>\n</table>\n<p>5 rows × 114 columns</p>\n</div>"
     },
     "execution_count": 202,
     "metadata": {},
     "output_type": "execute_result"
    }
   ],
   "source": [
    "to_annotate.head()"
   ],
   "metadata": {
    "collapsed": false,
    "ExecuteTime": {
     "end_time": "2023-10-04T15:58:53.820513600Z",
     "start_time": "2023-10-04T15:58:53.792501400Z"
    }
   }
  },
  {
   "cell_type": "code",
   "execution_count": 216,
   "outputs": [],
   "source": [
    "to_annotate['permalink'] = to_annotate.apply(get_permalink, axis=1)"
   ],
   "metadata": {
    "collapsed": false,
    "ExecuteTime": {
     "end_time": "2023-10-04T16:02:43.278561100Z",
     "start_time": "2023-10-04T16:02:43.253332800Z"
    }
   }
  },
  {
   "cell_type": "code",
   "execution_count": 217,
   "outputs": [],
   "source": [
    "\n",
    "to_annotate = pd.merge(to_annotate, parent_df[['text', 'fullname']], left_on='parent_fullname', right_on='fullname', suffixes = ['', '_parent'])[['fullname', 'parent_fullname', 'subreddit','text', 'text_parent', 'sample_strategy','permalink' ]]\n"
   ],
   "metadata": {
    "collapsed": false,
    "ExecuteTime": {
     "end_time": "2023-10-04T16:02:44.609176400Z",
     "start_time": "2023-10-04T16:02:44.595169200Z"
    }
   }
  },
  {
   "cell_type": "code",
   "execution_count": 218,
   "outputs": [],
   "source": [
    "\n",
    "to_annotate.to_csv('../data/interim/labeling_sample_strategies4--4s.csv')"
   ],
   "metadata": {
    "collapsed": false,
    "ExecuteTime": {
     "end_time": "2023-10-04T16:02:45.937366600Z",
     "start_time": "2023-10-04T16:02:45.915367200Z"
    }
   }
  },
  {
   "cell_type": "code",
   "execution_count": 219,
   "outputs": [
    {
     "data": {
      "text/plain": "      fullname parent_fullname              subreddit  \\\n0   t1_hxby6hf      t1_hxbwocd           WayOfTheBern   \n1   t1_iv88pik      t1_iv5v1o2           Conservative   \n2   t1_h9vg7bu      t1_h9vfj5e               Wrasslin   \n3   t1_hnz2zeg      t1_hnz2jzn         JordanPeterson   \n4   t1_d4bin7b      t1_d4b6xgv                   news   \n5   t1_c9fvog1      t1_c9fvijm             conspiracy   \n6   t1_h6vb8zz      t1_h6uf47u             conspiracy   \n7   t1_h66vs19      t1_h66v53v               walkaway   \n8   t1_g7irl9e      t1_g7f9ws9            Coronavirus   \n9   t1_j0nxf1t      t1_j0npo6u    BikiniBottomTwitter   \n10  t1_icwk3ty      t1_icwjyxn                 gender   \n11  t1_ge8oou7      t1_ge8mxgd          CoronavirusCA   \n12  t1_hjtxo6t      t1_hjtx1mq  SubSimGPT2Interactive   \n13  t1_gudeu41       t3_mq1ygp            NoNewNormal   \n14  t1_hx99bs9      t1_hx939xp               politics   \n15  t1_e77nj5h       t3_9lk61w          CringeAnarchy   \n16  t1_fowz91z       t3_g9gli0              TimDillon   \n17  t1_fltuhdn      t1_fltsphu                ireland   \n18  t1_dqgfkd7      t1_dqgc1yj          Documentaries   \n19  t1_gimdir8      t1_gimd91y               JoeRogan   \n20  t1_d4bw5t1      t1_d4bvqof               exmuslim   \n21  t1_c1kd6zm      t1_c1kd6mr             conspiracy   \n22  t1_enrcfno      t1_enrao2o    DankMemesFromSite19   \n23  t1_ffpskhu      t1_ffprmz2            Chiraqology   \n24  t1_hltpcqi       t3_r0op9u                   UFOs   \n25  t1_coc3vfd      t1_cobrh32                Seattle   \n26  t1_eztwiv0      t1_eztw83q               politics   \n27  t1_fsvroa4      t1_fsvqrl5              worldnews   \n28  t1_ewohhu2      t1_ewohevt           Christianity   \n29  t1_dlxqc5g      t1_dlxmy94              worldnews   \n30  t1_cf8jbv1      t1_cf8j4n3      explainlikeimfive   \n31  t1_fra4vat      t1_fr9qpx4     BlackPeopleTwitter   \n32  t1_causihk       t3_1hibzy                   IAmA   \n33  t1_j518jcl      t1_j517i2g          JusticeServed   \n34  t1_h77438g      t1_h76iqcc               collapse   \n35  t1_cjbkp5j      t1_cjbjzy1             conspiracy   \n36  t1_ghs9269      t1_ghs4vpc                   pics   \n37  t1_eiqsk5x       t3_b27860         ChapoTrapHouse   \n38  t1_cjkejw9       t3_2cx0pk              AskReddit   \n39  t1_f4b1ehz      t1_f4ayw6z             conspiracy   \n\n                                                 text  \\\n0   JFC, you are a full-blown anti-vaxxer conspira...   \n1   According to the MSM, you're a conspiracy theo...   \n2   You are a conspiracy theorist I see. Yeah Vinc...   \n3   You are a conspiracy theorist. They arent conn...   \n4              Unless you're a conspiracy theorist...   \n5   Now **YOU** are being a conspiracy theorist by...   \n6   How can you be a conspiracy theorist and have ...   \n7   First you were a conspiracy theorist if you th...   \n8   &gt;...I still firmly believe are just window ...   \n9   According to your profile you are a crazy cons...   \n10  You're a conspiracy theorist. Get back into to...   \n11                      You're a conspiracy theorist.   \n12  Your dad is a real conspiracy theorist. You kn...   \n13  2022 if you dont think microchips are safe and...   \n14  If you're a conspiracy theorist any evidence t...   \n15  if you deny any aspect of the greatest tragedy...   \n16      \"You might be a conspiracy theorist if......\"   \n17  &gt;Unlike the the Chinese terrorist psychopat...   \n18  The old \"if you disagree with Obama you must b...   \n19  Oh, now I see, you're just a nutty conspiracy ...   \n20  Oh, so on top of being a Muslim 'scholar', you...   \n21             You're a paranoid conspiracy theorist.   \n22  You're definitely a conspiracy theorist lol.\\n...   \n23  Oh hell no you're a legit conspiracy theorist ...   \n24             So you're a conspiracy theorist, then?   \n25  Ohhhh you're a conspiracy theorist. Well then ...   \n26  &gt;I’m not a conspiracy theorist\\n\\nYou are a...   \n27   You're the \"*okay conspiracy theorist*\" guy, ...   \n28  Ah, so you're a conspiracy theorist. That's al...   \n29  Ah so you're a conspiracy theorist. Not really...   \n30  I have news for you: you're a conspiracy theor...   \n31  Wow you really are off the deep end, lunatic c...   \n32       So you're an extremist conspiracy theorist.    \n33  You're just a foolish conspiracy theorist. Sho...   \n34      Lol you are a conspiracy theorist. Go outside   \n35  So you're a conspiracy theorist that supports ...   \n36  Congrats you're a conspiracy theorist or at th...   \n37  r/news circa 1968: COINTELPRO isn't a thing, y...   \n38  So you're conspiracy theorist.. \"Naah I only g...   \n39  TFW you're a \"conspiracy theorist\" yet disagre...   \n\n                                          text_parent      sample_strategy  \\\n0   It's not safe or effective, you moron. As a ra...           strategy_4   \n1                   This story gets dumber every day.           strategy_4   \n2   It was a one hour online show. They just HAPPE...           strategy_4   \n3   Funding them, and taking it upon himself to se...           strategy_4   \n4   It happened with TWA 800\\n\\nThough there was a...           strategy_4   \n5   Before anyone jumps on the conspiracy bandwago...           strategy_4   \n6   I posted it on my Facebook and zero comments o...           strategy_4   \n7                   This almost looks made up wtf lol           strategy_4   \n8   &gt; They did in fact do enough to get their R...           strategy_4   \n9   I really like this sub let’s not change that w...           strategy_4   \n10  Take five minutes of your time and Google the ...           strategy_4   \n11  i linked to a website full of detailed researc...           strategy_4   \n12                           I mean what is his name?           strategy_4   \n13             Conspiracy-Theorists then and now (oc)           strategy_4   \n14  The justification is that well obviously if th...           strategy_4   \n15                    How can you be THIS delusional?           strategy_4   \n16                      You're a conspiracy theorist!           strategy_4   \n17  Oh no! Block out the facts! Block out the fact...           strategy_4   \n18  I like how you are disappointed that Obama and...           strategy_4   \n19  Let's get some facts straight in your little e...           strategy_4   \n20  The leader of ISIS was a Non-Muslim. And bin L...  strategy_4_stricter   \n21  Yep. Just did. It's still an unpopular post in...  strategy_4_stricter   \n22  Haha, no. Trump doesn't have enough political ...  strategy_4_stricter   \n23  I see so someone who voted for Hilary is talki...  strategy_4_stricter   \n24  Let's be honest with ourselves, there's not mu...  strategy_4_stricter   \n25  http://dailycaller.com/2015/02/03/obama-admin-...  strategy_4_stricter   \n26  Explain to me what happened to building 7, in ...  strategy_4_stricter   \n27  Are you just spouting off random buzzwords at ...  strategy_4_stricter   \n28  So too are the \"peer reviewed\" sources I have ...  strategy_4_stricter   \n29  I wonder for how long. It was only a few weeks...  strategy_4_stricter   \n30                                          [deleted]  strategy_4_stricter   \n31  Youre an anonymous account on the internet pus...  strategy_4_stricter   \n32  I am Lawrence Lessig (academic, activist, now ...  strategy_4_stricter   \n33   The ones that designed and distributed covid 19.  strategy_4_stricter   \n34  True, but every single time I argued with some...  strategy_4_stricter   \n35  These \"radical 'Muslims'\" would not have exist...  strategy_4_stricter   \n36                                          [deleted]  strategy_4_stricter   \n37  In which chuds handwave the fact that someone ...  strategy_4_stricter   \n38  What is the best 'one-liner' in movie history?...  strategy_4_stricter   \n39  TFW you’re a “conspiracy theorist” yet agree w...  strategy_4_stricter   \n\n                                            permalink  \n0   https://new.reddit.com/r/WayOfTheBern/comments...  \n1   https://new.reddit.com/r/Conservative/comments...  \n2   https://new.reddit.com/r/Wrasslin/comments/p8q...  \n3   https://new.reddit.com/r/JordanPeterson/commen...  \n4   https://new.reddit.com/r/news/comments/4o9f3x/...  \n5   https://new.reddit.com/r/conspiracy/comments/1...  \n6   https://new.reddit.com/r/conspiracy/comments/o...  \n7   https://new.reddit.com/r/walkaway/comments/opq...  \n8   https://new.reddit.com/r/Coronavirus/comments/...  \n9   https://new.reddit.com/r/BikiniBottomTwitter/c...  \n10  https://new.reddit.com/r/gender/comments/vf95r...  \n11  https://new.reddit.com/r/CoronavirusCA/comment...  \n12  https://new.reddit.com/r/SubSimGPT2Interactive...  \n13  https://new.reddit.com/r/NoNewNormal/comments/...  \n14  https://new.reddit.com/r/politics/comments/su4...  \n15  https://new.reddit.com/r/CringeAnarchy/comment...  \n16  https://new.reddit.com/r/TimDillon/comments/g9...  \n17  https://new.reddit.com/r/ireland/comments/fqx3...  \n18  https://new.reddit.com/r/Documentaries/comment...  \n19  https://new.reddit.com/r/JoeRogan/comments/ktd...  \n20  https://new.reddit.com/r/exmuslim/comments/4oe...  \n21  https://new.reddit.com/r/conspiracy/comments/g...  \n22  https://new.reddit.com/r/DankMemesFromSite19/c...  \n23  https://new.reddit.com/r/Chiraqology/comments/...  \n24  https://new.reddit.com/r/UFOs/comments/r0op9u/...  \n25  https://new.reddit.com/r/Seattle/comments/2ute...  \n26  https://new.reddit.com/r/politics/comments/d2b...  \n27  https://new.reddit.com/r/worldnews/comments/gw...  \n28  https://new.reddit.com/r/Christianity/comments...  \n29  https://new.reddit.com/r/worldnews/comments/6u...  \n30  https://new.reddit.com/r/explainlikeimfive/com...  \n31  https://new.reddit.com/r/BlackPeopleTwitter/co...  \n32  https://new.reddit.com/r/IAmA/comments/1hibzy/...  \n33  https://new.reddit.com/r/JusticeServed/comment...  \n34  https://new.reddit.com/r/collapse/comments/ov0...  \n35  https://new.reddit.com/r/conspiracy/comments/2...  \n36  https://new.reddit.com/r/pics/comments/kol13o/...  \n37  https://new.reddit.com/r/ChapoTrapHouse/commen...  \n38  https://new.reddit.com/r/AskReddit/comments/2c...  \n39  https://new.reddit.com/r/conspiracy/comments/d...  ",
      "text/html": "<div>\n<style scoped>\n    .dataframe tbody tr th:only-of-type {\n        vertical-align: middle;\n    }\n\n    .dataframe tbody tr th {\n        vertical-align: top;\n    }\n\n    .dataframe thead th {\n        text-align: right;\n    }\n</style>\n<table border=\"1\" class=\"dataframe\">\n  <thead>\n    <tr style=\"text-align: right;\">\n      <th></th>\n      <th>fullname</th>\n      <th>parent_fullname</th>\n      <th>subreddit</th>\n      <th>text</th>\n      <th>text_parent</th>\n      <th>sample_strategy</th>\n      <th>permalink</th>\n    </tr>\n  </thead>\n  <tbody>\n    <tr>\n      <th>0</th>\n      <td>t1_hxby6hf</td>\n      <td>t1_hxbwocd</td>\n      <td>WayOfTheBern</td>\n      <td>JFC, you are a full-blown anti-vaxxer conspira...</td>\n      <td>It's not safe or effective, you moron. As a ra...</td>\n      <td>strategy_4</td>\n      <td>https://new.reddit.com/r/WayOfTheBern/comments...</td>\n    </tr>\n    <tr>\n      <th>1</th>\n      <td>t1_iv88pik</td>\n      <td>t1_iv5v1o2</td>\n      <td>Conservative</td>\n      <td>According to the MSM, you're a conspiracy theo...</td>\n      <td>This story gets dumber every day.</td>\n      <td>strategy_4</td>\n      <td>https://new.reddit.com/r/Conservative/comments...</td>\n    </tr>\n    <tr>\n      <th>2</th>\n      <td>t1_h9vg7bu</td>\n      <td>t1_h9vfj5e</td>\n      <td>Wrasslin</td>\n      <td>You are a conspiracy theorist I see. Yeah Vinc...</td>\n      <td>It was a one hour online show. They just HAPPE...</td>\n      <td>strategy_4</td>\n      <td>https://new.reddit.com/r/Wrasslin/comments/p8q...</td>\n    </tr>\n    <tr>\n      <th>3</th>\n      <td>t1_hnz2zeg</td>\n      <td>t1_hnz2jzn</td>\n      <td>JordanPeterson</td>\n      <td>You are a conspiracy theorist. They arent conn...</td>\n      <td>Funding them, and taking it upon himself to se...</td>\n      <td>strategy_4</td>\n      <td>https://new.reddit.com/r/JordanPeterson/commen...</td>\n    </tr>\n    <tr>\n      <th>4</th>\n      <td>t1_d4bin7b</td>\n      <td>t1_d4b6xgv</td>\n      <td>news</td>\n      <td>Unless you're a conspiracy theorist...</td>\n      <td>It happened with TWA 800\\n\\nThough there was a...</td>\n      <td>strategy_4</td>\n      <td>https://new.reddit.com/r/news/comments/4o9f3x/...</td>\n    </tr>\n    <tr>\n      <th>5</th>\n      <td>t1_c9fvog1</td>\n      <td>t1_c9fvijm</td>\n      <td>conspiracy</td>\n      <td>Now **YOU** are being a conspiracy theorist by...</td>\n      <td>Before anyone jumps on the conspiracy bandwago...</td>\n      <td>strategy_4</td>\n      <td>https://new.reddit.com/r/conspiracy/comments/1...</td>\n    </tr>\n    <tr>\n      <th>6</th>\n      <td>t1_h6vb8zz</td>\n      <td>t1_h6uf47u</td>\n      <td>conspiracy</td>\n      <td>How can you be a conspiracy theorist and have ...</td>\n      <td>I posted it on my Facebook and zero comments o...</td>\n      <td>strategy_4</td>\n      <td>https://new.reddit.com/r/conspiracy/comments/o...</td>\n    </tr>\n    <tr>\n      <th>7</th>\n      <td>t1_h66vs19</td>\n      <td>t1_h66v53v</td>\n      <td>walkaway</td>\n      <td>First you were a conspiracy theorist if you th...</td>\n      <td>This almost looks made up wtf lol</td>\n      <td>strategy_4</td>\n      <td>https://new.reddit.com/r/walkaway/comments/opq...</td>\n    </tr>\n    <tr>\n      <th>8</th>\n      <td>t1_g7irl9e</td>\n      <td>t1_g7f9ws9</td>\n      <td>Coronavirus</td>\n      <td>&amp;gt;...I still firmly believe are just window ...</td>\n      <td>&amp;gt; They did in fact do enough to get their R...</td>\n      <td>strategy_4</td>\n      <td>https://new.reddit.com/r/Coronavirus/comments/...</td>\n    </tr>\n    <tr>\n      <th>9</th>\n      <td>t1_j0nxf1t</td>\n      <td>t1_j0npo6u</td>\n      <td>BikiniBottomTwitter</td>\n      <td>According to your profile you are a crazy cons...</td>\n      <td>I really like this sub let’s not change that w...</td>\n      <td>strategy_4</td>\n      <td>https://new.reddit.com/r/BikiniBottomTwitter/c...</td>\n    </tr>\n    <tr>\n      <th>10</th>\n      <td>t1_icwk3ty</td>\n      <td>t1_icwjyxn</td>\n      <td>gender</td>\n      <td>You're a conspiracy theorist. Get back into to...</td>\n      <td>Take five minutes of your time and Google the ...</td>\n      <td>strategy_4</td>\n      <td>https://new.reddit.com/r/gender/comments/vf95r...</td>\n    </tr>\n    <tr>\n      <th>11</th>\n      <td>t1_ge8oou7</td>\n      <td>t1_ge8mxgd</td>\n      <td>CoronavirusCA</td>\n      <td>You're a conspiracy theorist.</td>\n      <td>i linked to a website full of detailed researc...</td>\n      <td>strategy_4</td>\n      <td>https://new.reddit.com/r/CoronavirusCA/comment...</td>\n    </tr>\n    <tr>\n      <th>12</th>\n      <td>t1_hjtxo6t</td>\n      <td>t1_hjtx1mq</td>\n      <td>SubSimGPT2Interactive</td>\n      <td>Your dad is a real conspiracy theorist. You kn...</td>\n      <td>I mean what is his name?</td>\n      <td>strategy_4</td>\n      <td>https://new.reddit.com/r/SubSimGPT2Interactive...</td>\n    </tr>\n    <tr>\n      <th>13</th>\n      <td>t1_gudeu41</td>\n      <td>t3_mq1ygp</td>\n      <td>NoNewNormal</td>\n      <td>2022 if you dont think microchips are safe and...</td>\n      <td>Conspiracy-Theorists then and now (oc)</td>\n      <td>strategy_4</td>\n      <td>https://new.reddit.com/r/NoNewNormal/comments/...</td>\n    </tr>\n    <tr>\n      <th>14</th>\n      <td>t1_hx99bs9</td>\n      <td>t1_hx939xp</td>\n      <td>politics</td>\n      <td>If you're a conspiracy theorist any evidence t...</td>\n      <td>The justification is that well obviously if th...</td>\n      <td>strategy_4</td>\n      <td>https://new.reddit.com/r/politics/comments/su4...</td>\n    </tr>\n    <tr>\n      <th>15</th>\n      <td>t1_e77nj5h</td>\n      <td>t3_9lk61w</td>\n      <td>CringeAnarchy</td>\n      <td>if you deny any aspect of the greatest tragedy...</td>\n      <td>How can you be THIS delusional?</td>\n      <td>strategy_4</td>\n      <td>https://new.reddit.com/r/CringeAnarchy/comment...</td>\n    </tr>\n    <tr>\n      <th>16</th>\n      <td>t1_fowz91z</td>\n      <td>t3_g9gli0</td>\n      <td>TimDillon</td>\n      <td>\"You might be a conspiracy theorist if......\"</td>\n      <td>You're a conspiracy theorist!</td>\n      <td>strategy_4</td>\n      <td>https://new.reddit.com/r/TimDillon/comments/g9...</td>\n    </tr>\n    <tr>\n      <th>17</th>\n      <td>t1_fltuhdn</td>\n      <td>t1_fltsphu</td>\n      <td>ireland</td>\n      <td>&amp;gt;Unlike the the Chinese terrorist psychopat...</td>\n      <td>Oh no! Block out the facts! Block out the fact...</td>\n      <td>strategy_4</td>\n      <td>https://new.reddit.com/r/ireland/comments/fqx3...</td>\n    </tr>\n    <tr>\n      <th>18</th>\n      <td>t1_dqgfkd7</td>\n      <td>t1_dqgc1yj</td>\n      <td>Documentaries</td>\n      <td>The old \"if you disagree with Obama you must b...</td>\n      <td>I like how you are disappointed that Obama and...</td>\n      <td>strategy_4</td>\n      <td>https://new.reddit.com/r/Documentaries/comment...</td>\n    </tr>\n    <tr>\n      <th>19</th>\n      <td>t1_gimdir8</td>\n      <td>t1_gimd91y</td>\n      <td>JoeRogan</td>\n      <td>Oh, now I see, you're just a nutty conspiracy ...</td>\n      <td>Let's get some facts straight in your little e...</td>\n      <td>strategy_4</td>\n      <td>https://new.reddit.com/r/JoeRogan/comments/ktd...</td>\n    </tr>\n    <tr>\n      <th>20</th>\n      <td>t1_d4bw5t1</td>\n      <td>t1_d4bvqof</td>\n      <td>exmuslim</td>\n      <td>Oh, so on top of being a Muslim 'scholar', you...</td>\n      <td>The leader of ISIS was a Non-Muslim. And bin L...</td>\n      <td>strategy_4_stricter</td>\n      <td>https://new.reddit.com/r/exmuslim/comments/4oe...</td>\n    </tr>\n    <tr>\n      <th>21</th>\n      <td>t1_c1kd6zm</td>\n      <td>t1_c1kd6mr</td>\n      <td>conspiracy</td>\n      <td>You're a paranoid conspiracy theorist.</td>\n      <td>Yep. Just did. It's still an unpopular post in...</td>\n      <td>strategy_4_stricter</td>\n      <td>https://new.reddit.com/r/conspiracy/comments/g...</td>\n    </tr>\n    <tr>\n      <th>22</th>\n      <td>t1_enrcfno</td>\n      <td>t1_enrao2o</td>\n      <td>DankMemesFromSite19</td>\n      <td>You're definitely a conspiracy theorist lol.\\n...</td>\n      <td>Haha, no. Trump doesn't have enough political ...</td>\n      <td>strategy_4_stricter</td>\n      <td>https://new.reddit.com/r/DankMemesFromSite19/c...</td>\n    </tr>\n    <tr>\n      <th>23</th>\n      <td>t1_ffpskhu</td>\n      <td>t1_ffprmz2</td>\n      <td>Chiraqology</td>\n      <td>Oh hell no you're a legit conspiracy theorist ...</td>\n      <td>I see so someone who voted for Hilary is talki...</td>\n      <td>strategy_4_stricter</td>\n      <td>https://new.reddit.com/r/Chiraqology/comments/...</td>\n    </tr>\n    <tr>\n      <th>24</th>\n      <td>t1_hltpcqi</td>\n      <td>t3_r0op9u</td>\n      <td>UFOs</td>\n      <td>So you're a conspiracy theorist, then?</td>\n      <td>Let's be honest with ourselves, there's not mu...</td>\n      <td>strategy_4_stricter</td>\n      <td>https://new.reddit.com/r/UFOs/comments/r0op9u/...</td>\n    </tr>\n    <tr>\n      <th>25</th>\n      <td>t1_coc3vfd</td>\n      <td>t1_cobrh32</td>\n      <td>Seattle</td>\n      <td>Ohhhh you're a conspiracy theorist. Well then ...</td>\n      <td>http://dailycaller.com/2015/02/03/obama-admin-...</td>\n      <td>strategy_4_stricter</td>\n      <td>https://new.reddit.com/r/Seattle/comments/2ute...</td>\n    </tr>\n    <tr>\n      <th>26</th>\n      <td>t1_eztwiv0</td>\n      <td>t1_eztw83q</td>\n      <td>politics</td>\n      <td>&amp;gt;I’m not a conspiracy theorist\\n\\nYou are a...</td>\n      <td>Explain to me what happened to building 7, in ...</td>\n      <td>strategy_4_stricter</td>\n      <td>https://new.reddit.com/r/politics/comments/d2b...</td>\n    </tr>\n    <tr>\n      <th>27</th>\n      <td>t1_fsvroa4</td>\n      <td>t1_fsvqrl5</td>\n      <td>worldnews</td>\n      <td>You're the \"*okay conspiracy theorist*\" guy, ...</td>\n      <td>Are you just spouting off random buzzwords at ...</td>\n      <td>strategy_4_stricter</td>\n      <td>https://new.reddit.com/r/worldnews/comments/gw...</td>\n    </tr>\n    <tr>\n      <th>28</th>\n      <td>t1_ewohhu2</td>\n      <td>t1_ewohevt</td>\n      <td>Christianity</td>\n      <td>Ah, so you're a conspiracy theorist. That's al...</td>\n      <td>So too are the \"peer reviewed\" sources I have ...</td>\n      <td>strategy_4_stricter</td>\n      <td>https://new.reddit.com/r/Christianity/comments...</td>\n    </tr>\n    <tr>\n      <th>29</th>\n      <td>t1_dlxqc5g</td>\n      <td>t1_dlxmy94</td>\n      <td>worldnews</td>\n      <td>Ah so you're a conspiracy theorist. Not really...</td>\n      <td>I wonder for how long. It was only a few weeks...</td>\n      <td>strategy_4_stricter</td>\n      <td>https://new.reddit.com/r/worldnews/comments/6u...</td>\n    </tr>\n    <tr>\n      <th>30</th>\n      <td>t1_cf8jbv1</td>\n      <td>t1_cf8j4n3</td>\n      <td>explainlikeimfive</td>\n      <td>I have news for you: you're a conspiracy theor...</td>\n      <td>[deleted]</td>\n      <td>strategy_4_stricter</td>\n      <td>https://new.reddit.com/r/explainlikeimfive/com...</td>\n    </tr>\n    <tr>\n      <th>31</th>\n      <td>t1_fra4vat</td>\n      <td>t1_fr9qpx4</td>\n      <td>BlackPeopleTwitter</td>\n      <td>Wow you really are off the deep end, lunatic c...</td>\n      <td>Youre an anonymous account on the internet pus...</td>\n      <td>strategy_4_stricter</td>\n      <td>https://new.reddit.com/r/BlackPeopleTwitter/co...</td>\n    </tr>\n    <tr>\n      <th>32</th>\n      <td>t1_causihk</td>\n      <td>t3_1hibzy</td>\n      <td>IAmA</td>\n      <td>So you're an extremist conspiracy theorist.</td>\n      <td>I am Lawrence Lessig (academic, activist, now ...</td>\n      <td>strategy_4_stricter</td>\n      <td>https://new.reddit.com/r/IAmA/comments/1hibzy/...</td>\n    </tr>\n    <tr>\n      <th>33</th>\n      <td>t1_j518jcl</td>\n      <td>t1_j517i2g</td>\n      <td>JusticeServed</td>\n      <td>You're just a foolish conspiracy theorist. Sho...</td>\n      <td>The ones that designed and distributed covid 19.</td>\n      <td>strategy_4_stricter</td>\n      <td>https://new.reddit.com/r/JusticeServed/comment...</td>\n    </tr>\n    <tr>\n      <th>34</th>\n      <td>t1_h77438g</td>\n      <td>t1_h76iqcc</td>\n      <td>collapse</td>\n      <td>Lol you are a conspiracy theorist. Go outside</td>\n      <td>True, but every single time I argued with some...</td>\n      <td>strategy_4_stricter</td>\n      <td>https://new.reddit.com/r/collapse/comments/ov0...</td>\n    </tr>\n    <tr>\n      <th>35</th>\n      <td>t1_cjbkp5j</td>\n      <td>t1_cjbjzy1</td>\n      <td>conspiracy</td>\n      <td>So you're a conspiracy theorist that supports ...</td>\n      <td>These \"radical 'Muslims'\" would not have exist...</td>\n      <td>strategy_4_stricter</td>\n      <td>https://new.reddit.com/r/conspiracy/comments/2...</td>\n    </tr>\n    <tr>\n      <th>36</th>\n      <td>t1_ghs9269</td>\n      <td>t1_ghs4vpc</td>\n      <td>pics</td>\n      <td>Congrats you're a conspiracy theorist or at th...</td>\n      <td>[deleted]</td>\n      <td>strategy_4_stricter</td>\n      <td>https://new.reddit.com/r/pics/comments/kol13o/...</td>\n    </tr>\n    <tr>\n      <th>37</th>\n      <td>t1_eiqsk5x</td>\n      <td>t3_b27860</td>\n      <td>ChapoTrapHouse</td>\n      <td>r/news circa 1968: COINTELPRO isn't a thing, y...</td>\n      <td>In which chuds handwave the fact that someone ...</td>\n      <td>strategy_4_stricter</td>\n      <td>https://new.reddit.com/r/ChapoTrapHouse/commen...</td>\n    </tr>\n    <tr>\n      <th>38</th>\n      <td>t1_cjkejw9</td>\n      <td>t3_2cx0pk</td>\n      <td>AskReddit</td>\n      <td>So you're conspiracy theorist.. \"Naah I only g...</td>\n      <td>What is the best 'one-liner' in movie history?...</td>\n      <td>strategy_4_stricter</td>\n      <td>https://new.reddit.com/r/AskReddit/comments/2c...</td>\n    </tr>\n    <tr>\n      <th>39</th>\n      <td>t1_f4b1ehz</td>\n      <td>t1_f4ayw6z</td>\n      <td>conspiracy</td>\n      <td>TFW you're a \"conspiracy theorist\" yet disagre...</td>\n      <td>TFW you’re a “conspiracy theorist” yet agree w...</td>\n      <td>strategy_4_stricter</td>\n      <td>https://new.reddit.com/r/conspiracy/comments/d...</td>\n    </tr>\n  </tbody>\n</table>\n</div>"
     },
     "execution_count": 219,
     "metadata": {},
     "output_type": "execute_result"
    }
   ],
   "source": [
    "to_annotate"
   ],
   "metadata": {
    "collapsed": false,
    "ExecuteTime": {
     "end_time": "2023-10-04T16:02:45.960380200Z",
     "start_time": "2023-10-04T16:02:45.931366400Z"
    }
   }
  },
  {
   "cell_type": "code",
   "execution_count": 35,
   "outputs": [],
   "source": [
    "strategy_1 = list()\n",
    "strategy_2 = list()\n",
    "strategy_3 = list()\n",
    "ntile=4\n",
    "sample = df[pd.qcut(df.INCOHERENT, ntile, labels=range(ntile))==0][['text', 'fullname']].sample(1000)\n",
    "\n",
    "\n",
    "# sample = df[['dequoted_text', 'fullname']].sample(1000)\n",
    "for _, row in sample.iterrows():\n",
    "    # doc = nlp(row.dequoted_text)\n",
    "\n",
    "    doc = nlp(row.text)\n",
    "    matches = matcher(doc)\n",
    "\n",
    "    match_dict = defaultdict(list)\n",
    "    for match_id, start, end in matches:\n",
    "        string_id = nlp.vocab.strings[match_id]  # Get string representation\n",
    "        span = doc[start:end]  # The matched span\n",
    "        match_dict[string_id].append(span)\n",
    "    for labeling_span in match_dict['conspiracy_labeling']:\n",
    "        sent = labeling_span.sent\n",
    "        related_pron_spans = list()\n",
    "        min_linear_distance_pron_span = None\n",
    "        min_linear_distance_pron_subtree = None\n",
    "        min_linear_distance = None\n",
    "        min_dependency_distance_pron_span = None\n",
    "        min_dependency_distance_pron_subtree = None\n",
    "        min_dependency_distance = None\n",
    "        for pron_span in match_dict['pron_poss']:\n",
    "            if (sent == pron_span.sent) and (pron_span.root.morph.to_dict().get('Person', None) in {'1', '2'}):\n",
    "                lca_mat = pron_span.root.sent.get_lca_matrix()\n",
    "                lca_idx = lca_mat[pron_span.root.i-sent.start, labeling_span.root.i-sent.start]\n",
    "                subtree = list(sent[lca_idx].subtree)\n",
    "                distance_linear = abs(pron_span.root.i-labeling_span.root.i)\n",
    "                distance_dependency = 0\n",
    "                for tok in (pron_span.root, labeling_span.root):\n",
    "                    for ancestor in tok.ancestors:\n",
    "                        distance_dependency+=1\n",
    "                        if tok.i-sent.start==lca_idx:\n",
    "                            break\n",
    "                if (min_linear_distance is None) or (distance_linear<min_linear_distance):\n",
    "                    min_linear_distance=distance_linear\n",
    "                    min_linear_distance_pron_span=pron_span\n",
    "                    min_linear_distance_pron_subtree=subtree\n",
    "\n",
    "                if (min_dependency_distance is None) or (distance_dependency<min_dependency_distance):\n",
    "                    min_dependency_distance=distance_dependency\n",
    "                    min_dependency_distance_pron_span=pron_span\n",
    "                    min_dependency_distance_pron_subtree=subtree\n",
    "\n",
    "                strategy_1.append((pron_span, subtree, row.fullname))\n",
    "        if min_linear_distance is not None:\n",
    "            strategy_2.append((min_linear_distance_pron_span, min_linear_distance_pron_subtree, row.fullname))\n",
    "        if min_dependency_distance is not None:\n",
    "            strategy_3.append((min_dependency_distance_pron_span, min_dependency_distance_pron_subtree, row.fullname))"
   ],
   "metadata": {
    "collapsed": false,
    "ExecuteTime": {
     "end_time": "2023-09-20T10:02:24.938285800Z",
     "start_time": "2023-09-20T10:02:01.685914300Z"
    }
   }
  },
  {
   "cell_type": "code",
   "execution_count": 36,
   "outputs": [],
   "source": [
    "fullnames_strategy_1 = set(i[2] for i in strategy_1 if any(tok.morph.to_dict().get('Person', None) =='2' for tok in i[0].sent))\n",
    "fullnames_strategy_2 = set(i[2] for i in strategy_2 if i[0].root.morph.to_dict().get('Person', None) =='2')\n",
    "fullnames_strategy_3 = set(i[2] for i in strategy_3 if i[0].root.morph.to_dict().get('Person', None) =='2')"
   ],
   "metadata": {
    "collapsed": false,
    "ExecuteTime": {
     "end_time": "2023-09-20T10:02:24.990363800Z",
     "start_time": "2023-09-20T10:02:24.971342100Z"
    }
   }
  },
  {
   "cell_type": "code",
   "execution_count": 37,
   "outputs": [],
   "source": [
    "all_othering = df[df.fullname.isin(fullnames_strategy_3.union(fullnames_strategy_2).union(fullnames_strategy_1))].copy()"
   ],
   "metadata": {
    "collapsed": false,
    "ExecuteTime": {
     "end_time": "2023-09-20T10:02:25.123976200Z",
     "start_time": "2023-09-20T10:02:24.985854Z"
    }
   }
  },
  {
   "cell_type": "code",
   "execution_count": 38,
   "outputs": [],
   "source": [
    "all_othering['linear_you'] = all_othering.fullname.isin(fullnames_strategy_2)\n",
    "all_othering['dependency_you'] = all_othering.fullname.isin(fullnames_strategy_3)"
   ],
   "metadata": {
    "collapsed": false,
    "ExecuteTime": {
     "end_time": "2023-09-20T10:02:25.140525800Z",
     "start_time": "2023-09-20T10:02:25.125985100Z"
    }
   }
  },
  {
   "cell_type": "code",
   "execution_count": 39,
   "outputs": [],
   "source": [
    "\n",
    "all_othering['permalink'] = all_othering.apply(get_permalink, axis=1)\n",
    "all_othering['othering'] = True"
   ],
   "metadata": {
    "collapsed": false,
    "ExecuteTime": {
     "end_time": "2023-09-20T10:02:25.160556Z",
     "start_time": "2023-09-20T10:02:25.143525Z"
    }
   }
  },
  {
   "cell_type": "code",
   "execution_count": 40,
   "outputs": [
    {
     "data": {
      "text/plain": "18368    https://new.reddit.com/r/politics/comments/6f9...\n20208    https://new.reddit.com/r/politics/comments/76b...\n21133    https://new.reddit.com/r/politics/comments/9j4...\n27630    https://new.reddit.com/r/politics/comments/g0e...\n31286    https://new.reddit.com/r/Minecraft/comments/kq...\n32169    https://new.reddit.com/r/legaladvice/comments/...\n33705    https://new.reddit.com/r/WTF/comments/dyq5o/co...\n49417    https://new.reddit.com/r/IAmA/comments/1lhtlx/...\n50191    https://new.reddit.com/r/BigBrother/comments/1...\n51635    https://new.reddit.com/r/gifs/comments/1moczo/...\nName: permalink, dtype: object"
     },
     "execution_count": 40,
     "metadata": {},
     "output_type": "execute_result"
    }
   ],
   "source": [
    "all_othering[all_othering.dependency_you].permalink.head(10)"
   ],
   "metadata": {
    "collapsed": false,
    "ExecuteTime": {
     "end_time": "2023-09-20T10:02:25.181099Z",
     "start_time": "2023-09-20T10:02:25.158556900Z"
    }
   }
  },
  {
   "cell_type": "code",
   "execution_count": 22,
   "outputs": [
    {
     "data": {
      "text/plain": "(217, 197, 180, 217)"
     },
     "execution_count": 22,
     "metadata": {},
     "output_type": "execute_result"
    }
   ],
   "source": [
    "len(fullnames_strategy_1), len(fullnames_strategy_2), len(fullnames_strategy_3), len(fullnames_strategy_3.union(fullnames_strategy_2).union(fullnames_strategy_1))"
   ],
   "metadata": {
    "collapsed": false,
    "ExecuteTime": {
     "end_time": "2023-09-20T07:39:00.149347100Z",
     "start_time": "2023-09-20T07:39:00.129714Z"
    }
   }
  },
  {
   "cell_type": "code",
   "execution_count": 23,
   "outputs": [],
   "source": [
    "non_othering = df[(~df.fullname.isin(fullnames_strategy_1))&((df.fullname.isin(set(sample.fullname))))].copy()\n",
    "non_othering['permalink'] = non_othering.apply(get_permalink, axis=1)\n",
    "non_othering['othering'] = False"
   ],
   "metadata": {
    "collapsed": false,
    "ExecuteTime": {
     "end_time": "2023-09-20T07:39:00.318741900Z",
     "start_time": "2023-09-20T07:39:00.214560600Z"
    }
   }
  },
  {
   "cell_type": "code",
   "execution_count": 24,
   "outputs": [
    {
     "ename": "ValueError",
     "evalue": "Cannot take a larger sample than population when 'replace=False'",
     "output_type": "error",
     "traceback": [
      "\u001B[1;31m---------------------------------------------------------------------------\u001B[0m",
      "\u001B[1;31mValueError\u001B[0m                                Traceback (most recent call last)",
      "Cell \u001B[1;32mIn[24], line 1\u001B[0m\n\u001B[1;32m----> 1\u001B[0m to_annotate \u001B[38;5;241m=\u001B[39m pd\u001B[38;5;241m.\u001B[39mconcat((\u001B[43mall_othering\u001B[49m\u001B[43m[\u001B[49m\u001B[43m(\u001B[49m\u001B[38;5;241;43m~\u001B[39;49m\u001B[43mall_othering\u001B[49m\u001B[38;5;241;43m.\u001B[39;49m\u001B[43mdependency_you\u001B[49m\u001B[43m)\u001B[49m\u001B[38;5;241;43m&\u001B[39;49m\u001B[43m(\u001B[49m\u001B[38;5;241;43m~\u001B[39;49m\u001B[43mall_othering\u001B[49m\u001B[38;5;241;43m.\u001B[39;49m\u001B[43mlinear_you\u001B[49m\u001B[43m)\u001B[49m\u001B[43m]\u001B[49m\u001B[38;5;241;43m.\u001B[39;49m\u001B[43msample\u001B[49m\u001B[43m(\u001B[49m\u001B[38;5;241;43m20\u001B[39;49m\u001B[43m)\u001B[49m,\n\u001B[0;32m      2\u001B[0m            all_othering[(all_othering\u001B[38;5;241m.\u001B[39mdependency_you)\u001B[38;5;241m&\u001B[39m(\u001B[38;5;241m~\u001B[39mall_othering\u001B[38;5;241m.\u001B[39mlinear_you)],\n\u001B[0;32m      3\u001B[0m            all_othering[(\u001B[38;5;241m~\u001B[39mall_othering\u001B[38;5;241m.\u001B[39mdependency_you)\u001B[38;5;241m&\u001B[39m(all_othering\u001B[38;5;241m.\u001B[39mlinear_you)],\n\u001B[0;32m      4\u001B[0m            all_othering[(all_othering\u001B[38;5;241m.\u001B[39mdependency_you)\u001B[38;5;241m&\u001B[39m(all_othering\u001B[38;5;241m.\u001B[39mlinear_you)]\u001B[38;5;241m.\u001B[39msample(\u001B[38;5;241m20\u001B[39m),\n\u001B[0;32m      5\u001B[0m            non_othering\u001B[38;5;241m.\u001B[39msample(\u001B[38;5;241m20\u001B[39m)\n\u001B[0;32m      6\u001B[0m            ))[[\u001B[38;5;124m'\u001B[39m\u001B[38;5;124mpermalink\u001B[39m\u001B[38;5;124m'\u001B[39m, \u001B[38;5;124m'\u001B[39m\u001B[38;5;124mothering\u001B[39m\u001B[38;5;124m'\u001B[39m, \u001B[38;5;124m'\u001B[39m\u001B[38;5;124mdependency_you\u001B[39m\u001B[38;5;124m'\u001B[39m, \u001B[38;5;124m'\u001B[39m\u001B[38;5;124mlinear_you\u001B[39m\u001B[38;5;124m'\u001B[39m, \u001B[38;5;124m'\u001B[39m\u001B[38;5;124msubreddit\u001B[39m\u001B[38;5;124m'\u001B[39m, \u001B[38;5;124m'\u001B[39m\u001B[38;5;124mtext\u001B[39m\u001B[38;5;124m'\u001B[39m, \u001B[38;5;124m'\u001B[39m\u001B[38;5;124mfullname\u001B[39m\u001B[38;5;124m'\u001B[39m, \u001B[38;5;124m'\u001B[39m\u001B[38;5;124mparent_fullname\u001B[39m\u001B[38;5;124m'\u001B[39m]]\n",
      "File \u001B[1;32mF:\\PycharmProjects\\thrutherstoo\\venv\\lib\\site-packages\\pandas\\core\\generic.py:5773\u001B[0m, in \u001B[0;36mNDFrame.sample\u001B[1;34m(self, n, frac, replace, weights, random_state, axis, ignore_index)\u001B[0m\n\u001B[0;32m   5770\u001B[0m \u001B[38;5;28;01mif\u001B[39;00m weights \u001B[38;5;129;01mis\u001B[39;00m \u001B[38;5;129;01mnot\u001B[39;00m \u001B[38;5;28;01mNone\u001B[39;00m:\n\u001B[0;32m   5771\u001B[0m     weights \u001B[38;5;241m=\u001B[39m sample\u001B[38;5;241m.\u001B[39mpreprocess_weights(\u001B[38;5;28mself\u001B[39m, weights, axis)\n\u001B[1;32m-> 5773\u001B[0m sampled_indices \u001B[38;5;241m=\u001B[39m \u001B[43msample\u001B[49m\u001B[38;5;241;43m.\u001B[39;49m\u001B[43msample\u001B[49m\u001B[43m(\u001B[49m\u001B[43mobj_len\u001B[49m\u001B[43m,\u001B[49m\u001B[43m \u001B[49m\u001B[43msize\u001B[49m\u001B[43m,\u001B[49m\u001B[43m \u001B[49m\u001B[43mreplace\u001B[49m\u001B[43m,\u001B[49m\u001B[43m \u001B[49m\u001B[43mweights\u001B[49m\u001B[43m,\u001B[49m\u001B[43m \u001B[49m\u001B[43mrs\u001B[49m\u001B[43m)\u001B[49m\n\u001B[0;32m   5774\u001B[0m result \u001B[38;5;241m=\u001B[39m \u001B[38;5;28mself\u001B[39m\u001B[38;5;241m.\u001B[39mtake(sampled_indices, axis\u001B[38;5;241m=\u001B[39maxis)\n\u001B[0;32m   5776\u001B[0m \u001B[38;5;28;01mif\u001B[39;00m ignore_index:\n",
      "File \u001B[1;32mF:\\PycharmProjects\\thrutherstoo\\venv\\lib\\site-packages\\pandas\\core\\sample.py:150\u001B[0m, in \u001B[0;36msample\u001B[1;34m(obj_len, size, replace, weights, random_state)\u001B[0m\n\u001B[0;32m    147\u001B[0m     \u001B[38;5;28;01melse\u001B[39;00m:\n\u001B[0;32m    148\u001B[0m         \u001B[38;5;28;01mraise\u001B[39;00m \u001B[38;5;167;01mValueError\u001B[39;00m(\u001B[38;5;124m\"\u001B[39m\u001B[38;5;124mInvalid weights: weights sum to zero\u001B[39m\u001B[38;5;124m\"\u001B[39m)\n\u001B[1;32m--> 150\u001B[0m \u001B[38;5;28;01mreturn\u001B[39;00m \u001B[43mrandom_state\u001B[49m\u001B[38;5;241;43m.\u001B[39;49m\u001B[43mchoice\u001B[49m\u001B[43m(\u001B[49m\u001B[43mobj_len\u001B[49m\u001B[43m,\u001B[49m\u001B[43m \u001B[49m\u001B[43msize\u001B[49m\u001B[38;5;241;43m=\u001B[39;49m\u001B[43msize\u001B[49m\u001B[43m,\u001B[49m\u001B[43m \u001B[49m\u001B[43mreplace\u001B[49m\u001B[38;5;241;43m=\u001B[39;49m\u001B[43mreplace\u001B[49m\u001B[43m,\u001B[49m\u001B[43m \u001B[49m\u001B[43mp\u001B[49m\u001B[38;5;241;43m=\u001B[39;49m\u001B[43mweights\u001B[49m\u001B[43m)\u001B[49m\u001B[38;5;241m.\u001B[39mastype(\n\u001B[0;32m    151\u001B[0m     np\u001B[38;5;241m.\u001B[39mintp, copy\u001B[38;5;241m=\u001B[39m\u001B[38;5;28;01mFalse\u001B[39;00m\n\u001B[0;32m    152\u001B[0m )\n",
      "File \u001B[1;32mmtrand.pyx:984\u001B[0m, in \u001B[0;36mnumpy.random.mtrand.RandomState.choice\u001B[1;34m()\u001B[0m\n",
      "\u001B[1;31mValueError\u001B[0m: Cannot take a larger sample than population when 'replace=False'"
     ]
    }
   ],
   "source": [
    "to_annotate = pd.concat((all_othering[(~all_othering.dependency_you)&(~all_othering.linear_you)].sample(20),\n",
    "           all_othering[(all_othering.dependency_you)&(~all_othering.linear_you)],\n",
    "           all_othering[(~all_othering.dependency_you)&(all_othering.linear_you)],\n",
    "           all_othering[(all_othering.dependency_you)&(all_othering.linear_you)].sample(20),\n",
    "           non_othering.sample(20)\n",
    "           ))[['permalink', 'othering', 'dependency_you', 'linear_you', 'subreddit', 'text', 'fullname', 'parent_fullname']]"
   ],
   "metadata": {
    "collapsed": false,
    "ExecuteTime": {
     "end_time": "2023-09-20T07:39:01.512837700Z",
     "start_time": "2023-09-20T07:39:00.319740400Z"
    }
   }
  },
  {
   "cell_type": "code",
   "execution_count": 173,
   "outputs": [],
   "source": [
    "parent_fullnames = set(to_annotate.parent_fullname)\n",
    "parents = list()\n",
    "for chunk in pd.read_json('../data/interim/labeling_subthread_all_filtered_preprocessed_no_bot.jsonl.zip', compression='zip', chunksize=1000, lines=True):\n",
    "    parents.append(chunk[chunk.fullname.isin(parent_fullnames)])\n",
    "parent_df = pd.concat(parents)\n",
    "len(parent_df)\n"
   ],
   "metadata": {
    "collapsed": false,
    "ExecuteTime": {
     "end_time": "2023-10-04T15:35:05.261855700Z",
     "start_time": "2023-10-04T15:28:59.863061400Z"
    }
   }
  },
  {
   "cell_type": "code",
   "execution_count": null,
   "outputs": [],
   "source": [
    "to_annotate = pd.merge(to_annotate, parent_df[['text', 'fullname']], left_on='parent_fullname', right_on='fullname', suffixes = ['', '_parent'])[['fullname', 'parent_fullname', 'othering', 'dependency_you', 'linear_you', 'subreddit','permalink', 'text', 'text_parent', ]]"
   ],
   "metadata": {
    "collapsed": false
   }
  },
  {
   "cell_type": "code",
   "execution_count": 85,
   "outputs": [],
   "source": [
    "to_annotate.to_csv('../data/interim/labeling_sample_strategies1--3.csv')"
   ],
   "metadata": {
    "collapsed": false,
    "ExecuteTime": {
     "end_time": "2023-07-04T09:06:30.971283700Z",
     "start_time": "2023-07-04T09:06:30.955284200Z"
    }
   }
  },
  {
   "cell_type": "code",
   "execution_count": 34,
   "outputs": [
    {
     "name": "stdout",
     "output_type": "stream",
     "text": [
      "yourself:PRP:pobj:2 When talking with others do not refer to yourself as a \"conspiracy theorist.\"\n",
      "me:PRP:dobj:1 why it always infuriates me whenever I see a 9/11 conspiracy theorist set up in a little tent with several obscure shots of the WTC/former WTC site with blurry pictures of supposed \"Factual evidence\"\n",
      "I:PRP:nsubj:1 Im very blind when it comes to sepcific proven health risks of these, as all I ever see are conspiracy theorists yelling about Global depopulation of America.\n",
      "I:PRP:nsubj:1 For the record, I am not a conspiracy theorist.\n",
      "I:PRP:nsubj:1 One last thing, as I said before, I am not a conspiracy theorist.\n",
      "we:PRP:nsubj:1 In 1993, the Israelis were responsible for the bombing of the World Trade Center and that kind of stuff...\"\n",
      "\n",
      "\n",
      "/r/Israel, do we have stealth antisemitic conspiracy theorist on our hands\n",
      "us:PRP:dobj:1 label us as conspiracy theorists and traitors\n",
      "I:PRP:nsubj:1 Edit\n",
      " I find this subreddit so interesting...while being superficial, it's also extremely \n",
      "honest\n",
      " and that is a quality you don't find in many places (Advertising degree, quasi conspiracy theorist, attended art \"I like the.....colors....\" classes.\n",
      "us:PRP:dobj:1 Could DE be showing us how brutal the grineer army actually is, or am I just a cracked-up conspiracy theorist?\n",
      "I:PRP:nsubj:1 While my peers called me a 'conspiracy theorist' I would call myself a 'researcher'.\n",
      "me:PRP:dobj:1 They called me a conspiracy theorist, because I actively researched a lot of material, some of which were conspiracies.\n",
      "me:PRP:pobj:1 ?\n",
      "http://www.buyhappiness.net/2013/12/02/24-of-federal-scientists-have-been-forced-to-exclude-or-alter-technical-information-in-federal-government-documents-for-non-scientific-reasons/\n",
      "\n",
      "\n",
      "This link was provided to me via my conspiracy theorist father who is:\n",
      "-anti-vaccine\n",
      "-anti-fluoridation\n",
      "-anti-everythingtodowithgovernment\n",
      "\n",
      "\n",
      "I frequently debate with him, arguing that scientists in modern day are for the most part reliable in their respective fields\n",
      "I:PRP:nsubj:1 I'm interested in websites and blogs like \n",
      "A Skeptical Survivalist\n",
      " or \n",
      "Global Guerrillas\n",
      ", not the conspiracy theorist (One World Order, Amero) type sites.\n",
      "I:PRP:nsubj:1 Conspiracy I think it's time to branch off \"conspiracy theories\" and start to get out act together, whenever someone mentions the words \"conspiracy theorist/theory\" people automatically think of us being crazy.\n",
      "me:PRP:pobj:1 So can someone explain to me as simply as possible why so many conspiracy theorists think the Jews are major conspiracy heads?\n",
      "I:PRP:nsubj:1 I'm no tin foil hat conspiracy theorist, but I call it like I see it.\n",
      "you:PRP:nsubj:2 If you were to ask ANY \"conspiracy theorist\" after 911 what would happen to us?\n",
      "I:PRP:nsubj:1 I was not a conspiracy theorist until 5 years after 911.\n",
      "I:PRP:nsubj:1 Who knows, I could just be a conspiracy theorist.\n",
      "you:PRP:nsubj:2 Secret societies (the Masons, the Templars, you name it) get a bad rap in history due largely to conspiracy theorists.\n",
      "I:PRP:nsubj:1 The only rational way I can explain it (other than the wild idea that these tabloids really do have psychics working for them, oohhh hocus pocus, and all that jazz) might be that since these things were man-made disasters (other than the giant blizzard, but like I said before that wouldn't be too hard to guess) that someone might have caught wind of people high up plotting them, tried to go to the regular newspapers and was written off as a conspiracist and the only newspaper they were able to use to tell the world were these tabloids.\n",
      "I:PRP:nsubj:1 So, I am not a conspiracy theorist by any means; but I think that there may be something to this new world order business.\n",
      "I:PRP:nsubj:1 I've been running into conspiracy theorists lately and I have to ask.\n",
      "I:PRP:nsubj:1 , I want the information to be presentable as factual to everyone, conspiracy theorist or not.\n",
      "you:PRP:nsubj:2 Or would you be more likely to side with the tin-foil hat conspiracy theorists like the ones about 9/11 being an inside job?\n",
      "I:PRP:nsubj:1 I encourage the conspiracy theorists to question.\n",
      "I:PRP:nsubj:1 I'm not a conspiracy theorist and I know the scandal was a bit overblown/\n",
      "my:PRP$:poss:1 my a conspiracy theorist\n",
      "I:PRP:nsubjpass:1 I've been labeled a conspiracy theorist since middle school and here I am now, laughing my ass off at all these people in my schools suddenly concerned about their privacy but the same people called me crazy a few months ago.\n",
      "I:PRP:nsubj:1 What is Ron Paul's strategy in dealing with newsletters?\n",
      "I just saw a huge polemic article on a major german news websites that bashes RP as a racist homophobic anti-semitic conspiracy theorist:\n",
      "I:PRP:nsubj:1 I thought you guys were just some crackpot conspiracy theorists.\n",
      "I:PRP:nsubj:1 I have a friend who is a grade-A conspiracy theorist and is vehemently against vaccinations.\n",
      "you:PRP:nmod:2 quick question for the mods\n",
      "\n",
      "you guys know that conspiracy theorist Alex Jones is using a video that links to the sub-reddit at the end.\n",
      "me:PRP:dobj:1 Convince me to be a conspiracy theorist\n",
      "I used to be a very skeptical person.\n",
      "I:PRP:nsubj:1 I joined /r/conspiratard and loved to mock those crazy old conspiracy theorists.\n",
      "I:PRP:nsubj:1 I was wondering if I was a conspiracy theorist.\n",
      "you:PRP:nsubj:2 because you don't want those 2012 conspiracy theorists proven right when Supreme Chancellor Palin nukes Peru shortly after assuming power\n",
      "you:PRP:nsubj:2 Do you think that in 200 years conspiracy theorists will think Redditers were some sort of illuminati that ran the world???\n",
      "I:PRP:nsubj:1 So yes, I understand that it can be a pain in the butt to play in Inferno, and also the conspiracy theorists are going to run amok with any impropriety they sense, but this game is just as fun as D2 was.\n",
      "I:PRP:nsubj:1 I guess im becomming a tin foil hat conspiracy theorist.\n",
      "I:PRP:nsubj:1 Partner is a conspiracy theorist\n",
      "My partner and I have been together just over a year and are in our mid 20s.\n",
      "I:PRP:nsubj:1 I'm not some conspiracy theorist.\n",
      "you:PRP:nsubj:2 Which conspiracy theory are you hoping will be proved true in 2014?\n",
      "2013 turned out to be a year of vindication for some conspiracy theorists.\n",
      "I:PRP:nsubj:1 I was reading \n",
      "this\n",
      " ZeroHedge article, and though I know the site is full of crackpots and conspiracy theorists, I was somewhat intrigued by his conclusion that GM is overloading its dealers with inventory in order to pump sales volume.\n",
      "I:PRP:nsubj:1 I never really came here before the other day and it appears your sub is mostly a place to poke fun of the ridiculousness of conspiracy theorists.\n",
      "We:PRP:nsubj:1 We are not conspiracy theorists.\n",
      "me:PRP:pobj:1 How this counts as a war is beyond me but conspiracy theorists aren't known for being accurate.\n",
      "my:PRP$:poss:1 my conspiracy theorist friends\n",
      "our:PRP$:poss:1 WAKE UP CALL!\n",
      "Conspiracy theorists love talking about how our government is trying to perpetuate a matrix control system - that isn't exactly true, it's our popular culture, which isn't really government controlled and really never can be.\n",
      "I:PRP:nsubj:1 Seeing as how you can make the argument that religion is used to control populations...\n",
      "\n",
      "\n",
      "I've seen a bunch of conspiracy theorists who go off on their mkultra and haarp and bilderberg rants and then cite a bible verse...\n",
      "I:PRP:nsubj:1 Why are people so upset over the NSA data mining verizon data?\n",
      "I understand why paranoid conspiracy theorists are upset.\n",
      "I:PRP:nsubj:1 I may be a bit drunk at the moment and a bit of a conspiracist\n",
      "you:PRP:nsubj:2 ~~So to \n",
      "really\n",
      " check how nutty those conspiracy theorists are, you can link them to any of the news reports or this WHO publication directly and if they dismiss it - you know they are not of right mind.~~ (my frustration writing)\n",
      "me:PRP:dobj:1 They are calling me a conspiracy theorist and don't believe that this War on Drugs is really screwing over people with schools and jobs.\n",
      "your:PRP$:poss:2 Does your world have conspiracy theorists or are the citizens/denizens of your world trusting to a fault?\n",
      "I:PRP:nsubj:1 Now, I don't want to make this start sounding like a conspiracy theorist or some anti-government lunatic (coinsidently, I'm a far-right libertarian... anarachist, actually).\n",
      "I:PRP:nsubj:1 I don't know, I'm probably talking like a conspiracy theorist right now but any thoughts from you guys?\n",
      "I:PRP:nsubj:1 I don't want to sound like a paranoid conspiracy theorist, but the way the government (US) is going is frankly concerning to me.\n",
      "I:PRP:nsubj:1 I feel that for every big event there is some conspiracy theorist that pokes holes in the public opinion.\n",
      "us:PRP:nsubj:1 Some conspiracy theorists will say it was GGG's plan all along to make us all easier to kill.\n",
      "I:PRP:nsubj:1 I need to start out by saying that I am no conspiracy theorist, but at this point thanks to Edward Snowden\n",
      "I:PRP:nsubj:1 I started off with saying I'm not a conspiracy theorist because some people might believe I am for thinking the government is doing this in large part to protect themselves from being exposed for what they're doing, but also because I believe that Michael Hastings was \n",
      "murdered\n",
      " because he was doing exactly that.\n",
      "I:PRP:nsubj:1 I am by no means an expert on foreign policy issues, but I have been carefully following developments over the past couple of years, and it seems to me that the odds of a global armed conflict (most likely nuclear in nature) arising unexpectedly due to miscalculation on various sides is rising rapidly at the moment, to the point where it is potentially the largest existential danger most of us currently face, which has lead me to wonder: \n",
      "\n",
      "\n",
      "Why is it that, apart from conspiracy theorist and the occasional nutjob, the issue has neither been widely discussed nor is something that seems to be bothering most people?\n",
      "I:PRP:nsubj:1 that I'm somehow being too pessimistic and grossly overestimating the dangers of a global nuclear confrontation by several orders of magnitude, and that the reason that no one apart from the conspiracy theorists is truly worried at this point is that the nightmare scenario is still so improbable that people are right to worry about other things first, but there's a nagging voice at the back of my head telling me that that's probably not the case.\n",
      "I:PRP:nsubj:1 Or am I a paranoid conspiracy theorist?\n",
      "I:PRP:nsubj:1 I feel that conspiracy theorists are given a bad rap.\n",
      "me:PRP:pobj:1 The little conspiracy theorist in me\n",
      "I:PRP:nsubj:1 I've even had users stalk me, posting in virtually every topic I make on certain boards calling me all sorts of anti-conspiracy theorist insults, which never get moderated (even though I mark them), and I've even seen these users post threads outright insulting me in the topic titles (insults in general are against the rules, and calling someone out like that in a title is doubly moddable for harassment) and they are never moderated.\n",
      "me:PRP:pobj:1 This hasn't just happened to me either, it happens to virtually every vocal conspiracy theorist on the site.\n",
      "my:PRP$:poss:1 With the caveat that HR has to tie into the original Deus Ex, this was my first exposure to the series and I spent a lot of the game surprised just how absolutely straight down the line the story played out like a conservative conspiracy theorist manifesto.\n",
      "I:PRP:nsubj:1 Am I being a crazy tinfoil hat wearing (Jokerstars is rigged LOL) conspiracy theorist or is this actually happening?\n",
      "I:PRP:nsubj:1 Plus, I think Ziad is a conspiracy theorist.\n",
      "I:PRP:nsubj:1 People are calling this man a conspiracy theorist, but I believe him.\n"
     ]
    }
   ],
   "source": [
    "for pron_span, subtree, fullname in strategy_3:\n",
    "    # print(list(subtree))\n",
    "    print(f\"{pron_span}:{pron_span.root.tag_}:{pron_span.root.dep_}:{pron_span.root.morph.to_dict().get('Person', None)} {''.join(i.text_with_ws for i in subtree).strip()}\")\n"
   ],
   "metadata": {
    "collapsed": false,
    "ExecuteTime": {
     "end_time": "2023-07-03T20:13:18.642265Z",
     "start_time": "2023-07-03T20:13:18.629270Z"
    }
   }
  },
  {
   "cell_type": "code",
   "execution_count": 64,
   "outputs": [],
   "source": [
    "# find the labeling span\n",
    "# get the root of the span\n",
    "# get the sentence\n",
    "# find all pronouns (you)/det poss (your)/propn? (yours)\n",
    "# find the common ancestor between pronouns* and labeling root\n",
    "# check for verbs in the middle; look for negated"
   ],
   "metadata": {
    "collapsed": false,
    "ExecuteTime": {
     "end_time": "2023-07-04T08:35:06.849839100Z",
     "start_time": "2023-07-04T08:35:06.834839200Z"
    }
   }
  },
  {
   "cell_type": "code",
   "execution_count": 65,
   "outputs": [
    {
     "data": {
      "text/plain": "<IPython.core.display.HTML object>",
      "text/html": "<span class=\"tex2jax_ignore\"><svg xmlns=\"http://www.w3.org/2000/svg\" xmlns:xlink=\"http://www.w3.org/1999/xlink\" xml:lang=\"en\" id=\"0564f99c6ad24adea7067f67437ea0aa-0\" class=\"displacy\" width=\"1850\" height=\"512.0\" direction=\"ltr\" style=\"max-width: none; height: 512.0px; color: white; background: #09a3d5; font-family: Source Sans Pro; direction: ltr\">\n<text class=\"displacy-token\" fill=\"currentColor\" text-anchor=\"middle\" y=\"422.0\">\n    <tspan class=\"displacy-word\" fill=\"currentColor\" x=\"50\">It</tspan>\n    <tspan class=\"displacy-tag\" dy=\"2em\" fill=\"currentColor\" x=\"50\">PRON</tspan>\n</text>\n\n<text class=\"displacy-token\" fill=\"currentColor\" text-anchor=\"middle\" y=\"422.0\">\n    <tspan class=\"displacy-word\" fill=\"currentColor\" x=\"200\">'s</tspan>\n    <tspan class=\"displacy-tag\" dy=\"2em\" fill=\"currentColor\" x=\"200\">AUX</tspan>\n</text>\n\n<text class=\"displacy-token\" fill=\"currentColor\" text-anchor=\"middle\" y=\"422.0\">\n    <tspan class=\"displacy-word\" fill=\"currentColor\" x=\"350\">the</tspan>\n    <tspan class=\"displacy-tag\" dy=\"2em\" fill=\"currentColor\" x=\"350\">DET</tspan>\n</text>\n\n<text class=\"displacy-token\" fill=\"currentColor\" text-anchor=\"middle\" y=\"422.0\">\n    <tspan class=\"displacy-word\" fill=\"currentColor\" x=\"500\">same</tspan>\n    <tspan class=\"displacy-tag\" dy=\"2em\" fill=\"currentColor\" x=\"500\">ADJ</tspan>\n</text>\n\n<text class=\"displacy-token\" fill=\"currentColor\" text-anchor=\"middle\" y=\"422.0\">\n    <tspan class=\"displacy-word\" fill=\"currentColor\" x=\"650\">with</tspan>\n    <tspan class=\"displacy-tag\" dy=\"2em\" fill=\"currentColor\" x=\"650\">SCONJ</tspan>\n</text>\n\n<text class=\"displacy-token\" fill=\"currentColor\" text-anchor=\"middle\" y=\"422.0\">\n    <tspan class=\"displacy-word\" fill=\"currentColor\" x=\"800\">correct</tspan>\n    <tspan class=\"displacy-tag\" dy=\"2em\" fill=\"currentColor\" x=\"800\">ADJ</tspan>\n</text>\n\n<text class=\"displacy-token\" fill=\"currentColor\" text-anchor=\"middle\" y=\"422.0\">\n    <tspan class=\"displacy-word\" fill=\"currentColor\" x=\"950\">the</tspan>\n    <tspan class=\"displacy-tag\" dy=\"2em\" fill=\"currentColor\" x=\"950\">DET</tspan>\n</text>\n\n<text class=\"displacy-token\" fill=\"currentColor\" text-anchor=\"middle\" y=\"422.0\">\n    <tspan class=\"displacy-word\" fill=\"currentColor\" x=\"1100\">record</tspan>\n    <tspan class=\"displacy-tag\" dy=\"2em\" fill=\"currentColor\" x=\"1100\">NOUN</tspan>\n</text>\n\n<text class=\"displacy-token\" fill=\"currentColor\" text-anchor=\"middle\" y=\"422.0\">\n    <tspan class=\"displacy-word\" fill=\"currentColor\" x=\"1250\">and</tspan>\n    <tspan class=\"displacy-tag\" dy=\"2em\" fill=\"currentColor\" x=\"1250\">CCONJ</tspan>\n</text>\n\n<text class=\"displacy-token\" fill=\"currentColor\" text-anchor=\"middle\" y=\"422.0\">\n    <tspan class=\"displacy-word\" fill=\"currentColor\" x=\"1400\">fake</tspan>\n    <tspan class=\"displacy-tag\" dy=\"2em\" fill=\"currentColor\" x=\"1400\">ADJ</tspan>\n</text>\n\n<text class=\"displacy-token\" fill=\"currentColor\" text-anchor=\"middle\" y=\"422.0\">\n    <tspan class=\"displacy-word\" fill=\"currentColor\" x=\"1550\">news.</tspan>\n    <tspan class=\"displacy-tag\" dy=\"2em\" fill=\"currentColor\" x=\"1550\">PUNCT</tspan>\n</text>\n\n<text class=\"displacy-token\" fill=\"currentColor\" text-anchor=\"middle\" y=\"422.0\">\n    <tspan class=\"displacy-word\" fill=\"currentColor\" x=\"1700\"> </tspan>\n    <tspan class=\"displacy-tag\" dy=\"2em\" fill=\"currentColor\" x=\"1700\">SPACE</tspan>\n</text>\n\n<g class=\"displacy-arrow\">\n    <path class=\"displacy-arc\" id=\"arrow-0564f99c6ad24adea7067f67437ea0aa-0-0\" stroke-width=\"2px\" d=\"M62,377.0 62,352.0 188.0,352.0 188.0,377.0\" fill=\"none\" stroke=\"currentColor\"/>\n    <text dy=\"1.25em\" style=\"font-size: 0.8em; letter-spacing: 1px\">\n        <textPath xlink:href=\"#arrow-0564f99c6ad24adea7067f67437ea0aa-0-0\" class=\"displacy-label\" startOffset=\"50%\" side=\"left\" fill=\"currentColor\" text-anchor=\"middle\">nsubj</textPath>\n    </text>\n    <path class=\"displacy-arrowhead\" d=\"M62,379.0 L58,371.0 66,371.0\" fill=\"currentColor\"/>\n</g>\n\n<g class=\"displacy-arrow\">\n    <path class=\"displacy-arc\" id=\"arrow-0564f99c6ad24adea7067f67437ea0aa-0-1\" stroke-width=\"2px\" d=\"M362,377.0 362,352.0 488.0,352.0 488.0,377.0\" fill=\"none\" stroke=\"currentColor\"/>\n    <text dy=\"1.25em\" style=\"font-size: 0.8em; letter-spacing: 1px\">\n        <textPath xlink:href=\"#arrow-0564f99c6ad24adea7067f67437ea0aa-0-1\" class=\"displacy-label\" startOffset=\"50%\" side=\"left\" fill=\"currentColor\" text-anchor=\"middle\">det</textPath>\n    </text>\n    <path class=\"displacy-arrowhead\" d=\"M362,379.0 L358,371.0 366,371.0\" fill=\"currentColor\"/>\n</g>\n\n<g class=\"displacy-arrow\">\n    <path class=\"displacy-arc\" id=\"arrow-0564f99c6ad24adea7067f67437ea0aa-0-2\" stroke-width=\"2px\" d=\"M212,377.0 212,327.0 491.0,327.0 491.0,377.0\" fill=\"none\" stroke=\"currentColor\"/>\n    <text dy=\"1.25em\" style=\"font-size: 0.8em; letter-spacing: 1px\">\n        <textPath xlink:href=\"#arrow-0564f99c6ad24adea7067f67437ea0aa-0-2\" class=\"displacy-label\" startOffset=\"50%\" side=\"left\" fill=\"currentColor\" text-anchor=\"middle\">attr</textPath>\n    </text>\n    <path class=\"displacy-arrowhead\" d=\"M491.0,379.0 L495.0,371.0 487.0,371.0\" fill=\"currentColor\"/>\n</g>\n\n<g class=\"displacy-arrow\">\n    <path class=\"displacy-arc\" id=\"arrow-0564f99c6ad24adea7067f67437ea0aa-0-3\" stroke-width=\"2px\" d=\"M662,377.0 662,352.0 788.0,352.0 788.0,377.0\" fill=\"none\" stroke=\"currentColor\"/>\n    <text dy=\"1.25em\" style=\"font-size: 0.8em; letter-spacing: 1px\">\n        <textPath xlink:href=\"#arrow-0564f99c6ad24adea7067f67437ea0aa-0-3\" class=\"displacy-label\" startOffset=\"50%\" side=\"left\" fill=\"currentColor\" text-anchor=\"middle\">mark</textPath>\n    </text>\n    <path class=\"displacy-arrowhead\" d=\"M662,379.0 L658,371.0 666,371.0\" fill=\"currentColor\"/>\n</g>\n\n<g class=\"displacy-arrow\">\n    <path class=\"displacy-arc\" id=\"arrow-0564f99c6ad24adea7067f67437ea0aa-0-4\" stroke-width=\"2px\" d=\"M212,377.0 212,302.0 794.0,302.0 794.0,377.0\" fill=\"none\" stroke=\"currentColor\"/>\n    <text dy=\"1.25em\" style=\"font-size: 0.8em; letter-spacing: 1px\">\n        <textPath xlink:href=\"#arrow-0564f99c6ad24adea7067f67437ea0aa-0-4\" class=\"displacy-label\" startOffset=\"50%\" side=\"left\" fill=\"currentColor\" text-anchor=\"middle\">advcl</textPath>\n    </text>\n    <path class=\"displacy-arrowhead\" d=\"M794.0,379.0 L798.0,371.0 790.0,371.0\" fill=\"currentColor\"/>\n</g>\n\n<g class=\"displacy-arrow\">\n    <path class=\"displacy-arc\" id=\"arrow-0564f99c6ad24adea7067f67437ea0aa-0-5\" stroke-width=\"2px\" d=\"M962,377.0 962,277.0 1547.0,277.0 1547.0,377.0\" fill=\"none\" stroke=\"currentColor\"/>\n    <text dy=\"1.25em\" style=\"font-size: 0.8em; letter-spacing: 1px\">\n        <textPath xlink:href=\"#arrow-0564f99c6ad24adea7067f67437ea0aa-0-5\" class=\"displacy-label\" startOffset=\"50%\" side=\"left\" fill=\"currentColor\" text-anchor=\"middle\">det</textPath>\n    </text>\n    <path class=\"displacy-arrowhead\" d=\"M962,379.0 L958,371.0 966,371.0\" fill=\"currentColor\"/>\n</g>\n\n<g class=\"displacy-arrow\">\n    <path class=\"displacy-arc\" id=\"arrow-0564f99c6ad24adea7067f67437ea0aa-0-6\" stroke-width=\"2px\" d=\"M1112,377.0 1112,302.0 1544.0,302.0 1544.0,377.0\" fill=\"none\" stroke=\"currentColor\"/>\n    <text dy=\"1.25em\" style=\"font-size: 0.8em; letter-spacing: 1px\">\n        <textPath xlink:href=\"#arrow-0564f99c6ad24adea7067f67437ea0aa-0-6\" class=\"displacy-label\" startOffset=\"50%\" side=\"left\" fill=\"currentColor\" text-anchor=\"middle\">nmod</textPath>\n    </text>\n    <path class=\"displacy-arrowhead\" d=\"M1112,379.0 L1108,371.0 1116,371.0\" fill=\"currentColor\"/>\n</g>\n\n<g class=\"displacy-arrow\">\n    <path class=\"displacy-arc\" id=\"arrow-0564f99c6ad24adea7067f67437ea0aa-0-7\" stroke-width=\"2px\" d=\"M1112,377.0 1112,352.0 1238.0,352.0 1238.0,377.0\" fill=\"none\" stroke=\"currentColor\"/>\n    <text dy=\"1.25em\" style=\"font-size: 0.8em; letter-spacing: 1px\">\n        <textPath xlink:href=\"#arrow-0564f99c6ad24adea7067f67437ea0aa-0-7\" class=\"displacy-label\" startOffset=\"50%\" side=\"left\" fill=\"currentColor\" text-anchor=\"middle\">cc</textPath>\n    </text>\n    <path class=\"displacy-arrowhead\" d=\"M1238.0,379.0 L1242.0,371.0 1234.0,371.0\" fill=\"currentColor\"/>\n</g>\n\n<g class=\"displacy-arrow\">\n    <path class=\"displacy-arc\" id=\"arrow-0564f99c6ad24adea7067f67437ea0aa-0-8\" stroke-width=\"2px\" d=\"M1112,377.0 1112,327.0 1391.0,327.0 1391.0,377.0\" fill=\"none\" stroke=\"currentColor\"/>\n    <text dy=\"1.25em\" style=\"font-size: 0.8em; letter-spacing: 1px\">\n        <textPath xlink:href=\"#arrow-0564f99c6ad24adea7067f67437ea0aa-0-8\" class=\"displacy-label\" startOffset=\"50%\" side=\"left\" fill=\"currentColor\" text-anchor=\"middle\">conj</textPath>\n    </text>\n    <path class=\"displacy-arrowhead\" d=\"M1391.0,379.0 L1395.0,371.0 1387.0,371.0\" fill=\"currentColor\"/>\n</g>\n\n<g class=\"displacy-arrow\">\n    <path class=\"displacy-arc\" id=\"arrow-0564f99c6ad24adea7067f67437ea0aa-0-9\" stroke-width=\"2px\" d=\"M212,377.0 212,252.0 1550.0,252.0 1550.0,377.0\" fill=\"none\" stroke=\"currentColor\"/>\n    <text dy=\"1.25em\" style=\"font-size: 0.8em; letter-spacing: 1px\">\n        <textPath xlink:href=\"#arrow-0564f99c6ad24adea7067f67437ea0aa-0-9\" class=\"displacy-label\" startOffset=\"50%\" side=\"left\" fill=\"currentColor\" text-anchor=\"middle\">punct</textPath>\n    </text>\n    <path class=\"displacy-arrowhead\" d=\"M1550.0,379.0 L1554.0,371.0 1546.0,371.0\" fill=\"currentColor\"/>\n</g>\n\n<g class=\"displacy-arrow\">\n    <path class=\"displacy-arc\" id=\"arrow-0564f99c6ad24adea7067f67437ea0aa-0-10\" stroke-width=\"2px\" d=\"M1562,377.0 1562,352.0 1688.0,352.0 1688.0,377.0\" fill=\"none\" stroke=\"currentColor\"/>\n    <text dy=\"1.25em\" style=\"font-size: 0.8em; letter-spacing: 1px\">\n        <textPath xlink:href=\"#arrow-0564f99c6ad24adea7067f67437ea0aa-0-10\" class=\"displacy-label\" startOffset=\"50%\" side=\"left\" fill=\"currentColor\" text-anchor=\"middle\">dep</textPath>\n    </text>\n    <path class=\"displacy-arrowhead\" d=\"M1688.0,379.0 L1692.0,371.0 1684.0,371.0\" fill=\"currentColor\"/>\n</g>\n</svg></span>"
     },
     "metadata": {},
     "output_type": "display_data"
    }
   ],
   "source": [
    "options = {\"compact\": True, \"bg\": \"#09a3d5\",\n",
    "           \"color\": \"white\", \"font\": \"Source Sans Pro\"}\n",
    "displacy.render(pron_span.sent, style=\"dep\", options=options)\n"
   ],
   "metadata": {
    "collapsed": false,
    "ExecuteTime": {
     "end_time": "2023-07-04T08:35:34.399630200Z",
     "start_time": "2023-07-04T08:35:30.977512500Z"
    }
   }
  }
 ],
 "metadata": {
  "kernelspec": {
   "display_name": "Python 3",
   "language": "python",
   "name": "python3"
  },
  "language_info": {
   "codemirror_mode": {
    "name": "ipython",
    "version": 2
   },
   "file_extension": ".py",
   "mimetype": "text/x-python",
   "name": "python",
   "nbconvert_exporter": "python",
   "pygments_lexer": "ipython2",
   "version": "2.7.6"
  }
 },
 "nbformat": 4,
 "nbformat_minor": 0
}
