{
 "cells": [
  {
   "cell_type": "code",
   "execution_count": 1,
   "metadata": {
    "collapsed": true,
    "ExecuteTime": {
     "start_time": "2023-07-03T19:40:32.260645Z",
     "end_time": "2023-07-03T19:40:35.169690Z"
    }
   },
   "outputs": [],
   "source": [
    "import re\n",
    "from collections import defaultdict\n",
    "\n",
    "import pandas as pd\n",
    "import spacy\n",
    "from IPython.core.display import HTML\n",
    "from bs4 import BeautifulSoup\n",
    "from markdown import markdown\n",
    "from spacy import displacy\n",
    "from spacy.matcher import Matcher"
   ]
  },
  {
   "cell_type": "code",
   "execution_count": 2,
   "outputs": [],
   "source": [
    "# spacy.cli.download('en_core_web_lg')"
   ],
   "metadata": {
    "collapsed": false,
    "ExecuteTime": {
     "start_time": "2023-07-03T19:40:35.173701Z",
     "end_time": "2023-07-03T19:40:35.183468Z"
    }
   }
  },
  {
   "cell_type": "code",
   "execution_count": null,
   "outputs": [],
   "source": [
    "df = pd.read_json('../data/interim/labeling_contributions_preprocessed_no_bot.jsonl', orient='records', lines=True)[[ 'author', 'created_utc',\n",
    "       'permalink', 'retrieved_on', 'rte_mode', 'score',\n",
    "       'subreddit',\n",
    "       'subreddit_type',\n",
    "       'contribution_type', 'text', 'fullname', 'parent_fullname',\n",
    "       'link_fullname', 'preprocessed_text', 'processed_text']]"
   ],
   "metadata": {
    "collapsed": false,
    "ExecuteTime": {
     "start_time": "2023-07-03T19:40:35.189285Z",
     "end_time": "2023-07-03T19:40:35.376896Z"
    },
    "pycharm": {
     "is_executing": true
    }
   }
  },
  {
   "cell_type": "code",
   "execution_count": null,
   "outputs": [],
   "source": [
    "df = df[df.contribution_type=='comment'] # limit to comments"
   ],
   "metadata": {
    "collapsed": false,
    "pycharm": {
     "is_executing": true
    }
   }
  },
  {
   "cell_type": "code",
   "execution_count": null,
   "outputs": [],
   "source": [
    "def plain_text_without_quotes(txt):\n",
    "    # md -> html -> text since BeautifulSoup can extract text cleanly\n",
    "    html = markdown(txt)\n",
    "\n",
    "    # remove code snippets\n",
    "    html = re.sub(r'<pre>(.*?)</pre>', ' ', html)\n",
    "    html = re.sub(r'<code>(.*?)</code >', ' ', html)\n",
    "    # extract text\n",
    "    soup = BeautifulSoup(html, \"html.parser\")\n",
    "    for quote in filter(lambda p: p.text.strip().startswith('>'),\n",
    "                        soup.find_all('p')):\n",
    "        quote.replaceWith('...[QUOTE]...')\n",
    "\n",
    "    return '\\n'.join(soup.findAll(string=True))\n"
   ],
   "metadata": {
    "collapsed": false,
    "ExecuteTime": {
     "start_time": "2023-07-03T19:40:35.441769Z",
     "end_time": "2023-07-03T19:40:35.453850Z"
    },
    "pycharm": {
     "is_executing": true
    }
   }
  },
  {
   "cell_type": "code",
   "execution_count": null,
   "outputs": [],
   "source": [
    "df['dequoted_text'] = df.text.apply(plain_text_without_quotes)"
   ],
   "metadata": {
    "collapsed": false,
    "ExecuteTime": {
     "start_time": "2023-07-03T19:40:37.259636Z",
     "end_time": "2023-07-03T19:40:39.518808Z"
    },
    "pycharm": {
     "is_executing": true
    }
   }
  },
  {
   "cell_type": "code",
   "execution_count": null,
   "outputs": [],
   "source": [
    "nlp = spacy.load(\"en_core_web_lg\")\n",
    "\n",
    "matcher = Matcher(nlp.vocab)\n",
    "matcher.add(\"conspiracy_labeling\", [[{\"lemma\": \"conspiracy\"}, {\"lemma\": \"theorist\"}],\n",
    "                           [{\"lemma\": \"conspiracist\"}],\n",
    "                           ])\n",
    "\n",
    "matcher.add('pron_poss', [[{\"TAG\":'PRP'}],\n",
    "                          [{\"TAG\":'PRP$'}],\n",
    "                          # [{\"TAG\":'POS'}],\n",
    "                          [{\"TAG\":'WP'}],\n",
    "                          [{\"TAG\":'WP$'}],\n",
    "                          [{\"DEP\":'poss', 'TAG':'DET'}],\n",
    "                          ])\n",
    "# 18.\tPRP\tPersonal pronoun\n",
    "# 19.\tPRP$\tPossessive pronoun\n",
    "# 34.\tWP\tWh-pronoun\n",
    "# 35.\tWP$\tPossessive wh-pronoun\n",
    "# to consider:\n",
    "# 17.\tPOS\tPossessive ending\n",
    "# 33.\tWDT\tWh-determiner\n"
   ],
   "metadata": {
    "collapsed": false,
    "ExecuteTime": {
     "start_time": "2023-07-03T19:42:34.477934Z",
     "end_time": "2023-07-03T19:42:36.672095Z"
    },
    "pycharm": {
     "is_executing": true
    }
   }
  },
  {
   "cell_type": "markdown",
   "source": [
    "cases:\n",
    "- you conspiracy theorist\n",
    "- your conspiracy theorist friends\n",
    "- you are a conspiracy theorist\n",
    "- are you a conspiracy theorist?\n",
    "- I'll call you a conspiracy theorist\n",
    "- you're not a conspiracy theorist but...\n",
    "- they are conspiracy theorists like you\n",
    "\n",
    "outside the pattern:\n",
    "- Everyone who says otherwise is an extremist  conspiracy theorist.\n",
    "- the conspiracy theorist in me\n",
    "- Meanwhile, if any of you Reddit pharma conspiracy theorist know where I can find busty blondes handing out envelopes of cash in exchange for prescriptions let me know because apparently my attending forgot to tell me."
   ],
   "metadata": {
    "collapsed": false
   }
  },
  {
   "cell_type": "code",
   "execution_count": null,
   "outputs": [],
   "source": [
    "example_sentences = [\n",
    "    \"you conspiracy theorist\",\n",
    "    \"your conspiracy theorist friends\",\n",
    "    \"you are a conspiracy theorist\",\n",
    "    \"are you a conspiracy theorist?\",\n",
    "    \"I'll call you a conspiracy theorist\",\n",
    "    \"you're not a conspiracy theorist but...\",\n",
    "    \"they are conspiracy theorists like you\",\n",
    "]\n",
    "\n"
   ],
   "metadata": {
    "collapsed": false,
    "ExecuteTime": {
     "start_time": "2023-07-03T19:42:37.885425Z",
     "end_time": "2023-07-03T19:42:37.951136Z"
    },
    "pycharm": {
     "is_executing": true
    }
   }
  },
  {
   "cell_type": "markdown",
   "source": [
    "strategy:\n",
    "1. 1st/2nd pp and labeling in same sentence\n",
    "2. ...and pp is closest by sentence idx\n",
    "3. ...and pp is closest by dep links\n",
    "4. ...and are tied by verb, or poss (your ct friends), or ...(as a ct I, like a ct I)\n",
    "5. coref group"
   ],
   "metadata": {
    "collapsed": false
   }
  },
  {
   "cell_type": "code",
   "execution_count": 79,
   "outputs": [],
   "source": [
    "strategy_1 = list()\n",
    "strategy_2 = list()\n",
    "strategy_3 = list()\n",
    "\n",
    "\n",
    "for _, row in df[['dequoted_text', 'fullname']].iterrows():\n",
    "    doc = nlp(row.dequoted_text)\n",
    "    matches = matcher(doc)\n",
    "\n",
    "    match_dict = defaultdict(list)\n",
    "    for match_id, start, end in matches:\n",
    "        string_id = nlp.vocab.strings[match_id]  # Get string representation\n",
    "        span = doc[start:end]  # The matched span\n",
    "        match_dict[string_id].append(span)\n",
    "    for labeling_span in match_dict['conspiracy_labeling']:\n",
    "        sent = labeling_span.sent\n",
    "        related_pron_spans = list()\n",
    "        min_linear_distance_pron_span = None\n",
    "        min_linear_distance_pron_subtree = None\n",
    "        min_linear_distance = None\n",
    "        min_dependency_distance_pron_span = None\n",
    "        min_dependency_distance_pron_subtree = None\n",
    "        min_dependency_distance = None\n",
    "        for pron_span in match_dict['pron_poss']:\n",
    "            if (sent == pron_span.sent) and (pron_span.root.morph.to_dict().get('Person', None) in {'1', '2'}):\n",
    "                lca_mat = pron_span.root.sent.get_lca_matrix()\n",
    "                lca_idx = lca_mat[pron_span.root.i-sent.start, labeling_span.root.i-sent.start]\n",
    "                subtree = list(sent[lca_idx].subtree)\n",
    "                distance_linear = abs(pron_span.root.i-labeling_span.root.i)\n",
    "                distance_dependency = 0\n",
    "                for tok in (pron_span.root, labeling_span.root):\n",
    "                    for ancestor in tok.ancestors:\n",
    "                        distance_dependency+=1\n",
    "                        if tok.i-sent.start==lca_idx:\n",
    "                            break\n",
    "                if (min_linear_distance is None) or (distance_linear<min_linear_distance):\n",
    "                    min_linear_distance=distance_linear\n",
    "                    min_linear_distance_pron_span=pron_span\n",
    "                    min_linear_distance_pron_subtree=subtree\n",
    "\n",
    "                if (min_dependency_distance is None) or (distance_dependency<min_dependency_distance):\n",
    "                    min_dependency_distance=distance_dependency\n",
    "                    min_dependency_distance_pron_span=pron_span\n",
    "                    min_dependency_distance_pron_subtree=subtree\n",
    "\n",
    "                strategy_1.append((pron_span, subtree, row.fullname))\n",
    "        if min_linear_distance is not None:\n",
    "            strategy_2.append((min_linear_distance_pron_span, min_linear_distance_pron_subtree, row.fullname))\n",
    "        if min_dependency_distance is not None:\n",
    "            strategy_3.append((min_dependency_distance_pron_span, min_dependency_distance_pron_subtree, row.fullname))"
   ],
   "metadata": {
    "collapsed": false,
    "ExecuteTime": {
     "start_time": "2023-07-03T20:31:44.910180Z",
     "end_time": "2023-07-03T20:33:09.407727Z"
    }
   }
  },
  {
   "cell_type": "code",
   "execution_count": 94,
   "outputs": [],
   "source": [
    "fullnames_strategy_1 = set(i[2] for i in strategy_1 if any(tok.morph.to_dict().get('Person', None) =='2' for tok in i[0].sent))\n",
    "fullnames_strategy_2 = set(i[2] for i in strategy_2 if i[0].root.morph.to_dict().get('Person', None) =='2')\n",
    "fullnames_strategy_3 = set(i[2] for i in strategy_3 if i[0].root.morph.to_dict().get('Person', None) =='2')"
   ],
   "metadata": {
    "collapsed": false,
    "ExecuteTime": {
     "start_time": "2023-07-03T20:40:39.419207Z",
     "end_time": "2023-07-03T20:40:39.438221Z"
    }
   }
  },
  {
   "cell_type": "code",
   "execution_count": 100,
   "outputs": [],
   "source": [
    "all_othering = df[df.fullname.isin(fullnames_strategy_3.union(fullnames_strategy_2).union(fullnames_strategy_1))].copy()"
   ],
   "metadata": {
    "collapsed": false,
    "ExecuteTime": {
     "start_time": "2023-07-03T20:41:00.347971Z",
     "end_time": "2023-07-03T20:41:00.365596Z"
    }
   }
  },
  {
   "cell_type": "code",
   "execution_count": 101,
   "outputs": [],
   "source": [
    "all_othering['linear_you'] = all_othering.fullname.isin(strategy_2)\n",
    "all_othering['dependency_you'] = all_othering.fullname.isin(strategy_3)"
   ],
   "metadata": {
    "collapsed": false,
    "ExecuteTime": {
     "start_time": "2023-07-03T20:41:00.452738Z",
     "end_time": "2023-07-03T20:41:00.476861Z"
    }
   }
  },
  {
   "cell_type": "code",
   "execution_count": 102,
   "outputs": [],
   "source": [
    "def get_permalink(contribution):\n",
    "    if 'permalink' in contribution:\n",
    "        return 'https://reddit.com'+contribution['permalink']\n",
    "    elif contribution['contribution_type']=='comment':\n",
    "        return f'https://new.reddit.com/r/{contribution[\"subreddit\"]}/comments/{contribution[\"link_fullname\"].split(\"_\")[-1]}/comment/{contribution[\"fullname\"].split(\"_\")[-1]}/'\n",
    "    else:\n",
    "        return f'https://new.reddit.com/r/{contribution[\"subreddit\"]}/comments/{contribution[\"fullname\"].split(\"_\")[-1]}/'\n",
    "\n",
    "\n",
    "all_othering['permalink'] = all_othering.permalink.apply(lambda x:'https://reddit.com'+x)"
   ],
   "metadata": {
    "collapsed": false,
    "ExecuteTime": {
     "start_time": "2023-07-03T20:41:00.702844Z",
     "end_time": "2023-07-03T20:41:00.715834Z"
    }
   }
  },
  {
   "cell_type": "code",
   "execution_count": null,
   "outputs": [
    {
     "data": {
      "text/plain": "                                             permalink  dependency_you  \\\n0    https://reddit.com/r/AskReddit/comments/8w5ah/...           False   \n1    https://reddit.com/r/entertainment/comments/9l...           False   \n5    https://reddit.com/r/IAmA/comments/afjtr/i_am_...           False   \n7    https://reddit.com/r/Libertarian/comments/ag77...           False   \n8    https://reddit.com/r/reddit.com/comments/ahb9i...           False   \n..                                                 ...             ...   \n990  https://reddit.com/r/FaithInFireMC/comments/1z...           False   \n991  https://reddit.com/r/subredditoftheday/comment...           False   \n992  https://reddit.com/r/privacy/comments/1zy9ix/a...           False   \n994  https://reddit.com/r/conspiracy/comments/1zz38...           False   \n995  https://reddit.com/r/SubredditDrama/comments/1...           False   \n\n     linear_you    contribution_type          subreddit  \\\n0         False  selftext_submission          AskReddit   \n1         False  selftext_submission      entertainment   \n5         False  selftext_submission               IAmA   \n7         False  selftext_submission        Libertarian   \n8         False  selftext_submission         reddit.com   \n..          ...                  ...                ...   \n990       False  selftext_submission      FaithInFireMC   \n991       False  selftext_submission  subredditoftheday   \n992       False  selftext_submission            privacy   \n994       False  selftext_submission         conspiracy   \n995       False  selftext_submission     SubredditDrama   \n\n                                                  text  \n0    Am I a paranoid schizophrenic, or is the NWO p...  \n1    Hey, Dan Brown, Call Me\\nYes, I'm one of the m...  \n5    I am a blogger being investigated by the FBI. ...  \n7    Libertarians of Reddit, what did you think abo...  \n8    FAKE SMOKING GUN: FBI admitted no such fakery ...  \n..                                                 ...  \n990  Let's get to know each other!\\nSup guys Hanzo ...  \n991  March 8th, 2014 - /r/Conspiracy. Darkness cann...  \n992  Advise me on forming university org. that exis...  \n994  \"First, please be assured that the NSA does no...  \n995  /r/conspiratard mods made a sticky saying they...  \n\n[568 rows x 6 columns]",
      "text/html": "<div>\n<style scoped>\n    .dataframe tbody tr th:only-of-type {\n        vertical-align: middle;\n    }\n\n    .dataframe tbody tr th {\n        vertical-align: top;\n    }\n\n    .dataframe thead th {\n        text-align: right;\n    }\n</style>\n<table border=\"1\" class=\"dataframe\">\n  <thead>\n    <tr style=\"text-align: right;\">\n      <th></th>\n      <th>permalink</th>\n      <th>dependency_you</th>\n      <th>linear_you</th>\n      <th>contribution_type</th>\n      <th>subreddit</th>\n      <th>text</th>\n    </tr>\n  </thead>\n  <tbody>\n    <tr>\n      <th>0</th>\n      <td>https://reddit.com/r/AskReddit/comments/8w5ah/...</td>\n      <td>False</td>\n      <td>False</td>\n      <td>selftext_submission</td>\n      <td>AskReddit</td>\n      <td>Am I a paranoid schizophrenic, or is the NWO p...</td>\n    </tr>\n    <tr>\n      <th>1</th>\n      <td>https://reddit.com/r/entertainment/comments/9l...</td>\n      <td>False</td>\n      <td>False</td>\n      <td>selftext_submission</td>\n      <td>entertainment</td>\n      <td>Hey, Dan Brown, Call Me\\nYes, I'm one of the m...</td>\n    </tr>\n    <tr>\n      <th>5</th>\n      <td>https://reddit.com/r/IAmA/comments/afjtr/i_am_...</td>\n      <td>False</td>\n      <td>False</td>\n      <td>selftext_submission</td>\n      <td>IAmA</td>\n      <td>I am a blogger being investigated by the FBI. ...</td>\n    </tr>\n    <tr>\n      <th>7</th>\n      <td>https://reddit.com/r/Libertarian/comments/ag77...</td>\n      <td>False</td>\n      <td>False</td>\n      <td>selftext_submission</td>\n      <td>Libertarian</td>\n      <td>Libertarians of Reddit, what did you think abo...</td>\n    </tr>\n    <tr>\n      <th>8</th>\n      <td>https://reddit.com/r/reddit.com/comments/ahb9i...</td>\n      <td>False</td>\n      <td>False</td>\n      <td>selftext_submission</td>\n      <td>reddit.com</td>\n      <td>FAKE SMOKING GUN: FBI admitted no such fakery ...</td>\n    </tr>\n    <tr>\n      <th>...</th>\n      <td>...</td>\n      <td>...</td>\n      <td>...</td>\n      <td>...</td>\n      <td>...</td>\n      <td>...</td>\n    </tr>\n    <tr>\n      <th>990</th>\n      <td>https://reddit.com/r/FaithInFireMC/comments/1z...</td>\n      <td>False</td>\n      <td>False</td>\n      <td>selftext_submission</td>\n      <td>FaithInFireMC</td>\n      <td>Let's get to know each other!\\nSup guys Hanzo ...</td>\n    </tr>\n    <tr>\n      <th>991</th>\n      <td>https://reddit.com/r/subredditoftheday/comment...</td>\n      <td>False</td>\n      <td>False</td>\n      <td>selftext_submission</td>\n      <td>subredditoftheday</td>\n      <td>March 8th, 2014 - /r/Conspiracy. Darkness cann...</td>\n    </tr>\n    <tr>\n      <th>992</th>\n      <td>https://reddit.com/r/privacy/comments/1zy9ix/a...</td>\n      <td>False</td>\n      <td>False</td>\n      <td>selftext_submission</td>\n      <td>privacy</td>\n      <td>Advise me on forming university org. that exis...</td>\n    </tr>\n    <tr>\n      <th>994</th>\n      <td>https://reddit.com/r/conspiracy/comments/1zz38...</td>\n      <td>False</td>\n      <td>False</td>\n      <td>selftext_submission</td>\n      <td>conspiracy</td>\n      <td>\"First, please be assured that the NSA does no...</td>\n    </tr>\n    <tr>\n      <th>995</th>\n      <td>https://reddit.com/r/SubredditDrama/comments/1...</td>\n      <td>False</td>\n      <td>False</td>\n      <td>selftext_submission</td>\n      <td>SubredditDrama</td>\n      <td>/r/conspiratard mods made a sticky saying they...</td>\n    </tr>\n  </tbody>\n</table>\n<p>568 rows × 6 columns</p>\n</div>"
     },
     "execution_count": 103,
     "metadata": {},
     "output_type": "execute_result"
    }
   ],
   "source": [
    "all_othering[['permalink', 'dependency_you', 'linear_you', 'contribution_type', 'subreddit', 'text']]"
   ],
   "metadata": {
    "collapsed": false,
    "ExecuteTime": {
     "start_time": "2023-07-03T20:40:40.725180Z",
     "end_time": "2023-07-03T20:40:40.813062Z"
    },
    "pycharm": {
     "is_executing": true
    }
   }
  },
  {
   "cell_type": "code",
   "execution_count": null,
   "outputs": [],
   "source": [
    "def get_permalink(contribution):\n",
    "    if 'permalink' in contribution:\n",
    "        return 'https://reddit.com'+contribution['permalink']\n",
    "    elif contribution['contribution_type']=='comment':\n",
    "        return f'https://new.reddit.com/r/{contribution[\"subreddit\"]}/comments/{contribution[\"link_fullname\"].split(\"_\")[-1]}/comment/{contribution[\"fullname\"].split(\"_\")[-1]}/'\n",
    "    else:\n",
    "        return f'https://new.reddit.com/r/{contribution[\"subreddit\"]}/comments/{contribution[\"fullname\"].split(\"_\")[-1]}/'\n",
    "        contributions.append(dict(url=get_permalink(contribution),\n",
    "                                  text=contribution['text'],\n",
    "                                  contribution_type=contribution['contribution_type'],\n",
    "                                  subreddit=contribution.get('subreddit', None)))\n"
   ],
   "metadata": {
    "collapsed": false
   }
  },
  {
   "cell_type": "code",
   "execution_count": 83,
   "outputs": [
    {
     "data": {
      "text/plain": "(161, 124, 102, 161)"
     },
     "execution_count": 83,
     "metadata": {},
     "output_type": "execute_result"
    }
   ],
   "source": [
    "len(fullnames_strategy_1), len(fullnames_strategy_2), len(fullnames_strategy_3), len(fullnames_strategy_3.union(fullnames_strategy_2).union(fullnames_strategy_1))"
   ],
   "metadata": {
    "collapsed": false,
    "ExecuteTime": {
     "start_time": "2023-07-03T20:33:09.660364Z",
     "end_time": "2023-07-03T20:33:09.675383Z"
    }
   }
  },
  {
   "cell_type": "code",
   "execution_count": 75,
   "outputs": [
    {
     "name": "stdout",
     "output_type": "stream",
     "text": [
      "A serious discussion\n",
      "Ladies and gents, I'm sure we've all had our own personal experiences with conspiracy theorists at one time or another and, like me, I'm sure you've noticed the growing conspiracy-related narrative within society.\n",
      "\n",
      "\n",
      "Things like the NSA scandal and such only serve to apparently serve their own world view. This we must admit.\n",
      "\n",
      "\n",
      "I've watched as good friends of mine turned into a bunch of deluded halfwits, dragged in by shit like Zeitgeist and such. I've even had a friend of mine disappear from my life completely because a mass difference of opinions. (More his opinions and the rest of the world's facts...)\n",
      "\n",
      "\n",
      "But I must propose the question; what are the long term effects of buying into this crap for our societies? And in addition to this, what possible outcomes do you see from the increasing number of loonies?\n",
      "*************************************\n",
      "What are your views on /r/conspiratard?\n",
      "I post on /r/conspiratard and became interested in conspiracist thinking when my mother went off the deep end (into hollow earth, reptilian infested, hand signals on the tv etc. water) and started demanding we not vaccinate our children etc.\n",
      "\n",
      "\n",
      "I got \n",
      "banned from /r/conspiracy\n",
      " for \n",
      "questioning the party line\n",
      " there that /r/conspiratard is a downvote brigade.\n",
      "\n",
      "\n",
      "What are your views on /r/conspiratard ?\n",
      "\n",
      "\n",
      "And, if they are the \"party line\" about /r/conspiratard being a downvote brigade:\n",
      "\n",
      "\n",
      "Are those views falsifiable? - If someone at reddit HQ dug through the data and showed you that (say) less than 1% of /r/conspiracy downvotes were coming from (the already 1/10th the size) /r/conspiratard would that change your mind?\n",
      "\n",
      "\n",
      "Is there something that /r/conspiratard could do to change your view? e.g. Split into /r/forwardsfromconspiracists and /r/letsattackrconspiracy\n",
      "*************************************\n",
      "My[19/F] mother[50/F] irrationally worries about me, and is very over protective. She also has a deep hatred for gay people, and, here's the kicker: I just happen to be gay.\n",
      "\n",
      "\n",
      "TL;DR\n",
      ": Mum is a conspiracy theorist, believes jews are behind evil things that happen in the world, has talked to me about it every day for the better part of a decade, thinks gay people are mentally ill and evil and jewish, and I just happen to be gay. Also would be incredibly difficult to move out.\n",
      "\n",
      "\n",
      "\n",
      "\n",
      "Although my mum denies it, she's a massive conspiracy theorist. She worries about me \n",
      "a lot\n",
      ", and the two intertwined are putting a strain on my ability to like her as a person. In order for you to fully understand my situation, I'm gonna have to get into what makes her a conspiracy theorist.\n",
      "\n",
      "\n",
      "First and foremost, she believes 'the jews' are behind all the recent shitty evil things happening in the world. School shootings, rapes, evil corporations, etc. All of which, in her opinion, are caused by the jews.\n",
      "\n",
      "\n",
      "Now don't get me wrong, I really don't mind these opinions by themselves. The problem is that she has been talking about them to me for literally \n",
      "every single day\n",
      " for the better part of a decade now. It really gets on my nerves, because it's almost all she ever says. I've talked to her and let her know how I feel a few times already, but these talks have achieved nothing. She's even specifically said to me (quite a few times) that she should stop talking about these things so much, but that has obviously never happened.\n",
      "\n",
      "\n",
      "I believe her biggest motivation for telling me about 'the jews' is to protect me. She believes that if I'm informed about all of this, that I will be less likely to fall for their tricks (her words).\n",
      "\n",
      "\n",
      "She has seen multiple therapists in the past, and I think she's seeing one right now. But nothing ever seems to change. Not necessarily because the therapists themselves are bad, but because I have a hunch that she lies to them, or at the very least partially omits the truth about what she thinks.\n",
      "\n",
      "\n",
      "Now, how does this tie into the whole gayness thing? Well, I'm pretty damn gay and I've accepted that a long time ago. I'm totally cool with me being gay, and I recognise that it cannot be changed.\n",
      "\n",
      "\n",
      "My mum doesn't know though, although I have a hunch that she suspects something is up. Over the past month she's been getting pretty aggressive about telling me how gay people (or poofs, as she calls them) are mentally sick and need help, that 'being gay' is a symptom of being a jew, that gayness goes hand-in-hand with pedophilia and autism 99.9% of the time. She also tends to point out people in public to me, and when they are no longer around, she makes fun of them for varying reasons as to why she thinks they're gay. It's really annoying.\n",
      "\n",
      "\n",
      "I know the obvious solution is to just move out, but that isn't really an option for me in a reasonable amount of time. I don't have the money to do something like that, and I've inherited pretty severe anxiety problems from my family which stop me from doing a lot of things.\n",
      "\n",
      "\n",
      "What do?\n"
     ]
    }
   ],
   "source": [
    "print('\\n*************************************\\n'.join(df[df.fullname.isin(fullnames_strategy_3.symmetric_difference(fullnames_strategy_1))].dequoted_text))"
   ],
   "metadata": {
    "collapsed": false,
    "ExecuteTime": {
     "start_time": "2023-07-03T20:28:44.241997Z",
     "end_time": "2023-07-03T20:28:44.275015Z"
    }
   }
  },
  {
   "cell_type": "code",
   "execution_count": 34,
   "outputs": [
    {
     "name": "stdout",
     "output_type": "stream",
     "text": [
      "yourself:PRP:pobj:2 When talking with others do not refer to yourself as a \"conspiracy theorist.\"\n",
      "me:PRP:dobj:1 why it always infuriates me whenever I see a 9/11 conspiracy theorist set up in a little tent with several obscure shots of the WTC/former WTC site with blurry pictures of supposed \"Factual evidence\"\n",
      "I:PRP:nsubj:1 Im very blind when it comes to sepcific proven health risks of these, as all I ever see are conspiracy theorists yelling about Global depopulation of America.\n",
      "I:PRP:nsubj:1 For the record, I am not a conspiracy theorist.\n",
      "I:PRP:nsubj:1 One last thing, as I said before, I am not a conspiracy theorist.\n",
      "we:PRP:nsubj:1 In 1993, the Israelis were responsible for the bombing of the World Trade Center and that kind of stuff...\"\n",
      "\n",
      "\n",
      "/r/Israel, do we have stealth antisemitic conspiracy theorist on our hands\n",
      "us:PRP:dobj:1 label us as conspiracy theorists and traitors\n",
      "I:PRP:nsubj:1 Edit\n",
      " I find this subreddit so interesting...while being superficial, it's also extremely \n",
      "honest\n",
      " and that is a quality you don't find in many places (Advertising degree, quasi conspiracy theorist, attended art \"I like the.....colors....\" classes.\n",
      "us:PRP:dobj:1 Could DE be showing us how brutal the grineer army actually is, or am I just a cracked-up conspiracy theorist?\n",
      "I:PRP:nsubj:1 While my peers called me a 'conspiracy theorist' I would call myself a 'researcher'.\n",
      "me:PRP:dobj:1 They called me a conspiracy theorist, because I actively researched a lot of material, some of which were conspiracies.\n",
      "me:PRP:pobj:1 ?\n",
      "http://www.buyhappiness.net/2013/12/02/24-of-federal-scientists-have-been-forced-to-exclude-or-alter-technical-information-in-federal-government-documents-for-non-scientific-reasons/\n",
      "\n",
      "\n",
      "This link was provided to me via my conspiracy theorist father who is:\n",
      "-anti-vaccine\n",
      "-anti-fluoridation\n",
      "-anti-everythingtodowithgovernment\n",
      "\n",
      "\n",
      "I frequently debate with him, arguing that scientists in modern day are for the most part reliable in their respective fields\n",
      "I:PRP:nsubj:1 I'm interested in websites and blogs like \n",
      "A Skeptical Survivalist\n",
      " or \n",
      "Global Guerrillas\n",
      ", not the conspiracy theorist (One World Order, Amero) type sites.\n",
      "I:PRP:nsubj:1 Conspiracy I think it's time to branch off \"conspiracy theories\" and start to get out act together, whenever someone mentions the words \"conspiracy theorist/theory\" people automatically think of us being crazy.\n",
      "me:PRP:pobj:1 So can someone explain to me as simply as possible why so many conspiracy theorists think the Jews are major conspiracy heads?\n",
      "I:PRP:nsubj:1 I'm no tin foil hat conspiracy theorist, but I call it like I see it.\n",
      "you:PRP:nsubj:2 If you were to ask ANY \"conspiracy theorist\" after 911 what would happen to us?\n",
      "I:PRP:nsubj:1 I was not a conspiracy theorist until 5 years after 911.\n",
      "I:PRP:nsubj:1 Who knows, I could just be a conspiracy theorist.\n",
      "you:PRP:nsubj:2 Secret societies (the Masons, the Templars, you name it) get a bad rap in history due largely to conspiracy theorists.\n",
      "I:PRP:nsubj:1 The only rational way I can explain it (other than the wild idea that these tabloids really do have psychics working for them, oohhh hocus pocus, and all that jazz) might be that since these things were man-made disasters (other than the giant blizzard, but like I said before that wouldn't be too hard to guess) that someone might have caught wind of people high up plotting them, tried to go to the regular newspapers and was written off as a conspiracist and the only newspaper they were able to use to tell the world were these tabloids.\n",
      "I:PRP:nsubj:1 So, I am not a conspiracy theorist by any means; but I think that there may be something to this new world order business.\n",
      "I:PRP:nsubj:1 I've been running into conspiracy theorists lately and I have to ask.\n",
      "I:PRP:nsubj:1 , I want the information to be presentable as factual to everyone, conspiracy theorist or not.\n",
      "you:PRP:nsubj:2 Or would you be more likely to side with the tin-foil hat conspiracy theorists like the ones about 9/11 being an inside job?\n",
      "I:PRP:nsubj:1 I encourage the conspiracy theorists to question.\n",
      "I:PRP:nsubj:1 I'm not a conspiracy theorist and I know the scandal was a bit overblown/\n",
      "my:PRP$:poss:1 my a conspiracy theorist\n",
      "I:PRP:nsubjpass:1 I've been labeled a conspiracy theorist since middle school and here I am now, laughing my ass off at all these people in my schools suddenly concerned about their privacy but the same people called me crazy a few months ago.\n",
      "I:PRP:nsubj:1 What is Ron Paul's strategy in dealing with newsletters?\n",
      "I just saw a huge polemic article on a major german news websites that bashes RP as a racist homophobic anti-semitic conspiracy theorist:\n",
      "I:PRP:nsubj:1 I thought you guys were just some crackpot conspiracy theorists.\n",
      "I:PRP:nsubj:1 I have a friend who is a grade-A conspiracy theorist and is vehemently against vaccinations.\n",
      "you:PRP:nmod:2 quick question for the mods\n",
      "\n",
      "you guys know that conspiracy theorist Alex Jones is using a video that links to the sub-reddit at the end.\n",
      "me:PRP:dobj:1 Convince me to be a conspiracy theorist\n",
      "I used to be a very skeptical person.\n",
      "I:PRP:nsubj:1 I joined /r/conspiratard and loved to mock those crazy old conspiracy theorists.\n",
      "I:PRP:nsubj:1 I was wondering if I was a conspiracy theorist.\n",
      "you:PRP:nsubj:2 because you don't want those 2012 conspiracy theorists proven right when Supreme Chancellor Palin nukes Peru shortly after assuming power\n",
      "you:PRP:nsubj:2 Do you think that in 200 years conspiracy theorists will think Redditers were some sort of illuminati that ran the world???\n",
      "I:PRP:nsubj:1 So yes, I understand that it can be a pain in the butt to play in Inferno, and also the conspiracy theorists are going to run amok with any impropriety they sense, but this game is just as fun as D2 was.\n",
      "I:PRP:nsubj:1 I guess im becomming a tin foil hat conspiracy theorist.\n",
      "I:PRP:nsubj:1 Partner is a conspiracy theorist\n",
      "My partner and I have been together just over a year and are in our mid 20s.\n",
      "I:PRP:nsubj:1 I'm not some conspiracy theorist.\n",
      "you:PRP:nsubj:2 Which conspiracy theory are you hoping will be proved true in 2014?\n",
      "2013 turned out to be a year of vindication for some conspiracy theorists.\n",
      "I:PRP:nsubj:1 I was reading \n",
      "this\n",
      " ZeroHedge article, and though I know the site is full of crackpots and conspiracy theorists, I was somewhat intrigued by his conclusion that GM is overloading its dealers with inventory in order to pump sales volume.\n",
      "I:PRP:nsubj:1 I never really came here before the other day and it appears your sub is mostly a place to poke fun of the ridiculousness of conspiracy theorists.\n",
      "We:PRP:nsubj:1 We are not conspiracy theorists.\n",
      "me:PRP:pobj:1 How this counts as a war is beyond me but conspiracy theorists aren't known for being accurate.\n",
      "my:PRP$:poss:1 my conspiracy theorist friends\n",
      "our:PRP$:poss:1 WAKE UP CALL!\n",
      "Conspiracy theorists love talking about how our government is trying to perpetuate a matrix control system - that isn't exactly true, it's our popular culture, which isn't really government controlled and really never can be.\n",
      "I:PRP:nsubj:1 Seeing as how you can make the argument that religion is used to control populations...\n",
      "\n",
      "\n",
      "I've seen a bunch of conspiracy theorists who go off on their mkultra and haarp and bilderberg rants and then cite a bible verse...\n",
      "I:PRP:nsubj:1 Why are people so upset over the NSA data mining verizon data?\n",
      "I understand why paranoid conspiracy theorists are upset.\n",
      "I:PRP:nsubj:1 I may be a bit drunk at the moment and a bit of a conspiracist\n",
      "you:PRP:nsubj:2 ~~So to \n",
      "really\n",
      " check how nutty those conspiracy theorists are, you can link them to any of the news reports or this WHO publication directly and if they dismiss it - you know they are not of right mind.~~ (my frustration writing)\n",
      "me:PRP:dobj:1 They are calling me a conspiracy theorist and don't believe that this War on Drugs is really screwing over people with schools and jobs.\n",
      "your:PRP$:poss:2 Does your world have conspiracy theorists or are the citizens/denizens of your world trusting to a fault?\n",
      "I:PRP:nsubj:1 Now, I don't want to make this start sounding like a conspiracy theorist or some anti-government lunatic (coinsidently, I'm a far-right libertarian... anarachist, actually).\n",
      "I:PRP:nsubj:1 I don't know, I'm probably talking like a conspiracy theorist right now but any thoughts from you guys?\n",
      "I:PRP:nsubj:1 I don't want to sound like a paranoid conspiracy theorist, but the way the government (US) is going is frankly concerning to me.\n",
      "I:PRP:nsubj:1 I feel that for every big event there is some conspiracy theorist that pokes holes in the public opinion.\n",
      "us:PRP:nsubj:1 Some conspiracy theorists will say it was GGG's plan all along to make us all easier to kill.\n",
      "I:PRP:nsubj:1 I need to start out by saying that I am no conspiracy theorist, but at this point thanks to Edward Snowden\n",
      "I:PRP:nsubj:1 I started off with saying I'm not a conspiracy theorist because some people might believe I am for thinking the government is doing this in large part to protect themselves from being exposed for what they're doing, but also because I believe that Michael Hastings was \n",
      "murdered\n",
      " because he was doing exactly that.\n",
      "I:PRP:nsubj:1 I am by no means an expert on foreign policy issues, but I have been carefully following developments over the past couple of years, and it seems to me that the odds of a global armed conflict (most likely nuclear in nature) arising unexpectedly due to miscalculation on various sides is rising rapidly at the moment, to the point where it is potentially the largest existential danger most of us currently face, which has lead me to wonder: \n",
      "\n",
      "\n",
      "Why is it that, apart from conspiracy theorist and the occasional nutjob, the issue has neither been widely discussed nor is something that seems to be bothering most people?\n",
      "I:PRP:nsubj:1 that I'm somehow being too pessimistic and grossly overestimating the dangers of a global nuclear confrontation by several orders of magnitude, and that the reason that no one apart from the conspiracy theorists is truly worried at this point is that the nightmare scenario is still so improbable that people are right to worry about other things first, but there's a nagging voice at the back of my head telling me that that's probably not the case.\n",
      "I:PRP:nsubj:1 Or am I a paranoid conspiracy theorist?\n",
      "I:PRP:nsubj:1 I feel that conspiracy theorists are given a bad rap.\n",
      "me:PRP:pobj:1 The little conspiracy theorist in me\n",
      "I:PRP:nsubj:1 I've even had users stalk me, posting in virtually every topic I make on certain boards calling me all sorts of anti-conspiracy theorist insults, which never get moderated (even though I mark them), and I've even seen these users post threads outright insulting me in the topic titles (insults in general are against the rules, and calling someone out like that in a title is doubly moddable for harassment) and they are never moderated.\n",
      "me:PRP:pobj:1 This hasn't just happened to me either, it happens to virtually every vocal conspiracy theorist on the site.\n",
      "my:PRP$:poss:1 With the caveat that HR has to tie into the original Deus Ex, this was my first exposure to the series and I spent a lot of the game surprised just how absolutely straight down the line the story played out like a conservative conspiracy theorist manifesto.\n",
      "I:PRP:nsubj:1 Am I being a crazy tinfoil hat wearing (Jokerstars is rigged LOL) conspiracy theorist or is this actually happening?\n",
      "I:PRP:nsubj:1 Plus, I think Ziad is a conspiracy theorist.\n",
      "I:PRP:nsubj:1 People are calling this man a conspiracy theorist, but I believe him.\n"
     ]
    }
   ],
   "source": [
    "for pron_span, subtree, fullname in strategy_3:\n",
    "    # print(list(subtree))\n",
    "    print(f\"{pron_span}:{pron_span.root.tag_}:{pron_span.root.dep_}:{pron_span.root.morph.to_dict().get('Person', None)} {''.join(i.text_with_ws for i in subtree).strip()}\")\n"
   ],
   "metadata": {
    "collapsed": false,
    "ExecuteTime": {
     "start_time": "2023-07-03T20:13:18.629270Z",
     "end_time": "2023-07-03T20:13:18.642265Z"
    }
   }
  },
  {
   "cell_type": "code",
   "execution_count": 28,
   "outputs": [
    {
     "data": {
      "text/plain": "           author  created_utc  \\\n0         ithkuil   1246093429   \n1   LarkinVolpatt   1253124031   \n2          cojoco   1253496526   \n3          YGOfvn   1254117557   \n4  Biff_Bifferson   1260843119   \n\n                                           permalink  retrieved_on  rte_mode  \\\n0  /r/AskReddit/comments/8w5ah/am_i_a_paranoid_sc...  1.522804e+09  markdown   \n1  /r/entertainment/comments/9l6xe/hey_dan_brown_...  1.522822e+09  markdown   \n2  /r/conspiracy/comments/9mgv8/whats_with_all_th...  1.522823e+09  markdown   \n3  /r/Indiekidslaff/comments/9opit/should_i_be_sc...  1.522824e+09  markdown   \n4  /r/politics/comments/aepvd/what_is_a_conservat...  1.522867e+09  markdown   \n\n   score      subreddit subreddit_type    contribution_type  \\\n0      9      AskReddit         public  selftext_submission   \n1      0  entertainment         public  selftext_submission   \n2      3     conspiracy         public  selftext_submission   \n3      1  Indiekidslaff     restricted  selftext_submission   \n4      0       politics         public  selftext_submission   \n\n                                                text  fullname  \\\n0  Am I a paranoid schizophrenic, or is the NWO p...  t3_8w5ah   \n1  Hey, Dan Brown, Call Me\\nYes, I'm one of the m...  t3_9l6xe   \n2  What's with all the YouTube videos?  Can't any...  t3_9mgv8   \n3  Should I be scared of DARPA?\\nhttp://en.wikipe...  t3_9opit   \n4  What is a conservative atheist to do?\\nI reali...  t3_aepvd   \n\n   parent_fullname link_fullname  \\\n0              NaN      t3_8w5ah   \n1              NaN      t3_9l6xe   \n2              NaN      t3_9mgv8   \n3              NaN      t3_9opit   \n4              NaN      t3_aepvd   \n\n                                   preprocessed_text  \\\n0  Am I a paranoid schizophrenic, or is the NWO p...   \n1  Hey, Dan Brown, Call Me Yes, I'm one of the mi...   \n2  What's with all the YouTube videos? Can't any ...   \n3  Should I be scared of DARPA? I was reading up ...   \n4  What is a conservative atheist to do? I realiz...   \n\n                                      processed_text  \\\n0  i paranoid schizophrenic nwo prepare million p...   \n1  hey dan brown me yes i million eager sucker di...   \n2  youtube video you guy read i absolutely loathe...   \n3  should i scare darpa i read darpa yesterday i ...   \n4  conservative atheist i realize reddit liberal ...   \n\n                                       dequoted_text  \n0  Am I a paranoid schizophrenic, or is the NWO p...  \n1  Hey, Dan Brown, Call Me\\nYes, I'm one of the m...  \n2  What's with all the YouTube videos?  Can't any...  \n3  Should I be scared of DARPA?\\nhttp://en.wikipe...  \n4  What is a conservative atheist to do?\\nI reali...  ",
      "text/html": "<div>\n<style scoped>\n    .dataframe tbody tr th:only-of-type {\n        vertical-align: middle;\n    }\n\n    .dataframe tbody tr th {\n        vertical-align: top;\n    }\n\n    .dataframe thead th {\n        text-align: right;\n    }\n</style>\n<table border=\"1\" class=\"dataframe\">\n  <thead>\n    <tr style=\"text-align: right;\">\n      <th></th>\n      <th>author</th>\n      <th>created_utc</th>\n      <th>permalink</th>\n      <th>retrieved_on</th>\n      <th>rte_mode</th>\n      <th>score</th>\n      <th>subreddit</th>\n      <th>subreddit_type</th>\n      <th>contribution_type</th>\n      <th>text</th>\n      <th>fullname</th>\n      <th>parent_fullname</th>\n      <th>link_fullname</th>\n      <th>preprocessed_text</th>\n      <th>processed_text</th>\n      <th>dequoted_text</th>\n    </tr>\n  </thead>\n  <tbody>\n    <tr>\n      <th>0</th>\n      <td>ithkuil</td>\n      <td>1246093429</td>\n      <td>/r/AskReddit/comments/8w5ah/am_i_a_paranoid_sc...</td>\n      <td>1.522804e+09</td>\n      <td>markdown</td>\n      <td>9</td>\n      <td>AskReddit</td>\n      <td>public</td>\n      <td>selftext_submission</td>\n      <td>Am I a paranoid schizophrenic, or is the NWO p...</td>\n      <td>t3_8w5ah</td>\n      <td>NaN</td>\n      <td>t3_8w5ah</td>\n      <td>Am I a paranoid schizophrenic, or is the NWO p...</td>\n      <td>i paranoid schizophrenic nwo prepare million p...</td>\n      <td>Am I a paranoid schizophrenic, or is the NWO p...</td>\n    </tr>\n    <tr>\n      <th>1</th>\n      <td>LarkinVolpatt</td>\n      <td>1253124031</td>\n      <td>/r/entertainment/comments/9l6xe/hey_dan_brown_...</td>\n      <td>1.522822e+09</td>\n      <td>markdown</td>\n      <td>0</td>\n      <td>entertainment</td>\n      <td>public</td>\n      <td>selftext_submission</td>\n      <td>Hey, Dan Brown, Call Me\\nYes, I'm one of the m...</td>\n      <td>t3_9l6xe</td>\n      <td>NaN</td>\n      <td>t3_9l6xe</td>\n      <td>Hey, Dan Brown, Call Me Yes, I'm one of the mi...</td>\n      <td>hey dan brown me yes i million eager sucker di...</td>\n      <td>Hey, Dan Brown, Call Me\\nYes, I'm one of the m...</td>\n    </tr>\n    <tr>\n      <th>2</th>\n      <td>cojoco</td>\n      <td>1253496526</td>\n      <td>/r/conspiracy/comments/9mgv8/whats_with_all_th...</td>\n      <td>1.522823e+09</td>\n      <td>markdown</td>\n      <td>3</td>\n      <td>conspiracy</td>\n      <td>public</td>\n      <td>selftext_submission</td>\n      <td>What's with all the YouTube videos?  Can't any...</td>\n      <td>t3_9mgv8</td>\n      <td>NaN</td>\n      <td>t3_9mgv8</td>\n      <td>What's with all the YouTube videos? Can't any ...</td>\n      <td>youtube video you guy read i absolutely loathe...</td>\n      <td>What's with all the YouTube videos?  Can't any...</td>\n    </tr>\n    <tr>\n      <th>3</th>\n      <td>YGOfvn</td>\n      <td>1254117557</td>\n      <td>/r/Indiekidslaff/comments/9opit/should_i_be_sc...</td>\n      <td>1.522824e+09</td>\n      <td>markdown</td>\n      <td>1</td>\n      <td>Indiekidslaff</td>\n      <td>restricted</td>\n      <td>selftext_submission</td>\n      <td>Should I be scared of DARPA?\\nhttp://en.wikipe...</td>\n      <td>t3_9opit</td>\n      <td>NaN</td>\n      <td>t3_9opit</td>\n      <td>Should I be scared of DARPA? I was reading up ...</td>\n      <td>should i scare darpa i read darpa yesterday i ...</td>\n      <td>Should I be scared of DARPA?\\nhttp://en.wikipe...</td>\n    </tr>\n    <tr>\n      <th>4</th>\n      <td>Biff_Bifferson</td>\n      <td>1260843119</td>\n      <td>/r/politics/comments/aepvd/what_is_a_conservat...</td>\n      <td>1.522867e+09</td>\n      <td>markdown</td>\n      <td>0</td>\n      <td>politics</td>\n      <td>public</td>\n      <td>selftext_submission</td>\n      <td>What is a conservative atheist to do?\\nI reali...</td>\n      <td>t3_aepvd</td>\n      <td>NaN</td>\n      <td>t3_aepvd</td>\n      <td>What is a conservative atheist to do? I realiz...</td>\n      <td>conservative atheist i realize reddit liberal ...</td>\n      <td>What is a conservative atheist to do?\\nI reali...</td>\n    </tr>\n  </tbody>\n</table>\n</div>"
     },
     "execution_count": 28,
     "metadata": {},
     "output_type": "execute_result"
    }
   ],
   "source": [
    "df.head()"
   ],
   "metadata": {
    "collapsed": false,
    "ExecuteTime": {
     "start_time": "2023-07-03T20:07:25.844877Z",
     "end_time": "2023-07-03T20:07:25.893833Z"
    }
   }
  },
  {
   "cell_type": "code",
   "execution_count": 70,
   "outputs": [
    {
     "data": {
      "text/plain": "{74: 95, 'PronType_prs': True}"
     },
     "execution_count": 70,
     "metadata": {},
     "output_type": "execute_result"
    }
   ],
   "source": [
    "doc = nlp(\"I'm not a conspiracy theorist but I believe in ufos\")\n",
    "for chunk in doc.noun_chunks:\n",
    "    print(chunk)"
   ],
   "metadata": {
    "collapsed": false,
    "ExecuteTime": {
     "start_time": "2023-07-03T18:50:19.919856Z",
     "end_time": "2023-07-03T18:50:19.941869Z"
    }
   }
  },
  {
   "cell_type": "code",
   "execution_count": 75,
   "outputs": [
    {
     "data": {
      "text/plain": "'2.3.9'"
     },
     "execution_count": 75,
     "metadata": {},
     "output_type": "execute_result"
    }
   ],
   "source": [
    "print(chunk.root.sent, chunk.root.sent.get_lca_matrix())"
   ],
   "metadata": {
    "collapsed": false,
    "ExecuteTime": {
     "start_time": "2023-07-03T18:54:53.518389Z",
     "end_time": "2023-07-03T18:54:53.529408Z"
    }
   }
  },
  {
   "cell_type": "code",
   "execution_count": 40,
   "outputs": [
    {
     "name": "stdout",
     "output_type": "stream",
     "text": [
      "anyone\n",
      "who\n",
      "the real Alex jones\n",
      "he\n",
      "a conspiracy theorist\n",
      "the main suspects\n",
      "name\n",
      "Alex jones\n",
      "the father\n",
      "a doomsday prepper\n",
      "anyone\n",
      "I\n"
     ]
    }
   ],
   "source": [
    "# find the labeling span\n",
    "# get the root of the span\n",
    "# get the sentence\n",
    "# find all pronouns (you)/det poss (your)/propn? (yours)\n",
    "# find the common ancestor between pronouns* and labeling root\n",
    "# check for verbs in the middle; look for negated"
   ],
   "metadata": {
    "collapsed": false,
    "ExecuteTime": {
     "start_time": "2023-07-03T12:43:33.799813Z",
     "end_time": "2023-07-03T12:43:33.846843Z"
    }
   }
  },
  {
   "cell_type": "code",
   "execution_count": 41,
   "outputs": [
    {
     "name": "stdout",
     "output_type": "stream",
     "text": [
      "knows INTRANVERB\n",
      "is INTRANVERB\n",
      "'s INTRANVERB\n",
      "pointing INTRANVERB\n",
      "is INTRANVERB\n",
      "is INTRANVERB\n",
      "does INTRANVERB\n",
      "feel INTRANVERB\n",
      "am INTRANVERB\n",
      "being INTRANVERB\n"
     ]
    }
   ],
   "source": [
    "options = {\"compact\": True, \"bg\": \"#09a3d5\",\n",
    "           \"color\": \"white\", \"font\": \"Source Sans Pro\"}\n",
    "displacy.render(nlp('Everyone who says otherwise is an extremist  conspiracy theorist.'), style=\"dep\", options=options)\n"
   ],
   "metadata": {
    "collapsed": false,
    "ExecuteTime": {
     "start_time": "2023-07-03T12:43:35.620710Z",
     "end_time": "2023-07-03T12:43:35.642642Z"
    }
   }
  },
  {
   "cell_type": "code",
   "execution_count": 53,
   "outputs": [
    {
     "data": {
      "text/plain": "<IPython.core.display.HTML object>",
      "text/html": "<span class=\"tex2jax_ignore\"><svg xmlns=\"http://www.w3.org/2000/svg\" xmlns:xlink=\"http://www.w3.org/1999/xlink\" xml:lang=\"en\" id=\"35c59daa50dd4479b61751cc29cd4e9b-0\" class=\"displacy\" width=\"1100\" height=\"362.0\" direction=\"ltr\" style=\"max-width: none; height: 362.0px; color: white; background: #09a3d5; font-family: Source Sans Pro; direction: ltr\">\n<text class=\"displacy-token\" fill=\"currentColor\" text-anchor=\"middle\" y=\"272.0\">\n    <tspan class=\"displacy-word\" fill=\"currentColor\" x=\"50\">I</tspan>\n    <tspan class=\"displacy-tag\" dy=\"2em\" fill=\"currentColor\" x=\"50\">PRON</tspan>\n</text>\n\n<text class=\"displacy-token\" fill=\"currentColor\" text-anchor=\"middle\" y=\"272.0\">\n    <tspan class=\"displacy-word\" fill=\"currentColor\" x=\"200\">'ll</tspan>\n    <tspan class=\"displacy-tag\" dy=\"2em\" fill=\"currentColor\" x=\"200\">VERB</tspan>\n</text>\n\n<text class=\"displacy-token\" fill=\"currentColor\" text-anchor=\"middle\" y=\"272.0\">\n    <tspan class=\"displacy-word\" fill=\"currentColor\" x=\"350\">call</tspan>\n    <tspan class=\"displacy-tag\" dy=\"2em\" fill=\"currentColor\" x=\"350\">VERB</tspan>\n</text>\n\n<text class=\"displacy-token\" fill=\"currentColor\" text-anchor=\"middle\" y=\"272.0\">\n    <tspan class=\"displacy-word\" fill=\"currentColor\" x=\"500\">you</tspan>\n    <tspan class=\"displacy-tag\" dy=\"2em\" fill=\"currentColor\" x=\"500\">PRON</tspan>\n</text>\n\n<text class=\"displacy-token\" fill=\"currentColor\" text-anchor=\"middle\" y=\"272.0\">\n    <tspan class=\"displacy-word\" fill=\"currentColor\" x=\"650\">a</tspan>\n    <tspan class=\"displacy-tag\" dy=\"2em\" fill=\"currentColor\" x=\"650\">DET</tspan>\n</text>\n\n<text class=\"displacy-token\" fill=\"currentColor\" text-anchor=\"middle\" y=\"272.0\">\n    <tspan class=\"displacy-word\" fill=\"currentColor\" x=\"800\">conspiracy</tspan>\n    <tspan class=\"displacy-tag\" dy=\"2em\" fill=\"currentColor\" x=\"800\">NOUN</tspan>\n</text>\n\n<text class=\"displacy-token\" fill=\"currentColor\" text-anchor=\"middle\" y=\"272.0\">\n    <tspan class=\"displacy-word\" fill=\"currentColor\" x=\"950\">theorist</tspan>\n    <tspan class=\"displacy-tag\" dy=\"2em\" fill=\"currentColor\" x=\"950\">NOUN</tspan>\n</text>\n\n<g class=\"displacy-arrow\">\n    <path class=\"displacy-arc\" id=\"arrow-35c59daa50dd4479b61751cc29cd4e9b-0-0\" stroke-width=\"2px\" d=\"M62,227.0 62,177.0 347.0,177.0 347.0,227.0\" fill=\"none\" stroke=\"currentColor\"/>\n    <text dy=\"1.25em\" style=\"font-size: 0.8em; letter-spacing: 1px\">\n        <textPath xlink:href=\"#arrow-35c59daa50dd4479b61751cc29cd4e9b-0-0\" class=\"displacy-label\" startOffset=\"50%\" side=\"left\" fill=\"currentColor\" text-anchor=\"middle\">nsubj</textPath>\n    </text>\n    <path class=\"displacy-arrowhead\" d=\"M62,229.0 L58,221.0 66,221.0\" fill=\"currentColor\"/>\n</g>\n\n<g class=\"displacy-arrow\">\n    <path class=\"displacy-arc\" id=\"arrow-35c59daa50dd4479b61751cc29cd4e9b-0-1\" stroke-width=\"2px\" d=\"M212,227.0 212,202.0 344.0,202.0 344.0,227.0\" fill=\"none\" stroke=\"currentColor\"/>\n    <text dy=\"1.25em\" style=\"font-size: 0.8em; letter-spacing: 1px\">\n        <textPath xlink:href=\"#arrow-35c59daa50dd4479b61751cc29cd4e9b-0-1\" class=\"displacy-label\" startOffset=\"50%\" side=\"left\" fill=\"currentColor\" text-anchor=\"middle\">aux</textPath>\n    </text>\n    <path class=\"displacy-arrowhead\" d=\"M212,229.0 L208,221.0 216,221.0\" fill=\"currentColor\"/>\n</g>\n\n<g class=\"displacy-arrow\">\n    <path class=\"displacy-arc\" id=\"arrow-35c59daa50dd4479b61751cc29cd4e9b-0-2\" stroke-width=\"2px\" d=\"M362,227.0 362,202.0 494.0,202.0 494.0,227.0\" fill=\"none\" stroke=\"currentColor\"/>\n    <text dy=\"1.25em\" style=\"font-size: 0.8em; letter-spacing: 1px\">\n        <textPath xlink:href=\"#arrow-35c59daa50dd4479b61751cc29cd4e9b-0-2\" class=\"displacy-label\" startOffset=\"50%\" side=\"left\" fill=\"currentColor\" text-anchor=\"middle\">dobj</textPath>\n    </text>\n    <path class=\"displacy-arrowhead\" d=\"M494.0,229.0 L498.0,221.0 490.0,221.0\" fill=\"currentColor\"/>\n</g>\n\n<g class=\"displacy-arrow\">\n    <path class=\"displacy-arc\" id=\"arrow-35c59daa50dd4479b61751cc29cd4e9b-0-3\" stroke-width=\"2px\" d=\"M662,227.0 662,177.0 947.0,177.0 947.0,227.0\" fill=\"none\" stroke=\"currentColor\"/>\n    <text dy=\"1.25em\" style=\"font-size: 0.8em; letter-spacing: 1px\">\n        <textPath xlink:href=\"#arrow-35c59daa50dd4479b61751cc29cd4e9b-0-3\" class=\"displacy-label\" startOffset=\"50%\" side=\"left\" fill=\"currentColor\" text-anchor=\"middle\">det</textPath>\n    </text>\n    <path class=\"displacy-arrowhead\" d=\"M662,229.0 L658,221.0 666,221.0\" fill=\"currentColor\"/>\n</g>\n\n<g class=\"displacy-arrow\">\n    <path class=\"displacy-arc\" id=\"arrow-35c59daa50dd4479b61751cc29cd4e9b-0-4\" stroke-width=\"2px\" d=\"M812,227.0 812,202.0 944.0,202.0 944.0,227.0\" fill=\"none\" stroke=\"currentColor\"/>\n    <text dy=\"1.25em\" style=\"font-size: 0.8em; letter-spacing: 1px\">\n        <textPath xlink:href=\"#arrow-35c59daa50dd4479b61751cc29cd4e9b-0-4\" class=\"displacy-label\" startOffset=\"50%\" side=\"left\" fill=\"currentColor\" text-anchor=\"middle\">compound</textPath>\n    </text>\n    <path class=\"displacy-arrowhead\" d=\"M812,229.0 L808,221.0 816,221.0\" fill=\"currentColor\"/>\n</g>\n\n<g class=\"displacy-arrow\">\n    <path class=\"displacy-arc\" id=\"arrow-35c59daa50dd4479b61751cc29cd4e9b-0-5\" stroke-width=\"2px\" d=\"M362,227.0 362,152.0 950.0,152.0 950.0,227.0\" fill=\"none\" stroke=\"currentColor\"/>\n    <text dy=\"1.25em\" style=\"font-size: 0.8em; letter-spacing: 1px\">\n        <textPath xlink:href=\"#arrow-35c59daa50dd4479b61751cc29cd4e9b-0-5\" class=\"displacy-label\" startOffset=\"50%\" side=\"left\" fill=\"currentColor\" text-anchor=\"middle\">oprd</textPath>\n    </text>\n    <path class=\"displacy-arrowhead\" d=\"M950.0,229.0 L954.0,221.0 946.0,221.0\" fill=\"currentColor\"/>\n</g>\n</svg></span>"
     },
     "metadata": {},
     "output_type": "display_data"
    }
   ],
   "source": [
    "options = {\"compact\": True, \"bg\": \"#09a3d5\",\n",
    "           \"color\": \"white\", \"font\": \"Source Sans Pro\"}\n",
    "displacy.render(span.sent, style=\"dep\", options=options)\n"
   ],
   "metadata": {
    "collapsed": false,
    "ExecuteTime": {
     "start_time": "2023-07-03T18:26:38.055672Z",
     "end_time": "2023-07-03T18:26:38.147148Z"
    }
   }
  },
  {
   "cell_type": "code",
   "execution_count": 29,
   "outputs": [],
   "source": [
    "sent = span.sent\n",
    "\"you\" in {tok.text.lower() for tok in sent}"
   ],
   "metadata": {
    "collapsed": false,
    "ExecuteTime": {
     "start_time": "2023-06-24T15:06:13.179593Z",
     "end_time": "2023-06-24T15:06:13.194896Z"
    }
   }
  },
  {
   "cell_type": "code",
   "execution_count": null,
   "outputs": [],
   "source": [],
   "metadata": {
    "collapsed": false
   }
  }
 ],
 "metadata": {
  "kernelspec": {
   "display_name": "Python 3",
   "language": "python",
   "name": "python3"
  },
  "language_info": {
   "codemirror_mode": {
    "name": "ipython",
    "version": 2
   },
   "file_extension": ".py",
   "mimetype": "text/x-python",
   "name": "python",
   "nbconvert_exporter": "python",
   "pygments_lexer": "ipython2",
   "version": "2.7.6"
  }
 },
 "nbformat": 4,
 "nbformat_minor": 0
}
