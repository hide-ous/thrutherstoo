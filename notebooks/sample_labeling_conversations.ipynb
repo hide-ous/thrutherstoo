{
 "cells": [
  {
   "cell_type": "code",
   "execution_count": 14,
   "metadata": {
    "collapsed": true,
    "ExecuteTime": {
     "start_time": "2023-05-25T12:11:18.676122Z",
     "end_time": "2023-05-25T12:11:20.507420Z"
    }
   },
   "outputs": [],
   "source": [
    "import json\n",
    "\n",
    "from collections import Counter\n",
    "from itertools import islice\n",
    "\n",
    "import pandas as pd"
   ]
  },
  {
   "cell_type": "code",
   "execution_count": 13,
   "outputs": [],
   "source": [
    "def get_permalink(contribution):\n",
    "    if 'permalink' in contribution:\n",
    "        return 'https://reddit.com'+contribution['permalink']\n",
    "    elif contribution['contribution_type']=='comment':\n",
    "        return f'https://new.reddit.com/r/{contribution[\"subreddit\"]}/comments/{contribution[\"link_fullname\"].split(\"_\")[-1]}/comment/{contribution[\"fullname\"].split(\"_\")[-1]}/'\n",
    "    else:\n",
    "        return f'https://new.reddit.com/r/{contribution[\"subreddit\"]}/comments/{contribution[\"fullname\"].split(\"_\")[-1]}/'\n",
    "contributions = list()\n",
    "with open('../data/interim/labeling_contributions_preprocessed.jsonl', encoding='utf8') as f:\n",
    "    for contribution in map(json.loads, f):\n",
    "        contributions.append(dict(url=get_permalink(contribution),\n",
    "                                  text=contribution['text'],\n",
    "                                  contribution_type=contribution['contribution_type'],\n",
    "                                  subreddit=contribution.get('subreddit', None)))\n"
   ],
   "metadata": {
    "collapsed": false,
    "ExecuteTime": {
     "start_time": "2023-05-25T12:10:15.053052Z",
     "end_time": "2023-05-25T12:10:55.856106Z"
    }
   }
  },
  {
   "cell_type": "code",
   "execution_count": 15,
   "outputs": [],
   "source": [
    "df = pd.DataFrame(contributions)"
   ],
   "metadata": {
    "collapsed": false,
    "ExecuteTime": {
     "start_time": "2023-05-25T12:11:22.597974Z",
     "end_time": "2023-05-25T12:11:24.203802Z"
    }
   }
  },
  {
   "cell_type": "code",
   "execution_count": 17,
   "outputs": [],
   "source": [
    "df.sample(100).to_csv('../data/interim/labeling_sample.csv')"
   ],
   "metadata": {
    "collapsed": false,
    "ExecuteTime": {
     "start_time": "2023-05-25T12:12:44.477048Z",
     "end_time": "2023-05-25T12:12:44.609725Z"
    }
   }
  }
 ],
 "metadata": {
  "kernelspec": {
   "display_name": "Python 3",
   "language": "python",
   "name": "python3"
  },
  "language_info": {
   "codemirror_mode": {
    "name": "ipython",
    "version": 2
   },
   "file_extension": ".py",
   "mimetype": "text/x-python",
   "name": "python",
   "nbconvert_exporter": "python",
   "pygments_lexer": "ipython2",
   "version": "2.7.6"
  }
 },
 "nbformat": 4,
 "nbformat_minor": 0
}
