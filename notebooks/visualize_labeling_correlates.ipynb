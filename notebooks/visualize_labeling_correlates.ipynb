{
 "cells": [
  {
   "cell_type": "code",
   "execution_count": null,
   "outputs": [],
   "source": [
    "import json\n",
    "import os\n",
    "\n",
    "import pandas as pd\n",
    "from scipy.stats import spearmanr\n",
    "from sklearn.decomposition import PCA\n",
    "\n",
    "from src.features.perspective import parse_summary_scores\n"
   ],
   "metadata": {
    "collapsed": false,
    "ExecuteTime": {
     "start_time": "2023-11-25T23:32:34.152218Z",
     "end_time": "2023-11-25T23:32:35.709221Z"
    }
   }
  },
  {
   "cell_type": "code",
   "execution_count": null,
   "metadata": {
    "collapsed": true,
    "ExecuteTime": {
     "end_time": "2023-10-02T10:18:57.617936100Z",
     "start_time": "2023-10-02T10:16:18.376441700Z"
    }
   },
   "outputs": [],
   "source": [
    "\n",
    "with pd.read_json('../data/interim/labeling_contributions_preprocessed_no_bot.jsonl', orient='records', lines=True, chunksize=500) as reader:\n",
    "    df = pd.concat(chunk[chunk.contribution_type=='comment'][[ 'author', 'created_utc',\n",
    "           'subreddit','text', 'fullname', 'parent_fullname',\n",
    "           'link_fullname',]] for chunk in reader)\n",
    "\n",
    "with open('../data/interim/perspective/labeling_contributions_preprocessed_no_bot_perspective.jsonl', encoding='utf8') as f:\n",
    "    perspectives = dict()\n",
    "    for obj in map(json.loads, f):\n",
    "        k, v = list(obj.items())[0]\n",
    "        perspectives[k] = parse_summary_scores(v)\n",
    "perspective_df = pd.DataFrame(perspectives).T\n",
    "\n",
    "\n",
    "with open('../data/interim/liwc/labeling_contributions_preprocessed_no_bot_liwc.jsonl', encoding='utf8') as f:\n",
    "    liwcs = dict()\n",
    "    for obj in map(json.loads, f):\n",
    "        liwcs.update(obj)\n",
    "liwc_df = pd.DataFrame(liwcs).T\n",
    "liwc_df = liwc_df.divide(liwc_df.Tokens, axis=0)\n",
    "del liwc_df['Tokens']"
   ]
  },
  {
   "cell_type": "code",
   "execution_count": 3,
   "outputs": [],
   "source": [
    "with open('../data/interim/social_dimensions/labeling_contributions_preprocessed_no_bot_social_dimensions.jsonl', encoding='utf8') as f:\n",
    "    social_dimensions = dict()\n",
    "    for obj in map(json.loads, f):\n",
    "        social_dimensions.update(obj)\n",
    "social_dimensions_df = pd.DataFrame(social_dimensions).T\n",
    "\n",
    "\n",
    "df = pd.merge(df, perspective_df, how='left', left_on='fullname', right_index=True)\n",
    "df = pd.merge(df, social_dimensions_df, how='left', left_on='fullname', right_index=True)\n",
    "df = pd.merge(df, liwc_df, how='left', left_on='fullname', right_index=True)\n",
    "\n",
    "del perspective_df, social_dimensions_df, liwc_df,"
   ],
   "metadata": {
    "collapsed": false,
    "ExecuteTime": {
     "start_time": "2023-11-25T23:55:21.557279Z",
     "end_time": "2023-11-25T23:59:42.672738Z"
    }
   }
  },
  {
   "cell_type": "code",
   "execution_count": 31,
   "outputs": [],
   "source": [
    "list(df.columns)\n",
    "\n",
    "liwc_cols = ['Adverb',\n",
    " 'Affect',\n",
    " 'Article',\n",
    " 'Auxverb',\n",
    " 'Cause',\n",
    " 'CogProc',\n",
    " 'Conj',\n",
    " 'Discrep',\n",
    " 'FocusPresent',\n",
    " 'Function',\n",
    " 'Insight',\n",
    " 'Ipron',\n",
    " 'Posemo',\n",
    " 'Ppron',\n",
    " 'Pronoun',\n",
    " 'Quant',\n",
    " 'Social',\n",
    " 'Tentat',\n",
    " 'Verb',\n",
    " 'You',\n",
    " 'friend',\n",
    " 'Tokens',\n",
    " 'Achieve',\n",
    " 'Adj',\n",
    " 'Compare',\n",
    " 'Drives',\n",
    " 'I',\n",
    " 'Motion',\n",
    " 'Prep',\n",
    " 'Relativ',\n",
    " 'Reward',\n",
    " 'Space',\n",
    " 'they',\n",
    " 'FocusFuture',\n",
    " 'FocusPast',\n",
    " 'Interrog',\n",
    " 'SheHe',\n",
    " 'differ',\n",
    " 'male',\n",
    " 'Anx',\n",
    " 'Assent',\n",
    " 'Bio',\n",
    " 'Certain',\n",
    " 'Health',\n",
    " 'Informal',\n",
    " 'Money',\n",
    " 'Negate',\n",
    " 'Negemo',\n",
    " 'Netspeak',\n",
    " 'Percept',\n",
    " 'Power',\n",
    " 'Relig',\n",
    " 'Risk',\n",
    " 'Sad',\n",
    " 'Time',\n",
    " 'feel',\n",
    " 'Anger',\n",
    " 'Body',\n",
    " 'Death',\n",
    " 'Nonflu',\n",
    " 'See',\n",
    " 'Swear',\n",
    " 'female',\n",
    " 'Affiliation',\n",
    " 'Leisure',\n",
    " 'Sexual',\n",
    " 'family',\n",
    " 'Ingest',\n",
    " 'Work',\n",
    " 'hear',\n",
    " 'We',\n",
    " 'home',\n",
    " 'Filler']\n",
    "social_cols=['conflict',\n",
    " 'fun',\n",
    " 'identity',\n",
    " 'knowledge',\n",
    " 'power',\n",
    " 'respect',\n",
    " 'romance',\n",
    " 'similarity',\n",
    " 'social_support',\n",
    " 'trust',]\n",
    "toxic_cols=['ATTACK_ON_AUTHOR',\n",
    " 'ATTACK_ON_COMMENTER',\n",
    " 'FLIRTATION',\n",
    " 'IDENTITY_ATTACK',\n",
    " 'INCOHERENT',\n",
    " 'INFLAMMATORY',\n",
    " 'INSULT',\n",
    " 'LIKELY_TO_REJECT',\n",
    " 'OBSCENE',\n",
    " 'PROFANITY',\n",
    " 'SEVERE_TOXICITY',\n",
    " 'SEXUALLY_EXPLICIT',\n",
    " 'SPAM',\n",
    " 'THREAT',\n",
    " 'TOXICITY',\n",
    " 'UNSUBSTANTIAL',]"
   ],
   "metadata": {
    "collapsed": false,
    "ExecuteTime": {
     "start_time": "2023-11-26T00:24:52.194619Z",
     "end_time": "2023-11-26T00:24:52.215063Z"
    }
   }
  },
  {
   "cell_type": "code",
   "execution_count": 32,
   "outputs": [],
   "source": [
    "df[liwc_cols] = df[liwc_cols].divide(df.Tokens, axis=0)\n",
    "del df['Tokens']"
   ],
   "metadata": {
    "collapsed": false,
    "ExecuteTime": {
     "start_time": "2023-11-26T00:26:08.453183Z",
     "end_time": "2023-11-26T00:26:43.850578Z"
    }
   }
  },
  {
   "cell_type": "code",
   "execution_count": 15,
   "outputs": [],
   "source": [
    "with open('../data/interim/labeler_sub_dimensions.jsonl', encoding='utf8') as f:\n",
    "    dims = dict()\n",
    "    for obj in map(json.loads, f):\n",
    "        dims.update(obj)\n",
    "dims_df = pd.DataFrame(dims).T\n"
   ],
   "metadata": {
    "collapsed": false,
    "ExecuteTime": {
     "start_time": "2023-11-26T00:08:31.061834Z",
     "end_time": "2023-11-26T00:09:31.083616Z"
    }
   }
  },
  {
   "cell_type": "code",
   "execution_count": null,
   "outputs": [],
   "source": [
    "with open('../data/interim/labeler_sub_conspiracy.jsonl', encoding='utf8') as f:\n",
    "    consp = dict()\n",
    "    for obj in map(json.loads, f):\n",
    "        consp.update(obj)\n"
   ],
   "metadata": {
    "collapsed": false
   }
  },
  {
   "cell_type": "code",
   "execution_count": null,
   "outputs": [],
   "source": [
    "consp_df=pd.DataFrame.from_dict(consp, orient='index')"
   ],
   "metadata": {
    "collapsed": false,
    "ExecuteTime": {
     "start_time": "2023-11-26T00:12:53.449780Z",
     "end_time": "2023-11-26T00:12:53.834980Z"
    }
   }
  },
  {
   "cell_type": "code",
   "execution_count": 22,
   "outputs": [],
   "source": [
    "consp_df.columns=['conspiracy']"
   ],
   "metadata": {
    "collapsed": false,
    "ExecuteTime": {
     "start_time": "2023-11-26T00:13:59.450914Z",
     "end_time": "2023-11-26T00:13:59.461587Z"
    }
   }
  },
  {
   "cell_type": "code",
   "execution_count": 24,
   "outputs": [],
   "source": [
    "user_df = pd.merge(consp_df, dims_df, left_index=True, right_index=True)"
   ],
   "metadata": {
    "collapsed": false,
    "ExecuteTime": {
     "start_time": "2023-11-26T00:14:40.150016Z",
     "end_time": "2023-11-26T00:14:42.505677Z"
    }
   }
  },
  {
   "cell_type": "code",
   "execution_count": 25,
   "outputs": [
    {
     "data": {
      "text/plain": "               conspiracy  affluence       age     age B  age neutral  \\\nGallowFroot      0.162281   0.080235 -0.046192 -0.059004     0.493092   \nlie-twerker      0.334199  -0.078243 -0.052892 -0.016210     0.423090   \narduous_raven    0.062335   0.188243 -0.023091 -0.011270     0.521908   \nthrawnpop        0.086708  -0.004740  0.022127  0.030912     0.065832   \nSPACEMANTIMEZ    0.297257   0.162604  0.061887  0.021390     0.519869   \n\n               edginess    gender  gender B  gender neutral  partisan  \\\nGallowFroot    0.063367 -0.024410  0.026420        0.431664  0.076811   \nlie-twerker   -0.004301  0.187111  0.211298        0.403782  0.053580   \narduous_raven  0.036400 -0.033094  0.018579        0.441465  0.014570   \nthrawnpop      0.017135  0.012276 -0.003803        0.051026 -0.002335   \nSPACEMANTIMEZ  0.001225  0.097639  0.090844        0.483203 -0.008656   \n\n               partisan B  partisan B neutral  partisan neutral  sociality  \\\nGallowFroot      0.063858            0.416249          0.420440   0.033946   \nlie-twerker      0.105483            0.349728          0.306543   0.138508   \narduous_raven   -0.026937            0.401205          0.440431   0.043603   \nthrawnpop        0.010144            0.060803          0.055966  -0.017333   \nSPACEMANTIMEZ   -0.042643            0.513038          0.491142  -0.039786   \n\n                   time  \nGallowFroot    0.124584  \nlie-twerker    0.121835  \narduous_raven  0.083971  \nthrawnpop     -0.004110  \nSPACEMANTIMEZ  0.033664  ",
      "text/html": "<div>\n<style scoped>\n    .dataframe tbody tr th:only-of-type {\n        vertical-align: middle;\n    }\n\n    .dataframe tbody tr th {\n        vertical-align: top;\n    }\n\n    .dataframe thead th {\n        text-align: right;\n    }\n</style>\n<table border=\"1\" class=\"dataframe\">\n  <thead>\n    <tr style=\"text-align: right;\">\n      <th></th>\n      <th>conspiracy</th>\n      <th>affluence</th>\n      <th>age</th>\n      <th>age B</th>\n      <th>age neutral</th>\n      <th>edginess</th>\n      <th>gender</th>\n      <th>gender B</th>\n      <th>gender neutral</th>\n      <th>partisan</th>\n      <th>partisan B</th>\n      <th>partisan B neutral</th>\n      <th>partisan neutral</th>\n      <th>sociality</th>\n      <th>time</th>\n    </tr>\n  </thead>\n  <tbody>\n    <tr>\n      <th>GallowFroot</th>\n      <td>0.162281</td>\n      <td>0.080235</td>\n      <td>-0.046192</td>\n      <td>-0.059004</td>\n      <td>0.493092</td>\n      <td>0.063367</td>\n      <td>-0.024410</td>\n      <td>0.026420</td>\n      <td>0.431664</td>\n      <td>0.076811</td>\n      <td>0.063858</td>\n      <td>0.416249</td>\n      <td>0.420440</td>\n      <td>0.033946</td>\n      <td>0.124584</td>\n    </tr>\n    <tr>\n      <th>lie-twerker</th>\n      <td>0.334199</td>\n      <td>-0.078243</td>\n      <td>-0.052892</td>\n      <td>-0.016210</td>\n      <td>0.423090</td>\n      <td>-0.004301</td>\n      <td>0.187111</td>\n      <td>0.211298</td>\n      <td>0.403782</td>\n      <td>0.053580</td>\n      <td>0.105483</td>\n      <td>0.349728</td>\n      <td>0.306543</td>\n      <td>0.138508</td>\n      <td>0.121835</td>\n    </tr>\n    <tr>\n      <th>arduous_raven</th>\n      <td>0.062335</td>\n      <td>0.188243</td>\n      <td>-0.023091</td>\n      <td>-0.011270</td>\n      <td>0.521908</td>\n      <td>0.036400</td>\n      <td>-0.033094</td>\n      <td>0.018579</td>\n      <td>0.441465</td>\n      <td>0.014570</td>\n      <td>-0.026937</td>\n      <td>0.401205</td>\n      <td>0.440431</td>\n      <td>0.043603</td>\n      <td>0.083971</td>\n    </tr>\n    <tr>\n      <th>thrawnpop</th>\n      <td>0.086708</td>\n      <td>-0.004740</td>\n      <td>0.022127</td>\n      <td>0.030912</td>\n      <td>0.065832</td>\n      <td>0.017135</td>\n      <td>0.012276</td>\n      <td>-0.003803</td>\n      <td>0.051026</td>\n      <td>-0.002335</td>\n      <td>0.010144</td>\n      <td>0.060803</td>\n      <td>0.055966</td>\n      <td>-0.017333</td>\n      <td>-0.004110</td>\n    </tr>\n    <tr>\n      <th>SPACEMANTIMEZ</th>\n      <td>0.297257</td>\n      <td>0.162604</td>\n      <td>0.061887</td>\n      <td>0.021390</td>\n      <td>0.519869</td>\n      <td>0.001225</td>\n      <td>0.097639</td>\n      <td>0.090844</td>\n      <td>0.483203</td>\n      <td>-0.008656</td>\n      <td>-0.042643</td>\n      <td>0.513038</td>\n      <td>0.491142</td>\n      <td>-0.039786</td>\n      <td>0.033664</td>\n    </tr>\n  </tbody>\n</table>\n</div>"
     },
     "execution_count": 25,
     "metadata": {},
     "output_type": "execute_result"
    }
   ],
   "source": [
    "user_df.head()"
   ],
   "metadata": {
    "collapsed": false,
    "ExecuteTime": {
     "start_time": "2023-11-26T00:14:59.313834Z",
     "end_time": "2023-11-26T00:14:59.396793Z"
    }
   }
  },
  {
   "cell_type": "code",
   "execution_count": 33,
   "outputs": [],
   "source": [
    "mean_df = df[[c for c in df.columns if c not in {'created_utc', 'subreddit', 'text',\n",
    "                                      'fullname',\n",
    "                                      'parent_fullname', 'link_fullname'}]].groupby('author').mean()"
   ],
   "metadata": {
    "collapsed": false,
    "ExecuteTime": {
     "start_time": "2023-11-26T00:27:56.476430Z",
     "end_time": "2023-11-26T00:28:34.216217Z"
    }
   }
  },
  {
   "cell_type": "code",
   "execution_count": 34,
   "outputs": [
    {
     "data": {
      "text/plain": "                      ATTACK_ON_AUTHOR  ATTACK_ON_COMMENTER  FLIRTATION  \\\nauthor                                                                    \n----------------fuck          0.081933             0.696846    0.306964   \n---------_----_---_           0.329614             0.261148    0.320017   \n--------V--------             0.620920             0.727617    0.203574   \n-------_-----                 0.008301             0.160138    0.198003   \n-----1                        0.358992             0.355179    0.178002   \n\n                      IDENTITY_ATTACK  INCOHERENT  INFLAMMATORY    INSULT  \\\nauthor                                                                      \n----------------fuck         0.367026    0.686348      0.780436  0.498691   \n---------_----_---_          0.043226    0.214240      0.364906  0.519861   \n--------V--------            0.005550    0.890323      0.639493  0.072701   \n-------_-----                0.059766    0.085357      0.436962  0.392980   \n-----1                       0.004532    0.501877      0.650783  0.024124   \n\n                      LIKELY_TO_REJECT   OBSCENE  PROFANITY  ...  Affiliation  \\\nauthor                                                       ...                \n----------------fuck          0.704208  0.051485   0.492594  ...     0.029851   \n---------_----_---_           0.561594  0.338142   0.243875  ...     0.012821   \n--------V--------             0.818072  0.127282   0.019964  ...     0.028571   \n-------_-----                 0.996588  0.993693   0.644600  ...     0.009346   \n-----1                        0.337144  0.010805   0.013200  ...     0.023256   \n\n                       Leisure    Sexual  family  Ingest      Work      hear  \\\nauthor                                                                         \n----------------fuck  0.000000  0.000000     0.0     0.0  0.014925  0.029851   \n---------_----_---_   0.000000  0.000000     0.0     0.0  0.018668  0.000000   \n--------V--------     0.000000  0.000000     0.0     0.0  0.000000  0.028571   \n-------_-----         0.018692  0.009346     0.0     0.0  0.009346  0.000000   \n-----1                0.023256  0.000000     0.0     0.0  0.023256  0.023256   \n\n                            We  home  Filler  \nauthor                                        \n----------------fuck  0.029851   0.0     0.0  \n---------_----_---_   0.012821   0.0     0.0  \n--------V--------     0.028571   0.0     0.0  \n-------_-----         0.000000   0.0     0.0  \n-----1                0.046512   0.0     0.0  \n\n[5 rows x 98 columns]",
      "text/html": "<div>\n<style scoped>\n    .dataframe tbody tr th:only-of-type {\n        vertical-align: middle;\n    }\n\n    .dataframe tbody tr th {\n        vertical-align: top;\n    }\n\n    .dataframe thead th {\n        text-align: right;\n    }\n</style>\n<table border=\"1\" class=\"dataframe\">\n  <thead>\n    <tr style=\"text-align: right;\">\n      <th></th>\n      <th>ATTACK_ON_AUTHOR</th>\n      <th>ATTACK_ON_COMMENTER</th>\n      <th>FLIRTATION</th>\n      <th>IDENTITY_ATTACK</th>\n      <th>INCOHERENT</th>\n      <th>INFLAMMATORY</th>\n      <th>INSULT</th>\n      <th>LIKELY_TO_REJECT</th>\n      <th>OBSCENE</th>\n      <th>PROFANITY</th>\n      <th>...</th>\n      <th>Affiliation</th>\n      <th>Leisure</th>\n      <th>Sexual</th>\n      <th>family</th>\n      <th>Ingest</th>\n      <th>Work</th>\n      <th>hear</th>\n      <th>We</th>\n      <th>home</th>\n      <th>Filler</th>\n    </tr>\n    <tr>\n      <th>author</th>\n      <th></th>\n      <th></th>\n      <th></th>\n      <th></th>\n      <th></th>\n      <th></th>\n      <th></th>\n      <th></th>\n      <th></th>\n      <th></th>\n      <th></th>\n      <th></th>\n      <th></th>\n      <th></th>\n      <th></th>\n      <th></th>\n      <th></th>\n      <th></th>\n      <th></th>\n      <th></th>\n      <th></th>\n    </tr>\n  </thead>\n  <tbody>\n    <tr>\n      <th>----------------fuck</th>\n      <td>0.081933</td>\n      <td>0.696846</td>\n      <td>0.306964</td>\n      <td>0.367026</td>\n      <td>0.686348</td>\n      <td>0.780436</td>\n      <td>0.498691</td>\n      <td>0.704208</td>\n      <td>0.051485</td>\n      <td>0.492594</td>\n      <td>...</td>\n      <td>0.029851</td>\n      <td>0.000000</td>\n      <td>0.000000</td>\n      <td>0.0</td>\n      <td>0.0</td>\n      <td>0.014925</td>\n      <td>0.029851</td>\n      <td>0.029851</td>\n      <td>0.0</td>\n      <td>0.0</td>\n    </tr>\n    <tr>\n      <th>---------_----_---_</th>\n      <td>0.329614</td>\n      <td>0.261148</td>\n      <td>0.320017</td>\n      <td>0.043226</td>\n      <td>0.214240</td>\n      <td>0.364906</td>\n      <td>0.519861</td>\n      <td>0.561594</td>\n      <td>0.338142</td>\n      <td>0.243875</td>\n      <td>...</td>\n      <td>0.012821</td>\n      <td>0.000000</td>\n      <td>0.000000</td>\n      <td>0.0</td>\n      <td>0.0</td>\n      <td>0.018668</td>\n      <td>0.000000</td>\n      <td>0.012821</td>\n      <td>0.0</td>\n      <td>0.0</td>\n    </tr>\n    <tr>\n      <th>--------V--------</th>\n      <td>0.620920</td>\n      <td>0.727617</td>\n      <td>0.203574</td>\n      <td>0.005550</td>\n      <td>0.890323</td>\n      <td>0.639493</td>\n      <td>0.072701</td>\n      <td>0.818072</td>\n      <td>0.127282</td>\n      <td>0.019964</td>\n      <td>...</td>\n      <td>0.028571</td>\n      <td>0.000000</td>\n      <td>0.000000</td>\n      <td>0.0</td>\n      <td>0.0</td>\n      <td>0.000000</td>\n      <td>0.028571</td>\n      <td>0.028571</td>\n      <td>0.0</td>\n      <td>0.0</td>\n    </tr>\n    <tr>\n      <th>-------_-----</th>\n      <td>0.008301</td>\n      <td>0.160138</td>\n      <td>0.198003</td>\n      <td>0.059766</td>\n      <td>0.085357</td>\n      <td>0.436962</td>\n      <td>0.392980</td>\n      <td>0.996588</td>\n      <td>0.993693</td>\n      <td>0.644600</td>\n      <td>...</td>\n      <td>0.009346</td>\n      <td>0.018692</td>\n      <td>0.009346</td>\n      <td>0.0</td>\n      <td>0.0</td>\n      <td>0.009346</td>\n      <td>0.000000</td>\n      <td>0.000000</td>\n      <td>0.0</td>\n      <td>0.0</td>\n    </tr>\n    <tr>\n      <th>-----1</th>\n      <td>0.358992</td>\n      <td>0.355179</td>\n      <td>0.178002</td>\n      <td>0.004532</td>\n      <td>0.501877</td>\n      <td>0.650783</td>\n      <td>0.024124</td>\n      <td>0.337144</td>\n      <td>0.010805</td>\n      <td>0.013200</td>\n      <td>...</td>\n      <td>0.023256</td>\n      <td>0.023256</td>\n      <td>0.000000</td>\n      <td>0.0</td>\n      <td>0.0</td>\n      <td>0.023256</td>\n      <td>0.023256</td>\n      <td>0.046512</td>\n      <td>0.0</td>\n      <td>0.0</td>\n    </tr>\n  </tbody>\n</table>\n<p>5 rows × 98 columns</p>\n</div>"
     },
     "execution_count": 34,
     "metadata": {},
     "output_type": "execute_result"
    }
   ],
   "source": [
    "mean_df.head()"
   ],
   "metadata": {
    "collapsed": false,
    "ExecuteTime": {
     "start_time": "2023-11-26T00:28:34.208971Z",
     "end_time": "2023-11-26T00:28:34.388673Z"
    }
   }
  },
  {
   "cell_type": "code",
   "execution_count": 35,
   "outputs": [],
   "source": [
    "import seaborn as sns"
   ],
   "metadata": {
    "collapsed": false,
    "ExecuteTime": {
     "start_time": "2023-11-26T00:28:34.316140Z",
     "end_time": "2023-11-26T00:28:34.388673Z"
    }
   }
  },
  {
   "cell_type": "code",
   "execution_count": 38,
   "outputs": [],
   "source": [
    "dh=mean_df.head()"
   ],
   "metadata": {
    "collapsed": false,
    "ExecuteTime": {
     "start_time": "2023-11-26T00:31:33.068594Z",
     "end_time": "2023-11-26T00:31:33.263790Z"
    }
   }
  },
  {
   "cell_type": "code",
   "execution_count": 50,
   "outputs": [],
   "source": [
    "toplot = pd.merge(mean_df.reset_index().melt(id_vars=['author']).set_index('author'), pd.qcut(user_df['conspiracy'], 2, labels=False), how='left', left_index=True, right_index=True)"
   ],
   "metadata": {
    "collapsed": false,
    "ExecuteTime": {
     "start_time": "2023-11-26T00:43:20.924835Z",
     "end_time": "2023-11-26T00:45:19.001381Z"
    }
   }
  },
  {
   "cell_type": "code",
   "execution_count": null,
   "outputs": [],
   "source": [
    "user_characteristics = ['affluence', 'age', 'partisan', 'sociality', 'time', 'edginess', 'gender', 'conspiracy']\n",
    "sns.stripplot(data = toplot, hue='conspiracy', x='value', y='variable', )"
   ],
   "metadata": {
    "collapsed": false,
    "pycharm": {
     "is_executing": true
    }
   }
  },
  {
   "cell_type": "code",
   "execution_count": null,
   "outputs": [],
   "source": [],
   "metadata": {
    "collapsed": false
   }
  }
 ],
 "metadata": {
  "kernelspec": {
   "display_name": "Python 3",
   "language": "python",
   "name": "python3"
  },
  "language_info": {
   "codemirror_mode": {
    "name": "ipython",
    "version": 2
   },
   "file_extension": ".py",
   "mimetype": "text/x-python",
   "name": "python",
   "nbconvert_exporter": "python",
   "pygments_lexer": "ipython2",
   "version": "2.7.6"
  }
 },
 "nbformat": 4,
 "nbformat_minor": 0
}
