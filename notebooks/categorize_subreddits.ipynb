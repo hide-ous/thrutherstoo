{
 "cells": [
  {
   "cell_type": "code",
   "execution_count": null,
   "metadata": {
    "collapsed": true
   },
   "outputs": [],
   "source": []
  },
  {
   "cell_type": "code",
   "execution_count": 8,
   "outputs": [],
   "source": [
    "import json\n",
    "from collections import Counter\n",
    "\n",
    "import pandas as pd\n"
   ],
   "metadata": {
    "collapsed": false,
    "ExecuteTime": {
     "start_time": "2023-05-20T16:56:55.929315Z",
     "end_time": "2023-05-20T16:56:56.830801Z"
    }
   }
  },
  {
   "cell_type": "code",
   "execution_count": 3,
   "outputs": [],
   "source": [
    "with open('../data/interim/labeling_contributions_preprocessed.jsonl', encoding='utf8') as f:\n",
    "    sub_counts = Counter(map(lambda x: json.loads(x).get('subreddit', None), f)) # some content doesn't have a subreddit; apparently old promoted content\n"
   ],
   "metadata": {
    "collapsed": false,
    "ExecuteTime": {
     "start_time": "2023-05-20T16:54:04.143280Z",
     "end_time": "2023-05-20T16:55:10.158453Z"
    }
   }
  },
  {
   "cell_type": "code",
   "execution_count": 6,
   "outputs": [
    {
     "data": {
      "text/plain": "[('conspiracy', 105063),\n ('politics', 73691),\n ('AskReddit', 53020),\n ('worldnews', 39893),\n ('news', 27772),\n ('pics', 18358),\n ('The_Donald', 12465),\n ('todayilearned', 11367),\n ('TopMindsOfReddit', 9316),\n ('videos', 8418),\n ('technology', 8327),\n ('conspiratard', 8134),\n ('insanepeoplefacebook', 7278),\n ('canada', 7042),\n ('PublicFreakout', 6970),\n ('skeptic', 6890),\n ('Superstonk', 6785),\n ('SubredditDrama', 6565),\n ('unpopularopinion', 6439),\n ('Coronavirus', 6413),\n ('PoliticalHumor', 5980),\n ('JoeRogan', 5932),\n ('ukpolitics', 5843),\n ('facepalm', 5775),\n ('neoliberal', 5669),\n ('PoliticalCompassMemes', 5517),\n ('Conservative', 5495),\n ('science', 5290),\n ('Libertarian', 5249),\n ('NoNewNormal', 5242),\n ('conspiracy_commons', 5190),\n ('WhitePeopleTwitter', 4896),\n ('atheism', 4727),\n ('changemyview', 4695),\n ('QAnonCasualties', 4665),\n ('nba', 4656),\n ('NoStupidQuestions', 4533),\n ('funny', 4477),\n ('unitedkingdom', 4280),\n ('Qult_Headquarters', 4256),\n ('wallstreetbets', 4079),\n ('europe', 4075),\n ('conspiro', 3872),\n ('Showerthoughts', 3833),\n ('AdviceAnimals', 3757),\n ('nottheonion', 3626),\n ('LockdownSkepticism', 3622),\n ('interestingasfuck', 3572),\n ('nfl', 3519),\n ('memes', 3461),\n ('Documentaries', 3427),\n ('HermanCainAward', 3275),\n ('explainlikeimfive', 3200),\n ('gifs', 3183),\n ('conspiracytheories', 3012),\n ('IAmA', 3011),\n ('KotakuInAction', 3009),\n ('OutOfTheLoop', 2997),\n ('SquaredCircle', 2982),\n ('Damnthatsinteresting', 2971),\n ('WayOfTheBern', 2965),\n ('australia', 2896),\n ('newzealand', 2892),\n ('movies', 2802),\n ('PoliticalDiscussion', 2768),\n ('worldpolitics', 2748),\n ('reddit.com', 2741),\n ('samharris', 2737),\n ('soccer', 2652),\n ('ireland', 2598),\n ('Christianity', 2598),\n ('UFOs', 2562),\n ('CoronavirusDownunder', 2500),\n ('Futurology', 2464),\n ('SandersForPresident', 2344),\n ('LeopardsAteMyFace', 2342),\n ('WTF', 2320),\n ('Wallstreetsilver', 2300),\n ('DebateVaccines', 2292),\n ('television', 2249),\n ('CoronavirusCirclejerk', 2247),\n ('Bitcoin', 2230),\n ('JordanPeterson', 2168),\n ('collapse', 2118),\n ('TooAfraidToAsk', 2114),\n ('Anarcho_Capitalism', 2111),\n ('Destiny', 2080),\n ('MurderedByWords', 2001),\n ('CryptoCurrency', 1974),\n ('SelfAwarewolves', 1964),\n ('ChapoTrapHouse', 1861),\n ('relationship_advice', 1843),\n ('ontario', 1831),\n ('AskTrumpSupporters', 1827),\n ('AskALiberal', 1724),\n ('bestof', 1690),\n ('AmItheAsshole', 1686),\n ('moderatepolitics', 1685),\n ('gaming', 1628),\n ('MakingaMurderer', 1580),\n ('teenagers', 1579),\n ('dankmemes', 1564),\n ('formula1', 1552),\n ('antiwork', 1527),\n ('TrueOffMyChest', 1495),\n ('UnresolvedMysteries', 1476),\n ('flatearth', 1472),\n ('stupidpol', 1457),\n ('vaxxhappened', 1455),\n ('CanadaPolitics', 1450),\n ('TrueReddit', 1448),\n ('Enough_Sanders_Spam', 1433),\n ('nextfuckinglevel', 1370),\n ('conspiracyNOPOL', 1363),\n ('TumblrInAction', 1348),\n ('EnoughTrumpSpam', 1262),\n ('melbourne', 1246),\n ('hiphopheads', 1214),\n ('exmormon', 1199),\n ('space', 1178),\n ('mildlyinteresting', 1172),\n ('confidentlyincorrect', 1170),\n ('amcstock', 1154),\n ('leagueoflegends', 1144),\n ('dataisbeautiful', 1132),\n ('syriancivilwar', 1131),\n ('Philippines', 1128),\n ('DebateReligion', 1124),\n ('centrist', 1112),\n ('ShitPoliticsSays', 1101),\n ('AskAnAmerican', 1099),\n ('HistoryMemes', 1095),\n ('C_S_T', 1081),\n ('MMA', 1078),\n ('india', 1075),\n ('ParlerWatch', 1074),\n ('WritingPrompts', 1071),\n ('TheRightCantMeme', 1068),\n ('Economics', 1062),\n ('entertainment', 1059),\n ('alberta', 1059),\n ('IntellectualDarkWeb', 1042),\n ('hockey', 1037),\n ('btc', 1027),\n ('MensRights', 1023),\n ('insaneparents', 1007),\n ('Drama', 1003),\n ('forwardsfromgrandma', 1001),\n ('GME', 998),\n ('onguardforthee', 996),\n ('BlackPeopleTwitter', 991),\n ('datingoverfifty', 985),\n ('CringeAnarchy', 975),\n ('CovIdiots', 947),\n ('relationships', 943),\n ('CFB', 942),\n ('Cringetopia', 942),\n ('greatawakening', 918),\n ('Music', 915),\n ('exjw', 914),\n ('trashy', 912),\n ('GamerGhazi', 909),\n ('AskConservatives', 909),\n ('freemasonry', 901),\n ('China_Flu', 900),\n ('toronto', 889),\n ('vancouver', 887),\n ('Catholicism', 854),\n ('LivestreamFail', 854),\n ('LouderWithCrowder', 849),\n ('LateStageCapitalism', 847),\n ('Gamingcirclejerk', 846),\n ('Anarchism', 838),\n ('walkaway', 837),\n ('ottawa', 828),\n ('AskThe_Donald', 822),\n ('Games', 819),\n ('AustralianPolitics', 819),\n ('ukraine', 818),\n ('aliens', 812),\n ('LockdownSceptics', 807),\n ('badunitedkingdom', 798),\n ('UkrainianConflict', 795),\n ('LabourUK', 790),\n ('cringe', 789),\n ('nyc', 782),\n ('The_Mueller', 773),\n ('UpliftingNews', 771),\n ('AskMen', 766),\n ('gme_meltdown', 764),\n ('environment', 763),\n ('CoronavirusUK', 763),\n ('StevenAveryIsGuilty', 752),\n ('quityourbullshit', 751),\n ('911truth', 749),\n ('JusticeServed', 748),\n ('ConspiracyII', 747),\n ('marvelstudios', 743),\n ('AskUK', 741),\n ('Firearms', 739)]"
     },
     "execution_count": 6,
     "metadata": {},
     "output_type": "execute_result"
    }
   ],
   "source": [
    "sub_counts.most_common(200)"
   ],
   "metadata": {
    "collapsed": false,
    "ExecuteTime": {
     "start_time": "2023-05-20T16:56:19.559310Z",
     "end_time": "2023-05-20T16:56:19.574445Z"
    }
   }
  },
  {
   "cell_type": "code",
   "execution_count": 5,
   "outputs": [
    {
     "data": {
      "text/plain": "23477"
     },
     "execution_count": 5,
     "metadata": {},
     "output_type": "execute_result"
    }
   ],
   "source": [
    "len(sub_counts)"
   ],
   "metadata": {
    "collapsed": false,
    "ExecuteTime": {
     "start_time": "2023-05-20T16:56:04.881187Z",
     "end_time": "2023-05-20T16:56:04.987424Z"
    }
   }
  },
  {
   "cell_type": "code",
   "execution_count": 17,
   "outputs": [],
   "source": [
    "df = pd.DataFrame(pd.Series(sub_counts, name='labeling_contributions').sort_values(ascending=False))\n",
    "df.to_csv('../data/interim/labeling_subreddit_counts.csv')"
   ],
   "metadata": {
    "collapsed": false,
    "ExecuteTime": {
     "start_time": "2023-05-20T17:06:09.918833Z",
     "end_time": "2023-05-20T17:06:09.974130Z"
    }
   }
  },
  {
   "cell_type": "code",
   "execution_count": 19,
   "outputs": [
    {
     "data": {
      "text/plain": "                   labeling_contributions\nNewiowaproject                          1\nelectionfraud                          41\nmeritocracy                             2\npodcast                                16\nSeenonFFK                               2\n...                                   ...\nwlu                                     3\nInfertilityBabies                       6\nheraldry                                3\ncf4cf                                   2\nokbuddyvowsh                           12\n\n[100 rows x 1 columns]",
      "text/html": "<div>\n<style scoped>\n    .dataframe tbody tr th:only-of-type {\n        vertical-align: middle;\n    }\n\n    .dataframe tbody tr th {\n        vertical-align: top;\n    }\n\n    .dataframe thead th {\n        text-align: right;\n    }\n</style>\n<table border=\"1\" class=\"dataframe\">\n  <thead>\n    <tr style=\"text-align: right;\">\n      <th></th>\n      <th>labeling_contributions</th>\n    </tr>\n  </thead>\n  <tbody>\n    <tr>\n      <th>Newiowaproject</th>\n      <td>1</td>\n    </tr>\n    <tr>\n      <th>electionfraud</th>\n      <td>41</td>\n    </tr>\n    <tr>\n      <th>meritocracy</th>\n      <td>2</td>\n    </tr>\n    <tr>\n      <th>podcast</th>\n      <td>16</td>\n    </tr>\n    <tr>\n      <th>SeenonFFK</th>\n      <td>2</td>\n    </tr>\n    <tr>\n      <th>...</th>\n      <td>...</td>\n    </tr>\n    <tr>\n      <th>wlu</th>\n      <td>3</td>\n    </tr>\n    <tr>\n      <th>InfertilityBabies</th>\n      <td>6</td>\n    </tr>\n    <tr>\n      <th>heraldry</th>\n      <td>3</td>\n    </tr>\n    <tr>\n      <th>cf4cf</th>\n      <td>2</td>\n    </tr>\n    <tr>\n      <th>okbuddyvowsh</th>\n      <td>12</td>\n    </tr>\n  </tbody>\n</table>\n<p>100 rows × 1 columns</p>\n</div>"
     },
     "execution_count": 19,
     "metadata": {},
     "output_type": "execute_result"
    }
   ],
   "source": [
    "df.sample(100)"
   ],
   "metadata": {
    "collapsed": false,
    "ExecuteTime": {
     "start_time": "2023-05-20T17:06:33.430804Z",
     "end_time": "2023-05-20T17:06:33.472941Z"
    }
   }
  },
  {
   "cell_type": "code",
   "execution_count": null,
   "outputs": [],
   "source": [],
   "metadata": {
    "collapsed": false
   }
  }
 ],
 "metadata": {
  "kernelspec": {
   "display_name": "Python 3",
   "language": "python",
   "name": "python3"
  },
  "language_info": {
   "codemirror_mode": {
    "name": "ipython",
    "version": 2
   },
   "file_extension": ".py",
   "mimetype": "text/x-python",
   "name": "python",
   "nbconvert_exporter": "python",
   "pygments_lexer": "ipython2",
   "version": "2.7.6"
  }
 },
 "nbformat": 4,
 "nbformat_minor": 0
}
