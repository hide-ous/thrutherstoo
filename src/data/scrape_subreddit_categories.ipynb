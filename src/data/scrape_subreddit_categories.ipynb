{
 "cells": [
  {
   "cell_type": "code",
   "execution_count": 50,
   "id": "initial_id",
   "metadata": {
    "collapsed": true,
    "ExecuteTime": {
     "end_time": "2024-02-14T13:46:11.496923500Z",
     "start_time": "2024-02-14T13:46:11.480928500Z"
    }
   },
   "outputs": [],
   "source": [
    "import json\n",
    "import time\n",
    "\n",
    "import requests\n",
    "from bs4 import BeautifulSoup\n",
    "from tqdm import tqdm\n",
    "import  bs4 \n",
    "import pandas as pd"
   ]
  },
  {
   "cell_type": "code",
   "execution_count": 48,
   "outputs": [
    {
     "name": "stderr",
     "output_type": "stream",
     "text": [
      "100%|██████████| 1267/1267 [1:24:23<00:00,  4.00s/it]\n"
     ]
    }
   ],
   "source": [
    "base_url = \"https://www.reddit.com/best/communities/%i/\"\n",
    "top_subs = dict()\n",
    "\n",
    "for i in tqdm(range(1, 1267+1)):\n",
    "    res = requests.get(base_url % i)\n",
    "    soup = BeautifulSoup(res.content, 'html.parser')\n",
    "    for container in soup.find_all(\"div\", class_=\"community-list\"):\n",
    "        for child in container.children:\n",
    "            if not isinstance(child, bs4.element.Tag): continue\n",
    "            attrs = child.attrs.copy()\n",
    "            attrs.update(dict((zip(['rank', 'category', 'members'], [''.join(t.strings).strip() for t in child.find_all('h6')]))))\n",
    "            del attrs['members']\n",
    "            del attrs['class']\n",
    "            del attrs['id']\n",
    "            top_subs[attrs.pop('data-community-id')]=attrs\n",
    "    time.sleep(1)"
   ],
   "metadata": {
    "collapsed": false,
    "ExecuteTime": {
     "end_time": "2024-02-14T13:31:08.258522Z",
     "start_time": "2024-02-14T12:06:44.269577Z"
    }
   },
   "id": "f39b075dfe350e25"
  },
  {
   "cell_type": "code",
   "execution_count": 49,
   "outputs": [
    {
     "data": {
      "text/plain": "316558"
     },
     "execution_count": 49,
     "metadata": {},
     "output_type": "execute_result"
    }
   ],
   "source": [
    "len(top_subs)"
   ],
   "metadata": {
    "collapsed": false,
    "ExecuteTime": {
     "end_time": "2024-02-14T13:45:02.834989600Z",
     "start_time": "2024-02-14T13:45:02.824989700Z"
    }
   },
   "id": "a75ccac3f0905721"
  },
  {
   "cell_type": "code",
   "execution_count": 52,
   "outputs": [],
   "source": [
    "with open('../../data/interim/subreddit_categories.json', 'w+') as f:\n",
    "    json.dump(top_subs, f)"
   ],
   "metadata": {
    "collapsed": false,
    "ExecuteTime": {
     "end_time": "2024-02-14T13:46:26.023040300Z",
     "start_time": "2024-02-14T13:46:21.449541700Z"
    }
   },
   "id": "c41caa294a6b42b0"
  },
  {
   "cell_type": "code",
   "execution_count": 58,
   "outputs": [],
   "source": [
    "\n",
    "df = pd.DataFrame(top_subs).T\n",
    "df.to_csv('../../data/interim/subreddit_categories.csv')"
   ],
   "metadata": {
    "collapsed": false,
    "ExecuteTime": {
     "end_time": "2024-02-14T13:50:31.120284400Z",
     "start_time": "2024-02-14T13:50:26.896646700Z"
    }
   },
   "id": "cf016301059a4478"
  },
  {
   "cell_type": "code",
   "execution_count": 67,
   "outputs": [],
   "source": [
    "df.groupby('category').size().sort_values(ascending=False).head(100).to_csv('../../data/interim/subreddit_category_counts.csv')"
   ],
   "metadata": {
    "collapsed": false,
    "ExecuteTime": {
     "end_time": "2024-02-15T14:00:11.357989400Z",
     "start_time": "2024-02-15T14:00:10.935756600Z"
    }
   },
   "id": "81c1c3ab135477fa"
  },
  {
   "cell_type": "code",
   "execution_count": 68,
   "outputs": [
    {
     "data": {
      "text/plain": "category\nGaming                        13584\nMusic                          5229\nTechnology                     4520\nInternet Culture and Memes     4020\nPlace                          2832\n                              ...  \n?                                 5\nComing soon                       5\nle                                5\n~                                 5\nbruh                              5\nLength: 100, dtype: int64"
     },
     "execution_count": 68,
     "metadata": {},
     "output_type": "execute_result"
    }
   ],
   "source": [
    "df.groupby('category').size().sort_values(ascending=False).head(100)"
   ],
   "metadata": {
    "collapsed": false,
    "ExecuteTime": {
     "end_time": "2024-02-15T14:09:56.797311100Z",
     "start_time": "2024-02-15T14:09:56.281776200Z"
    }
   },
   "id": "5dd4aea10ab52efd"
  },
  {
   "cell_type": "code",
   "execution_count": 63,
   "outputs": [],
   "source": [
    "interesting_categoreis = {\"Mature Themes and Adult Content\",\n",
    " \"Meta/Reddit\",\n",
    " \"Culture, Race, and Ethnicity\",\n",
    " \"Gender\",\n",
    " \"Sexual Orientation\",\n",
    " \"Women's Health\",\n",
    " \"Beauty and Makeup\",\n",
    " \"Men's Health\", }\n"
   ],
   "metadata": {
    "collapsed": false,
    "ExecuteTime": {
     "end_time": "2024-02-15T09:21:19.209845800Z",
     "start_time": "2024-02-15T09:21:19.194832800Z"
    }
   },
   "id": "206247fb7cd81517"
  },
  {
   "cell_type": "code",
   "execution_count": 66,
   "outputs": [
    {
     "data": {
      "text/plain": "            data-prefixed-name                         category\nt5_2qzb6                r/IAmA                      Meta/Reddit\nt5_2to41                r/tifu                      Meta/Reddit\nt5_2qh3v              r/bestof                      Meta/Reddit\nt5_2rww2     r/MakeupAddiction                Beauty and Makeup\nt5_2w844   r/NoStupidQuestions                      Meta/Reddit\n...                        ...                              ...\nt5_8dn835      r/NEDPhilanders  Mature Themes and Adult Content\nt5_algzks             r/RDXPro  Mature Themes and Adult Content\nt5_59y609     r/WeAreAllTamils     Culture, Race, and Ethnicity\nt5_48idty          r/Nepricans  Mature Themes and Adult Content\nt5_577ppd         r/Trollburgh                           Gender\n\n[4996 rows x 2 columns]",
      "text/html": "<div>\n<style scoped>\n    .dataframe tbody tr th:only-of-type {\n        vertical-align: middle;\n    }\n\n    .dataframe tbody tr th {\n        vertical-align: top;\n    }\n\n    .dataframe thead th {\n        text-align: right;\n    }\n</style>\n<table border=\"1\" class=\"dataframe\">\n  <thead>\n    <tr style=\"text-align: right;\">\n      <th></th>\n      <th>data-prefixed-name</th>\n      <th>category</th>\n    </tr>\n  </thead>\n  <tbody>\n    <tr>\n      <th>t5_2qzb6</th>\n      <td>r/IAmA</td>\n      <td>Meta/Reddit</td>\n    </tr>\n    <tr>\n      <th>t5_2to41</th>\n      <td>r/tifu</td>\n      <td>Meta/Reddit</td>\n    </tr>\n    <tr>\n      <th>t5_2qh3v</th>\n      <td>r/bestof</td>\n      <td>Meta/Reddit</td>\n    </tr>\n    <tr>\n      <th>t5_2rww2</th>\n      <td>r/MakeupAddiction</td>\n      <td>Beauty and Makeup</td>\n    </tr>\n    <tr>\n      <th>t5_2w844</th>\n      <td>r/NoStupidQuestions</td>\n      <td>Meta/Reddit</td>\n    </tr>\n    <tr>\n      <th>...</th>\n      <td>...</td>\n      <td>...</td>\n    </tr>\n    <tr>\n      <th>t5_8dn835</th>\n      <td>r/NEDPhilanders</td>\n      <td>Mature Themes and Adult Content</td>\n    </tr>\n    <tr>\n      <th>t5_algzks</th>\n      <td>r/RDXPro</td>\n      <td>Mature Themes and Adult Content</td>\n    </tr>\n    <tr>\n      <th>t5_59y609</th>\n      <td>r/WeAreAllTamils</td>\n      <td>Culture, Race, and Ethnicity</td>\n    </tr>\n    <tr>\n      <th>t5_48idty</th>\n      <td>r/Nepricans</td>\n      <td>Mature Themes and Adult Content</td>\n    </tr>\n    <tr>\n      <th>t5_577ppd</th>\n      <td>r/Trollburgh</td>\n      <td>Gender</td>\n    </tr>\n  </tbody>\n</table>\n<p>4996 rows × 2 columns</p>\n</div>"
     },
     "execution_count": 66,
     "metadata": {},
     "output_type": "execute_result"
    }
   ],
   "source": [
    "df[df.category.isin(interesting_categoreis)][['data-prefixed-name',  'category']]"
   ],
   "metadata": {
    "collapsed": false,
    "ExecuteTime": {
     "end_time": "2024-02-15T09:22:13.546817100Z",
     "start_time": "2024-02-15T09:22:13.530048100Z"
    }
   },
   "id": "1d9dc6ef68ea3032"
  },
  {
   "cell_type": "code",
   "execution_count": null,
   "outputs": [],
   "source": [],
   "metadata": {
    "collapsed": false
   },
   "id": "357ee5c41c871a77"
  }
 ],
 "metadata": {
  "kernelspec": {
   "display_name": "Python 3",
   "language": "python",
   "name": "python3"
  },
  "language_info": {
   "codemirror_mode": {
    "name": "ipython",
    "version": 2
   },
   "file_extension": ".py",
   "mimetype": "text/x-python",
   "name": "python",
   "nbconvert_exporter": "python",
   "pygments_lexer": "ipython2",
   "version": "2.7.6"
  }
 },
 "nbformat": 4,
 "nbformat_minor": 5
}
